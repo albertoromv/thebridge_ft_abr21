{
  "cells": [
    {
      "cell_type": "markdown",
      "metadata": {
        "colab_type": "text",
        "id": "HF-_uKhl0Zdc"
      },
      "source": [
        "## This notebook does the following \n",
        "* **Retrieves and prints basic data about a movie (title entered by user) from the web (OMDB database)**\n",
        "* **If a poster of the movie could be found, it downloads the file and saves at a user-specified location**\n",
        "* **Finally, stores the movie data in a local SQLite database**"
      ]
    },
    {
      "cell_type": "code",
      "execution_count": 1,
      "metadata": {
        "colab": {},
        "colab_type": "code",
        "id": "sblENCIn0Zdd"
      },
      "outputs": [],
      "source": [
        "import urllib.request, urllib.parse, urllib.error\n",
        "import json"
      ]
    },
    {
      "cell_type": "markdown",
      "metadata": {
        "colab_type": "text",
        "id": "qnBoXIMd0Zdg"
      },
      "source": [
        "### Gets the secret API key (you have to get one from OMDB website and use that, 1000 daily limit) from a JSON file, stored in the same folder"
      ]
    },
    {
      "cell_type": "markdown",
      "metadata": {
        "colab_type": "raw",
        "id": "VOE7B8Fv0Zdh"
      },
      "source": [
        "with open('APIkeys.json') as f:\n",
        "    keys = json.load(f)\n",
        "\n",
        "omdbapi = keys['OMDBapi']"
      ]
    },
    {
      "cell_type": "code",
      "execution_count": 2,
      "metadata": {
        "colab": {},
        "colab_type": "code",
        "id": "1Jy1Timw0Zdh"
      },
      "outputs": [],
      "source": [
        "# including the personal token in all the request to the API\n",
        "\n",
        "omdbapi= 'cba04cc6'\n",
        "serviceurl = 'http://www.omdbapi.com/?'\n",
        "apikey = '&apikey='+omdbapi"
      ]
    },
    {
      "cell_type": "markdown",
      "metadata": {
        "colab_type": "text",
        "id": "h0egl9yE0Zdk"
      },
      "source": [
        "### Function for printing a JSON dataset"
      ]
    },
    {
      "cell_type": "code",
      "execution_count": 3,
      "metadata": {
        "colab": {},
        "colab_type": "code",
        "id": "EOj7L3uQ0Zdk"
      },
      "outputs": [],
      "source": [
        "def print_json(json_data):\n",
        "    list_keys=['Title', 'Year', 'Rated', 'Released', 'Runtime', 'Genre', 'Director', 'Writer', \n",
        "               'Actors', 'Plot', 'Language', 'Country', 'Awards', 'Ratings', \n",
        "               'Metascore', 'imdbRating', 'imdbVotes', 'imdbID']\n",
        "    print(\"-\"*50)\n",
        "    for k in list_keys:\n",
        "        if k in list(json_data.keys()):\n",
        "            print(f\"{k}: {json_data[k]}\")\n",
        "    print(\"-\"*50)"
      ]
    },
    {
      "cell_type": "markdown",
      "metadata": {
        "colab_type": "text",
        "id": "QgL96pzo0Zdn"
      },
      "source": [
        "### Function to download a poster of the movie based on the information from the jason dataset\n",
        "**Saves the downloaded poster in a local directory called 'Posters'**"
      ]
    },
    {
      "cell_type": "code",
      "execution_count": 4,
      "metadata": {
        "colab": {},
        "colab_type": "code",
        "id": "LYiWw6Tt0Zdn"
      },
      "outputs": [],
      "source": [
        "def save_poster(json_data):\n",
        "    import os\n",
        "    title = json_data['Title']\n",
        "    poster_url = json_data['Poster']\n",
        "    # Splits the poster url by '.' and picks up the last string as file extension\n",
        "    poster_file_extension=poster_url.split('.')[-1]\n",
        "    # Reads the image file from web\n",
        "    poster_data = urllib.request.urlopen(poster_url).read()\n",
        "    \n",
        "    #cuidado con el path de Posters.\n",
        "    \n",
        "    savelocation=os.getcwd()+'/Posters/'\n",
        "    print(savelocation)\n",
        "    # Creates new directory if the directory does not exist. Otherwise, just use the existing path.\n",
        "    if not os.path.isdir(savelocation):\n",
        "        os.mkdir(savelocation)\n",
        "    \n",
        "    filename=savelocation+str(title)+'.'+poster_file_extension\n",
        "    f=open(filename,'wb')\n",
        "    f.write(poster_data)\n",
        "    f.close()"
      ]
    },
    {
      "cell_type": "markdown",
      "metadata": {
        "colab_type": "text",
        "id": "gIH86PhA0Zdq"
      },
      "source": [
        "### Function to create/update the local movie database with the data retreived from the web\n",
        "**Saves the movie data (Title, Year, Runtime, Country, Metascore, and IMDB rating) into a local SQLite database called 'movieinfo.sqlite'** "
      ]
    },
    {
      "cell_type": "code",
      "execution_count": 5,
      "metadata": {
        "colab": {},
        "colab_type": "code",
        "id": "XIo2JAXR0Zdq"
      },
      "outputs": [],
      "source": [
        "def save_in_database(json_data):\n",
        "    \n",
        "    filename = input(\"Please enter a name for the database (extension not needed, it will be added automatically): \")\n",
        "    filename = filename+'.sqlite'\n",
        "    \n",
        "    import sqlite3\n",
        "    conn = sqlite3.connect(str(filename))\n",
        "    cur=conn.cursor()\n",
        "    \n",
        "    title = json_data['Title']\n",
        "    # Goes through the json dataset and extracts information if it is available\n",
        "    if json_data['Year']!='N/A':\n",
        "        year = int(json_data['Year'])\n",
        "    if json_data['Runtime']!='N/A':\n",
        "        runtime = int(json_data['Runtime'].split()[0])\n",
        "    if json_data['Country']!='N/A':\n",
        "        country = json_data['Country']\n",
        "    if json_data['Metascore']!='N/A':\n",
        "        metascore = float(json_data['Metascore'])\n",
        "    else:\n",
        "        metascore=-1\n",
        "    if json_data['imdbRating']!='N/A':\n",
        "        imdb_rating = float(json_data['imdbRating'])\n",
        "    else:\n",
        "        imdb_rating=-1\n",
        "    \n",
        "    # SQL commands\n",
        "    cur.execute('''CREATE TABLE IF NOT EXISTS MovieInfo \n",
        "    (Title TEXT, Year INTEGER, Runtime INTEGER, Country TEXT, Metascore REAL, IMDBRating REAL)''')\n",
        "    \n",
        "    cur.execute('SELECT Title FROM MovieInfo WHERE Title = ? ', (title,))\n",
        "    row = cur.fetchone()\n",
        "    \n",
        "    if row is None:\n",
        "        cur.execute('''INSERT INTO MovieInfo (Title, Year, Runtime, Country, Metascore, IMDBRating)\n",
        "                VALUES (?,?,?,?,?,?)''', (title,year,runtime,country,metascore,imdb_rating))\n",
        "    else:\n",
        "        print(\"Record already found. No update made.\")\n",
        "    \n",
        "    # Commits the change and close the connection to the database\n",
        "    conn.commit()\n",
        "    conn.close()"
      ]
    },
    {
      "cell_type": "markdown",
      "metadata": {
        "colab_type": "text",
        "id": "lMO2B_8t0Zdt"
      },
      "source": [
        "### Function to print contents of  the local database"
      ]
    },
    {
      "cell_type": "code",
      "execution_count": 6,
      "metadata": {
        "colab": {},
        "colab_type": "code",
        "id": "gGACC-KK0Zdt"
      },
      "outputs": [],
      "source": [
        "def print_database(database):\n",
        "    \n",
        "    import sqlite3\n",
        "    conn = sqlite3.connect(str(database))\n",
        "    cur=conn.cursor()\n",
        "    \n",
        "    for row in cur.execute('SELECT * FROM MovieInfo'):\n",
        "        print(row)\n",
        "    conn.close()"
      ]
    },
    {
      "cell_type": "markdown",
      "metadata": {
        "colab_type": "text",
        "id": "6QSd-ezk0Zdw"
      },
      "source": [
        "### Function to save the database content in an Excel file"
      ]
    },
    {
      "cell_type": "code",
      "execution_count": 7,
      "metadata": {
        "colab": {},
        "colab_type": "code",
        "id": "wB1Xf4lW0Zdw"
      },
      "outputs": [],
      "source": [
        "def save_in_excel(filename, database):\n",
        "    \n",
        "    if filename.split('.')[-1]!='xls' and filename.split('.')[-1]!='xlsx':\n",
        "        print (\"Filename does not have correct extension. Please try again\")\n",
        "        return None\n",
        "    \n",
        "    import pandas as pd\n",
        "    import sqlite3\n",
        "    \n",
        "    #df=pd.DataFrame(columns=['Title','Year', 'Runtime', 'Country', 'Metascore', 'IMDB_Rating'])\n",
        "    \n",
        "    conn = sqlite3.connect(str(database))\n",
        "    #cur=conn.cursor()\n",
        "    \n",
        "    df=pd.read_sql_query(\"SELECT * FROM MovieInfo\", conn)\n",
        "    conn.close()\n",
        "    \n",
        "    df.to_excel(filename,sheet_name='Movie Info')"
      ]
    },
    {
      "cell_type": "markdown",
      "metadata": {
        "colab_type": "text",
        "id": "xpYy12CR0Zdy"
      },
      "source": [
        "### Function to search for information about a movie"
      ]
    },
    {
      "cell_type": "code",
      "execution_count": 8,
      "metadata": {
        "code_folding": [],
        "colab": {},
        "colab_type": "code",
        "id": "qOW7dkPn0Zdz"
      },
      "outputs": [],
      "source": [
        "def search_movie(title):\n",
        "    if len(title) < 1 or title=='quit': \n",
        "        print(\"Goodbye now...\")\n",
        "        return None\n",
        "\n",
        "    try:\n",
        "        url = serviceurl + urllib.parse.urlencode({'t': title})+apikey\n",
        "        print(f'Retrieving the data of \"{title}\" now... ')\n",
        "        uh = urllib.request.urlopen(url)\n",
        "        data = uh.read()\n",
        "        json_data=json.loads(data)\n",
        "        \n",
        "        if json_data['Response']=='True':\n",
        "            print_json(json_data)\n",
        "            \n",
        "            # Asks user whether to download the poster of the movie\n",
        "            if json_data['Poster']!='N/A':\n",
        "                poster_yes_no=input ('Poster of this movie can be downloaded. Enter \"yes\" or \"no\": ').lower()\n",
        "                if poster_yes_no=='yes':\n",
        "                    save_poster(json_data)\n",
        "            # Asks user whether to save the movie information in a local database\n",
        "            save_database_yes_no=input ('Save the movie info in a local database? Enter \"yes\" or \"no\": ').lower()\n",
        "            if save_database_yes_no=='yes':\n",
        "                save_in_database(json_data)\n",
        "        else:\n",
        "            print(\"Error encountered: \",json_data['Error'])\n",
        "    \n",
        "    except urllib.error.URLError as e:\n",
        "        print(f\"ERROR: {e.reason}\")"
      ]
    },
    {
      "cell_type": "markdown",
      "metadata": {
        "colab_type": "text",
        "id": "fI3SLdr50Zd1"
      },
      "source": [
        "#### Search for 'Titanic'"
      ]
    },
    {
      "cell_type": "code",
      "execution_count": 9,
      "metadata": {
        "colab": {},
        "colab_type": "code",
        "id": "WvHLZdFc0Zd1",
        "outputId": "c5c37241-7246-44c7-bf5a-13569f00f023"
      },
      "outputs": [
        {
          "name": "stdout",
          "output_type": "stream",
          "text": [
            "Retrieving the data of \"Shrek\" now... \n",
            "--------------------------------------------------\n",
            "Title: Shrek\n",
            "Year: 2001\n",
            "Rated: PG\n",
            "Released: 18 May 2001\n",
            "Runtime: 90 min\n",
            "Genre: Animation, Adventure, Comedy\n",
            "Director: Andrew Adamson, Vicky Jenson\n",
            "Writer: William Steig, Ted Elliott, Terry Rossio\n",
            "Actors: Mike Myers, Eddie Murphy, Cameron Diaz\n",
            "Plot: A mean lord exiles fairytale creatures to the swamp of a grumpy ogre, who must go on a quest and rescue a princess for the lord in order to get his land back.\n",
            "Language: English\n",
            "Country: United States\n",
            "Awards: Won 1 Oscar. 40 wins & 60 nominations total\n",
            "Ratings: [{'Source': 'Internet Movie Database', 'Value': '7.9/10'}, {'Source': 'Rotten Tomatoes', 'Value': '88%'}, {'Source': 'Metacritic', 'Value': '84/100'}]\n",
            "Metascore: 84\n",
            "imdbRating: 7.9\n",
            "imdbVotes: 658,179\n",
            "imdbID: tt0126029\n",
            "--------------------------------------------------\n",
            "c:\\Users\\Admin\\Documents\\GitHub\\thebridge_ft_abr21\\2-Data Analysis\\10-APIs\\teoria\\OMDB/Posters/\n"
          ]
        }
      ],
      "source": [
        "title = input('\\nEnter the name of a movie (enter \\'quit\\' or hit ENTER to quit): ')\n",
        "if len(title) < 1 or title=='quit': \n",
        "    print(\"Goodbye now...\")\n",
        "else:\n",
        "    search_movie(title)"
      ]
    },
    {
      "cell_type": "markdown",
      "metadata": {
        "colab_type": "text",
        "id": "LguyaTAi0Zd4"
      },
      "source": [
        "#### Show the downloaded poster of 'Titanic'"
      ]
    },
    {
      "cell_type": "code",
      "execution_count": 10,
      "metadata": {
        "colab": {},
        "colab_type": "code",
        "id": "fpjMpsIO0Zd5",
        "outputId": "3be10479-324a-4b7d-da56-cbcf1e96b37b"
      },
      "outputs": [
        {
          "data": {
            "image/jpeg": "[encoded data removed]",
            "text/plain": [
              "<IPython.core.display.Image object>"
            ]
          },
          "execution_count": 10,
          "metadata": {},
          "output_type": "execute_result"
        }
      ],
      "source": [
        "from IPython.display import Image\n",
        "Image(\"Posters/Shrek.jpg\")"
      ]
    },
    {
      "cell_type": "markdown",
      "metadata": {
        "colab_type": "text",
        "id": "kuDo9zQV0Zd7"
      },
      "source": [
        "#### Print the content of the local database, only single entry so far"
      ]
    },
    {
      "cell_type": "code",
      "execution_count": 13,
      "metadata": {
        "colab": {},
        "colab_type": "code",
        "id": "nDtuHv2K0Zd8",
        "outputId": "96a75a97-bb66-46f9-f174-e3964f0c9fc7"
      },
      "outputs": [
        {
          "name": "stdout",
          "output_type": "stream",
          "text": [
            "('Titanic', 1997, 194, 'United States, Mexico', 75.0, 7.9)\n",
            "('To Kill a Mockingbird', 1962, 129, 'United States', 88.0, 8.3)\n",
            "('Shrek', 2001, 90, 'United States', 84.0, 7.9)\n",
            "('Toy Story', 1995, 81, 'United States', 95.0, 8.3)\n"
          ]
        }
      ],
      "source": [
        "print_database('movies.sqlite')"
      ]
    },
    {
      "cell_type": "markdown",
      "metadata": {
        "colab_type": "text",
        "id": "6QzH1Gwq0Zd-"
      },
      "source": [
        "#### Search for 'Jumanji'"
      ]
    },
    {
      "cell_type": "code",
      "execution_count": 16,
      "metadata": {
        "colab": {},
        "colab_type": "code",
        "id": "ZFIC2KjF0Zd-",
        "outputId": "53caa2d9-c7f4-48c8-ff5c-fba7e842fac1"
      },
      "outputs": [
        {
          "name": "stdout",
          "output_type": "stream",
          "text": [
            "Retrieving the data of \"The notebook\" now... \n",
            "--------------------------------------------------\n",
            "Title: The Notebook\n",
            "Year: 2004\n",
            "Rated: PG-13\n",
            "Released: 25 Jun 2004\n",
            "Runtime: 123 min\n",
            "Genre: Drama, Romance\n",
            "Director: Nick Cassavetes\n",
            "Writer: Jeremy Leven, Jan Sardi, Nicholas Sparks\n",
            "Actors: Gena Rowlands, James Garner, Rachel McAdams\n",
            "Plot: A poor yet passionate young man (Ryan Gosling) falls in love with a rich young woman (Rachel McAdams), giving her a sense of freedom, but they are soon separated because of their social differences.\n",
            "Language: English\n",
            "Country: United States\n",
            "Awards: 12 wins & 10 nominations\n",
            "Ratings: [{'Source': 'Internet Movie Database', 'Value': '7.8/10'}, {'Source': 'Rotten Tomatoes', 'Value': '53%'}, {'Source': 'Metacritic', 'Value': '53/100'}]\n",
            "Metascore: 53\n",
            "imdbRating: 7.8\n",
            "imdbVotes: 557,155\n",
            "imdbID: tt0332280\n",
            "--------------------------------------------------\n",
            "c:\\Users\\Admin\\Documents\\GitHub\\thebridge_ft_abr21\\2-Data Analysis\\10-APIs\\teoria\\OMDB/Posters/\n"
          ]
        }
      ],
      "source": [
        "title = input('\\nEnter the name of a movie (enter \\'quit\\' or hit ENTER to quit): ')\n",
        "if len(title) < 1 or title=='quit': \n",
        "    print(\"Goodbye now...\")\n",
        "else:\n",
        "    search_movie(title)"
      ]
    },
    {
      "cell_type": "markdown",
      "metadata": {
        "colab_type": "text",
        "id": "Slp48MLE0ZeA"
      },
      "source": [
        "#### Search for \"To kill a mockingbird\""
      ]
    },
    {
      "cell_type": "code",
      "execution_count": 35,
      "metadata": {
        "colab": {},
        "colab_type": "code",
        "id": "NjZrPly70ZeB",
        "outputId": "095b825c-8fca-4997-dd7b-72a68ac96467"
      },
      "outputs": [
        {
          "name": "stdout",
          "output_type": "stream",
          "text": [
            "Retrieving the data of \"Titanic\" now... \n",
            "--------------------------------------------------\n",
            "Title: Titanic\n",
            "Year: 1997\n",
            "Rated: PG-13\n",
            "Released: 19 Dec 1997\n",
            "Runtime: 194 min\n",
            "Genre: Drama, Romance\n",
            "Director: James Cameron\n",
            "Writer: James Cameron\n",
            "Actors: Leonardo DiCaprio, Kate Winslet, Billy Zane\n",
            "Plot: A seventeen-year-old aristocrat falls in love with a kind but poor artist aboard the luxurious, ill-fated R.M.S. Titanic.\n",
            "Language: English, Swedish, Italian, French\n",
            "Country: United States, Mexico\n",
            "Awards: Won 11 Oscars. 125 wins & 83 nominations total\n",
            "Ratings: [{'Source': 'Internet Movie Database', 'Value': '7.9/10'}, {'Source': 'Rotten Tomatoes', 'Value': '87%'}, {'Source': 'Metacritic', 'Value': '75/100'}]\n",
            "Metascore: 75\n",
            "imdbRating: 7.9\n",
            "imdbVotes: 1,131,404\n",
            "imdbID: tt0120338\n",
            "--------------------------------------------------\n",
            "c:\\Users\\Admin\\Documents\\GitHub\\thebridge_ft_abr21\\2-Data Analysis\\PROF_11-APIs\\teoria\\OMDB/Posters/\n",
            "Record already found. No update made.\n"
          ]
        }
      ],
      "source": [
        "title = input('\\nEnter the name of a movie (enter \\'quit\\' or hit ENTER to quit): ')\n",
        "if len(title) < 1 or title=='quit': \n",
        "    print(\"Goodbye now...\")\n",
        "else:\n",
        "    search_movie(title)"
      ]
    },
    {
      "cell_type": "markdown",
      "metadata": {
        "colab_type": "text",
        "id": "qCrOze_r0ZeD"
      },
      "source": [
        "#### Search for \"Titanic\" again, note while trying to save the record, the message from the database connection saying 'Record already found'"
      ]
    },
    {
      "cell_type": "code",
      "execution_count": 36,
      "metadata": {
        "colab": {},
        "colab_type": "code",
        "id": "pTmXPmOc0ZeE",
        "outputId": "8b444682-2331-4f49-bdd1-4574c26333c8"
      },
      "outputs": [
        {
          "name": "stdout",
          "output_type": "stream",
          "text": [
            "Retrieving the data of \"To kill a mockingbird\" now... \n",
            "--------------------------------------------------\n",
            "Title: To Kill a Mockingbird\n",
            "Year: 1962\n",
            "Rated: Approved\n",
            "Released: 16 Mar 1963\n",
            "Runtime: 129 min\n",
            "Genre: Crime, Drama\n",
            "Director: Robert Mulligan\n",
            "Writer: Harper Lee, Horton Foote\n",
            "Actors: Gregory Peck, John Megna, Frank Overton\n",
            "Plot: Atticus Finch, a widowed lawyer in Depression-era Alabama, defends a black man against an undeserved rape charge, and his children against prejudice.\n",
            "Language: English\n",
            "Country: United States\n",
            "Awards: Won 3 Oscars. 14 wins & 16 nominations total\n",
            "Ratings: [{'Source': 'Internet Movie Database', 'Value': '8.3/10'}, {'Source': 'Rotten Tomatoes', 'Value': '93%'}, {'Source': 'Metacritic', 'Value': '88/100'}]\n",
            "Metascore: 88\n",
            "imdbRating: 8.3\n",
            "imdbVotes: 311,808\n",
            "imdbID: tt0056592\n",
            "--------------------------------------------------\n",
            "c:\\Users\\Admin\\Documents\\GitHub\\thebridge_ft_abr21\\2-Data Analysis\\PROF_11-APIs\\teoria\\OMDB/Posters/\n"
          ]
        }
      ],
      "source": [
        "title = input('\\nEnter the name of a movie (enter \\'quit\\' or hit ENTER to quit): ')\n",
        "if len(title) < 1 or title=='quit': \n",
        "    print(\"Goodbye now...\")\n",
        "else:\n",
        "    search_movie(title)"
      ]
    },
    {
      "cell_type": "markdown",
      "metadata": {
        "colab_type": "text",
        "id": "pKo4YWyF0ZeG"
      },
      "source": [
        "#### Print the database contents again"
      ]
    },
    {
      "cell_type": "code",
      "execution_count": 38,
      "metadata": {
        "colab": {},
        "colab_type": "code",
        "id": "PvRZMz6s0ZeH",
        "outputId": "c5344ee9-e90d-4441-b845-a04917da01b3"
      },
      "outputs": [
        {
          "name": "stdout",
          "output_type": "stream",
          "text": [
            "('Titanic', 1997, 194, 'United States, Mexico', 75.0, 7.9)\n",
            "('To Kill a Mockingbird', 1962, 129, 'United States', 88.0, 8.3)\n"
          ]
        }
      ],
      "source": [
        "print_database('movies.sqlite')"
      ]
    },
    {
      "cell_type": "markdown",
      "metadata": {
        "colab_type": "text",
        "id": "XthJB2sY0ZeJ"
      },
      "source": [
        "#### Save the database content into an Excel file"
      ]
    },
    {
      "cell_type": "code",
      "execution_count": 17,
      "metadata": {
        "colab": {},
        "colab_type": "code",
        "id": "0pZ9f3gQ0ZeJ"
      },
      "outputs": [],
      "source": [
        "save_in_excel('test.xlsx','movies.sqlite')"
      ]
    },
    {
      "cell_type": "code",
      "execution_count": 18,
      "metadata": {
        "colab": {},
        "colab_type": "code",
        "id": "mEW7LlMk0ZeL",
        "outputId": "443f5858-e6ff-4dd9-9305-6c7a2a40d91a"
      },
      "outputs": [
        {
          "data": {
            "text/html": [
              "<div>\n",
              "<style scoped>\n",
              "    .dataframe tbody tr th:only-of-type {\n",
              "        vertical-align: middle;\n",
              "    }\n",
              "\n",
              "    .dataframe tbody tr th {\n",
              "        vertical-align: top;\n",
              "    }\n",
              "\n",
              "    .dataframe thead th {\n",
              "        text-align: right;\n",
              "    }\n",
              "</style>\n",
              "<table border=\"1\" class=\"dataframe\">\n",
              "  <thead>\n",
              "    <tr style=\"text-align: right;\">\n",
              "      <th></th>\n",
              "      <th>Unnamed: 0</th>\n",
              "      <th>Title</th>\n",
              "      <th>Year</th>\n",
              "      <th>Runtime</th>\n",
              "      <th>Country</th>\n",
              "      <th>Metascore</th>\n",
              "      <th>IMDBRating</th>\n",
              "    </tr>\n",
              "  </thead>\n",
              "  <tbody>\n",
              "    <tr>\n",
              "      <th>0</th>\n",
              "      <td>0</td>\n",
              "      <td>Titanic</td>\n",
              "      <td>1997</td>\n",
              "      <td>194</td>\n",
              "      <td>United States, Mexico</td>\n",
              "      <td>75</td>\n",
              "      <td>7.9</td>\n",
              "    </tr>\n",
              "    <tr>\n",
              "      <th>1</th>\n",
              "      <td>1</td>\n",
              "      <td>To Kill a Mockingbird</td>\n",
              "      <td>1962</td>\n",
              "      <td>129</td>\n",
              "      <td>United States</td>\n",
              "      <td>88</td>\n",
              "      <td>8.3</td>\n",
              "    </tr>\n",
              "    <tr>\n",
              "      <th>2</th>\n",
              "      <td>2</td>\n",
              "      <td>Shrek</td>\n",
              "      <td>2001</td>\n",
              "      <td>90</td>\n",
              "      <td>United States</td>\n",
              "      <td>84</td>\n",
              "      <td>7.9</td>\n",
              "    </tr>\n",
              "    <tr>\n",
              "      <th>3</th>\n",
              "      <td>3</td>\n",
              "      <td>Toy Story</td>\n",
              "      <td>1995</td>\n",
              "      <td>81</td>\n",
              "      <td>United States</td>\n",
              "      <td>95</td>\n",
              "      <td>8.3</td>\n",
              "    </tr>\n",
              "    <tr>\n",
              "      <th>4</th>\n",
              "      <td>4</td>\n",
              "      <td>The Notebook</td>\n",
              "      <td>2004</td>\n",
              "      <td>123</td>\n",
              "      <td>United States</td>\n",
              "      <td>53</td>\n",
              "      <td>7.8</td>\n",
              "    </tr>\n",
              "  </tbody>\n",
              "</table>\n",
              "</div>"
            ],
            "text/plain": [
              "   Unnamed: 0                  Title  Year  Runtime                Country  \\\n",
              "0           0                Titanic  1997      194  United States, Mexico   \n",
              "1           1  To Kill a Mockingbird  1962      129          United States   \n",
              "2           2                  Shrek  2001       90          United States   \n",
              "3           3              Toy Story  1995       81          United States   \n",
              "4           4           The Notebook  2004      123          United States   \n",
              "\n",
              "   Metascore  IMDBRating  \n",
              "0         75         7.9  \n",
              "1         88         8.3  \n",
              "2         84         7.9  \n",
              "3         95         8.3  \n",
              "4         53         7.8  "
            ]
          },
          "execution_count": 18,
          "metadata": {},
          "output_type": "execute_result"
        }
      ],
      "source": [
        "import pandas as pd\n",
        "df=pd.read_excel('test.xlsx')\n",
        "df"
      ]
    },
    {
      "cell_type": "code",
      "execution_count": null,
      "metadata": {
        "colab": {},
        "colab_type": "code",
        "id": "xIz61fXd0ZeN"
      },
      "outputs": [],
      "source": []
    }
  ],
  "metadata": {
    "colab": {
      "name": "3-Movie_Database_Build.ipynb",
      "provenance": []
    },
    "kernelspec": {
      "display_name": "Python 3",
      "language": "python",
      "name": "python3"
    },
    "language_info": {
      "codemirror_mode": {
        "name": "ipython",
        "version": 3
      },
      "file_extension": ".py",
      "mimetype": "text/x-python",
      "name": "python",
      "nbconvert_exporter": "python",
      "pygments_lexer": "ipython3",
      "version": "3.7.4"
    },
    "latex_envs": {
      "LaTeX_envs_menu_present": true,
      "autoclose": false,
      "autocomplete": true,
      "bibliofile": "biblio.bib",
      "cite_by": "apalike",
      "current_citInitial": 1,
      "eqLabelWithNumbers": true,
      "eqNumInitial": 1,
      "hotkeys": {
        "equation": "Ctrl-E",
        "itemize": "Ctrl-I"
      },
      "labels_anchors": false,
      "latex_user_defs": false,
      "report_style_numbering": false,
      "user_envs_cfg": false
    }
  },
  "nbformat": 4,
  "nbformat_minor": 0
}
