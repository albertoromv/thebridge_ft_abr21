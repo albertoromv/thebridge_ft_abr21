{
 "cells": [
  {
   "cell_type": "markdown",
   "source": [
    "# SQL básico"
   ],
   "metadata": {
    "collapsed": false,
    "pycharm": {
     "name": "#%% md\n"
    }
   }
  },
  {
   "cell_type": "markdown",
   "source": [
    "### Vamos a ver una introducción básica de como manejar bases de datos con SQL"
   ],
   "metadata": {
    "collapsed": false,
    "pycharm": {
     "name": "#%% md\n"
    }
   }
  },
  {
   "cell_type": "markdown",
   "source": [
    "Primero, importamos la librería sqlite3. Si no la tenemos, la instalamos"
   ],
   "metadata": {
    "collapsed": false,
    "pycharm": {
     "name": "#%% md\n"
    }
   }
  },
  {
   "cell_type": "code",
   "execution_count": 26,
   "metadata": {
    "collapsed": true,
    "pycharm": {
     "name": "#%%\n"
    }
   },
   "outputs": [],
   "source": [
    "#!pip install pysqlite3\n",
    "import sqlite3\n",
    "import pandas as pd"
   ]
  },
  {
   "cell_type": "markdown",
   "source": [
    "Nos conectamos a la base de datos. Como argumento del connect tenemos que pasarle la ruta."
   ],
   "metadata": {
    "collapsed": false,
    "pycharm": {
     "name": "#%% md\n"
    }
   }
  },
  {
   "cell_type": "code",
   "execution_count": 27,
   "outputs": [],
   "source": [],
   "metadata": {
    "collapsed": false,
    "pycharm": {
     "name": "#%%\n"
    }
   }
  },
  {
   "cell_type": "markdown",
   "source": [
    "Creamos un cursor. Un cursor es un objeto que vamos a utilizar para recorrer los resultados que nos den las consultas."
   ],
   "metadata": {
    "collapsed": false,
    "pycharm": {
     "name": "#%% md\n"
    }
   }
  },
  {
   "cell_type": "code",
   "execution_count": 28,
   "outputs": [],
   "source": [],
   "metadata": {
    "collapsed": false,
    "pycharm": {
     "name": "#%%\n"
    }
   }
  },
  {
   "cell_type": "markdown",
   "source": [
    "Vamos a crear nuestra primera consulta. No es más que un string..."
   ],
   "metadata": {
    "collapsed": false,
    "pycharm": {
     "name": "#%% md\n"
    }
   }
  },
  {
   "cell_type": "code",
   "execution_count": 29,
   "outputs": [],
   "source": [],
   "metadata": {
    "collapsed": false,
    "pycharm": {
     "name": "#%%\n"
    }
   }
  },
  {
   "cell_type": "markdown",
   "source": [
    "...y la ejecutamos:"
   ],
   "metadata": {
    "collapsed": false,
    "pycharm": {
     "name": "#%% md\n"
    }
   }
  },
  {
   "cell_type": "code",
   "execution_count": 30,
   "outputs": [
    {
     "data": {
      "text/plain": "<sqlite3.Cursor at 0x21c4ff25960>"
     },
     "execution_count": 30,
     "metadata": {},
     "output_type": "execute_result"
    }
   ],
   "source": [],
   "metadata": {
    "collapsed": false,
    "pycharm": {
     "name": "#%%\n"
    }
   }
  },
  {
   "cell_type": "markdown",
   "source": [
    "Recuperamos los datos del cursor que se han obtenido en la consulta:"
   ],
   "metadata": {
    "collapsed": false,
    "pycharm": {
     "name": "#%% md\n"
    }
   }
  },
  {
   "cell_type": "code",
   "execution_count": 31,
   "outputs": [
    {
     "data": {
      "text/plain": "[(1,\n  'For Those About To Rock (We Salute You)',\n  1,\n  1,\n  1,\n  'Angus Young, Malcolm Young, Brian Johnson',\n  343719,\n  11170334,\n  0.99),\n (2, 'Balls to the Wall', 2, 2, 1, None, 342562, 5510424, 0.99),\n (3,\n  'Fast As a Shark',\n  3,\n  2,\n  1,\n  'F. Baltes, S. Kaufman, U. Dirkscneider & W. Hoffman',\n  230619,\n  3990994,\n  0.99),\n (4,\n  'Restless and Wild',\n  3,\n  2,\n  1,\n  'F. Baltes, R.A. Smith-Diesel, S. Kaufman, U. Dirkscneider & W. Hoffman',\n  252051,\n  4331779,\n  0.99),\n (5,\n  'Princess of the Dawn',\n  3,\n  2,\n  1,\n  'Deaffy & R.A. Smith-Diesel',\n  375418,\n  6290521,\n  0.99),\n (6,\n  'Put The Finger On You',\n  1,\n  1,\n  1,\n  'Angus Young, Malcolm Young, Brian Johnson',\n  205662,\n  6713451,\n  0.99),\n (7,\n  \"Let's Get It Up\",\n  1,\n  1,\n  1,\n  'Angus Young, Malcolm Young, Brian Johnson',\n  233926,\n  7636561,\n  0.99),\n (8,\n  'Inject The Venom',\n  1,\n  1,\n  1,\n  'Angus Young, Malcolm Young, Brian Johnson',\n  210834,\n  6852860,\n  0.99),\n (9,\n  'Snowballed',\n  1,\n  1,\n  1,\n  'Angus Young, Malcolm Young, Brian Johnson',\n  203102,\n  6599424,\n  0.99),\n (10,\n  'Evil Walks',\n  1,\n  1,\n  1,\n  'Angus Young, Malcolm Young, Brian Johnson',\n  263497,\n  8611245,\n  0.99),\n (11,\n  'C.O.D.',\n  1,\n  1,\n  1,\n  'Angus Young, Malcolm Young, Brian Johnson',\n  199836,\n  6566314,\n  0.99),\n (12,\n  'Breaking The Rules',\n  1,\n  1,\n  1,\n  'Angus Young, Malcolm Young, Brian Johnson',\n  263288,\n  8596840,\n  0.99),\n (13,\n  'Night Of The Long Knives',\n  1,\n  1,\n  1,\n  'Angus Young, Malcolm Young, Brian Johnson',\n  205688,\n  6706347,\n  0.99),\n (14,\n  'Spellbound',\n  1,\n  1,\n  1,\n  'Angus Young, Malcolm Young, Brian Johnson',\n  270863,\n  8817038,\n  0.99),\n (15, 'Go Down', 4, 1, 1, 'AC/DC', 331180, 10847611, 0.99),\n (16, 'Dog Eat Dog', 4, 1, 1, 'AC/DC', 215196, 7032162, 0.99),\n (17, 'Let There Be Rock', 4, 1, 1, 'AC/DC', 366654, 12021261, 0.99),\n (18, 'Bad Boy Boogie', 4, 1, 1, 'AC/DC', 267728, 8776140, 0.99),\n (19, 'Problem Child', 4, 1, 1, 'AC/DC', 325041, 10617116, 0.99),\n (20, 'Overdose', 4, 1, 1, 'AC/DC', 369319, 12066294, 0.99),\n (21, \"Hell Ain't A Bad Place To Be\", 4, 1, 1, 'AC/DC', 254380, 8331286, 0.99),\n (22, 'Whole Lotta Rosie', 4, 1, 1, 'AC/DC', 323761, 10547154, 0.99),\n (23,\n  'Walk On Water',\n  5,\n  1,\n  1,\n  'Steven Tyler, Joe Perry, Jack Blades, Tommy Shaw',\n  295680,\n  9719579,\n  0.99),\n (24,\n  'Love In An Elevator',\n  5,\n  1,\n  1,\n  'Steven Tyler, Joe Perry',\n  321828,\n  10552051,\n  0.99),\n (25,\n  'Rag Doll',\n  5,\n  1,\n  1,\n  'Steven Tyler, Joe Perry, Jim Vallance, Holly Knight',\n  264698,\n  8675345,\n  0.99),\n (26,\n  'What It Takes',\n  5,\n  1,\n  1,\n  'Steven Tyler, Joe Perry, Desmond Child',\n  310622,\n  10144730,\n  0.99),\n (27,\n  'Dude (Looks Like A Lady)',\n  5,\n  1,\n  1,\n  'Steven Tyler, Joe Perry, Desmond Child',\n  264855,\n  8679940,\n  0.99),\n (28,\n  \"Janie's Got A Gun\",\n  5,\n  1,\n  1,\n  'Steven Tyler, Tom Hamilton',\n  330736,\n  10869391,\n  0.99),\n (29,\n  \"Cryin'\",\n  5,\n  1,\n  1,\n  'Steven Tyler, Joe Perry, Taylor Rhodes',\n  309263,\n  10056995,\n  0.99),\n (30, 'Amazing', 5, 1, 1, 'Steven Tyler, Richie Supa', 356519, 11616195, 0.99),\n (31,\n  'Blind Man',\n  5,\n  1,\n  1,\n  'Steven Tyler, Joe Perry, Taylor Rhodes',\n  240718,\n  7877453,\n  0.99),\n (32,\n  'Deuces Are Wild',\n  5,\n  1,\n  1,\n  'Steven Tyler, Jim Vallance',\n  215875,\n  7074167,\n  0.99),\n (33,\n  'The Other Side',\n  5,\n  1,\n  1,\n  'Steven Tyler, Jim Vallance',\n  244375,\n  7983270,\n  0.99),\n (34,\n  'Crazy',\n  5,\n  1,\n  1,\n  'Steven Tyler, Joe Perry, Desmond Child',\n  316656,\n  10402398,\n  0.99),\n (35,\n  'Eat The Rich',\n  5,\n  1,\n  1,\n  'Steven Tyler, Joe Perry, Jim Vallance',\n  251036,\n  8262039,\n  0.99),\n (36, 'Angel', 5, 1, 1, 'Steven Tyler, Desmond Child', 307617, 9989331, 0.99),\n (37,\n  \"Livin' On The Edge\",\n  5,\n  1,\n  1,\n  'Steven Tyler, Joe Perry, Mark Hudson',\n  381231,\n  12374569,\n  0.99),\n (38,\n  'All I Really Want',\n  6,\n  1,\n  1,\n  'Alanis Morissette & Glenn Ballard',\n  284891,\n  9375567,\n  0.99),\n (39,\n  'You Oughta Know',\n  6,\n  1,\n  1,\n  'Alanis Morissette & Glenn Ballard',\n  249234,\n  8196916,\n  0.99),\n (40,\n  'Perfect',\n  6,\n  1,\n  1,\n  'Alanis Morissette & Glenn Ballard',\n  188133,\n  6145404,\n  0.99),\n (41,\n  'Hand In My Pocket',\n  6,\n  1,\n  1,\n  'Alanis Morissette & Glenn Ballard',\n  221570,\n  7224246,\n  0.99),\n (42,\n  'Right Through You',\n  6,\n  1,\n  1,\n  'Alanis Morissette & Glenn Ballard',\n  176117,\n  5793082,\n  0.99),\n (43,\n  'Forgiven',\n  6,\n  1,\n  1,\n  'Alanis Morissette & Glenn Ballard',\n  300355,\n  9753256,\n  0.99),\n (44,\n  'You Learn',\n  6,\n  1,\n  1,\n  'Alanis Morissette & Glenn Ballard',\n  239699,\n  7824837,\n  0.99),\n (45,\n  'Head Over Feet',\n  6,\n  1,\n  1,\n  'Alanis Morissette & Glenn Ballard',\n  267493,\n  8758008,\n  0.99),\n (46,\n  'Mary Jane',\n  6,\n  1,\n  1,\n  'Alanis Morissette & Glenn Ballard',\n  280607,\n  9163588,\n  0.99),\n (47,\n  'Ironic',\n  6,\n  1,\n  1,\n  'Alanis Morissette & Glenn Ballard',\n  229825,\n  7598866,\n  0.99),\n (48,\n  'Not The Doctor',\n  6,\n  1,\n  1,\n  'Alanis Morissette & Glenn Ballard',\n  227631,\n  7604601,\n  0.99),\n (49,\n  'Wake Up',\n  6,\n  1,\n  1,\n  'Alanis Morissette & Glenn Ballard',\n  293485,\n  9703359,\n  0.99),\n (50,\n  'You Oughta Know (Alternate)',\n  6,\n  1,\n  1,\n  'Alanis Morissette & Glenn Ballard',\n  491885,\n  16008629,\n  0.99),\n (51, 'We Die Young', 7, 1, 1, 'Jerry Cantrell', 152084, 4925362, 0.99),\n (52,\n  'Man In The Box',\n  7,\n  1,\n  1,\n  'Jerry Cantrell, Layne Staley',\n  286641,\n  9310272,\n  0.99),\n (53, 'Sea Of Sorrow', 7, 1, 1, 'Jerry Cantrell', 349831, 11316328, 0.99),\n (54, 'Bleed The Freak', 7, 1, 1, 'Jerry Cantrell', 241946, 7847716, 0.99),\n (55,\n  \"I Can't Remember\",\n  7,\n  1,\n  1,\n  'Jerry Cantrell, Layne Staley',\n  222955,\n  7302550,\n  0.99),\n (56,\n  'Love, Hate, Love',\n  7,\n  1,\n  1,\n  'Jerry Cantrell, Layne Staley',\n  387134,\n  12575396,\n  0.99),\n (57,\n  \"It Ain't Like That\",\n  7,\n  1,\n  1,\n  'Jerry Cantrell, Michael Starr, Sean Kinney',\n  277577,\n  8993793,\n  0.99),\n (58, 'Sunshine', 7, 1, 1, 'Jerry Cantrell', 284969, 9216057, 0.99),\n (59, 'Put You Down', 7, 1, 1, 'Jerry Cantrell', 196231, 6420530, 0.99),\n (60,\n  'Confusion',\n  7,\n  1,\n  1,\n  'Jerry Cantrell, Michael Starr, Layne Staley',\n  344163,\n  11183647,\n  0.99),\n (61,\n  'I Know Somethin (Bout You)',\n  7,\n  1,\n  1,\n  'Jerry Cantrell',\n  261955,\n  8497788,\n  0.99),\n (62,\n  'Real Thing',\n  7,\n  1,\n  1,\n  'Jerry Cantrell, Layne Staley',\n  243879,\n  7937731,\n  0.99),\n (63, 'Desafinado', 8, 1, 2, None, 185338, 5990473, 0.99),\n (64, 'Garota De Ipanema', 8, 1, 2, None, 285048, 9348428, 0.99),\n (65,\n  'Samba De Uma Nota Só (One Note Samba)',\n  8,\n  1,\n  2,\n  None,\n  137273,\n  4535401,\n  0.99),\n (66, 'Por Causa De Você', 8, 1, 2, None, 169900, 5536496, 0.99),\n (67, 'Ligia', 8, 1, 2, None, 251977, 8226934, 0.99),\n (68, 'Fotografia', 8, 1, 2, None, 129227, 4198774, 0.99),\n (69, 'Dindi (Dindi)', 8, 1, 2, None, 253178, 8149148, 0.99),\n (70,\n  'Se Todos Fossem Iguais A Você (Instrumental)',\n  8,\n  1,\n  2,\n  None,\n  134948,\n  4393377,\n  0.99),\n (71, 'Falando De Amor', 8, 1, 2, None, 219663, 7121735, 0.99),\n (72, 'Angela', 8, 1, 2, None, 169508, 5574957, 0.99),\n (73,\n  'Corcovado (Quiet Nights Of Quiet Stars)',\n  8,\n  1,\n  2,\n  None,\n  205662,\n  6687994,\n  0.99),\n (74, 'Outra Vez', 8, 1, 2, None, 126511, 4110053, 0.99),\n (75, 'O Boto (Bôto)', 8, 1, 2, None, 366837, 12089673, 0.99),\n (76, 'Canta, Canta Mais', 8, 1, 2, None, 271856, 8719426, 0.99),\n (77, 'Enter Sandman', 9, 1, 3, 'Apocalyptica', 221701, 7286305, 0.99),\n (78, 'Master Of Puppets', 9, 1, 3, 'Apocalyptica', 436453, 14375310, 0.99),\n (79, 'Harvester Of Sorrow', 9, 1, 3, 'Apocalyptica', 374543, 12372536, 0.99),\n (80, 'The Unforgiven', 9, 1, 3, 'Apocalyptica', 322925, 10422447, 0.99),\n (81, 'Sad But True', 9, 1, 3, 'Apocalyptica', 288208, 9405526, 0.99),\n (82, 'Creeping Death', 9, 1, 3, 'Apocalyptica', 308035, 10110980, 0.99),\n (83, 'Wherever I May Roam', 9, 1, 3, 'Apocalyptica', 369345, 12033110, 0.99),\n (84,\n  'Welcome Home (Sanitarium)',\n  9,\n  1,\n  3,\n  'Apocalyptica',\n  350197,\n  11406431,\n  0.99),\n (85, 'Cochise', 10, 1, 1, 'Audioslave/Chris Cornell', 222380, 5339931, 0.99),\n (86,\n  'Show Me How to Live',\n  10,\n  1,\n  1,\n  'Audioslave/Chris Cornell',\n  277890,\n  6672176,\n  0.99),\n (87, 'Gasoline', 10, 1, 1, 'Audioslave/Chris Cornell', 279457, 6709793, 0.99),\n (88,\n  'What You Are',\n  10,\n  1,\n  1,\n  'Audioslave/Chris Cornell',\n  249391,\n  5988186,\n  0.99),\n (89,\n  'Like a Stone',\n  10,\n  1,\n  1,\n  'Audioslave/Chris Cornell',\n  294034,\n  7059624,\n  0.99),\n (90,\n  'Set It Off',\n  10,\n  1,\n  1,\n  'Audioslave/Chris Cornell',\n  263262,\n  6321091,\n  0.99),\n (91,\n  'Shadow on the Sun',\n  10,\n  1,\n  1,\n  'Audioslave/Chris Cornell',\n  343457,\n  8245793,\n  0.99),\n (92,\n  'I am the Highway',\n  10,\n  1,\n  1,\n  'Audioslave/Chris Cornell',\n  334942,\n  8041411,\n  0.99),\n (93, 'Exploder', 10, 1, 1, 'Audioslave/Chris Cornell', 206053, 4948095, 0.99),\n (94,\n  'Hypnotize',\n  10,\n  1,\n  1,\n  'Audioslave/Chris Cornell',\n  206628,\n  4961887,\n  0.99),\n (95,\n  \"Bring'em Back Alive\",\n  10,\n  1,\n  1,\n  'Audioslave/Chris Cornell',\n  329534,\n  7911634,\n  0.99),\n (96,\n  'Light My Way',\n  10,\n  1,\n  1,\n  'Audioslave/Chris Cornell',\n  303595,\n  7289084,\n  0.99),\n (97,\n  'Getaway Car',\n  10,\n  1,\n  1,\n  'Audioslave/Chris Cornell',\n  299598,\n  7193162,\n  0.99),\n (98,\n  'The Last Remaining Light',\n  10,\n  1,\n  1,\n  'Audioslave/Chris Cornell',\n  317492,\n  7622615,\n  0.99),\n (99,\n  'Your Time Has Come',\n  11,\n  1,\n  4,\n  'Cornell, Commerford, Morello, Wilk',\n  255529,\n  8273592,\n  0.99),\n (100,\n  'Out Of Exile',\n  11,\n  1,\n  4,\n  'Cornell, Commerford, Morello, Wilk',\n  291291,\n  9506571,\n  0.99),\n (101,\n  'Be Yourself',\n  11,\n  1,\n  4,\n  'Cornell, Commerford, Morello, Wilk',\n  279484,\n  9106160,\n  0.99),\n (102,\n  \"Doesn't Remind Me\",\n  11,\n  1,\n  4,\n  'Cornell, Commerford, Morello, Wilk',\n  255869,\n  8357387,\n  0.99),\n (103,\n  'Drown Me Slowly',\n  11,\n  1,\n  4,\n  'Cornell, Commerford, Morello, Wilk',\n  233691,\n  7609178,\n  0.99),\n (104,\n  \"Heaven's Dead\",\n  11,\n  1,\n  4,\n  'Cornell, Commerford, Morello, Wilk',\n  276688,\n  9006158,\n  0.99),\n (105,\n  'The Worm',\n  11,\n  1,\n  4,\n  'Cornell, Commerford, Morello, Wilk',\n  237714,\n  7710800,\n  0.99),\n (106,\n  'Man Or Animal',\n  11,\n  1,\n  4,\n  'Cornell, Commerford, Morello, Wilk',\n  233195,\n  7542942,\n  0.99),\n (107,\n  'Yesterday To Tomorrow',\n  11,\n  1,\n  4,\n  'Cornell, Commerford, Morello, Wilk',\n  273763,\n  8944205,\n  0.99),\n (108,\n  'Dandelion',\n  11,\n  1,\n  4,\n  'Cornell, Commerford, Morello, Wilk',\n  278125,\n  9003592,\n  0.99),\n (109,\n  '#1 Zero',\n  11,\n  1,\n  4,\n  'Cornell, Commerford, Morello, Wilk',\n  299102,\n  9731988,\n  0.99),\n (110,\n  'The Curse',\n  11,\n  1,\n  4,\n  'Cornell, Commerford, Morello, Wilk',\n  309786,\n  10029406,\n  0.99),\n (111,\n  'Money',\n  12,\n  1,\n  5,\n  'Berry Gordy, Jr./Janie Bradford',\n  147591,\n  2365897,\n  0.99),\n (112,\n  'Long Tall Sally',\n  12,\n  1,\n  5,\n  'Enotris Johnson/Little Richard/Robert \"Bumps\" Blackwell',\n  106396,\n  1707084,\n  0.99),\n (113, 'Bad Boy', 12, 1, 5, 'Larry Williams', 116088, 1862126, 0.99),\n (114,\n  'Twist And Shout',\n  12,\n  1,\n  5,\n  'Bert Russell/Phil Medley',\n  161123,\n  2582553,\n  0.99),\n (115,\n  'Please Mr. Postman',\n  12,\n  1,\n  5,\n  'Brian Holland/Freddie Gorman/Georgia Dobbins/Robert Bateman/William Garrett',\n  137639,\n  2206986,\n  0.99),\n (116,\n  \"C'Mon Everybody\",\n  12,\n  1,\n  5,\n  'Eddie Cochran/Jerry Capehart',\n  140199,\n  2247846,\n  0.99),\n (117, \"Rock 'N' Roll Music\", 12, 1, 5, 'Chuck Berry', 141923, 2276788, 0.99),\n (118, 'Slow Down', 12, 1, 5, 'Larry Williams', 163265, 2616981, 0.99),\n (119, 'Roadrunner', 12, 1, 5, 'Bo Diddley', 143595, 2301989, 0.99),\n (120, 'Carol', 12, 1, 5, 'Chuck Berry', 143830, 2306019, 0.99),\n (121,\n  'Good Golly Miss Molly',\n  12,\n  1,\n  5,\n  'Little Richard',\n  106266,\n  1704918,\n  0.99),\n (122, '20 Flight Rock', 12, 1, 5, 'Ned Fairchild', 107807, 1299960, 0.99),\n (123, 'Quadrant', 13, 1, 2, 'Billy Cobham', 261851, 8538199, 0.99),\n (124,\n  \"Snoopy's search-Red baron\",\n  13,\n  1,\n  2,\n  'Billy Cobham',\n  456071,\n  15075616,\n  0.99),\n (125,\n  'Spanish moss-\"A sound portrait\"-Spanish moss',\n  13,\n  1,\n  2,\n  'Billy Cobham',\n  248084,\n  8217867,\n  0.99),\n (126, 'Moon germs', 13, 1, 2, 'Billy Cobham', 294060, 9714812, 0.99),\n (127, 'Stratus', 13, 1, 2, 'Billy Cobham', 582086, 19115680, 0.99),\n (128,\n  'The pleasant pheasant',\n  13,\n  1,\n  2,\n  'Billy Cobham',\n  318066,\n  10630578,\n  0.99),\n (129, 'Solo-Panhandler', 13, 1, 2, 'Billy Cobham', 246151, 8230661, 0.99),\n (130, 'Do what cha wanna', 13, 1, 2, 'George Duke', 274155, 9018565, 0.99),\n (131, 'Intro/ Low Down', 14, 1, 3, None, 323683, 10642901, 0.99),\n (132, '13 Years Of Grief', 14, 1, 3, None, 246987, 8137421, 0.99),\n (133, 'Stronger Than Death', 14, 1, 3, None, 300747, 9869647, 0.99),\n (134, 'All For You', 14, 1, 3, None, 235833, 7726948, 0.99),\n (135, 'Super Terrorizer', 14, 1, 3, None, 319373, 10513905, 0.99),\n (136, 'Phoney Smile Fake Hellos', 14, 1, 3, None, 273606, 9011701, 0.99),\n (137, 'Lost My Better Half', 14, 1, 3, None, 284081, 9355309, 0.99),\n (138, 'Bored To Tears', 14, 1, 3, None, 247327, 8130090, 0.99),\n (139, 'A.N.D.R.O.T.A.Z.', 14, 1, 3, None, 266266, 8574746, 0.99),\n (140, 'Born To Booze', 14, 1, 3, None, 282122, 9257358, 0.99),\n (141, 'World Of Trouble', 14, 1, 3, None, 359157, 11820932, 0.99),\n (142, 'No More Tears', 14, 1, 3, None, 555075, 18041629, 0.99),\n (143, 'The Begining... At Last', 14, 1, 3, None, 365662, 11965109, 0.99),\n (144, 'Heart Of Gold', 15, 1, 3, None, 194873, 6417460, 0.99),\n (145, 'Snowblind', 15, 1, 3, None, 420022, 13842549, 0.99),\n (146, 'Like A Bird', 15, 1, 3, None, 276532, 9115657, 0.99),\n (147, 'Blood In The Wall', 15, 1, 3, None, 284368, 9359475, 0.99),\n (148, 'The Beginning...At Last', 15, 1, 3, None, 271960, 8975814, 0.99),\n (149, 'Black Sabbath', 16, 1, 3, None, 382066, 12440200, 0.99),\n (150, 'The Wizard', 16, 1, 3, None, 264829, 8646737, 0.99),\n (151, 'Behind The Wall Of Sleep', 16, 1, 3, None, 217573, 7169049, 0.99),\n (152, 'N.I.B.', 16, 1, 3, None, 368770, 12029390, 0.99),\n (153, 'Evil Woman', 16, 1, 3, None, 204930, 6655170, 0.99),\n (154, 'Sleeping Village', 16, 1, 3, None, 644571, 21128525, 0.99),\n (155, 'Warning', 16, 1, 3, None, 212062, 6893363, 0.99),\n (156,\n  'Wheels Of Confusion / The Straightener',\n  17,\n  1,\n  3,\n  'Tony Iommi, Bill Ward, Geezer Butler, Ozzy Osbourne',\n  494524,\n  16065830,\n  0.99),\n (157,\n  \"Tomorrow's Dream\",\n  17,\n  1,\n  3,\n  'Tony Iommi, Bill Ward, Geezer Butler, Ozzy Osbourne',\n  192496,\n  6252071,\n  0.99),\n (158,\n  'Changes',\n  17,\n  1,\n  3,\n  'Tony Iommi, Bill Ward, Geezer Butler, Ozzy Osbourne',\n  286275,\n  9175517,\n  0.99),\n (159,\n  'FX',\n  17,\n  1,\n  3,\n  'Tony Iommi, Bill Ward, Geezer Butler, Ozzy Osbourne',\n  103157,\n  3331776,\n  0.99),\n (160,\n  'Supernaut',\n  17,\n  1,\n  3,\n  'Tony Iommi, Bill Ward, Geezer Butler, Ozzy Osbourne',\n  285779,\n  9245971,\n  0.99),\n (161,\n  'Snowblind',\n  17,\n  1,\n  3,\n  'Tony Iommi, Bill Ward, Geezer Butler, Ozzy Osbourne',\n  331676,\n  10813386,\n  0.99),\n (162,\n  'Cornucopia',\n  17,\n  1,\n  3,\n  'Tony Iommi, Bill Ward, Geezer Butler, Ozzy Osbourne',\n  234814,\n  7653880,\n  0.99),\n (163,\n  'Laguna Sunrise',\n  17,\n  1,\n  3,\n  'Tony Iommi, Bill Ward, Geezer Butler, Ozzy Osbourne',\n  173087,\n  5671374,\n  0.99),\n (164,\n  'St. Vitus Dance',\n  17,\n  1,\n  3,\n  'Tony Iommi, Bill Ward, Geezer Butler, Ozzy Osbourne',\n  149655,\n  4884969,\n  0.99),\n (165,\n  'Under The Sun/Every Day Comes and Goes',\n  17,\n  1,\n  3,\n  'Tony Iommi, Bill Ward, Geezer Butler, Ozzy Osbourne',\n  350458,\n  11360486,\n  0.99),\n (166, 'Smoked Pork', 18, 1, 4, None, 47333, 1549074, 0.99),\n (167, \"Body Count's In The House\", 18, 1, 4, None, 204251, 6715413, 0.99),\n (168, 'Now Sports', 18, 1, 4, None, 4884, 161266, 0.99),\n (169, 'Body Count', 18, 1, 4, None, 317936, 10489139, 0.99),\n (170, 'A Statistic', 18, 1, 4, None, 6373, 211997, 0.99),\n (171, 'Bowels Of The Devil', 18, 1, 4, None, 223216, 7324125, 0.99),\n (172, 'The Real Problem', 18, 1, 4, None, 11650, 387360, 0.99),\n (173, 'KKK Bitch', 18, 1, 4, None, 173008, 5709631, 0.99),\n (174, 'D Note', 18, 1, 4, None, 95738, 3067064, 0.99),\n (175, 'Voodoo', 18, 1, 4, None, 300721, 9875962, 0.99),\n (176, 'The Winner Loses', 18, 1, 4, None, 392254, 12843821, 0.99),\n (177, 'There Goes The Neighborhood', 18, 1, 4, None, 350171, 11443471, 0.99),\n (178, 'Oprah', 18, 1, 4, None, 6635, 224313, 0.99),\n (179, 'Evil Dick', 18, 1, 4, None, 239020, 7828873, 0.99),\n (180, 'Body Count Anthem', 18, 1, 4, None, 166426, 5463690, 0.99),\n (181, \"Momma's Gotta Die Tonight\", 18, 1, 4, None, 371539, 12122946, 0.99),\n (182, 'Freedom Of Speech', 18, 1, 4, None, 281234, 9337917, 0.99),\n (183, 'King In Crimson', 19, 1, 3, 'Roy Z', 283167, 9218499, 0.99),\n (184, 'Chemical Wedding', 19, 1, 3, 'Roy Z', 246177, 8022764, 0.99),\n (185, 'The Tower', 19, 1, 3, 'Roy Z', 285257, 9435693, 0.99),\n (186, 'Killing Floor', 19, 1, 3, 'Adrian Smith', 269557, 8854240, 0.99),\n (187,\n  'Book Of Thel',\n  19,\n  1,\n  3,\n  'Eddie Casillas/Roy Z',\n  494393,\n  16034404,\n  0.99),\n (188, 'Gates Of Urizen', 19, 1, 3, 'Roy Z', 265351, 8627004, 0.99),\n (189, 'Jerusalem', 19, 1, 3, 'Roy Z', 402390, 13194463, 0.99),\n (190, 'Trupets Of Jericho', 19, 1, 3, 'Roy Z', 359131, 11820908, 0.99),\n (191, 'Machine Men', 19, 1, 3, 'Adrian Smith', 341655, 11138147, 0.99),\n (192, 'The Alchemist', 19, 1, 3, 'Roy Z', 509413, 16545657, 0.99),\n (193, 'Realword', 19, 1, 3, 'Roy Z', 237531, 7802095, 0.99),\n (194,\n  'First Time I Met The Blues',\n  20,\n  1,\n  6,\n  'Eurreal Montgomery',\n  140434,\n  4604995,\n  0.99),\n (195,\n  'Let Me Love You Baby',\n  20,\n  1,\n  6,\n  'Willie Dixon',\n  175386,\n  5716994,\n  0.99),\n (196, 'Stone Crazy', 20, 1, 6, 'Buddy Guy', 433397, 14184984, 0.99),\n (197, 'Pretty Baby', 20, 1, 6, 'Willie Dixon', 237662, 7848282, 0.99),\n (198,\n  'When My Left Eye Jumps',\n  20,\n  1,\n  6,\n  'Al Perkins/Willie Dixon',\n  235311,\n  7685363,\n  0.99),\n (199, 'Leave My Girl Alone', 20, 1, 6, 'Buddy Guy', 204721, 6859518, 0.99),\n (200, 'She Suits Me To A Tee', 20, 1, 6, 'Buddy Guy', 136803, 4456321, 0.99),\n (201,\n  'Keep It To Myself (Aka Keep It To Yourself)',\n  20,\n  1,\n  6,\n  'Sonny Boy Williamson [I]',\n  166060,\n  5487056,\n  0.99),\n (202,\n  'My Time After Awhile',\n  20,\n  1,\n  6,\n  'Robert Geddins/Ron Badger/Sheldon Feinberg',\n  182491,\n  6022698,\n  0.99),\n (203,\n  'Too Many Ways (Alternate)',\n  20,\n  1,\n  6,\n  'Willie Dixon',\n  135053,\n  4459946,\n  0.99),\n (204,\n  \"Talkin' 'Bout Women Obviously\",\n  20,\n  1,\n  6,\n  'Amos Blakemore/Buddy Guy',\n  589531,\n  19161377,\n  0.99),\n (205, 'Jorge Da Capadócia', 21, 1, 7, 'Jorge Ben', 177397, 5842196, 0.99),\n (206, 'Prenda Minha', 21, 1, 7, 'Tradicional', 99369, 3225364, 0.99),\n (207,\n  'Meditação',\n  21,\n  1,\n  7,\n  'Tom Jobim - Newton Mendoça',\n  148793,\n  4865597,\n  0.99),\n (208, 'Terra', 21, 1, 7, 'Caetano Veloso', 482429, 15889054, 0.99),\n (209, 'Eclipse Oculto', 21, 1, 7, 'Caetano Veloso', 221936, 7382703, 0.99),\n (210,\n  'Texto \"Verdade Tropical\"',\n  21,\n  1,\n  7,\n  'Caetano Veloso',\n  84088,\n  2752161,\n  0.99),\n (211, 'Bem Devagar', 21, 1, 7, 'Gilberto Gil', 133172, 4333651, 0.99),\n (212, 'Drão', 21, 1, 7, 'Gilberto Gil', 156264, 5065932, 0.99),\n (213, 'Saudosismo', 21, 1, 7, 'Caetano Veloso', 144326, 4726981, 0.99),\n (214, 'Carolina', 21, 1, 7, 'Chico Buarque', 181812, 5924159, 0.99),\n (215, 'Sozinho', 21, 1, 7, 'Peninha', 190589, 6253200, 0.99),\n (216, 'Esse Cara', 21, 1, 7, 'Caetano Veloso', 223111, 7217126, 0.99),\n (217,\n  'Mel',\n  21,\n  1,\n  7,\n  'Caetano Veloso - Waly Salomão',\n  294765,\n  9854062,\n  0.99),\n (218,\n  'Linha Do Equador',\n  21,\n  1,\n  7,\n  'Caetano Veloso - Djavan',\n  299337,\n  10003747,\n  0.99),\n (219, 'Odara', 21, 1, 7, 'Caetano Veloso', 141270, 4704104, 0.99),\n (220, 'A Luz De Tieta', 21, 1, 7, 'Caetano Veloso', 251742, 8507446, 0.99),\n (221,\n  'Atrás Da Verd-E-Rosa Só Não Vai Quem Já Morreu',\n  21,\n  1,\n  7,\n  'David Corrêa - Paulinho Carvalho - Carlos Sena - Bira do Ponto',\n  307252,\n  10364247,\n  0.99),\n (222,\n  'Vida Boa',\n  21,\n  1,\n  7,\n  'Fausto Nilo - Armandinho',\n  281730,\n  9411272,\n  0.99),\n (223,\n  'Sozinho (Hitmakers Classic Mix)',\n  22,\n  1,\n  7,\n  None,\n  436636,\n  14462072,\n  0.99),\n (224,\n  'Sozinho (Hitmakers Classic Radio Edit)',\n  22,\n  1,\n  7,\n  None,\n  195004,\n  6455134,\n  0.99),\n (225, \"Sozinho (Caêdrum 'n' Bass)\", 22, 1, 7, None, 328071, 10975007, 0.99),\n (226, 'Carolina', 23, 1, 7, None, 163056, 5375395, 0.99),\n (227, 'Essa Moça Ta Diferente', 23, 1, 7, None, 167235, 5568574, 0.99),\n (228, 'Vai Passar', 23, 1, 7, None, 369763, 12359161, 0.99),\n (229, 'Samba De Orly', 23, 1, 7, None, 162429, 5431854, 0.99),\n (230, 'Bye, Bye Brasil', 23, 1, 7, None, 283402, 9499590, 0.99),\n (231, 'Atras Da Porta', 23, 1, 7, None, 189675, 6132843, 0.99),\n (232, 'Tatuagem', 23, 1, 7, None, 172120, 5645703, 0.99),\n (233, 'O Que Será (À Flor Da Terra)', 23, 1, 7, None, 167288, 5574848, 0.99),\n (234, 'Morena De Angola', 23, 1, 7, None, 186801, 6373932, 0.99),\n (235, 'Apesar De Você', 23, 1, 7, None, 234501, 7886937, 0.99),\n (236, 'A Banda', 23, 1, 7, None, 132493, 4349539, 0.99),\n (237, 'Minha Historia', 23, 1, 7, None, 182256, 6029673, 0.99),\n (238, 'Com Açúcar E Com Afeto', 23, 1, 7, None, 175386, 5846442, 0.99),\n (239, 'Brejo Da Cruz', 23, 1, 7, None, 214099, 7270749, 0.99),\n (240, 'Meu Caro Amigo', 23, 1, 7, None, 260257, 8778172, 0.99),\n (241, 'Geni E O Zepelim', 23, 1, 7, None, 317570, 10342226, 0.99),\n (242, 'Trocando Em Miúdos', 23, 1, 7, None, 169717, 5461468, 0.99),\n (243, 'Vai Trabalhar Vagabundo', 23, 1, 7, None, 139154, 4693941, 0.99),\n (244, \"Gota D'água\", 23, 1, 7, None, 153208, 5074189, 0.99),\n (245, 'Construção / Deus Lhe Pague', 23, 1, 7, None, 383059, 12675305, 0.99),\n (246, 'Mateus Enter', 24, 1, 7, 'Chico Science', 33149, 1103013, 0.99),\n (247, 'O Cidadão Do Mundo', 24, 1, 7, 'Chico Science', 200933, 6724966, 0.99),\n (248, 'Etnia', 24, 1, 7, 'Chico Science', 152555, 5061413, 0.99),\n (249,\n  'Quilombo Groove [Instrumental]',\n  24,\n  1,\n  7,\n  'Chico Science',\n  151823,\n  5042447,\n  0.99),\n (250, 'Macô', 24, 1, 7, 'Chico Science', 249600, 8253934, 0.99),\n (251,\n  'Um Passeio No Mundo Livre',\n  24,\n  1,\n  7,\n  'Chico Science',\n  240091,\n  7984291,\n  0.99),\n (252, 'Samba Do Lado', 24, 1, 7, 'Chico Science', 227317, 7541688, 0.99),\n (253, 'Maracatu Atômico', 24, 1, 7, 'Chico Science', 284264, 9670057, 0.99),\n (254,\n  'O Encontro De Isaac Asimov Com Santos Dumont No Céu',\n  24,\n  1,\n  7,\n  'Chico Science',\n  99108,\n  3240816,\n  0.99),\n (255, 'Corpo De Lama', 24, 1, 7, 'Chico Science', 232672, 7714954, 0.99),\n (256, 'Sobremesa', 24, 1, 7, 'Chico Science', 240091, 7960868, 0.99),\n (257, 'Manguetown', 24, 1, 7, 'Chico Science', 194560, 6475159, 0.99),\n (258,\n  'Um Satélite Na Cabeça',\n  24,\n  1,\n  7,\n  'Chico Science',\n  126615,\n  4272821,\n  0.99),\n (259,\n  'Baião Ambiental [Instrumental]',\n  24,\n  1,\n  7,\n  'Chico Science',\n  152659,\n  5198539,\n  0.99),\n (260, 'Sangue De Bairro', 24, 1, 7, 'Chico Science', 132231, 4415557, 0.99),\n (261,\n  'Enquanto O Mundo Explode',\n  24,\n  1,\n  7,\n  'Chico Science',\n  88764,\n  2968650,\n  0.99),\n (262, 'Interlude Zumbi', 24, 1, 7, 'Chico Science', 71627, 2408550, 0.99),\n (263, 'Criança De Domingo', 24, 1, 7, 'Chico Science', 208222, 6984813, 0.99),\n (264, 'Amor De Muito', 24, 1, 7, 'Chico Science', 175333, 5881293, 0.99),\n (265,\n  'Samidarish [Instrumental]',\n  24,\n  1,\n  7,\n  'Chico Science',\n  272431,\n  8911641,\n  0.99),\n (266,\n  'Maracatu Atômico [Atomic Version]',\n  24,\n  1,\n  7,\n  'Chico Science',\n  273084,\n  9019677,\n  0.99),\n (267,\n  'Maracatu Atômico [Ragga Mix]',\n  24,\n  1,\n  7,\n  'Chico Science',\n  210155,\n  6986421,\n  0.99),\n (268,\n  'Maracatu Atômico [Trip Hop]',\n  24,\n  1,\n  7,\n  'Chico Science',\n  221492,\n  7380787,\n  0.99),\n (269, 'Banditismo Por Uma Questa', 25, 1, 7, None, 307095, 10251097, 0.99),\n (270, 'Banditismo Por Uma Questa', 25, 1, 7, None, 243644, 8147224, 0.99),\n (271, 'Rios Pontes & Overdrives', 25, 1, 7, None, 286720, 9659152, 0.99),\n (272, 'Cidade', 25, 1, 7, None, 216346, 7241817, 0.99),\n (273, 'Praiera', 25, 1, 7, None, 183640, 6172781, 0.99),\n (274, 'Samba Makossa', 25, 1, 7, None, 271856, 9095410, 0.99),\n (275, 'Da Lama Ao Caos', 25, 1, 7, None, 251559, 8378065, 0.99),\n (276, 'Maracatu De Tiro Certeiro', 25, 1, 7, None, 88868, 2901397, 0.99),\n (277, 'Salustiano Song', 25, 1, 7, None, 215405, 7183969, 0.99),\n (278, 'Antene Se', 25, 1, 7, None, 248372, 8253618, 0.99),\n (279, 'Risoflora', 25, 1, 7, None, 105586, 3536938, 0.99),\n (280, 'Lixo Do Mangue', 25, 1, 7, None, 193253, 6534200, 0.99),\n (281, 'Computadores Fazem Arte', 25, 1, 7, None, 404323, 13702771, 0.99),\n (282,\n  'Girassol',\n  26,\n  1,\n  8,\n  'Bino Farias/Da Gama/Lazão/Pedro Luis/Toni Garrido',\n  249808,\n  8327676,\n  0.99),\n (283,\n  'A Sombra Da Maldade',\n  26,\n  1,\n  8,\n  'Da Gama/Toni Garrido',\n  230922,\n  7697230,\n  0.99),\n (284, 'Johnny B. Goode', 26, 1, 8, 'Chuck Berry', 254615, 8505985, 0.99),\n (285, 'Soldado Da Paz', 26, 1, 8, 'Herbert Vianna', 194220, 6455080, 0.99),\n (286,\n  'Firmamento',\n  26,\n  1,\n  8,\n  'Bino Farias/Da Gama/Henry Lawes/Lazão/Toni Garrido/Winston Foser-Vers',\n  222145,\n  7402658,\n  0.99),\n (287, 'Extra', 26, 1, 8, 'Gilberto Gil', 304352, 10078050, 0.99),\n (288,\n  'O Erê',\n  26,\n  1,\n  8,\n  'Bernardo Vilhena/Bino Farias/Da Gama/Lazão/Toni Garrido',\n  236382,\n  7866924,\n  0.99),\n (289,\n  'Podes Crer',\n  26,\n  1,\n  8,\n  'Bino Farias/Da Gama/Lazão/Toni Garrido',\n  232280,\n  7747747,\n  0.99),\n (290,\n  'A Estrada',\n  26,\n  1,\n  8,\n  'Bino Farias/Da Gama/Lazão/Toni Garrido',\n  248842,\n  8275673,\n  0.99),\n (291, 'Berlim', 26, 1, 8, 'Da Gama/Toni Garrido', 207542, 6920424, 0.99),\n (292,\n  'Já Foi',\n  26,\n  1,\n  8,\n  'Bino Farias/Da Gama/Lazão/Toni Garrido',\n  221544,\n  7388466,\n  0.99),\n (293,\n  'Onde Você Mora?',\n  26,\n  1,\n  8,\n  'Marisa Monte/Nando Reis',\n  256026,\n  8502588,\n  0.99),\n (294,\n  'Pensamento',\n  26,\n  1,\n  8,\n  'Bino Farias/Da Gamma/Lazão/Rás Bernard',\n  173008,\n  5748424,\n  0.99),\n (295,\n  'Conciliação',\n  26,\n  1,\n  8,\n  'Da Gama/Lazão/Rás Bernardo',\n  257619,\n  8552474,\n  0.99),\n (296,\n  'Realidade Virtual',\n  26,\n  1,\n  8,\n  'Bino Farias/Da Gama/Lazão/Toni Garrido',\n  195239,\n  6503533,\n  0.99),\n (297,\n  'Mensagem',\n  26,\n  1,\n  8,\n  'Bino Farias/Da Gama/Lazão/Rás Bernardo',\n  225332,\n  7488852,\n  0.99),\n (298,\n  'A Cor Do Sol',\n  26,\n  1,\n  8,\n  'Bernardo Vilhena/Da Gama/Lazão',\n  231392,\n  7663348,\n  0.99),\n (299,\n  'Onde Você Mora?',\n  27,\n  1,\n  8,\n  'Marisa Monte/Nando Reis',\n  298396,\n  10056970,\n  0.99),\n (300,\n  'O Erê',\n  27,\n  1,\n  8,\n  'Bernardo Vilhena/Bino/Da Gama/Lazao/Toni Garrido',\n  206942,\n  6950332,\n  0.99),\n (301,\n  'A Sombra Da Maldade',\n  27,\n  1,\n  8,\n  'Da Gama/Toni Garrido',\n  285231,\n  9544383,\n  0.99),\n (302,\n  'A Estrada',\n  27,\n  1,\n  8,\n  'Da Gama/Lazao/Toni Garrido',\n  282174,\n  9344477,\n  0.99),\n (303,\n  'Falar A Verdade',\n  27,\n  1,\n  8,\n  'Bino/Da Gama/Ras Bernardo',\n  244950,\n  8189093,\n  0.99),\n (304,\n  'Firmamento',\n  27,\n  1,\n  8,\n  'Harry Lawes/Winston Foster-Vers',\n  225488,\n  7507866,\n  0.99),\n (305,\n  'Pensamento',\n  27,\n  1,\n  8,\n  'Bino/Da Gama/Ras Bernardo',\n  192391,\n  6399761,\n  0.99),\n (306,\n  'Realidade Virtual',\n  27,\n  1,\n  8,\n  'Bino/Da Gamma/Lazao/Toni Garrido',\n  240300,\n  8069934,\n  0.99),\n (307, 'Doutor', 27, 1, 8, 'Bino/Da Gama/Toni Garrido', 178155, 5950952, 0.99),\n (308,\n  'Na Frente Da TV',\n  27,\n  1,\n  8,\n  'Bino/Da Gama/Lazao/Ras Bernardo',\n  289750,\n  9633659,\n  0.99),\n (309, 'Downtown', 27, 1, 8, 'Cidade Negra', 239725, 8024386, 0.99),\n (310, 'Sábado A Noite', 27, 1, 8, 'Lulu Santos', 267363, 8895073, 0.99),\n (311,\n  'A Cor Do Sol',\n  27,\n  1,\n  8,\n  'Bernardo Vilhena/Da Gama/Lazao',\n  273031,\n  9142937,\n  0.99),\n (312,\n  'Eu Também Quero Beijar',\n  27,\n  1,\n  8,\n  'Fausto Nilo/Moraes Moreira/Pepeu Gomes',\n  211147,\n  7029400,\n  0.99),\n (313, 'Noite Do Prazer', 28, 1, 7, None, 311353, 10309980, 0.99),\n (314, 'À Francesa', 28, 1, 7, None, 244532, 8150846, 0.99),\n (315,\n  'Cada Um Cada Um (A Namoradeira)',\n  28,\n  1,\n  7,\n  None,\n  253492,\n  8441034,\n  0.99),\n (316, 'Linha Do Equador', 28, 1, 7, None, 244715, 8123466, 0.99),\n (317, 'Amor Demais', 28, 1, 7, None, 254040, 8420093, 0.99),\n (318, 'Férias', 28, 1, 7, None, 264202, 8731945, 0.99),\n (319, 'Gostava Tanto De Você', 28, 1, 7, None, 230452, 7685326, 0.99),\n (320, 'Flor Do Futuro', 28, 1, 7, None, 275748, 9205941, 0.99),\n (321, 'Felicidade Urgente', 28, 1, 7, None, 266605, 8873358, 0.99),\n (322, 'Livre Pra Viver', 28, 1, 7, None, 214595, 7111596, 0.99),\n (323,\n  'Dig-Dig, Lambe-Lambe (Ao Vivo)',\n  29,\n  1,\n  9,\n  'Cassiano Costa/Cintia Maviane/J.F./Lucas Costa',\n  205479,\n  6892516,\n  0.99),\n (324,\n  'Pererê',\n  29,\n  1,\n  9,\n  'Augusto Conceição/Chiclete Com Banana',\n  198661,\n  6643207,\n  0.99),\n (325, 'TriboTchan', 29, 1, 9, 'Cal Adan/Paulo Levi', 194194, 6507950, 0.99),\n (326,\n  'Tapa Aqui, Descobre Ali',\n  29,\n  1,\n  9,\n  'Paulo Levi/W. Rangel',\n  188630,\n  6327391,\n  0.99),\n (327,\n  'Daniela',\n  29,\n  1,\n  9,\n  'Jorge Cardoso/Pierre Onasis',\n  230791,\n  7748006,\n  0.99),\n (328,\n  'Bate Lata',\n  29,\n  1,\n  9,\n  'Fábio Nolasco/Gal Sales/Ivan Brasil',\n  206733,\n  7034985,\n  0.99),\n (329,\n  'Garotas do Brasil',\n  29,\n  1,\n  9,\n  'Garay, Ricardo Engels/Luca Predabom/Ludwig, Carlos Henrique/Maurício Vieira',\n  210155,\n  6973625,\n  0.99),\n (330,\n  'Levada do Amor (Ailoviu)',\n  29,\n  1,\n  9,\n  'Luiz Wanderley/Paulo Levi',\n  190093,\n  6457752,\n  0.99),\n (331,\n  'Lavadeira',\n  29,\n  1,\n  9,\n  'Do Vale, Valverde/Gal Oliveira/Luciano Pinto',\n  214256,\n  7254147,\n  0.99),\n (332,\n  'Reboladeira',\n  29,\n  1,\n  9,\n  'Cal Adan/Ferrugem/Julinho Carioca/Tríona Ní Dhomhnaill',\n  210599,\n  7027525,\n  0.99),\n (333,\n  'É que Nessa Encarnação Eu Nasci Manga',\n  29,\n  1,\n  9,\n  'Lucina/Luli',\n  196519,\n  6568081,\n  0.99),\n (334,\n  'Reggae Tchan',\n  29,\n  1,\n  9,\n  'Cal Adan/Del Rey, Tension/Edu Casanova',\n  206654,\n  6931328,\n  0.99),\n (335, 'My Love', 29, 1, 9, 'Jauperi/Zeu Góes', 203493, 6772813, 0.99),\n (336,\n  'Latinha de Cerveja',\n  29,\n  1,\n  9,\n  'Adriano Bernandes/Edmar Neves',\n  166687,\n  5532564,\n  0.99),\n (337,\n  'You Shook Me',\n  30,\n  1,\n  1,\n  'J B Lenoir/Willie Dixon',\n  315951,\n  10249958,\n  0.99),\n (338,\n  \"I Can't Quit You Baby\",\n  30,\n  1,\n  1,\n  'Willie Dixon',\n  263836,\n  8581414,\n  0.99),\n (339,\n  'Communication Breakdown',\n  30,\n  1,\n  1,\n  'Jimmy Page/John Bonham/John Paul Jones',\n  192653,\n  6287257,\n  0.99),\n (340, 'Dazed and Confused', 30, 1, 1, 'Jimmy Page', 401920, 13035765, 0.99),\n (341,\n  'The Girl I Love She Got Long Black Wavy Hair',\n  30,\n  1,\n  1,\n  'Jimmy Page/John Bonham/John Estes/John Paul Jones/Robert Plant',\n  183327,\n  5995686,\n  0.99),\n (342,\n  'What is and Should Never Be',\n  30,\n  1,\n  1,\n  'Jimmy Page/Robert Plant',\n  260675,\n  8497116,\n  0.99),\n (343,\n  'Communication Breakdown(2)',\n  30,\n  1,\n  1,\n  'Jimmy Page/John Bonham/John Paul Jones',\n  161149,\n  5261022,\n  0.99),\n (344,\n  'Travelling Riverside Blues',\n  30,\n  1,\n  1,\n  'Jimmy Page/Robert Johnson/Robert Plant',\n  312032,\n  10232581,\n  0.99),\n (345,\n  'Whole Lotta Love',\n  30,\n  1,\n  1,\n  'Jimmy Page/John Bonham/John Paul Jones/Robert Plant/Willie Dixon',\n  373394,\n  12258175,\n  0.99),\n (346,\n  \"Somethin' Else\",\n  30,\n  1,\n  1,\n  'Bob Cochran/Sharon Sheeley',\n  127869,\n  4165650,\n  0.99),\n (347,\n  'Communication Breakdown(3)',\n  30,\n  1,\n  1,\n  'Jimmy Page/John Bonham/John Paul Jones',\n  185260,\n  6041133,\n  0.99),\n (348,\n  \"I Can't Quit You Baby(2)\",\n  30,\n  1,\n  1,\n  'Willie Dixon',\n  380551,\n  12377615,\n  0.99),\n (349,\n  'You Shook Me(2)',\n  30,\n  1,\n  1,\n  'J B Lenoir/Willie Dixon',\n  619467,\n  20138673,\n  0.99),\n (350,\n  'How Many More Times',\n  30,\n  1,\n  1,\n  'Chester Burnett/Jimmy Page/John Bonham/John Paul Jones/Robert Plant',\n  711836,\n  23092953,\n  0.99),\n (351, 'Debra Kadabra', 31, 1, 1, 'Frank Zappa', 234553, 7649679, 0.99),\n (352,\n  'Carolina Hard-Core Ecstasy',\n  31,\n  1,\n  1,\n  'Frank Zappa',\n  359680,\n  11731061,\n  0.99),\n (353,\n  'Sam With The Showing Scalp Flat Top',\n  31,\n  1,\n  1,\n  'Don Van Vliet',\n  171284,\n  5572993,\n  0.99),\n (354,\n  \"Poofter's Froth Wyoming Plans Ahead\",\n  31,\n  1,\n  1,\n  'Frank Zappa',\n  183902,\n  6007019,\n  0.99),\n (355, '200 Years Old', 31, 1, 1, 'Frank Zappa', 272561, 8912465, 0.99),\n (356, 'Cucamonga', 31, 1, 1, 'Frank Zappa', 144483, 4728586, 0.99),\n (357, 'Advance Romance', 31, 1, 1, 'Frank Zappa', 677694, 22080051, 0.99),\n (358,\n  'Man With The Woman Head',\n  31,\n  1,\n  1,\n  'Don Van Vliet',\n  88894,\n  2922044,\n  0.99),\n (359, 'Muffin Man', 31, 1, 1, 'Frank Zappa', 332878, 10891682, 0.99),\n (360, 'Vai-Vai 2001', 32, 1, 10, None, 276349, 9402241, 0.99),\n (361, 'X-9 2001', 32, 1, 10, None, 273920, 9310370, 0.99),\n (362, 'Gavioes 2001', 32, 1, 10, None, 282723, 9616640, 0.99),\n (363, 'Nene 2001', 32, 1, 10, None, 284969, 9694508, 0.99),\n (364, 'Rosas De Ouro 2001', 32, 1, 10, None, 284342, 9721084, 0.99),\n (365, 'Mocidade Alegre 2001', 32, 1, 10, None, 282488, 9599937, 0.99),\n (366, 'Camisa Verde 2001', 32, 1, 10, None, 283454, 9633755, 0.99),\n (367, 'Leandro De Itaquera 2001', 32, 1, 10, None, 274808, 9451845, 0.99),\n (368, 'Tucuruvi 2001', 32, 1, 10, None, 287921, 9883335, 0.99),\n (369, 'Aguia De Ouro 2001', 32, 1, 10, None, 284160, 9698729, 0.99),\n (370, 'Ipiranga 2001', 32, 1, 10, None, 248293, 8522591, 0.99),\n (371, 'Morro Da Casa Verde 2001', 32, 1, 10, None, 284708, 9718778, 0.99),\n (372, 'Perola Negra 2001', 32, 1, 10, None, 281626, 9619196, 0.99),\n (373, 'Sao Lucas 2001', 32, 1, 10, None, 296254, 10020122, 0.99),\n (374, 'Guanabara', 33, 1, 7, 'Marcos Valle', 247614, 8499591, 0.99),\n (375, 'Mas Que Nada', 33, 1, 7, 'Jorge Ben', 248398, 8255254, 0.99),\n (376,\n  'Vôo Sobre o Horizonte',\n  33,\n  1,\n  7,\n  'J.r.Bertami/Parana',\n  225097,\n  7528825,\n  0.99),\n (377, 'A Paz', 33, 1, 7, 'Donato/Gilberto Gil', 263183, 8619173, 0.99),\n (378,\n  'Wave (Vou te Contar)',\n  33,\n  1,\n  7,\n  'Antonio Carlos Jobim',\n  271647,\n  9057557,\n  0.99),\n (379,\n  'Água de Beber',\n  33,\n  1,\n  7,\n  'Antonio Carlos Jobim/Vinicius de Moraes',\n  146677,\n  4866476,\n  0.99),\n (380,\n  'Samba da Bençaco',\n  33,\n  1,\n  7,\n  'Baden Powell/Vinicius de Moraes',\n  282200,\n  9440676,\n  0.99),\n (381,\n  'Pode Parar',\n  33,\n  1,\n  7,\n  'Jorge Vercilo/Jota Maranhao',\n  179408,\n  6046678,\n  0.99),\n (382, 'Menino do Rio', 33, 1, 7, 'Caetano Veloso', 262713, 8737489, 0.99),\n (383,\n  'Ando Meio Desligado',\n  33,\n  1,\n  7,\n  'Caetano Veloso',\n  195813,\n  6547648,\n  0.99),\n (384,\n  'Mistério da Raça',\n  33,\n  1,\n  7,\n  'Luiz Melodia/Ricardo Augusto',\n  184320,\n  6191752,\n  0.99),\n (385, 'All Star', 33, 1, 7, 'Nando Reis', 176326, 5891697, 0.99),\n (386,\n  'Menina Bonita',\n  33,\n  1,\n  7,\n  'Alexandre Brazil/Pedro Luis/Rodrigo Cabelo',\n  237087,\n  7938246,\n  0.99),\n (387,\n  'Pescador de Ilusões',\n  33,\n  1,\n  7,\n  'Macelo Yuka/O Rappa',\n  245524,\n  8267067,\n  0.99),\n (388,\n  'À Vontade (Live Mix)',\n  33,\n  1,\n  7,\n  'Bombom/Ed Motta',\n  180636,\n  5972430,\n  0.99),\n (389, 'Maria Fumaça', 33, 1, 7, 'Luiz Carlos/Oberdan', 141008, 4743149, 0.99),\n (390,\n  'Sambassim (dj patife remix)',\n  33,\n  1,\n  7,\n  'Alba Carvalho/Fernando Porto',\n  213655,\n  7243166,\n  0.99),\n (391, 'Garota De Ipanema', 34, 1, 7, 'Vários', 279536, 9141343, 0.99),\n (392, 'Tim Tim Por Tim Tim', 34, 1, 7, 'Vários', 213237, 7143328, 0.99),\n (393, 'Tarde Em Itapoã', 34, 1, 7, 'Vários', 313704, 10344491, 0.99),\n (394, 'Tanto Tempo', 34, 1, 7, 'Vários', 170292, 5572240, 0.99),\n (395, 'Eu Vim Da Bahia - Live', 34, 1, 7, 'Vários', 157988, 5115428, 0.99),\n (396, 'Alô Alô Marciano', 34, 1, 7, 'Vários', 238106, 8013065, 0.99),\n (397, 'Linha Do Horizonte', 34, 1, 7, 'Vários', 279484, 9275929, 0.99),\n (398, 'Only A Dream In Rio', 34, 1, 7, 'Vários', 371356, 12192989, 0.99),\n (399, 'Abrir A Porta', 34, 1, 7, 'Vários', 271960, 8991141, 0.99),\n (400, 'Alice', 34, 1, 7, 'Vários', 165982, 5594341, 0.99),\n (401, 'Momentos Que Marcam', 34, 1, 7, 'Vários', 280137, 9313740, 0.99),\n (402, 'Um Jantar Pra Dois', 34, 1, 7, 'Vários', 237714, 7819755, 0.99),\n (403, 'Bumbo Da Mangueira', 34, 1, 7, 'Vários', 270158, 9073350, 0.99),\n (404, 'Mr Funk Samba', 34, 1, 7, 'Vários', 213890, 7102545, 0.99),\n (405, 'Santo Antonio', 34, 1, 7, 'Vários', 162716, 5492069, 0.99),\n (406, 'Por Você', 34, 1, 7, 'Vários', 205557, 6792493, 0.99),\n (407, 'Só Tinha De Ser Com Você', 34, 1, 7, 'Vários', 389642, 13085596, 0.99),\n (408,\n  'Free Speech For The Dumb',\n  35,\n  1,\n  3,\n  'Molaney/Morris/Roberts/Wainwright',\n  155428,\n  5076048,\n  0.99),\n (409, \"It's Electric\", 35, 1, 3, 'Harris/Tatler', 213995, 6978601, 0.99),\n (410, 'Sabbra Cadabra', 35, 1, 3, 'Black Sabbath', 380342, 12418147, 0.99),\n (411, 'Turn The Page', 35, 1, 3, 'Seger', 366524, 11946327, 0.99),\n (412, 'Die Die My Darling', 35, 1, 3, 'Danzig', 149315, 4867667, 0.99),\n (413, 'Loverman', 35, 1, 3, 'Cave', 472764, 15446975, 0.99),\n (414, 'Mercyful Fate', 35, 1, 3, 'Diamond/Shermann', 671712, 21942829, 0.99),\n (415,\n  'Astronomy',\n  35,\n  1,\n  3,\n  'A.Bouchard/J.Bouchard/S.Pearlman',\n  397531,\n  13065612,\n  0.99),\n (416, 'Whiskey In The Jar', 35, 1, 3, 'Traditional', 305005, 9943129, 0.99),\n (417,\n  \"Tuesday's Gone\",\n  35,\n  1,\n  3,\n  'Collins/Van Zandt',\n  545750,\n  17900787,\n  0.99),\n (418,\n  'The More I See',\n  35,\n  1,\n  3,\n  'Molaney/Morris/Roberts/Wainwright',\n  287973,\n  9378873,\n  0.99),\n (419, 'A Kind Of Magic', 36, 1, 1, 'Roger Taylor', 262608, 8689618, 0.99),\n (420,\n  'Under Pressure',\n  36,\n  1,\n  1,\n  'Queen & David Bowie',\n  236617,\n  7739042,\n  0.99),\n (421, 'Radio GA GA', 36, 1, 1, 'Roger Taylor', 343745, 11358573, 0.99),\n (422, 'I Want It All', 36, 1, 1, 'Queen', 241684, 7876564, 0.99),\n (423, 'I Want To Break Free', 36, 1, 1, 'John Deacon', 259108, 8552861, 0.99),\n (424, 'Innuendo', 36, 1, 1, 'Queen', 387761, 12664591, 0.99),\n (425, \"It's A Hard Life\", 36, 1, 1, 'Freddie Mercury', 249417, 8112242, 0.99),\n (426, 'Breakthru', 36, 1, 1, 'Queen', 249234, 8150479, 0.99),\n (427,\n  'Who Wants To Live Forever',\n  36,\n  1,\n  1,\n  'Brian May',\n  297691,\n  9577577,\n  0.99),\n (428, 'Headlong', 36, 1, 1, 'Queen', 273057, 8921404, 0.99),\n (429, 'The Miracle', 36, 1, 1, 'Queen', 294974, 9671923, 0.99),\n (430, \"I'm Going Slightly Mad\", 36, 1, 1, 'Queen', 248032, 8192339, 0.99),\n (431, 'The Invisible Man', 36, 1, 1, 'Queen', 238994, 7920353, 0.99),\n (432, 'Hammer To Fall', 36, 1, 1, 'Brian May', 220316, 7255404, 0.99),\n (433,\n  'Friends Will Be Friends',\n  36,\n  1,\n  1,\n  'Freddie Mercury & John Deacon',\n  248920,\n  8114582,\n  0.99),\n (434, 'The Show Must Go On', 36, 1, 1, 'Queen', 263784, 8526760, 0.99),\n (435, 'One Vision', 36, 1, 1, 'Queen', 242599, 7936928, 0.99),\n (436,\n  'Detroit Rock City',\n  37,\n  1,\n  1,\n  'Paul Stanley, B. Ezrin',\n  218880,\n  7146372,\n  0.99),\n (437, 'Black Diamond', 37, 1, 1, 'Paul Stanley', 314148, 10266007, 0.99),\n (438, 'Hard Luck Woman', 37, 1, 1, 'Paul Stanley', 216032, 7109267, 0.99),\n (439,\n  'Sure Know Something',\n  37,\n  1,\n  1,\n  'Paul Stanley, Vincent Poncia',\n  242468,\n  7939886,\n  0.99),\n (440, 'Love Gun', 37, 1, 1, 'Paul Stanley', 196257, 6424915, 0.99),\n (441, 'Deuce', 37, 1, 1, 'Gene Simmons', 185077, 6097210, 0.99),\n (442,\n  \"Goin' Blind\",\n  37,\n  1,\n  1,\n  'Gene Simmons, S. Coronel',\n  216215,\n  7045314,\n  0.99),\n (443, 'Shock Me', 37, 1, 1, 'Ace Frehley', 227291, 7529336, 0.99),\n (444,\n  'Do You Love Me',\n  37,\n  1,\n  1,\n  'Paul Stanley, B. Ezrin, K. Fowley',\n  214987,\n  6976194,\n  0.99),\n (445, 'She', 37, 1, 1, 'Gene Simmons, S. Coronel', 248346, 8229734, 0.99),\n (446,\n  'I Was Made For Loving You',\n  37,\n  1,\n  1,\n  'Paul Stanley, Vincent Poncia, Desmond Child',\n  271360,\n  9018078,\n  0.99),\n (447,\n  'Shout It Out Loud',\n  37,\n  1,\n  1,\n  'Paul Stanley, Gene Simmons, B. Ezrin',\n  219742,\n  7194424,\n  0.99),\n (448, 'God Of Thunder', 37, 1, 1, 'Paul Stanley', 255791, 8309077, 0.99),\n (449, 'Calling Dr. Love', 37, 1, 1, 'Gene Simmons', 225332, 7395034, 0.99),\n (450,\n  'Beth',\n  37,\n  1,\n  1,\n  'S. Penridge, Bob Ezrin, Peter Criss',\n  166974,\n  5360574,\n  0.99),\n (451,\n  'Strutter',\n  37,\n  1,\n  1,\n  'Paul Stanley, Gene Simmons',\n  192496,\n  6317021,\n  0.99),\n (452,\n  'Rock And Roll All Nite',\n  37,\n  1,\n  1,\n  'Paul Stanley, Gene Simmons',\n  173609,\n  5735902,\n  0.99),\n (453, 'Cold Gin', 37, 1, 1, 'Ace Frehley', 262243, 8609783, 0.99),\n (454, 'Plaster Caster', 37, 1, 1, 'Gene Simmons', 207333, 6801116, 0.99),\n (455,\n  \"God Gave Rock 'n' Roll To You\",\n  37,\n  1,\n  1,\n  'Paul Stanley, Gene Simmons, Rus Ballard, Bob Ezrin',\n  320444,\n  10441590,\n  0.99),\n (456, 'Heart of the Night', 38, 1, 2, None, 273737, 9098263, 0.99),\n (457, 'De La Luz', 38, 1, 2, None, 315219, 10518284, 0.99),\n (458, 'Westwood Moon', 38, 1, 2, None, 295627, 9765802, 0.99),\n (459, 'Midnight', 38, 1, 2, None, 266866, 8851060, 0.99),\n (460, 'Playtime', 38, 1, 2, None, 273580, 9070880, 0.99),\n (461, 'Surrender', 38, 1, 2, None, 287634, 9422926, 0.99),\n (462, \"Valentino's\", 38, 1, 2, None, 296124, 9848545, 0.99),\n (463, 'Believe', 38, 1, 2, None, 310778, 10317185, 0.99),\n (464, 'As We Sleep', 38, 1, 2, None, 316865, 10429398, 0.99),\n (465, 'When Evening Falls', 38, 1, 2, None, 298135, 9863942, 0.99),\n (466, 'J Squared', 38, 1, 2, None, 288757, 9480777, 0.99),\n (467, 'Best Thing', 38, 1, 2, None, 274259, 9069394, 0.99),\n (468,\n  'Maria',\n  39,\n  1,\n  4,\n  'Billie Joe Armstrong -Words Green Day -Music',\n  167262,\n  5484747,\n  0.99),\n (469,\n  'Poprocks And Coke',\n  39,\n  1,\n  4,\n  'Billie Joe Armstrong -Words Green Day -Music',\n  158354,\n  5243078,\n  0.99),\n (470,\n  'Longview',\n  39,\n  1,\n  4,\n  'Billie Joe Armstrong -Words Green Day -Music',\n  234083,\n  7714939,\n  0.99),\n (471,\n  'Welcome To Paradise',\n  39,\n  1,\n  4,\n  'Billie Joe Armstrong -Words Green Day -Music',\n  224208,\n  7406008,\n  0.99),\n (472,\n  'Basket Case',\n  39,\n  1,\n  4,\n  'Billie Joe Armstrong -Words Green Day -Music',\n  181629,\n  5951736,\n  0.99),\n (473,\n  'When I Come Around',\n  39,\n  1,\n  4,\n  'Billie Joe Armstrong -Words Green Day -Music',\n  178364,\n  5839426,\n  0.99),\n (474,\n  'She',\n  39,\n  1,\n  4,\n  'Billie Joe Armstrong -Words Green Day -Music',\n  134164,\n  4425128,\n  0.99),\n (475,\n  'J.A.R. (Jason Andrew Relva)',\n  39,\n  1,\n  4,\n  'Mike Dirnt -Words Green Day -Music',\n  170997,\n  5645755,\n  0.99),\n (476,\n  'Geek Stink Breath',\n  39,\n  1,\n  4,\n  'Billie Joe Armstrong -Words Green Day -Music',\n  135888,\n  4408983,\n  0.99),\n (477,\n  'Brain Stew',\n  39,\n  1,\n  4,\n  'Billie Joe Armstrong -Words Green Day -Music',\n  193149,\n  6305550,\n  0.99),\n (478,\n  'Jaded',\n  39,\n  1,\n  4,\n  'Billie Joe Armstrong -Words Green Day -Music',\n  90331,\n  2950224,\n  0.99),\n (479,\n  'Walking Contradiction',\n  39,\n  1,\n  4,\n  'Billie Joe Armstrong -Words Green Day -Music',\n  151170,\n  4932366,\n  0.99),\n (480,\n  'Stuck With Me',\n  39,\n  1,\n  4,\n  'Billie Joe Armstrong -Words Green Day -Music',\n  135523,\n  4431357,\n  0.99),\n (481,\n  \"Hitchin' A Ride\",\n  39,\n  1,\n  4,\n  'Billie Joe Armstrong -Words Green Day -Music',\n  171546,\n  5616891,\n  0.99),\n (482,\n  'Good Riddance (Time Of Your Life)',\n  39,\n  1,\n  4,\n  'Billie Joe Armstrong -Words Green Day -Music',\n  153600,\n  5075241,\n  0.99),\n (483,\n  'Redundant',\n  39,\n  1,\n  4,\n  'Billie Joe Armstrong -Words Green Day -Music',\n  198164,\n  6481753,\n  0.99),\n (484,\n  'Nice Guys Finish Last',\n  39,\n  1,\n  4,\n  'Billie Joe Armstrong -Words Green Day -Music',\n  170187,\n  5604618,\n  0.99),\n (485,\n  'Minority',\n  39,\n  1,\n  4,\n  'Billie Joe Armstrong -Words Green Day -Music',\n  168803,\n  5535061,\n  0.99),\n (486,\n  'Warning',\n  39,\n  1,\n  4,\n  'Billie Joe Armstrong -Words Green Day -Music',\n  221910,\n  7343176,\n  0.99),\n (487,\n  'Waiting',\n  39,\n  1,\n  4,\n  'Billie Joe Armstrong -Words Green Day -Music',\n  192757,\n  6316430,\n  0.99),\n (488,\n  \"Macy's Day Parade\",\n  39,\n  1,\n  4,\n  'Billie Joe Armstrong -Words Green Day -Music',\n  213420,\n  7075573,\n  0.99),\n (489, 'Into The Light', 40, 1, 1, 'David Coverdale', 76303, 2452653, 0.99),\n (490, 'River Song', 40, 1, 1, 'David Coverdale', 439510, 14359478, 0.99),\n (491, 'She Give Me ...', 40, 1, 1, 'David Coverdale', 252551, 8385478, 0.99),\n (492, \"Don't You Cry\", 40, 1, 1, 'David Coverdale', 347036, 11269612, 0.99),\n (493,\n  'Love Is Blind',\n  40,\n  1,\n  1,\n  'David Coverdale/Earl Slick',\n  344999,\n  11409720,\n  0.99),\n (494, 'Slave', 40, 1, 1, 'David Coverdale/Earl Slick', 291892, 9425200, 0.99),\n (495,\n  'Cry For Love',\n  40,\n  1,\n  1,\n  'Bossi/David Coverdale/Earl Slick',\n  293015,\n  9567075,\n  0.99),\n (496,\n  'Living On Love',\n  40,\n  1,\n  1,\n  'Bossi/David Coverdale/Earl Slick',\n  391549,\n  12785876,\n  0.99),\n (497,\n  'Midnight Blue',\n  40,\n  1,\n  1,\n  'David Coverdale/Earl Slick',\n  298631,\n  9750990,\n  0.99),\n (498,\n  'Too Many Tears',\n  40,\n  1,\n  1,\n  'Adrian Vanderberg/David Coverdale',\n  359497,\n  11810238,\n  0.99),\n (499,\n  \"Don't Lie To Me\",\n  40,\n  1,\n  1,\n  'David Coverdale/Earl Slick',\n  283585,\n  9288007,\n  0.99),\n (500,\n  'Wherever You May Go',\n  40,\n  1,\n  1,\n  'David Coverdale',\n  239699,\n  7803074,\n  0.99),\n (501, 'Grito De Alerta', 41, 1, 7, 'Gonzaga Jr.', 202213, 6539422, 0.99),\n (502,\n  'Não Dá Mais Pra Segurar (Explode Coração)',\n  41,\n  1,\n  7,\n  None,\n  219768,\n  7083012,\n  0.99),\n (503, 'Começaria Tudo Outra Vez', 41, 1, 7, None, 196545, 6473395, 0.99),\n (504, 'O Que É O Que É ?', 41, 1, 7, None, 259291, 8650647, 0.99),\n (505, 'Sangrando', 41, 1, 7, 'Gonzaga Jr/Gonzaguinha', 169717, 5494406, 0.99),\n (506, 'Diga Lá, Coração', 41, 1, 7, None, 255921, 8280636, 0.99),\n (507, 'Lindo Lago Do Amor', 41, 1, 7, 'Gonzaga Jr.', 249678, 8353191, 0.99),\n (508,\n  'Eu Apenas Queria Que Voçê Soubesse',\n  41,\n  1,\n  7,\n  None,\n  155637,\n  5130056,\n  0.99),\n (509, 'Com A Perna No Mundo', 41, 1, 7, 'Gonzaga Jr.', 227448, 7747108, 0.99),\n (510, 'E Vamos À Luta', 41, 1, 7, None, 222406, 7585112, 0.99),\n (511,\n  'Um Homem Também Chora (Guerreiro Menino)',\n  41,\n  1,\n  7,\n  None,\n  207229,\n  6854219,\n  0.99),\n (512, 'Comportamento Geral', 41, 1, 7, 'Gonzaga Jr', 181577, 5997444, 0.99),\n (513, 'Ponto De Interrogação', 41, 1, 7, None, 180950, 5946265, 0.99),\n (514,\n  'Espere Por Mim, Morena',\n  41,\n  1,\n  7,\n  'Gonzaguinha',\n  207072,\n  6796523,\n  0.99),\n (515, 'Meia-Lua Inteira', 23, 1, 7, None, 222093, 7466288, 0.99),\n (516, 'Voce e Linda', 23, 1, 7, None, 242938, 8050268, 0.99),\n (517, 'Um Indio', 23, 1, 7, None, 195944, 6453213, 0.99),\n (518, 'Podres Poderes', 23, 1, 7, None, 259761, 8622495, 0.99),\n (519,\n  'Voce Nao Entende Nada - Cotidiano',\n  23,\n  1,\n  7,\n  None,\n  421982,\n  13885612,\n  0.99),\n (520, 'O Estrangeiro', 23, 1, 7, None, 374700, 12472890, 0.99),\n (521, 'Menino Do Rio', 23, 1, 7, None, 147670, 4862277, 0.99),\n (522, 'Qualquer Coisa', 23, 1, 7, None, 193410, 6372433, 0.99),\n (523, 'Sampa', 23, 1, 7, None, 185051, 6151831, 0.99),\n (524, 'Queixa', 23, 1, 7, None, 299676, 9953962, 0.99),\n (525, 'O Leaozinho', 23, 1, 7, None, 184398, 6098150, 0.99),\n (526, 'Fora Da Ordem', 23, 1, 7, None, 354011, 11746781, 0.99),\n (527, 'Terra', 23, 1, 7, None, 401319, 13224055, 0.99),\n (528, 'Alegria, Alegria', 23, 1, 7, None, 169221, 5497025, 0.99),\n (529,\n  'Balada Do Louco',\n  42,\n  1,\n  4,\n  'Arnaldo Baptista - Rita Lee',\n  241057,\n  7852328,\n  0.99),\n (530,\n  'Ando Meio Desligado',\n  42,\n  1,\n  4,\n  'Arnaldo Baptista - Rita Lee -  Sérgio Dias',\n  287817,\n  9484504,\n  0.99),\n (531,\n  'Top Top',\n  42,\n  1,\n  4,\n  'Os Mutantes - Arnolpho Lima Filho',\n  146938,\n  4875374,\n  0.99),\n (532, 'Baby', 42, 1, 4, 'Caetano Veloso', 177188, 5798202, 0.99),\n (533, 'A E O Z', 42, 1, 4, 'Mutantes', 518556, 16873005, 0.99),\n (534,\n  'Panis Et Circenses',\n  42,\n  1,\n  4,\n  'Caetano Veloso - Gilberto Gil',\n  125152,\n  4069688,\n  0.99),\n (535,\n  'Chão De Estrelas',\n  42,\n  1,\n  4,\n  'Orestes Barbosa-Sílvio Caldas',\n  284813,\n  9433620,\n  0.99),\n (536,\n  'Vida De Cachorro',\n  42,\n  1,\n  4,\n  'Rita Lee - Arnaldo Baptista - Sérgio Baptista',\n  195186,\n  6411149,\n  0.99),\n (537,\n  'Bat Macumba',\n  42,\n  1,\n  4,\n  'Gilberto Gil - Caetano Veloso',\n  187794,\n  6295223,\n  0.99),\n (538,\n  'Desculpe Babe',\n  42,\n  1,\n  4,\n  'Arnaldo Baptista - Rita Lee',\n  170422,\n  5637959,\n  0.99),\n (539,\n  'Rita Lee',\n  42,\n  1,\n  4,\n  'Arnaldo Baptista/Rita Lee/Sérgio Dias',\n  189257,\n  6270503,\n  0.99),\n (540,\n  'Posso Perder Minha Mulher, Minha Mãe, Desde Que Eu Tenha O Rock And Roll',\n  42,\n  1,\n  4,\n  'Arnaldo Baptista - Rita Lee - Arnolpho Lima Filho',\n  222955,\n  7346254,\n  0.99),\n (541,\n  'Banho De Lua',\n  42,\n  1,\n  4,\n  'B. de Filippi - F. Migliaci - Versão: Fred Jorge',\n  221831,\n  7232123,\n  0.99),\n (542,\n  'Meu Refrigerador Não Funciona',\n  42,\n  1,\n  4,\n  'Arnaldo Baptista - Rita Lee - Sérgio Dias',\n  382981,\n  12495906,\n  0.99),\n (543, 'Burn', 43, 1, 1, 'Coverdale/Lord/Paice', 453955, 14775708, 0.99),\n (544, 'Stormbringer', 43, 1, 1, 'Coverdale', 277133, 9050022, 0.99),\n (545,\n  'Gypsy',\n  43,\n  1,\n  1,\n  'Coverdale/Hughes/Lord/Paice',\n  339173,\n  11046952,\n  0.99),\n (546, 'Lady Double Dealer', 43, 1, 1, 'Coverdale', 233586, 7608759, 0.99),\n (547, 'Mistreated', 43, 1, 1, 'Coverdale', 758648, 24596235, 0.99),\n (548,\n  'Smoke On The Water',\n  43,\n  1,\n  1,\n  'Gillan/Glover/Lord/Paice',\n  618031,\n  20103125,\n  0.99),\n (549,\n  'You Fool No One',\n  43,\n  1,\n  1,\n  'Coverdale/Lord/Paice',\n  804101,\n  26369966,\n  0.99),\n (550,\n  'Custard Pie',\n  44,\n  1,\n  1,\n  'Jimmy Page/Robert Plant',\n  253962,\n  8348257,\n  0.99),\n (551,\n  'The Rover',\n  44,\n  1,\n  1,\n  'Jimmy Page/Robert Plant',\n  337084,\n  11011286,\n  0.99),\n (552,\n  'In My Time Of Dying',\n  44,\n  1,\n  1,\n  'John Bonham/John Paul Jones',\n  666017,\n  21676727,\n  0.99),\n (553,\n  'Houses Of The Holy',\n  44,\n  1,\n  1,\n  'Jimmy Page/Robert Plant',\n  242494,\n  7972503,\n  0.99),\n (554,\n  'Trampled Under Foot',\n  44,\n  1,\n  1,\n  'John Paul Jones',\n  336692,\n  11154468,\n  0.99),\n (555, 'Kashmir', 44, 1, 1, 'John Bonham', 508604, 16686580, 0.99),\n (556,\n  'Imperatriz',\n  45,\n  1,\n  7,\n  'Guga/Marquinho Lessa/Tuninho Professor',\n  339173,\n  11348710,\n  0.99),\n (557,\n  'Beija-Flor',\n  45,\n  1,\n  7,\n  'Caruso/Cleber/Deo/Osmar',\n  327000,\n  10991159,\n  0.99),\n (558,\n  'Viradouro',\n  45,\n  1,\n  7,\n  'Dadinho/Gilbreto Gomes/Gustavo/P.C. Portugal/R. Mocoto',\n  344320,\n  11484362,\n  0.99),\n (559,\n  'Mocidade',\n  45,\n  1,\n  7,\n  'Domenil/J. Brito/Joaozinho/Rap, Marcelo Do',\n  261720,\n  8817757,\n  0.99),\n (560,\n  'Unidos Da Tijuca',\n  45,\n  1,\n  7,\n  'Douglas/Neves, Vicente Das/Silva, Gilmar L./Toninho Gentil/Wantuir',\n  338834,\n  11440689,\n  0.99),\n (561,\n  'Salgueiro',\n  45,\n  1,\n  7,\n  'Augusto/Craig Negoescu/Rocco Filho/Saara, Ze Carlos Da',\n  305920,\n  10294741,\n  0.99),\n (562,\n  'Mangueira',\n  45,\n  1,\n  7,\n  \"Bizuca/Clóvis Pê/Gilson Bernini/Marelo D'Aguia\",\n  298318,\n  9999506,\n  0.99),\n (563,\n  'União Da Ilha',\n  45,\n  1,\n  7,\n  'Dito/Djalma Falcao/Ilha, Almir Da/Márcio André',\n  330945,\n  11100945,\n  0.99),\n (564,\n  'Grande Rio',\n  45,\n  1,\n  7,\n  'Carlos Santos/Ciro/Claudio Russo/Zé Luiz',\n  307252,\n  10251428,\n  0.99),\n (565,\n  'Portela',\n  45,\n  1,\n  7,\n  'Flavio Bororo/Paulo Apparicio/Wagner Alves/Zeca Sereno',\n  319608,\n  10712216,\n  0.99),\n (566,\n  'Caprichosos',\n  45,\n  1,\n  7,\n  'Gule/Jorge 101/Lequinho/Luiz Piao',\n  351320,\n  11870956,\n  0.99),\n (567, 'Tradição', 45, 1, 7, 'Adalto Magalha/Lourenco', 269165, 9114880, 0.99),\n (568,\n  'Império Serrano',\n  45,\n  1,\n  7,\n  'Arlindo Cruz/Carlos Sena/Elmo Caetano/Mauricao',\n  334942,\n  11161196,\n  0.99),\n (569,\n  'Tuiuti',\n  45,\n  1,\n  7,\n  'Claudio Martins/David Lima/Kleber Rodrigues/Livre, Cesare Som',\n  259657,\n  8749492,\n  0.99),\n (570, '(Da Le) Yaleo', 46, 1, 1, 'Santana', 353488, 11769507, 0.99),\n (571,\n  'Love Of My Life',\n  46,\n  1,\n  1,\n  'Carlos Santana & Dave Matthews',\n  347820,\n  11634337,\n  0.99),\n (572, 'Put Your Lights On', 46, 1, 1, 'E. Shrody', 285178, 9394769, 0.99),\n (573,\n  'Africa Bamba',\n  46,\n  1,\n  1,\n  'I. Toure, S. Tidiane Toure, Carlos Santana & K. Perazzo',\n  282827,\n  9492487,\n  0.99),\n (574,\n  'Smooth',\n  46,\n  1,\n  1,\n  'M. Itaal Shur & Rob Thomas',\n  298161,\n  9867455,\n  0.99),\n (575, 'Do You Like The Way', 46, 1, 1, 'L. Hill', 354899, 11741062, 0.99),\n (576,\n  'Maria Maria',\n  46,\n  1,\n  1,\n  'W. Jean, J. Duplessis, Carlos Santana, K. Perazzo & R. Rekow',\n  262635,\n  8664601,\n  0.99),\n (577,\n  'Migra',\n  46,\n  1,\n  1,\n  'R. Taha, Carlos Santana & T. Lindsay',\n  329064,\n  10963305,\n  0.99),\n (578, 'Corazon Espinado', 46, 1, 1, 'F. Olivera', 276114, 9206802, 0.99),\n (579,\n  'Wishing It Was',\n  46,\n  1,\n  1,\n  'Eale-Eye Cherry, M. Simpson, J. King & M. Nishita',\n  292832,\n  9771348,\n  0.99),\n (580,\n  'El Farol',\n  46,\n  1,\n  1,\n  'Carlos Santana & KC Porter',\n  291160,\n  9599353,\n  0.99),\n (581, 'Primavera', 46, 1, 1, 'KC Porter & JB Eckl', 378618, 12504234, 0.99),\n (582,\n  'The Calling',\n  46,\n  1,\n  1,\n  'Carlos Santana & C. Thompson',\n  747755,\n  24703884,\n  0.99),\n (583, 'Solução', 47, 1, 7, None, 247431, 8100449, 0.99),\n (584, 'Manuel', 47, 1, 7, None, 230269, 7677671, 0.99),\n (585, 'Entre E Ouça', 47, 1, 7, None, 286302, 9391004, 0.99),\n (586, 'Um Contrato Com Deus', 47, 1, 7, None, 202501, 6636465, 0.99),\n (587, 'Um Jantar Pra Dois', 47, 1, 7, None, 244009, 8021589, 0.99),\n (588, 'Vamos Dançar', 47, 1, 7, None, 226194, 7617432, 0.99),\n (589, 'Um Love', 47, 1, 7, None, 181603, 6095524, 0.99),\n (590, 'Seis Da Tarde', 47, 1, 7, None, 238445, 7935898, 0.99),\n (591, 'Baixo Rio', 47, 1, 7, None, 198008, 6521676, 0.99),\n (592, 'Sombras Do Meu Destino', 47, 1, 7, None, 280685, 9161539, 0.99),\n (593, 'Do You Have Other Loves?', 47, 1, 7, None, 295235, 9604273, 0.99),\n (594, 'Agora Que O Dia Acordou', 47, 1, 7, None, 323213, 10572752, 0.99),\n (595, 'Já!!!', 47, 1, 7, None, 217782, 7103608, 0.99),\n (596, 'A Rua', 47, 1, 7, None, 238027, 7930264, 0.99),\n (597, \"Now's The Time\", 48, 1, 2, 'Miles Davis', 197459, 6358868, 0.99),\n (598, 'Jeru', 48, 1, 2, 'Miles Davis', 193410, 6222536, 0.99),\n (599, 'Compulsion', 48, 1, 2, 'Miles Davis', 345025, 11254474, 0.99),\n (600, 'Tempus Fugit', 48, 1, 2, 'Miles Davis', 231784, 7548434, 0.99),\n (601, \"Walkin'\", 48, 1, 2, 'Miles Davis', 807392, 26411634, 0.99),\n (602, \"'Round Midnight\", 48, 1, 2, 'Miles Davis', 357459, 11590284, 0.99),\n (603, 'Bye Bye Blackbird', 48, 1, 2, 'Miles Davis', 476003, 15549224, 0.99),\n (604, 'New Rhumba', 48, 1, 2, 'Miles Davis', 277968, 9018024, 0.99),\n (605, 'Generique', 48, 1, 2, 'Miles Davis', 168777, 5437017, 0.99),\n (606, 'Summertime', 48, 1, 2, 'Miles Davis', 200437, 6461370, 0.99),\n (607, 'So What', 48, 1, 2, 'Miles Davis', 564009, 18360449, 0.99),\n (608, 'The Pan Piper', 48, 1, 2, 'Miles Davis', 233769, 7593713, 0.99),\n (609,\n  'Someday My Prince Will Come',\n  48,\n  1,\n  2,\n  'Miles Davis',\n  544078,\n  17890773,\n  0.99),\n (610,\n  'My Funny Valentine (Live)',\n  49,\n  1,\n  2,\n  'Miles Davis',\n  907520,\n  29416781,\n  0.99),\n (611, 'E.S.P.', 49, 1, 2, 'Miles Davis', 330684, 11079866, 0.99),\n (612, 'Nefertiti', 49, 1, 2, 'Miles Davis', 473495, 15478450, 0.99),\n (613,\n  'Petits Machins (Little Stuff)',\n  49,\n  1,\n  2,\n  'Miles Davis',\n  487392,\n  16131272,\n  0.99),\n (614,\n  'Miles Runs The Voodoo Down',\n  49,\n  1,\n  2,\n  'Miles Davis',\n  843964,\n  27967919,\n  0.99),\n (615, 'Little Church (Live)', 49, 1, 2, 'Miles Davis', 196101, 6273225, 0.99),\n (616, 'Black Satin', 49, 1, 2, 'Miles Davis', 316682, 10529483, 0.99),\n (617, 'Jean Pierre (Live)', 49, 1, 2, 'Miles Davis', 243461, 7955114, 0.99),\n (618, 'Time After Time', 49, 1, 2, 'Miles Davis', 220734, 7292197, 0.99),\n (619, 'Portia', 49, 1, 2, 'Miles Davis', 378775, 12520126, 0.99),\n (620,\n  \"Space Truckin'\",\n  50,\n  1,\n  1,\n  'Blackmore/Gillan/Glover/Lord/Paice',\n  1196094,\n  39267613,\n  0.99),\n (621,\n  'Going Down / Highway Star',\n  50,\n  1,\n  1,\n  'Gillan/Glover/Lord/Nix - Blackmore/Paice',\n  913658,\n  29846063,\n  0.99),\n (622,\n  'Mistreated (Alternate Version)',\n  50,\n  1,\n  1,\n  'Blackmore/Coverdale',\n  854700,\n  27775442,\n  0.99),\n (623,\n  'You Fool No One (Alternate Version)',\n  50,\n  1,\n  1,\n  'Blackmore/Coverdale/Lord/Paice',\n  763924,\n  24887209,\n  0.99),\n (624, 'Jeepers Creepers', 51, 1, 2, None, 185965, 5991903, 0.99),\n (625, 'Blue Rythm Fantasy', 51, 1, 2, None, 348212, 11204006, 0.99),\n (626, 'Drum Boogie', 51, 1, 2, None, 191555, 6185636, 0.99),\n (627, 'Let Me Off Uptown', 51, 1, 2, None, 187637, 6034685, 0.99),\n (628, 'Leave Us Leap', 51, 1, 2, None, 182726, 5898810, 0.99),\n (629, 'Opus No.1', 51, 1, 2, None, 179800, 5846041, 0.99),\n (630, 'Boogie Blues', 51, 1, 2, None, 204199, 6603153, 0.99),\n (631, 'How High The Moon', 51, 1, 2, None, 201430, 6529487, 0.99),\n (632, 'Disc Jockey Jump', 51, 1, 2, None, 193149, 6260820, 0.99),\n (633, \"Up An' Atom\", 51, 1, 2, None, 179565, 5822645, 0.99),\n (634, 'Bop Boogie', 51, 1, 2, None, 189596, 6093124, 0.99),\n (635, 'Lemon Drop', 51, 1, 2, None, 194089, 6287531, 0.99),\n (636, 'Coronation Drop', 51, 1, 2, None, 176222, 5899898, 0.99),\n (637, 'Overtime', 51, 1, 2, None, 163030, 5432236, 0.99),\n (638, 'Imagination', 51, 1, 2, None, 289306, 9444385, 0.99),\n (639, \"Don't Take Your Love From Me\", 51, 1, 2, None, 282331, 9244238, 0.99),\n (640, 'Midget', 51, 1, 2, None, 217025, 7257663, 0.99),\n (641, \"I'm Coming Virginia\", 51, 1, 2, None, 280163, 9209827, 0.99),\n (642, \"Payin' Them Dues Blues\", 51, 1, 2, None, 198556, 6536918, 0.99),\n (643, 'Jungle Drums', 51, 1, 2, None, 199627, 6546063, 0.99),\n (644, 'Showcase', 51, 1, 2, None, 201560, 6697510, 0.99),\n (645, 'Swedish Schnapps', 51, 1, 2, None, 191268, 6359750, 0.99),\n (646, 'Samba Da Bênção', 52, 1, 11, None, 409965, 13490008, 0.99),\n (647, 'Pot-Pourri N.º 4', 52, 1, 11, None, 392437, 13125975, 0.99),\n (648, 'Onde Anda Você', 52, 1, 11, None, 168437, 5550356, 0.99),\n (649, 'Samba Da Volta', 52, 1, 11, None, 170631, 5676090, 0.99),\n (650, 'Canto De Ossanha', 52, 1, 11, None, 204956, 6771624, 0.99),\n (651, 'Pot-Pourri N.º 5', 52, 1, 11, None, 219898, 7117769, 0.99),\n (652, 'Formosa', 52, 1, 11, None, 137482, 4560873, 0.99),\n (653, 'Como É Duro Trabalhar', 52, 1, 11, None, 226168, 7541177, 0.99),\n (654, 'Minha Namorada', 52, 1, 11, None, 244297, 7927967, 0.99),\n (655, 'Por Que Será', 52, 1, 11, None, 162142, 5371483, 0.99),\n (656, 'Berimbau', 52, 1, 11, None, 190667, 6335548, 0.99),\n (657, 'Deixa', 52, 1, 11, None, 179826, 5932799, 0.99),\n (658, 'Pot-Pourri N.º 2', 52, 1, 11, None, 211748, 6878359, 0.99),\n (659, 'Samba Em Prelúdio', 52, 1, 11, None, 212636, 6923473, 0.99),\n (660, 'Carta Ao Tom 74', 52, 1, 11, None, 162560, 5382354, 0.99),\n (661, 'Linha de Passe (João Bosco)', 53, 1, 7, None, 230948, 7902328, 0.99),\n (662,\n  'Pela Luz dos Olhos Teus (Miúcha e Tom Jobim)',\n  53,\n  1,\n  7,\n  None,\n  163970,\n  5399626,\n  0.99),\n (663, 'Chão de Giz (Elba Ramalho)', 53, 1, 7, None, 274834, 9016916, 0.99),\n (664, 'Marina (Dorival Caymmi)', 53, 1, 7, None, 172643, 5523628, 0.99),\n (665, 'Aquarela (Toquinho)', 53, 1, 7, None, 259944, 8480140, 0.99),\n (666,\n  'Coração do Agreste (Fafá de Belém)',\n  53,\n  1,\n  7,\n  None,\n  258194,\n  8380320,\n  0.99),\n (667, 'Dona (Roupa Nova)', 53, 1, 7, None, 243356, 7991295, 0.99),\n (668,\n  'Começaria Tudo Outra Vez (Maria Creuza)',\n  53,\n  1,\n  7,\n  None,\n  206994,\n  6851151,\n  0.99),\n (669,\n  'Caçador de Mim (Sá & Guarabyra)',\n  53,\n  1,\n  7,\n  None,\n  238341,\n  7751360,\n  0.99),\n (670, 'Romaria (Renato Teixeira)', 53, 1, 7, None, 244793, 8033885, 0.99),\n (671,\n  'As Rosas Não Falam (Beth Carvalho)',\n  53,\n  1,\n  7,\n  None,\n  116767,\n  3836641,\n  0.99),\n (672, 'Wave (Os Cariocas)', 53, 1, 7, None, 130063, 4298006, 0.99),\n (673,\n  'Garota de Ipanema (Dick Farney)',\n  53,\n  1,\n  7,\n  None,\n  174367,\n  5767474,\n  0.99),\n (674,\n  'Preciso Apender a Viver Só (Maysa)',\n  53,\n  1,\n  7,\n  None,\n  143464,\n  4642359,\n  0.99),\n (675, 'Susie Q', 54, 1, 1, 'Hawkins-Lewis-Broadwater', 275565, 9043825, 0.99),\n (676, 'I Put A Spell On You', 54, 1, 1, 'Jay Hawkins', 272091, 8943000, 0.99),\n (677, 'Proud Mary', 54, 1, 1, 'J. C. Fogerty', 189022, 6229590, 0.99),\n (678, 'Bad Moon Rising', 54, 1, 1, 'J. C. Fogerty', 140146, 4609835, 0.99),\n (679, 'Lodi', 54, 1, 1, 'J. C. Fogerty', 191451, 6260214, 0.99),\n (680, 'Green River', 54, 1, 1, 'J. C. Fogerty', 154279, 5105874, 0.99),\n (681, 'Commotion', 54, 1, 1, 'J. C. Fogerty', 162899, 5354252, 0.99),\n (682, 'Down On The Corner', 54, 1, 1, 'J. C. Fogerty', 164858, 5521804, 0.99),\n (683, 'Fortunate Son', 54, 1, 1, 'J. C. Fogerty', 140329, 4617559, 0.99),\n (684, \"Travelin' Band\", 54, 1, 1, 'J. C. Fogerty', 129358, 4270414, 0.99),\n (685,\n  \"Who'll Stop The Rain\",\n  54,\n  1,\n  1,\n  'J. C. Fogerty',\n  149394,\n  4899579,\n  0.99),\n (686, 'Up Around The Bend', 54, 1, 1, 'J. C. Fogerty', 162429, 5368701, 0.99),\n (687,\n  'Run Through The Jungle',\n  54,\n  1,\n  1,\n  'J. C. Fogerty',\n  186044,\n  6156567,\n  0.99),\n (688,\n  \"Lookin' Out My Back Door\",\n  54,\n  1,\n  1,\n  'J. C. Fogerty',\n  152946,\n  5034670,\n  0.99),\n (689,\n  'Long As I Can See The Light',\n  54,\n  1,\n  1,\n  'J. C. Fogerty',\n  213237,\n  6924024,\n  0.99),\n (690,\n  'I Heard It Through The Grapevine',\n  54,\n  1,\n  1,\n  'Whitfield-Strong',\n  664894,\n  21947845,\n  0.99),\n (691,\n  'Have You Ever Seen The Rain?',\n  54,\n  1,\n  1,\n  'J. C. Fogerty',\n  160052,\n  5263675,\n  0.99),\n (692, 'Hey Tonight', 54, 1, 1, 'J. C. Fogerty', 162847, 5343807, 0.99),\n (693, 'Sweet Hitch-Hiker', 54, 1, 1, 'J. C. Fogerty', 175490, 5716603, 0.99),\n (694,\n  'Someday Never Comes',\n  54,\n  1,\n  1,\n  'J. C. Fogerty',\n  239360,\n  7945235,\n  0.99),\n (695,\n  'Walking On The Water',\n  55,\n  1,\n  1,\n  'J.C. Fogerty',\n  281286,\n  9302129,\n  0.99),\n (696, 'Suzie-Q, Pt. 2', 55, 1, 1, 'J.C. Fogerty', 244114, 7986637, 0.99),\n (697, 'Born On The Bayou', 55, 1, 1, 'J.C. Fogerty', 316630, 10361866, 0.99),\n (698,\n  'Good Golly Miss Molly',\n  55,\n  1,\n  1,\n  'J.C. Fogerty',\n  163604,\n  5348175,\n  0.99),\n (699, 'Tombstone Shadow', 55, 1, 1, 'J.C. Fogerty', 218880, 7209080, 0.99),\n (700,\n  'Wrote A Song For Everyone',\n  55,\n  1,\n  1,\n  'J.C. Fogerty',\n  296385,\n  9675875,\n  0.99),\n (701,\n  'Night Time Is The Right Time',\n  55,\n  1,\n  1,\n  'J.C. Fogerty',\n  190119,\n  6211173,\n  0.99),\n (702, 'Cotton Fields', 55, 1, 1, 'J.C. Fogerty', 178181, 5919224, 0.99),\n (703,\n  'It Came Out Of The Sky',\n  55,\n  1,\n  1,\n  'J.C. Fogerty',\n  176718,\n  5807474,\n  0.99),\n (704, \"Don't Look Now\", 55, 1, 1, 'J.C. Fogerty', 131918, 4366455, 0.99),\n (705,\n  'The Midnight Special',\n  55,\n  1,\n  1,\n  'J.C. Fogerty',\n  253596,\n  8297482,\n  0.99),\n (706,\n  'Before You Accuse Me',\n  55,\n  1,\n  1,\n  'J.C. Fogerty',\n  207804,\n  6815126,\n  0.99),\n (707, 'My Baby Left Me', 55, 1, 1, 'J.C. Fogerty', 140460, 4633440, 0.99),\n (708, 'Pagan Baby', 55, 1, 1, 'J.C. Fogerty', 385619, 12713813, 0.99),\n (709,\n  '(Wish I Could) Hideaway',\n  55,\n  1,\n  1,\n  'J.C. Fogerty',\n  228466,\n  7432978,\n  0.99),\n (710, \"It's Just A Thought\", 55, 1, 1, 'J.C. Fogerty', 237374, 7778319, 0.99),\n (711, 'Molina', 55, 1, 1, 'J.C. Fogerty', 163239, 5390811, 0.99),\n (712, 'Born To Move', 55, 1, 1, 'J.C. Fogerty', 342804, 11260814, 0.99),\n (713,\n  \"Lookin' For A Reason\",\n  55,\n  1,\n  1,\n  'J.C. Fogerty',\n  209789,\n  6933135,\n  0.99),\n (714, 'Hello Mary Lou', 55, 1, 1, 'J.C. Fogerty', 132832, 4476563, 0.99),\n (715, 'Gatas Extraordinárias', 56, 1, 7, None, 212506, 7095702, 0.99),\n (716, 'Brasil', 56, 1, 7, None, 243696, 7911683, 0.99),\n (717, 'Eu Sou Neguinha (Ao Vivo)', 56, 1, 7, None, 251768, 8376000, 0.99),\n (718, 'Geração Coca-Cola (Ao Vivo)', 56, 1, 7, None, 228153, 7573301, 0.99),\n (719, 'Lanterna Dos Afogados', 56, 1, 7, None, 204538, 6714582, 0.99),\n (720, 'Coroné Antonio Bento', 56, 1, 7, None, 200437, 6713066, 0.99),\n (721,\n  'Você Passa, Eu Acho Graça (Ao Vivo)',\n  56,\n  1,\n  7,\n  None,\n  206733,\n  6943576,\n  0.99),\n (722,\n  'Meu Mundo Fica Completo (Com Você)',\n  56,\n  1,\n  7,\n  None,\n  247771,\n  8322240,\n  0.99),\n (723, '1° De Julho', 56, 1, 7, None, 270262, 9017535, 0.99),\n (724, 'Música Urbana 2', 56, 1, 7, None, 194899, 6383472, 0.99),\n (725, 'Vida Bandida (Ao Vivo)', 56, 1, 7, None, 192626, 6360785, 0.99),\n (726, 'Palavras Ao Vento', 56, 1, 7, None, 212453, 7048676, 0.99),\n (727,\n  'Não Sei O Que Eu Quero Da Vida',\n  56,\n  1,\n  7,\n  None,\n  151849,\n  5024963,\n  0.99),\n (728,\n  'Woman Is The Nigger Of The World (Ao Vivo)',\n  56,\n  1,\n  7,\n  None,\n  298919,\n  9724145,\n  0.99),\n (729,\n  'Juventude Transviada (Ao Vivo)',\n  56,\n  1,\n  7,\n  None,\n  278622,\n  9183808,\n  0.99),\n (730, 'Malandragem', 57, 1, 7, None, 247588, 8165048, 0.99),\n (731, 'O Segundo Sol', 57, 1, 7, None, 252133, 8335629, 0.99),\n (732,\n  'Smells Like Teen Spirit (Ao Vivo)',\n  57,\n  1,\n  7,\n  None,\n  316865,\n  10384506,\n  0.99),\n (733, 'E.C.T.', 57, 1, 7, None, 227500, 7571834, 0.99),\n (734,\n  'Todo Amor Que Houver Nesta Vida',\n  57,\n  1,\n  7,\n  None,\n  227160,\n  7420347,\n  0.99),\n (735, 'Metrô. Linha 743', 57, 1, 7, None, 174654, 5837495, 0.99),\n (736, 'Nós (Ao Vivo)', 57, 1, 7, None, 193828, 6498661, 0.99),\n (737, 'Na Cadência Do Samba', 57, 1, 7, None, 196075, 6483952, 0.99),\n (738, 'Admirável Gado Novo', 57, 1, 7, None, 274390, 9144031, 0.99),\n (739, 'Eleanor Rigby', 57, 1, 7, None, 189466, 6303205, 0.99),\n (740, 'Socorro', 57, 1, 7, None, 258586, 8549393, 0.99),\n (741, 'Blues Da Piedade', 57, 1, 7, None, 257123, 8472964, 0.99),\n (742, 'Rubens', 57, 1, 7, None, 211853, 7026317, 0.99),\n (743,\n  'Não Deixe O Samba Morrer - Cassia Eller e Alcione',\n  57,\n  1,\n  7,\n  None,\n  268173,\n  8936345,\n  0.99),\n (744,\n  'Mis Penas Lloraba Yo (Ao Vivo) Soy Gitano (Tangos)',\n  57,\n  1,\n  7,\n  None,\n  188473,\n  6195854,\n  0.99),\n (745,\n  \"Comin' Home\",\n  58,\n  1,\n  1,\n  'Bolin/Coverdale/Paice',\n  235781,\n  7644604,\n  0.99),\n (746, 'Lady Luck', 58, 1, 1, 'Cook/Coverdale', 168202, 5501379, 0.99),\n (747, \"Gettin' Tighter\", 58, 1, 1, 'Bolin/Hughes', 218044, 7176909, 0.99),\n (748, 'Dealer', 58, 1, 1, 'Bolin/Coverdale', 230922, 7591066, 0.99),\n (749, 'I Need Love', 58, 1, 1, 'Bolin/Coverdale', 263836, 8701064, 0.99),\n (750, 'Drifter', 58, 1, 1, 'Bolin/Coverdale', 242834, 8001505, 0.99),\n (751, 'Love Child', 58, 1, 1, 'Bolin/Coverdale', 188160, 6173806, 0.99),\n (752,\n  \"This Time Around / Owed to 'G' [Instrumental]\",\n  58,\n  1,\n  1,\n  'Bolin/Hughes/Lord',\n  370102,\n  11995679,\n  0.99),\n (753,\n  'You Keep On Moving',\n  58,\n  1,\n  1,\n  'Coverdale/Hughes',\n  319111,\n  10447868,\n  0.99),\n (754,\n  'Speed King',\n  59,\n  1,\n  1,\n  'Blackmore, Gillan, Glover, Lord, Paice',\n  264385,\n  8587578,\n  0.99),\n (755,\n  'Bloodsucker',\n  59,\n  1,\n  1,\n  'Blackmore, Gillan, Glover, Lord, Paice',\n  256261,\n  8344405,\n  0.99),\n (756,\n  'Child In Time',\n  59,\n  1,\n  1,\n  'Blackmore, Gillan, Glover, Lord, Paice',\n  620460,\n  20230089,\n  0.99),\n (757,\n  'Flight Of The Rat',\n  59,\n  1,\n  1,\n  'Blackmore, Gillan, Glover, Lord, Paice',\n  478302,\n  15563967,\n  0.99),\n (758,\n  'Into The Fire',\n  59,\n  1,\n  1,\n  'Blackmore, Gillan, Glover, Lord, Paice',\n  210259,\n  6849310,\n  0.99),\n (759,\n  'Living Wreck',\n  59,\n  1,\n  1,\n  'Blackmore, Gillan, Glover, Lord, Paice',\n  274886,\n  8993056,\n  0.99),\n (760,\n  \"Hard Lovin' Man\",\n  59,\n  1,\n  1,\n  'Blackmore, Gillan, Glover, Lord, Paice',\n  431203,\n  13931179,\n  0.99),\n (761,\n  'Fireball',\n  60,\n  1,\n  1,\n  'Ritchie Blackmore, Ian Gillan, Roger Glover, Jon Lord, Ian Paice',\n  204721,\n  6714807,\n  0.99),\n (762,\n  'No No No',\n  60,\n  1,\n  1,\n  'Ritchie Blackmore, Ian Gillan, Roger Glover, Jon Lord, Ian Paice',\n  414902,\n  13646606,\n  0.99),\n (763,\n  'Strange Kind Of Woman',\n  60,\n  1,\n  1,\n  'Ritchie Blackmore, Ian Gillan, Roger Glover, Jon Lord, Ian Paice',\n  247092,\n  8072036,\n  0.99),\n (764,\n  \"Anyone's Daughter\",\n  60,\n  1,\n  1,\n  'Ritchie Blackmore, Ian Gillan, Roger Glover, Jon Lord, Ian Paice',\n  284682,\n  9354480,\n  0.99),\n (765,\n  'The Mule',\n  60,\n  1,\n  1,\n  'Ritchie Blackmore, Ian Gillan, Roger Glover, Jon Lord, Ian Paice',\n  322063,\n  10638390,\n  0.99),\n (766,\n  'Fools',\n  60,\n  1,\n  1,\n  'Ritchie Blackmore, Ian Gillan, Roger Glover, Jon Lord, Ian Paice',\n  500427,\n  16279366,\n  0.99),\n (767,\n  'No One Came',\n  60,\n  1,\n  1,\n  'Ritchie Blackmore, Ian Gillan, Roger Glover, Jon Lord, Ian Paice',\n  385880,\n  12643813,\n  0.99),\n (768,\n  'Knocking At Your Back Door',\n  61,\n  1,\n  1,\n  'Richie Blackmore, Ian Gillian, Roger Glover',\n  424829,\n  13779332,\n  0.99),\n (769,\n  'Bad Attitude',\n  61,\n  1,\n  1,\n  'Richie Blackmore, Ian Gillian, Roger Glover, Jon Lord',\n  307905,\n  10035180,\n  0.99),\n (770,\n  'Child In Time (Son Of Aleric - Instrumental)',\n  61,\n  1,\n  1,\n  'Richie Blackmore, Ian Gillian, Roger Glover, Jon Lord, Ian Paice',\n  602880,\n  19712753,\n  0.99),\n (771,\n  \"Nobody's Home\",\n  61,\n  1,\n  1,\n  'Richie Blackmore, Ian Gillian, Roger Glover, Jon Lord, Ian Paice',\n  243017,\n  7929493,\n  0.99),\n (772,\n  'Black Night',\n  61,\n  1,\n  1,\n  'Richie Blackmore, Ian Gillian, Roger Glover, Jon Lord, Ian Paice',\n  368770,\n  12058906,\n  0.99),\n (773,\n  'Perfect Strangers',\n  61,\n  1,\n  1,\n  'Richie Blackmore, Ian Gillian, Roger Glover',\n  321149,\n  10445353,\n  0.99),\n (774,\n  'The Unwritten Law',\n  61,\n  1,\n  1,\n  'Richie Blackmore, Ian Gillian, Roger Glover, Ian Paice',\n  295053,\n  9740361,\n  0.99),\n (775,\n  'Call Of The Wild',\n  61,\n  1,\n  1,\n  'Richie Blackmore, Ian Gillian, Roger Glover, Jon Lord',\n  293851,\n  9575295,\n  0.99),\n (776, 'Hush', 61, 1, 1, 'South', 213054, 6944928, 0.99),\n (777,\n  'Smoke On The Water',\n  61,\n  1,\n  1,\n  'Richie Blackmore, Ian Gillian, Roger Glover, Jon Lord, Ian Paice',\n  464378,\n  15180849,\n  0.99),\n (778,\n  'Space Trucking',\n  61,\n  1,\n  1,\n  'Richie Blackmore, Ian Gillian, Roger Glover, Jon Lord, Ian Paice',\n  341185,\n  11122183,\n  0.99),\n (779,\n  'Highway Star',\n  62,\n  1,\n  1,\n  'Ian Gillan/Ian Paice/Jon Lord/Ritchie Blckmore/Roger Glover',\n  368770,\n  12012452,\n  0.99),\n (780,\n  \"Maybe I'm A Leo\",\n  62,\n  1,\n  1,\n  'Ian Gillan/Ian Paice/Jon Lord/Ritchie Blckmore/Roger Glover',\n  290455,\n  9502646,\n  0.99),\n (781,\n  'Pictures Of Home',\n  62,\n  1,\n  1,\n  'Ian Gillan/Ian Paice/Jon Lord/Ritchie Blckmore/Roger Glover',\n  303777,\n  9903835,\n  0.99),\n (782,\n  'Never Before',\n  62,\n  1,\n  1,\n  'Ian Gillan/Ian Paice/Jon Lord/Ritchie Blckmore/Roger Glover',\n  239830,\n  7832790,\n  0.99),\n (783,\n  'Smoke On The Water',\n  62,\n  1,\n  1,\n  'Ian Gillan/Ian Paice/Jon Lord/Ritchie Blckmore/Roger Glover',\n  340871,\n  11246496,\n  0.99),\n (784,\n  'Lazy',\n  62,\n  1,\n  1,\n  'Ian Gillan/Ian Paice/Jon Lord/Ritchie Blckmore/Roger Glover',\n  442096,\n  14397671,\n  0.99),\n (785,\n  \"Space Truckin'\",\n  62,\n  1,\n  1,\n  'Ian Gillan/Ian Paice/Jon Lord/Ritchie Blckmore/Roger Glover',\n  272796,\n  8981030,\n  0.99),\n (786,\n  'Vavoom : Ted The Mechanic',\n  63,\n  1,\n  1,\n  'Ian Gillan, Roger Glover, Jon Lord, Steve Morse, Ian Paice',\n  257384,\n  8510755,\n  0.99),\n (787,\n  'Loosen My Strings',\n  63,\n  1,\n  1,\n  'Ian Gillan, Roger Glover, Jon Lord, Steve Morse, Ian Paice',\n  359680,\n  11702232,\n  0.99),\n (788,\n  'Soon Forgotten',\n  63,\n  1,\n  1,\n  'Ian Gillan, Roger Glover, Jon Lord, Steve Morse, Ian Paice',\n  287791,\n  9401383,\n  0.99),\n (789,\n  'Sometimes I Feel Like Screaming',\n  63,\n  1,\n  1,\n  'Ian Gillan, Roger Glover, Jon Lord, Steve Morse, Ian Paice',\n  451840,\n  14789410,\n  0.99),\n (790,\n  \"Cascades : I'm Not Your Lover\",\n  63,\n  1,\n  1,\n  'Ian Gillan, Roger Glover, Jon Lord, Steve Morse, Ian Paice',\n  283689,\n  9209693,\n  0.99),\n (791,\n  'The Aviator',\n  63,\n  1,\n  1,\n  'Ian Gillan, Roger Glover, Jon Lord, Steve Morse, Ian Paice',\n  320992,\n  10532053,\n  0.99),\n (792,\n  \"Rosa's Cantina\",\n  63,\n  1,\n  1,\n  'Ian Gillan, Roger Glover, Jon Lord, Steve Morse, Ian Paice',\n  312372,\n  10323804,\n  0.99),\n (793,\n  'A Castle Full Of Rascals',\n  63,\n  1,\n  1,\n  'Ian Gillan, Roger Glover, Jon Lord, Steve Morse, Ian Paice',\n  311693,\n  10159566,\n  0.99),\n (794,\n  'A Touch Away',\n  63,\n  1,\n  1,\n  'Ian Gillan, Roger Glover, Jon Lord, Steve Morse, Ian Paice',\n  276323,\n  9098561,\n  0.99),\n (795,\n  'Hey Cisco',\n  63,\n  1,\n  1,\n  'Ian Gillan, Roger Glover, Jon Lord, Steve Morse, Ian Paice',\n  354089,\n  11600029,\n  0.99),\n (796,\n  'Somebody Stole My Guitar',\n  63,\n  1,\n  1,\n  'Ian Gillan, Roger Glover, Jon Lord, Steve Morse, Ian Paice',\n  249443,\n  8180421,\n  0.99),\n (797,\n  'The Purpendicular Waltz',\n  63,\n  1,\n  1,\n  'Ian Gillan, Roger Glover, Jon Lord, Steve Morse, Ian Paice',\n  283924,\n  9299131,\n  0.99),\n (798,\n  'King Of Dreams',\n  64,\n  1,\n  1,\n  'Blackmore, Glover, Turner',\n  328385,\n  10733847,\n  0.99),\n (799,\n  'The Cut Runs Deep',\n  64,\n  1,\n  1,\n  'Blackmore, Glover, Turner, Lord, Paice',\n  342752,\n  11191650,\n  0.99),\n (800,\n  'Fire In The Basement',\n  64,\n  1,\n  1,\n  'Blackmore, Glover, Turner, Lord, Paice',\n  283977,\n  9267550,\n  0.99),\n (801,\n  'Truth Hurts',\n  64,\n  1,\n  1,\n  'Blackmore, Glover, Turner',\n  314827,\n  10224612,\n  0.99),\n (802,\n  'Breakfast In Bed',\n  64,\n  1,\n  1,\n  'Blackmore, Glover, Turner',\n  317126,\n  10323804,\n  0.99),\n (803,\n  'Love Conquers All',\n  64,\n  1,\n  1,\n  'Blackmore, Glover, Turner',\n  227186,\n  7328516,\n  0.99),\n (804,\n  'Fortuneteller',\n  64,\n  1,\n  1,\n  'Blackmore, Glover, Turner, Lord, Paice',\n  349335,\n  11369671,\n  0.99),\n (805,\n  'Too Much Is Not Enough',\n  64,\n  1,\n  1,\n  'Turner, Held, Greenwood',\n  257724,\n  8382800,\n  0.99),\n (806,\n  'Wicked Ways',\n  64,\n  1,\n  1,\n  'Blackmore, Glover, Turner, Lord, Paice',\n  393691,\n  12826582,\n  0.99),\n (807,\n  'Stormbringer',\n  65,\n  1,\n  1,\n  'D.Coverdale/R.Blackmore/Ritchie Blackmore',\n  246413,\n  8044864,\n  0.99),\n (808,\n  \"Love Don't Mean a Thing\",\n  65,\n  1,\n  1,\n  'D.Coverdale/G.Hughes/Glenn Hughes/I.Paice/Ian Paice/J.Lord/John Lord/R.Blackmore/Ritchie Blackmore',\n  263862,\n  8675026,\n  0.99),\n (809,\n  'Holy Man',\n  65,\n  1,\n  1,\n  'D.Coverdale/G.Hughes/Glenn Hughes/J.Lord/John Lord',\n  270236,\n  8818093,\n  0.99),\n (810,\n  'Hold On',\n  65,\n  1,\n  1,\n  'D.Coverdal/G.Hughes/Glenn Hughes/I.Paice/Ian Paice/J.Lord/John Lord',\n  306860,\n  10022428,\n  0.99),\n (811,\n  'Lady Double Dealer',\n  65,\n  1,\n  1,\n  'D.Coverdale/R.Blackmore/Ritchie Blackmore',\n  201482,\n  6554330,\n  0.99),\n (812,\n  \"You Can't Do it Right (With the One You Love)\",\n  65,\n  1,\n  1,\n  'D.Coverdale/G.Hughes/Glenn Hughes/R.Blackmore/Ritchie Blackmore',\n  203755,\n  6709579,\n  0.99),\n (813,\n  'High Ball Shooter',\n  65,\n  1,\n  1,\n  'D.Coverdale/G.Hughes/Glenn Hughes/I.Paice/Ian Paice/J.Lord/John Lord/R.Blackmore/Ritchie Blackmore',\n  267833,\n  8772471,\n  0.99),\n (814,\n  'The Gypsy',\n  65,\n  1,\n  1,\n  'D.Coverdale/G.Hughes/Glenn Hughes/I.Paice/Ian Paice/J.Lord/John Lord/R.Blackmore/Ritchie Blackmore',\n  242886,\n  7946614,\n  0.99),\n (815,\n  'Soldier Of Fortune',\n  65,\n  1,\n  1,\n  'D.Coverdale/R.Blackmore/Ritchie Blackmore',\n  193750,\n  6315321,\n  0.99),\n (816,\n  'The Battle Rages On',\n  66,\n  1,\n  1,\n  'ian paice/jon lord',\n  356963,\n  11626228,\n  0.99),\n (817, 'Lick It Up', 66, 1, 1, 'roger glover', 240274, 7792604, 0.99),\n (818, 'Anya', 66, 1, 1, 'jon lord/roger glover', 392437, 12754921, 0.99),\n (819, 'Talk About Love', 66, 1, 1, 'roger glover', 247823, 8072171, 0.99),\n (820, 'Time To Kill', 66, 1, 1, 'roger glover', 351033, 11354742, 0.99),\n (821, 'Ramshackle Man', 66, 1, 1, 'roger glover', 334445, 10874679, 0.99),\n (822, 'A Twist In The Tail', 66, 1, 1, 'roger glover', 257462, 8413103, 0.99),\n (823,\n  'Nasty Piece Of Work',\n  66,\n  1,\n  1,\n  'jon lord/roger glover',\n  276662,\n  9076997,\n  0.99),\n (824, 'Solitaire', 66, 1, 1, 'roger glover', 282226, 9157021, 0.99),\n (825, \"One Man's Meat\", 66, 1, 1, 'roger glover', 278804, 9068960, 0.99),\n (826, 'Pour Some Sugar On Me', 67, 1, 1, None, 292519, 9518842, 0.99),\n (827, 'Photograph', 67, 1, 1, None, 248633, 8108507, 0.99),\n (828, 'Love Bites', 67, 1, 1, None, 346853, 11305791, 0.99),\n (829, \"Let's Get Rocked\", 67, 1, 1, None, 296019, 9724150, 0.99),\n (830,\n  'Two Steps Behind [Acoustic Version]',\n  67,\n  1,\n  1,\n  None,\n  259787,\n  8523388,\n  0.99),\n (831, 'Animal', 67, 1, 1, None, 244741, 7985133, 0.99),\n (832, 'Heaven Is', 67, 1, 1, None, 214021, 6988128, 0.99),\n (833, 'Rocket', 67, 1, 1, None, 247248, 8092463, 0.99),\n (834, 'When Love & Hate Collide', 67, 1, 1, None, 257280, 8364633, 0.99),\n (835, 'Action', 67, 1, 1, None, 220604, 7130830, 0.99),\n (836, 'Make Love Like A Man', 67, 1, 1, None, 255660, 8309725, 0.99),\n (837, 'Armageddon It', 67, 1, 1, None, 322455, 10522352, 0.99),\n (838,\n  'Have You Ever Needed Someone So Bad',\n  67,\n  1,\n  1,\n  None,\n  319320,\n  10400020,\n  0.99),\n (839, 'Rock Of Ages', 67, 1, 1, None, 248424, 8150318, 0.99),\n (840, 'Hysteria', 67, 1, 1, None, 355056, 11622738, 0.99),\n (841, \"Bringin' On The Heartbreak\", 67, 1, 1, None, 272457, 8853324, 0.99),\n (842, 'Roll Call', 68, 1, 2, 'Jim Beard', 321358, 10653494, 0.99),\n (843,\n  'Otay',\n  68,\n  1,\n  2,\n  'John Scofield, Robert Aries, Milton Chambers and Gary Grainger',\n  423653,\n  14176083,\n  0.99),\n (844, 'Groovus Interruptus', 68, 1, 2, 'Jim Beard', 319373, 10602166, 0.99),\n (845, 'Paris On Mine', 68, 1, 2, 'Jon Herington', 368875, 12059507, 0.99),\n (846, 'In Time', 68, 1, 2, 'Sylvester Stewart', 368953, 12287103, 0.99),\n (847,\n  'Plan B',\n  68,\n  1,\n  2,\n  'Dean Brown, Dennis Chambers & Jim Beard',\n  272039,\n  9032315,\n  0.99),\n (848,\n  'Outbreak',\n  68,\n  1,\n  2,\n  'Jim Beard & Jon Herington',\n  659226,\n  21685807,\n  0.99),\n (849, 'Baltimore, DC', 68, 1, 2, 'John Scofield', 346932, 11394473, 0.99),\n (850,\n  'Talkin Loud and Saying Nothin',\n  68,\n  1,\n  2,\n  'James Brown & Bobby Byrd',\n  360411,\n  11994859,\n  0.99),\n (851, 'Pétala', 69, 1, 7, None, 270080, 8856165, 0.99),\n (852, 'Meu Bem-Querer', 69, 1, 7, None, 255608, 8330047, 0.99),\n (853, 'Cigano', 69, 1, 7, None, 304692, 10037362, 0.99),\n (854, 'Boa Noite', 69, 1, 7, None, 338755, 11283582, 0.99),\n (855, 'Fato Consumado', 69, 1, 7, None, 211565, 7018586, 0.99),\n (856, 'Faltando Um Pedaço', 69, 1, 7, None, 267728, 8788760, 0.99),\n (857, 'Álibi', 69, 1, 7, None, 213237, 6928434, 0.99),\n (858, 'Esquinas', 69, 1, 7, None, 280999, 9096726, 0.99),\n (859, 'Se...', 69, 1, 7, None, 286432, 9413777, 0.99),\n (860, 'Eu Te Devoro', 69, 1, 7, None, 311614, 10312775, 0.99),\n (861, 'Lilás', 69, 1, 7, None, 274181, 9049542, 0.99),\n (862, 'Acelerou', 69, 1, 7, None, 284081, 9396942, 0.99),\n (863, 'Um Amor Puro', 69, 1, 7, None, 327784, 10687311, 0.99),\n (864, 'Samurai', 70, 1, 7, 'Djavan', 330997, 10872787, 0.99),\n (865, 'Nem Um Dia', 70, 1, 7, 'Djavan', 337423, 11181446, 0.99),\n (866, 'Oceano', 70, 1, 7, 'Djavan', 217338, 7026441, 0.99),\n (867, 'Açai', 70, 1, 7, 'Djavan', 270968, 8893682, 0.99),\n (868, 'Serrado', 70, 1, 7, 'Djavan', 295314, 9842240, 0.99),\n (869, 'Flor De Lis', 70, 1, 7, 'Djavan', 236355, 7801108, 0.99),\n (870, 'Amar É Tudo', 70, 1, 7, 'Djavan', 211617, 7073899, 0.99),\n (871, 'Azul', 70, 1, 7, 'Djavan', 253962, 8381029, 0.99),\n (872, 'Seduzir', 70, 1, 7, 'Djavan', 277524, 9163253, 0.99),\n (873,\n  'A Carta',\n  70,\n  1,\n  7,\n  'Djavan - Gabriel, O Pensador',\n  347297,\n  11493463,\n  0.99),\n (874, 'Sina', 70, 1, 7, 'Djavan', 268173, 8906539, 0.99),\n (875, 'Acelerou', 70, 1, 7, 'Djavan', 284133, 9391439, 0.99),\n (876, 'Um Amor Puro', 70, 1, 7, 'Djavan', 327105, 10664698, 0.99),\n (877, 'O Bêbado e a Equilibrista', 71, 1, 7, None, 223059, 7306143, 0.99),\n (878, 'O Mestre-Sala dos Mares', 71, 1, 7, None, 186226, 6180414, 0.99),\n (879, 'Atrás da Porta', 71, 1, 7, None, 166608, 5432518, 0.99),\n (880, 'Dois Pra Lá, Dois Pra Cá', 71, 1, 7, None, 263026, 8684639, 0.99),\n (881, 'Casa no Campo', 71, 1, 7, None, 170788, 5531841, 0.99),\n (882, 'Romaria', 71, 1, 7, None, 242834, 7968525, 0.99),\n (883, 'Alô, Alô, Marciano', 71, 1, 7, None, 241397, 8137254, 0.99),\n (884, 'Me Deixas Louca', 71, 1, 7, None, 214831, 6888030, 0.99),\n (885, 'Fascinação', 71, 1, 7, None, 180793, 5793959, 0.99),\n (886, 'Saudosa Maloca', 71, 1, 7, None, 278125, 9059416, 0.99),\n (887, 'As Aparências Enganam', 71, 1, 7, None, 247379, 8014346, 0.99),\n (888, 'Madalena', 71, 1, 7, None, 157387, 5243721, 0.99),\n (889, 'Maria Rosa', 71, 1, 7, None, 232803, 7592504, 0.99),\n (890, 'Aprendendo A Jogar', 71, 1, 7, None, 290664, 9391041, 0.99),\n (891, 'Layla', 72, 1, 6, 'Clapton/Gordon', 430733, 14115792, 0.99),\n (892, 'Badge', 72, 1, 6, 'Clapton/Harrison', 163552, 5322942, 0.99),\n (893, 'I Feel Free', 72, 1, 6, 'Bruce/Clapton', 174576, 5725684, 0.99),\n (894,\n  'Sunshine Of Your Love',\n  72,\n  1,\n  6,\n  'Bruce/Clapton',\n  252891,\n  8225889,\n  0.99),\n (895,\n  'Crossroads',\n  72,\n  1,\n  6,\n  'Clapton/Robert Johnson Arr: Eric Clapton',\n  253335,\n  8273540,\n  0.99),\n (896,\n  'Strange Brew',\n  72,\n  1,\n  6,\n  'Clapton/Collins/Pappalardi',\n  167810,\n  5489787,\n  0.99),\n (897, 'White Room', 72, 1, 6, 'Bruce/Clapton', 301583, 9872606, 0.99),\n (898, 'Bell Bottom Blues', 72, 1, 6, 'Clapton', 304744, 9946681, 0.99),\n (899, 'Cocaine', 72, 1, 6, 'Cale/Clapton', 215928, 7138399, 0.99),\n (900, 'I Shot The Sheriff', 72, 1, 6, 'Marley', 263862, 8738973, 0.99),\n (901,\n  'After Midnight',\n  72,\n  1,\n  6,\n  'Clapton/J. J. Cale',\n  191320,\n  6460941,\n  0.99),\n (902,\n  'Swing Low Sweet Chariot',\n  72,\n  1,\n  6,\n  'Clapton/Trad. Arr. Clapton',\n  208143,\n  6896288,\n  0.99),\n (903, 'Lay Down Sally', 72, 1, 6, 'Clapton/Levy', 231732, 7774207, 0.99),\n (904,\n  'Knockin On Heavens Door',\n  72,\n  1,\n  6,\n  'Clapton/Dylan',\n  264411,\n  8758819,\n  0.99),\n (905, 'Wonderful Tonight', 72, 1, 6, 'Clapton', 221387, 7326923, 0.99),\n (906, 'Let It Grow', 72, 1, 6, 'Clapton', 297064, 9742568, 0.99),\n (907, 'Promises', 72, 1, 6, 'Clapton/F.eldman/Linn', 180401, 6006154, 0.99),\n (908, \"I Can't Stand It\", 72, 1, 6, 'Clapton', 249730, 8271980, 0.99),\n (909, 'Signe', 73, 1, 6, 'Eric Clapton', 193515, 6475042, 0.99),\n (910,\n  'Before You Accuse Me',\n  73,\n  1,\n  6,\n  'Eugene McDaniel',\n  224339,\n  7456807,\n  0.99),\n (911, 'Hey Hey', 73, 1, 6, 'Big Bill Broonzy', 196466, 6543487, 0.99),\n (912,\n  'Tears In Heaven',\n  73,\n  1,\n  6,\n  'Eric Clapton, Will Jennings',\n  274729,\n  9032835,\n  0.99),\n (913, 'Lonely Stranger', 73, 1, 6, 'Eric Clapton', 328724, 10894406, 0.99),\n (914,\n  \"Nobody Knows You When You're Down & Out\",\n  73,\n  1,\n  6,\n  'Jimmy Cox',\n  231836,\n  7669922,\n  0.99),\n (915, 'Layla', 73, 1, 6, 'Eric Clapton, Jim Gordon', 285387, 9490542, 0.99),\n (916,\n  'Running On Faith',\n  73,\n  1,\n  6,\n  'Jerry Lynn Williams',\n  378984,\n  12536275,\n  0.99),\n (917, \"Walkin' Blues\", 73, 1, 6, 'Robert Johnson', 226429, 7435192, 0.99),\n (918, 'Alberta', 73, 1, 6, 'Traditional', 222406, 7412975, 0.99),\n (919,\n  'San Francisco Bay Blues',\n  73,\n  1,\n  6,\n  'Jesse Fuller',\n  203363,\n  6724021,\n  0.99),\n (920, 'Malted Milk', 73, 1, 6, 'Robert Johnson', 216528, 7096781, 0.99),\n (921,\n  'Old Love',\n  73,\n  1,\n  6,\n  'Eric Clapton, Robert Cray',\n  472920,\n  15780747,\n  0.99),\n (922,\n  \"Rollin' And Tumblin'\",\n  73,\n  1,\n  6,\n  'McKinley Morgenfield (Muddy Waters)',\n  251768,\n  8407355,\n  0.99),\n (923, 'Collision', 74, 1, 4, 'Jon Hudson/Mike Patton', 204303, 6656596, 0.99),\n (924,\n  'Stripsearch',\n  74,\n  1,\n  4,\n  'Jon Hudson/Mike Bordin/Mike Patton',\n  270106,\n  8861119,\n  0.99),\n (925,\n  'Last Cup Of Sorrow',\n  74,\n  1,\n  4,\n  'Bill Gould/Mike Patton',\n  251663,\n  8221247,\n  0.99),\n (926,\n  'Naked In Front Of The Computer',\n  74,\n  1,\n  4,\n  'Mike Patton',\n  128757,\n  4225077,\n  0.99),\n (927,\n  'Helpless',\n  74,\n  1,\n  4,\n  'Bill Gould/Mike Bordin/Mike Patton',\n  326217,\n  10753135,\n  0.99),\n (928,\n  'Mouth To Mouth',\n  74,\n  1,\n  4,\n  'Bill Gould/Jon Hudson/Mike Bordin/Mike Patton',\n  228493,\n  7505887,\n  0.99),\n (929,\n  'Ashes To Ashes',\n  74,\n  1,\n  4,\n  'Bill Gould/Jon Hudson/Mike Bordin/Mike Patton/Roddy Bottum',\n  217391,\n  7093746,\n  0.99),\n (930,\n  'She Loves Me Not',\n  74,\n  1,\n  4,\n  'Bill Gould/Mike Bordin/Mike Patton',\n  209867,\n  6887544,\n  0.99),\n (931, 'Got That Feeling', 74, 1, 4, 'Mike Patton', 140852, 4643227, 0.99),\n (932,\n  'Paths Of Glory',\n  74,\n  1,\n  4,\n  'Bill Gould/Jon Hudson/Mike Bordin/Mike Patton/Roddy Bottum',\n  257253,\n  8436300,\n  0.99),\n (933, 'Home Sick Home', 74, 1, 4, 'Mike Patton', 119040, 3898976, 0.99),\n (934, 'Pristina', 74, 1, 4, 'Bill Gould/Mike Patton', 232698, 7497361, 0.99),\n (935, 'Land Of Sunshine', 75, 1, 4, None, 223921, 7353567, 0.99),\n (936, 'Caffeine', 75, 1, 4, None, 267937, 8747367, 0.99),\n (937, 'Midlife Crisis', 75, 1, 4, None, 263235, 8628841, 0.99),\n (938, 'RV', 75, 1, 4, None, 223242, 7288162, 0.99),\n (939, 'Smaller And Smaller', 75, 1, 4, None, 310831, 10180103, 0.99),\n (940, \"Everything's Ruined\", 75, 1, 4, None, 273658, 9010917, 0.99),\n (941, 'Malpractice', 75, 1, 4, None, 241371, 7900683, 0.99),\n (942, 'Kindergarten', 75, 1, 4, None, 270680, 8853647, 0.99),\n (943, 'Be Aggressive', 75, 1, 4, None, 222432, 7298027, 0.99),\n (944, 'A Small Victory', 75, 1, 4, None, 297168, 9733572, 0.99),\n (945, 'Crack Hitler', 75, 1, 4, None, 279144, 9162435, 0.99),\n (946, 'Jizzlobber', 75, 1, 4, None, 398341, 12926140, 0.99),\n (947, 'Midnight Cowboy', 75, 1, 4, None, 251924, 8242626, 0.99),\n (948, 'Easy', 75, 1, 4, None, 185835, 6073008, 0.99),\n (949,\n  'Get Out',\n  76,\n  1,\n  1,\n  'Mike Bordin, Billy Gould, Mike Patton',\n  137482,\n  4524972,\n  0.99),\n (950,\n  'Ricochet',\n  76,\n  1,\n  1,\n  'Mike Bordin, Billy Gould, Mike Patton',\n  269400,\n  8808812,\n  0.99),\n (951,\n  'Evidence',\n  76,\n  1,\n  1,\n  'Mike Bordin, Billy Gould, Mike Patton, Trey Spruance',\n  293590,\n  9626136,\n  0.99),\n (952,\n  'The Gentle Art Of Making Enemies',\n  76,\n  1,\n  1,\n  'Mike Bordin, Billy Gould, Mike Patton',\n  209319,\n  6908609,\n  0.99),\n (953,\n  'Star A.D.',\n  76,\n  1,\n  1,\n  'Mike Bordin, Billy Gould, Mike Patton',\n  203807,\n  6747658,\n  0.99),\n (954,\n  'Cuckoo For Caca',\n  76,\n  1,\n  1,\n  'Mike Bordin, Billy Gould, Mike Patton, Trey Spruance',\n  222902,\n  7388369,\n  0.99),\n (955,\n  'Caralho Voador',\n  76,\n  1,\n  1,\n  'Mike Bordin, Billy Gould, Mike Patton, Trey Spruance',\n  242102,\n  8029054,\n  0.99),\n (956,\n  'Ugly In The Morning',\n  76,\n  1,\n  1,\n  'Mike Bordin, Billy Gould, Mike Patton',\n  186435,\n  6224997,\n  0.99),\n (957,\n  'Digging The Grave',\n  76,\n  1,\n  1,\n  'Mike Bordin, Billy Gould, Mike Patton',\n  185129,\n  6109259,\n  0.99),\n (958,\n  'Take This Bottle',\n  76,\n  1,\n  1,\n  'Mike Bordin, Billy Gould, Mike Patton, Trey Spruance',\n  298997,\n  9779971,\n  0.99),\n (959,\n  'King For A Day',\n  76,\n  1,\n  1,\n  'Mike Bordin, Billy Gould, Mike Patton, Trey Spruance',\n  395859,\n  13163733,\n  0.99),\n (960,\n  'What A Day',\n  76,\n  1,\n  1,\n  'Mike Bordin, Billy Gould, Mike Patton',\n  158275,\n  5203430,\n  0.99),\n (961,\n  'The Last To Know',\n  76,\n  1,\n  1,\n  'Mike Bordin, Billy Gould, Mike Patton',\n  267833,\n  8736776,\n  0.99),\n (962,\n  'Just A Man',\n  76,\n  1,\n  1,\n  'Mike Bordin, Billy Gould, Mike Patton',\n  336666,\n  11031254,\n  0.99),\n (963,\n  'Absolute Zero',\n  76,\n  1,\n  1,\n  'Mike Bordin, Billy Gould, Mike Patton',\n  181995,\n  5929427,\n  0.99),\n (964,\n  'From Out Of Nowhere',\n  77,\n  1,\n  4,\n  'Faith No More',\n  202527,\n  6587802,\n  0.99),\n (965, 'Epic', 77, 1, 4, 'Faith No More', 294008, 9631296, 0.99),\n (966, 'Falling To Pieces', 77, 1, 4, 'Faith No More', 316055, 10333123, 0.99),\n (967,\n  \"Surprise! You're Dead!\",\n  77,\n  1,\n  4,\n  'Faith No More',\n  147226,\n  4823036,\n  0.99),\n (968, 'Zombie Eaters', 77, 1, 4, 'Faith No More', 360881, 11835367, 0.99),\n (969, 'The Real Thing', 77, 1, 4, 'Faith No More', 493635, 16233080, 0.99),\n (970, 'Underwater Love', 77, 1, 4, 'Faith No More', 231993, 7634387, 0.99),\n (971, 'The Morning After', 77, 1, 4, 'Faith No More', 223764, 7355898, 0.99),\n (972,\n  'Woodpecker From Mars',\n  77,\n  1,\n  4,\n  'Faith No More',\n  340532,\n  11174250,\n  0.99),\n (973,\n  'War Pigs',\n  77,\n  1,\n  4,\n  'Tony Iommi, Bill Ward, Geezer Butler, Ozzy Osbourne',\n  464770,\n  15267802,\n  0.99),\n (974, 'Edge Of The World', 77, 1, 4, 'Faith No More', 250357, 8235607, 0.99),\n (975, 'Deixa Entrar', 78, 1, 7, None, 33619, 1095012, 0.99),\n (976, 'Falamansa Song', 78, 1, 7, None, 237165, 7921313, 0.99),\n (977, 'Xote Dos Milagres', 78, 1, 7, None, 269557, 8897778, 0.99),\n (978, 'Rindo À Toa', 78, 1, 7, None, 222066, 7365321, 0.99),\n (979, 'Confidência', 78, 1, 7, None, 222197, 7460829, 0.99),\n (980, 'Forró De Tóquio', 78, 1, 7, None, 169273, 5588756, 0.99),\n (981, 'Zeca Violeiro', 78, 1, 7, None, 143673, 4781949, 0.99),\n (982, 'Avisa', 78, 1, 7, None, 355030, 11844320, 0.99),\n (983, 'Principiando/Decolagem', 78, 1, 7, None, 116767, 3923789, 0.99),\n (984, 'Asas', 78, 1, 7, None, 231915, 7711669, 0.99),\n (985, 'Medo De Escuro', 78, 1, 7, None, 213760, 7056323, 0.99),\n (986, 'Oração', 78, 1, 7, None, 271072, 9003882, 0.99),\n (987, 'Minha Gata', 78, 1, 7, None, 181838, 6039502, 0.99),\n (988, 'Desaforo', 78, 1, 7, None, 174524, 5853561, 0.99),\n (989,\n  'In Your Honor',\n  79,\n  1,\n  1,\n  'Dave Grohl, Taylor Hawkins, Nate Mendel, Chris Shiflett',\n  230191,\n  7468463,\n  0.99),\n (990,\n  'No Way Back',\n  79,\n  1,\n  1,\n  'Dave Grohl, Taylor Hawkins, Nate Mendel, Chris Shiflett',\n  196675,\n  6421400,\n  0.99),\n (991,\n  'Best Of You',\n  79,\n  1,\n  1,\n  'Dave Grohl, Taylor Hawkins, Nate Mendel, Chris Shiflett',\n  255712,\n  8363467,\n  0.99),\n (992,\n  'DOA',\n  79,\n  1,\n  1,\n  'Dave Grohl, Taylor Hawkins, Nate Mendel, Chris Shiflett',\n  252186,\n  8232342,\n  0.99),\n (993,\n  'Hell',\n  79,\n  1,\n  1,\n  'Dave Grohl, Taylor Hawkins, Nate Mendel, Chris Shiflett',\n  117080,\n  3819255,\n  0.99),\n (994,\n  'The Last Song',\n  79,\n  1,\n  1,\n  'Dave Grohl, Taylor Hawkins, Nate Mendel, Chris Shiflett',\n  199523,\n  6496742,\n  0.99),\n (995,\n  'Free Me',\n  79,\n  1,\n  1,\n  'Dave Grohl, Taylor Hawkins, Nate Mendel, Chris Shiflett',\n  278700,\n  9109340,\n  0.99),\n (996,\n  'Resolve',\n  79,\n  1,\n  1,\n  'Dave Grohl, Taylor Hawkins, Nate Mendel, Chris Shiflett',\n  288731,\n  9416186,\n  0.99),\n (997,\n  'The Deepest Blues Are Black',\n  79,\n  1,\n  1,\n  'Dave Grohl, Taylor Hawkins, Nate Mendel, Chris Shiflett',\n  238419,\n  7735473,\n  0.99),\n (998,\n  'End Over End',\n  79,\n  1,\n  1,\n  'Dave Grohl, Taylor Hawkins, Nate Mendel, Chris Shiflett',\n  352078,\n  11395296,\n  0.99),\n (999,\n  'Still',\n  80,\n  1,\n  1,\n  'Dave Grohl, Taylor Hawkins, Nate Mendel, Chris Shiflett/FOO FIGHTERS',\n  313182,\n  10323157,\n  0.99),\n (1000,\n  'What If I Do?',\n  80,\n  1,\n  1,\n  'Dave Grohl, Taylor Hawkins, Nate Mendel, Chris Shiflett/FOO FIGHTERS',\n  302994,\n  9929799,\n  0.99),\n ...]"
     },
     "execution_count": 31,
     "metadata": {},
     "output_type": "execute_result"
    }
   ],
   "source": [],
   "metadata": {
    "collapsed": false,
    "pycharm": {
     "name": "#%%\n"
    }
   }
  },
  {
   "cell_type": "markdown",
   "source": [
    "El resultado es una lista, con tantas tuplas como filas haya. Este formato no es muy intuitivo de ver. Aprovechando que ya sabemos Pandas, vamos a hacer las consultas con esta librería, y vemos la diferencia:"
   ],
   "metadata": {
    "collapsed": false,
    "pycharm": {
     "name": "#%% md\n"
    }
   }
  },
  {
   "cell_type": "code",
   "execution_count": 32,
   "outputs": [
    {
     "data": {
      "text/plain": "      TrackId                                               Name  AlbumId  \\\n0           1            For Those About To Rock (We Salute You)        1   \n1           2                                  Balls to the Wall        2   \n2           3                                    Fast As a Shark        3   \n3           4                                  Restless and Wild        3   \n4           5                               Princess of the Dawn        3   \n...       ...                                                ...      ...   \n3498     3499  Pini Di Roma (Pinien Von Rom) \\ I Pini Della V...      343   \n3499     3500  String Quartet No. 12 in C Minor, D. 703 \"Quar...      344   \n3500     3501               L'orfeo, Act 3, Sinfonia (Orchestra)      345   \n3501     3502  Quintet for Horn, Violin, 2 Violas, and Cello ...      346   \n3502     3503                                      Koyaanisqatsi      347   \n\n      MediaTypeId  GenreId                                           Composer  \\\n0               1        1          Angus Young, Malcolm Young, Brian Johnson   \n1               2        1                                               None   \n2               2        1  F. Baltes, S. Kaufman, U. Dirkscneider & W. Ho...   \n3               2        1  F. Baltes, R.A. Smith-Diesel, S. Kaufman, U. D...   \n4               2        1                         Deaffy & R.A. Smith-Diesel   \n...           ...      ...                                                ...   \n3498            2       24                                               None   \n3499            2       24                                     Franz Schubert   \n3500            2       24                                 Claudio Monteverdi   \n3501            2       24                            Wolfgang Amadeus Mozart   \n3502            2       10                                       Philip Glass   \n\n      Milliseconds     Bytes  UnitPrice  \n0           343719  11170334       0.99  \n1           342562   5510424       0.99  \n2           230619   3990994       0.99  \n3           252051   4331779       0.99  \n4           375418   6290521       0.99  \n...            ...       ...        ...  \n3498        286741   4718950       0.99  \n3499        139200   2283131       0.99  \n3500         66639   1189062       0.99  \n3501        221331   3665114       0.99  \n3502        206005   3305164       0.99  \n\n[3503 rows x 9 columns]",
      "text/html": "<div>\n<style scoped>\n    .dataframe tbody tr th:only-of-type {\n        vertical-align: middle;\n    }\n\n    .dataframe tbody tr th {\n        vertical-align: top;\n    }\n\n    .dataframe thead th {\n        text-align: right;\n    }\n</style>\n<table border=\"1\" class=\"dataframe\">\n  <thead>\n    <tr style=\"text-align: right;\">\n      <th></th>\n      <th>TrackId</th>\n      <th>Name</th>\n      <th>AlbumId</th>\n      <th>MediaTypeId</th>\n      <th>GenreId</th>\n      <th>Composer</th>\n      <th>Milliseconds</th>\n      <th>Bytes</th>\n      <th>UnitPrice</th>\n    </tr>\n  </thead>\n  <tbody>\n    <tr>\n      <th>0</th>\n      <td>1</td>\n      <td>For Those About To Rock (We Salute You)</td>\n      <td>1</td>\n      <td>1</td>\n      <td>1</td>\n      <td>Angus Young, Malcolm Young, Brian Johnson</td>\n      <td>343719</td>\n      <td>11170334</td>\n      <td>0.99</td>\n    </tr>\n    <tr>\n      <th>1</th>\n      <td>2</td>\n      <td>Balls to the Wall</td>\n      <td>2</td>\n      <td>2</td>\n      <td>1</td>\n      <td>None</td>\n      <td>342562</td>\n      <td>5510424</td>\n      <td>0.99</td>\n    </tr>\n    <tr>\n      <th>2</th>\n      <td>3</td>\n      <td>Fast As a Shark</td>\n      <td>3</td>\n      <td>2</td>\n      <td>1</td>\n      <td>F. Baltes, S. Kaufman, U. Dirkscneider &amp; W. Ho...</td>\n      <td>230619</td>\n      <td>3990994</td>\n      <td>0.99</td>\n    </tr>\n    <tr>\n      <th>3</th>\n      <td>4</td>\n      <td>Restless and Wild</td>\n      <td>3</td>\n      <td>2</td>\n      <td>1</td>\n      <td>F. Baltes, R.A. Smith-Diesel, S. Kaufman, U. D...</td>\n      <td>252051</td>\n      <td>4331779</td>\n      <td>0.99</td>\n    </tr>\n    <tr>\n      <th>4</th>\n      <td>5</td>\n      <td>Princess of the Dawn</td>\n      <td>3</td>\n      <td>2</td>\n      <td>1</td>\n      <td>Deaffy &amp; R.A. Smith-Diesel</td>\n      <td>375418</td>\n      <td>6290521</td>\n      <td>0.99</td>\n    </tr>\n    <tr>\n      <th>...</th>\n      <td>...</td>\n      <td>...</td>\n      <td>...</td>\n      <td>...</td>\n      <td>...</td>\n      <td>...</td>\n      <td>...</td>\n      <td>...</td>\n      <td>...</td>\n    </tr>\n    <tr>\n      <th>3498</th>\n      <td>3499</td>\n      <td>Pini Di Roma (Pinien Von Rom) \\ I Pini Della V...</td>\n      <td>343</td>\n      <td>2</td>\n      <td>24</td>\n      <td>None</td>\n      <td>286741</td>\n      <td>4718950</td>\n      <td>0.99</td>\n    </tr>\n    <tr>\n      <th>3499</th>\n      <td>3500</td>\n      <td>String Quartet No. 12 in C Minor, D. 703 \"Quar...</td>\n      <td>344</td>\n      <td>2</td>\n      <td>24</td>\n      <td>Franz Schubert</td>\n      <td>139200</td>\n      <td>2283131</td>\n      <td>0.99</td>\n    </tr>\n    <tr>\n      <th>3500</th>\n      <td>3501</td>\n      <td>L'orfeo, Act 3, Sinfonia (Orchestra)</td>\n      <td>345</td>\n      <td>2</td>\n      <td>24</td>\n      <td>Claudio Monteverdi</td>\n      <td>66639</td>\n      <td>1189062</td>\n      <td>0.99</td>\n    </tr>\n    <tr>\n      <th>3501</th>\n      <td>3502</td>\n      <td>Quintet for Horn, Violin, 2 Violas, and Cello ...</td>\n      <td>346</td>\n      <td>2</td>\n      <td>24</td>\n      <td>Wolfgang Amadeus Mozart</td>\n      <td>221331</td>\n      <td>3665114</td>\n      <td>0.99</td>\n    </tr>\n    <tr>\n      <th>3502</th>\n      <td>3503</td>\n      <td>Koyaanisqatsi</td>\n      <td>347</td>\n      <td>2</td>\n      <td>10</td>\n      <td>Philip Glass</td>\n      <td>206005</td>\n      <td>3305164</td>\n      <td>0.99</td>\n    </tr>\n  </tbody>\n</table>\n<p>3503 rows × 9 columns</p>\n</div>"
     },
     "execution_count": 32,
     "metadata": {},
     "output_type": "execute_result"
    }
   ],
   "source": [],
   "metadata": {
    "collapsed": false,
    "pycharm": {
     "name": "#%%\n"
    }
   }
  },
  {
   "cell_type": "markdown",
   "source": [
    "## Chinook Database\n",
    "Vamos a practicar generando consultas sobre esta base de datos"
   ],
   "metadata": {
    "collapsed": false,
    "pycharm": {
     "name": "#%% md\n"
    }
   }
  },
  {
   "cell_type": "markdown",
   "source": [
    "1. Muestra los clientes de brasil"
   ],
   "metadata": {
    "collapsed": false,
    "pycharm": {
     "name": "#%% md\n"
    }
   }
  },
  {
   "cell_type": "code",
   "source": [],
   "metadata": {
    "collapsed": false,
    "pycharm": {
     "name": "#%%\n"
    }
   },
   "execution_count": 33,
   "outputs": [
    {
     "data": {
      "text/plain": "   CustomerId  FirstName   LastName  \\\n0           1       Luís  Gonçalves   \n1          10    Eduardo    Martins   \n2          11  Alexandre      Rocha   \n3          12    Roberto    Almeida   \n4          13   Fernanda      Ramos   \n\n                                            Company  \\\n0  Embraer - Empresa Brasileira de Aeronáutica S.A.   \n1                                  Woodstock Discos   \n2                              Banco do Brasil S.A.   \n3                                            Riotur   \n4                                              None   \n\n                           Address                 City State Country  \\\n0  Av. Brigadeiro Faria Lima, 2170  São José dos Campos    SP  Brazil   \n1        Rua Dr. Falcão Filho, 155            São Paulo    SP  Brazil   \n2               Av. Paulista, 2022            São Paulo    SP  Brazil   \n3                 Praça Pio X, 119       Rio de Janeiro    RJ  Brazil   \n4                     Qe 7 Bloco G             Brasília    DF  Brazil   \n\n  PostalCode               Phone                 Fax  \\\n0  12227-000  +55 (12) 3923-5555  +55 (12) 3923-5566   \n1  01007-010  +55 (11) 3033-5446  +55 (11) 3033-4564   \n2  01310-200  +55 (11) 3055-3278  +55 (11) 3055-8131   \n3  20040-020  +55 (21) 2271-7000  +55 (21) 2271-7070   \n4  71020-677  +55 (61) 3363-5547  +55 (61) 3363-7855   \n\n                           Email  SupportRepId  \n0           luisg@embraer.com.br             3  \n1       eduardo@woodstock.com.br             4  \n2               alero@uol.com.br             5  \n3  roberto.almeida@riotur.gov.br             3  \n4       fernadaramos4@uol.com.br             4  ",
      "text/html": "<div>\n<style scoped>\n    .dataframe tbody tr th:only-of-type {\n        vertical-align: middle;\n    }\n\n    .dataframe tbody tr th {\n        vertical-align: top;\n    }\n\n    .dataframe thead th {\n        text-align: right;\n    }\n</style>\n<table border=\"1\" class=\"dataframe\">\n  <thead>\n    <tr style=\"text-align: right;\">\n      <th></th>\n      <th>CustomerId</th>\n      <th>FirstName</th>\n      <th>LastName</th>\n      <th>Company</th>\n      <th>Address</th>\n      <th>City</th>\n      <th>State</th>\n      <th>Country</th>\n      <th>PostalCode</th>\n      <th>Phone</th>\n      <th>Fax</th>\n      <th>Email</th>\n      <th>SupportRepId</th>\n    </tr>\n  </thead>\n  <tbody>\n    <tr>\n      <th>0</th>\n      <td>1</td>\n      <td>Luís</td>\n      <td>Gonçalves</td>\n      <td>Embraer - Empresa Brasileira de Aeronáutica S.A.</td>\n      <td>Av. Brigadeiro Faria Lima, 2170</td>\n      <td>São José dos Campos</td>\n      <td>SP</td>\n      <td>Brazil</td>\n      <td>12227-000</td>\n      <td>+55 (12) 3923-5555</td>\n      <td>+55 (12) 3923-5566</td>\n      <td>luisg@embraer.com.br</td>\n      <td>3</td>\n    </tr>\n    <tr>\n      <th>1</th>\n      <td>10</td>\n      <td>Eduardo</td>\n      <td>Martins</td>\n      <td>Woodstock Discos</td>\n      <td>Rua Dr. Falcão Filho, 155</td>\n      <td>São Paulo</td>\n      <td>SP</td>\n      <td>Brazil</td>\n      <td>01007-010</td>\n      <td>+55 (11) 3033-5446</td>\n      <td>+55 (11) 3033-4564</td>\n      <td>eduardo@woodstock.com.br</td>\n      <td>4</td>\n    </tr>\n    <tr>\n      <th>2</th>\n      <td>11</td>\n      <td>Alexandre</td>\n      <td>Rocha</td>\n      <td>Banco do Brasil S.A.</td>\n      <td>Av. Paulista, 2022</td>\n      <td>São Paulo</td>\n      <td>SP</td>\n      <td>Brazil</td>\n      <td>01310-200</td>\n      <td>+55 (11) 3055-3278</td>\n      <td>+55 (11) 3055-8131</td>\n      <td>alero@uol.com.br</td>\n      <td>5</td>\n    </tr>\n    <tr>\n      <th>3</th>\n      <td>12</td>\n      <td>Roberto</td>\n      <td>Almeida</td>\n      <td>Riotur</td>\n      <td>Praça Pio X, 119</td>\n      <td>Rio de Janeiro</td>\n      <td>RJ</td>\n      <td>Brazil</td>\n      <td>20040-020</td>\n      <td>+55 (21) 2271-7000</td>\n      <td>+55 (21) 2271-7070</td>\n      <td>roberto.almeida@riotur.gov.br</td>\n      <td>3</td>\n    </tr>\n    <tr>\n      <th>4</th>\n      <td>13</td>\n      <td>Fernanda</td>\n      <td>Ramos</td>\n      <td>None</td>\n      <td>Qe 7 Bloco G</td>\n      <td>Brasília</td>\n      <td>DF</td>\n      <td>Brazil</td>\n      <td>71020-677</td>\n      <td>+55 (61) 3363-5547</td>\n      <td>+55 (61) 3363-7855</td>\n      <td>fernadaramos4@uol.com.br</td>\n      <td>4</td>\n    </tr>\n  </tbody>\n</table>\n</div>"
     },
     "execution_count": 33,
     "metadata": {},
     "output_type": "execute_result"
    }
   ]
  },
  {
   "cell_type": "markdown",
   "source": [
    "2. Muestrame los empleados que son agentes de ventas"
   ],
   "metadata": {
    "collapsed": false,
    "pycharm": {
     "name": "#%% md\n"
    }
   }
  },
  {
   "cell_type": "code",
   "source": [],
   "metadata": {
    "collapsed": false,
    "pycharm": {
     "name": "#%%\n"
    }
   },
   "execution_count": 34,
   "outputs": [
    {
     "data": {
      "text/plain": "   EmployeeId LastName FirstName                Title  ReportsTo  \\\n0           3  Peacock      Jane  Sales Support Agent          2   \n1           4     Park  Margaret  Sales Support Agent          2   \n2           5  Johnson     Steve  Sales Support Agent          2   \n\n             BirthDate             HireDate           Address     City State  \\\n0  1973-08-29 00:00:00  2002-04-01 00:00:00     1111 6 Ave SW  Calgary    AB   \n1  1947-09-19 00:00:00  2003-05-03 00:00:00  683 10 Street SW  Calgary    AB   \n2  1965-03-03 00:00:00  2003-10-17 00:00:00      7727B 41 Ave  Calgary    AB   \n\n  Country PostalCode              Phone                Fax  \\\n0  Canada    T2P 5M5  +1 (403) 262-3443  +1 (403) 262-6712   \n1  Canada    T2P 5G3  +1 (403) 263-4423  +1 (403) 263-4289   \n2  Canada    T3B 1Y7   1 (780) 836-9987   1 (780) 836-9543   \n\n                      Email  \n0      jane@chinookcorp.com  \n1  margaret@chinookcorp.com  \n2     steve@chinookcorp.com  ",
      "text/html": "<div>\n<style scoped>\n    .dataframe tbody tr th:only-of-type {\n        vertical-align: middle;\n    }\n\n    .dataframe tbody tr th {\n        vertical-align: top;\n    }\n\n    .dataframe thead th {\n        text-align: right;\n    }\n</style>\n<table border=\"1\" class=\"dataframe\">\n  <thead>\n    <tr style=\"text-align: right;\">\n      <th></th>\n      <th>EmployeeId</th>\n      <th>LastName</th>\n      <th>FirstName</th>\n      <th>Title</th>\n      <th>ReportsTo</th>\n      <th>BirthDate</th>\n      <th>HireDate</th>\n      <th>Address</th>\n      <th>City</th>\n      <th>State</th>\n      <th>Country</th>\n      <th>PostalCode</th>\n      <th>Phone</th>\n      <th>Fax</th>\n      <th>Email</th>\n    </tr>\n  </thead>\n  <tbody>\n    <tr>\n      <th>0</th>\n      <td>3</td>\n      <td>Peacock</td>\n      <td>Jane</td>\n      <td>Sales Support Agent</td>\n      <td>2</td>\n      <td>1973-08-29 00:00:00</td>\n      <td>2002-04-01 00:00:00</td>\n      <td>1111 6 Ave SW</td>\n      <td>Calgary</td>\n      <td>AB</td>\n      <td>Canada</td>\n      <td>T2P 5M5</td>\n      <td>+1 (403) 262-3443</td>\n      <td>+1 (403) 262-6712</td>\n      <td>jane@chinookcorp.com</td>\n    </tr>\n    <tr>\n      <th>1</th>\n      <td>4</td>\n      <td>Park</td>\n      <td>Margaret</td>\n      <td>Sales Support Agent</td>\n      <td>2</td>\n      <td>1947-09-19 00:00:00</td>\n      <td>2003-05-03 00:00:00</td>\n      <td>683 10 Street SW</td>\n      <td>Calgary</td>\n      <td>AB</td>\n      <td>Canada</td>\n      <td>T2P 5G3</td>\n      <td>+1 (403) 263-4423</td>\n      <td>+1 (403) 263-4289</td>\n      <td>margaret@chinookcorp.com</td>\n    </tr>\n    <tr>\n      <th>2</th>\n      <td>5</td>\n      <td>Johnson</td>\n      <td>Steve</td>\n      <td>Sales Support Agent</td>\n      <td>2</td>\n      <td>1965-03-03 00:00:00</td>\n      <td>2003-10-17 00:00:00</td>\n      <td>7727B 41 Ave</td>\n      <td>Calgary</td>\n      <td>AB</td>\n      <td>Canada</td>\n      <td>T3B 1Y7</td>\n      <td>1 (780) 836-9987</td>\n      <td>1 (780) 836-9543</td>\n      <td>steve@chinookcorp.com</td>\n    </tr>\n  </tbody>\n</table>\n</div>"
     },
     "execution_count": 34,
     "metadata": {},
     "output_type": "execute_result"
    }
   ]
  },
  {
   "cell_type": "markdown",
   "source": [
    "3. Muestrame las canciones de ‘AC/DC’"
   ],
   "metadata": {
    "collapsed": false,
    "pycharm": {
     "name": "#%% md\n"
    }
   }
  },
  {
   "cell_type": "code",
   "execution_count": 36,
   "outputs": [
    {
     "data": {
      "text/plain": "   TrackId                          Name  AlbumId  MediaTypeId  GenreId  \\\n0       15                       Go Down        4            1        1   \n1       16                   Dog Eat Dog        4            1        1   \n2       17             Let There Be Rock        4            1        1   \n3       18                Bad Boy Boogie        4            1        1   \n4       19                 Problem Child        4            1        1   \n5       20                      Overdose        4            1        1   \n6       21  Hell Ain't A Bad Place To Be        4            1        1   \n7       22             Whole Lotta Rosie        4            1        1   \n\n  Composer  Milliseconds     Bytes  UnitPrice  \n0    AC/DC        331180  10847611       0.99  \n1    AC/DC        215196   7032162       0.99  \n2    AC/DC        366654  12021261       0.99  \n3    AC/DC        267728   8776140       0.99  \n4    AC/DC        325041  10617116       0.99  \n5    AC/DC        369319  12066294       0.99  \n6    AC/DC        254380   8331286       0.99  \n7    AC/DC        323761  10547154       0.99  ",
      "text/html": "<div>\n<style scoped>\n    .dataframe tbody tr th:only-of-type {\n        vertical-align: middle;\n    }\n\n    .dataframe tbody tr th {\n        vertical-align: top;\n    }\n\n    .dataframe thead th {\n        text-align: right;\n    }\n</style>\n<table border=\"1\" class=\"dataframe\">\n  <thead>\n    <tr style=\"text-align: right;\">\n      <th></th>\n      <th>TrackId</th>\n      <th>Name</th>\n      <th>AlbumId</th>\n      <th>MediaTypeId</th>\n      <th>GenreId</th>\n      <th>Composer</th>\n      <th>Milliseconds</th>\n      <th>Bytes</th>\n      <th>UnitPrice</th>\n    </tr>\n  </thead>\n  <tbody>\n    <tr>\n      <th>0</th>\n      <td>15</td>\n      <td>Go Down</td>\n      <td>4</td>\n      <td>1</td>\n      <td>1</td>\n      <td>AC/DC</td>\n      <td>331180</td>\n      <td>10847611</td>\n      <td>0.99</td>\n    </tr>\n    <tr>\n      <th>1</th>\n      <td>16</td>\n      <td>Dog Eat Dog</td>\n      <td>4</td>\n      <td>1</td>\n      <td>1</td>\n      <td>AC/DC</td>\n      <td>215196</td>\n      <td>7032162</td>\n      <td>0.99</td>\n    </tr>\n    <tr>\n      <th>2</th>\n      <td>17</td>\n      <td>Let There Be Rock</td>\n      <td>4</td>\n      <td>1</td>\n      <td>1</td>\n      <td>AC/DC</td>\n      <td>366654</td>\n      <td>12021261</td>\n      <td>0.99</td>\n    </tr>\n    <tr>\n      <th>3</th>\n      <td>18</td>\n      <td>Bad Boy Boogie</td>\n      <td>4</td>\n      <td>1</td>\n      <td>1</td>\n      <td>AC/DC</td>\n      <td>267728</td>\n      <td>8776140</td>\n      <td>0.99</td>\n    </tr>\n    <tr>\n      <th>4</th>\n      <td>19</td>\n      <td>Problem Child</td>\n      <td>4</td>\n      <td>1</td>\n      <td>1</td>\n      <td>AC/DC</td>\n      <td>325041</td>\n      <td>10617116</td>\n      <td>0.99</td>\n    </tr>\n    <tr>\n      <th>5</th>\n      <td>20</td>\n      <td>Overdose</td>\n      <td>4</td>\n      <td>1</td>\n      <td>1</td>\n      <td>AC/DC</td>\n      <td>369319</td>\n      <td>12066294</td>\n      <td>0.99</td>\n    </tr>\n    <tr>\n      <th>6</th>\n      <td>21</td>\n      <td>Hell Ain't A Bad Place To Be</td>\n      <td>4</td>\n      <td>1</td>\n      <td>1</td>\n      <td>AC/DC</td>\n      <td>254380</td>\n      <td>8331286</td>\n      <td>0.99</td>\n    </tr>\n    <tr>\n      <th>7</th>\n      <td>22</td>\n      <td>Whole Lotta Rosie</td>\n      <td>4</td>\n      <td>1</td>\n      <td>1</td>\n      <td>AC/DC</td>\n      <td>323761</td>\n      <td>10547154</td>\n      <td>0.99</td>\n    </tr>\n  </tbody>\n</table>\n</div>"
     },
     "execution_count": 36,
     "metadata": {},
     "output_type": "execute_result"
    }
   ],
   "source": [],
   "metadata": {
    "collapsed": false,
    "pycharm": {
     "name": "#%%\n"
    }
   }
  },
  {
   "cell_type": "markdown",
   "source": [
    "4. Muestra los clientes que no sean de USA: Nombre completo, ID, Pais"
   ],
   "metadata": {
    "collapsed": false,
    "pycharm": {
     "name": "#%% md\n"
    }
   }
  },
  {
   "cell_type": "code",
   "execution_count": 40,
   "outputs": [
    {
     "data": {
      "text/plain": "                   nombre  CustomerId         Country\n0          Luís Gonçalves           1          Brazil\n1           Leonie Köhler           2         Germany\n2       François Tremblay           3          Canada\n3            Bjørn Hansen           4          Norway\n4   František Wichterlová           5  Czech Republic\n5             Helena Holý           6  Czech Republic\n6           Astrid Gruber           7         Austria\n7            Daan Peeters           8         Belgium\n8            Kara Nielsen           9         Denmark\n9         Eduardo Martins          10          Brazil\n10        Alexandre Rocha          11          Brazil\n11        Roberto Almeida          12          Brazil\n12         Fernanda Ramos          13          Brazil\n13           Mark Philips          14          Canada\n14      Jennifer Peterson          15          Canada\n15           Robert Brown          29          Canada\n16         Edward Francis          30          Canada\n17            Martha Silk          31          Canada\n18         Aaron Mitchell          32          Canada\n19         Ellie Sullivan          33          Canada\n20         João Fernandes          34        Portugal\n21       Madalena Sampaio          35        Portugal\n22       Hannah Schneider          36         Germany\n23        Fynn Zimmermann          37         Germany\n24        Niklas Schröder          38         Germany\n25        Camille Bernard          39          France\n26     Dominique Lefebvre          40          France\n27            Marc Dubois          41          France\n28           Wyatt Girard          42          France\n29       Isabelle Mercier          43          France\n30       Terhi Hämäläinen          44         Finland\n31        Ladislav Kovács          45         Hungary\n32          Hugh O'Reilly          46         Ireland\n33          Lucas Mancini          47           Italy\n34  Johannes Van der Berg          48     Netherlands\n35       Stanisław Wójcik          49          Poland\n36          Enrique Muñoz          50           Spain\n37       Joakim Johansson          51          Sweden\n38             Emma Jones          52  United Kingdom\n39            Phil Hughes          53  United Kingdom\n40           Steve Murray          54  United Kingdom\n41            Mark Taylor          55       Australia\n42        Diego Gutiérrez          56       Argentina\n43             Luis Rojas          57           Chile\n44           Manoj Pareek          58           India\n45        Puja Srivastava          59           India",
      "text/html": "<div>\n<style scoped>\n    .dataframe tbody tr th:only-of-type {\n        vertical-align: middle;\n    }\n\n    .dataframe tbody tr th {\n        vertical-align: top;\n    }\n\n    .dataframe thead th {\n        text-align: right;\n    }\n</style>\n<table border=\"1\" class=\"dataframe\">\n  <thead>\n    <tr style=\"text-align: right;\">\n      <th></th>\n      <th>nombre</th>\n      <th>CustomerId</th>\n      <th>Country</th>\n    </tr>\n  </thead>\n  <tbody>\n    <tr>\n      <th>0</th>\n      <td>Luís Gonçalves</td>\n      <td>1</td>\n      <td>Brazil</td>\n    </tr>\n    <tr>\n      <th>1</th>\n      <td>Leonie Köhler</td>\n      <td>2</td>\n      <td>Germany</td>\n    </tr>\n    <tr>\n      <th>2</th>\n      <td>François Tremblay</td>\n      <td>3</td>\n      <td>Canada</td>\n    </tr>\n    <tr>\n      <th>3</th>\n      <td>Bjørn Hansen</td>\n      <td>4</td>\n      <td>Norway</td>\n    </tr>\n    <tr>\n      <th>4</th>\n      <td>František Wichterlová</td>\n      <td>5</td>\n      <td>Czech Republic</td>\n    </tr>\n    <tr>\n      <th>5</th>\n      <td>Helena Holý</td>\n      <td>6</td>\n      <td>Czech Republic</td>\n    </tr>\n    <tr>\n      <th>6</th>\n      <td>Astrid Gruber</td>\n      <td>7</td>\n      <td>Austria</td>\n    </tr>\n    <tr>\n      <th>7</th>\n      <td>Daan Peeters</td>\n      <td>8</td>\n      <td>Belgium</td>\n    </tr>\n    <tr>\n      <th>8</th>\n      <td>Kara Nielsen</td>\n      <td>9</td>\n      <td>Denmark</td>\n    </tr>\n    <tr>\n      <th>9</th>\n      <td>Eduardo Martins</td>\n      <td>10</td>\n      <td>Brazil</td>\n    </tr>\n    <tr>\n      <th>10</th>\n      <td>Alexandre Rocha</td>\n      <td>11</td>\n      <td>Brazil</td>\n    </tr>\n    <tr>\n      <th>11</th>\n      <td>Roberto Almeida</td>\n      <td>12</td>\n      <td>Brazil</td>\n    </tr>\n    <tr>\n      <th>12</th>\n      <td>Fernanda Ramos</td>\n      <td>13</td>\n      <td>Brazil</td>\n    </tr>\n    <tr>\n      <th>13</th>\n      <td>Mark Philips</td>\n      <td>14</td>\n      <td>Canada</td>\n    </tr>\n    <tr>\n      <th>14</th>\n      <td>Jennifer Peterson</td>\n      <td>15</td>\n      <td>Canada</td>\n    </tr>\n    <tr>\n      <th>15</th>\n      <td>Robert Brown</td>\n      <td>29</td>\n      <td>Canada</td>\n    </tr>\n    <tr>\n      <th>16</th>\n      <td>Edward Francis</td>\n      <td>30</td>\n      <td>Canada</td>\n    </tr>\n    <tr>\n      <th>17</th>\n      <td>Martha Silk</td>\n      <td>31</td>\n      <td>Canada</td>\n    </tr>\n    <tr>\n      <th>18</th>\n      <td>Aaron Mitchell</td>\n      <td>32</td>\n      <td>Canada</td>\n    </tr>\n    <tr>\n      <th>19</th>\n      <td>Ellie Sullivan</td>\n      <td>33</td>\n      <td>Canada</td>\n    </tr>\n    <tr>\n      <th>20</th>\n      <td>João Fernandes</td>\n      <td>34</td>\n      <td>Portugal</td>\n    </tr>\n    <tr>\n      <th>21</th>\n      <td>Madalena Sampaio</td>\n      <td>35</td>\n      <td>Portugal</td>\n    </tr>\n    <tr>\n      <th>22</th>\n      <td>Hannah Schneider</td>\n      <td>36</td>\n      <td>Germany</td>\n    </tr>\n    <tr>\n      <th>23</th>\n      <td>Fynn Zimmermann</td>\n      <td>37</td>\n      <td>Germany</td>\n    </tr>\n    <tr>\n      <th>24</th>\n      <td>Niklas Schröder</td>\n      <td>38</td>\n      <td>Germany</td>\n    </tr>\n    <tr>\n      <th>25</th>\n      <td>Camille Bernard</td>\n      <td>39</td>\n      <td>France</td>\n    </tr>\n    <tr>\n      <th>26</th>\n      <td>Dominique Lefebvre</td>\n      <td>40</td>\n      <td>France</td>\n    </tr>\n    <tr>\n      <th>27</th>\n      <td>Marc Dubois</td>\n      <td>41</td>\n      <td>France</td>\n    </tr>\n    <tr>\n      <th>28</th>\n      <td>Wyatt Girard</td>\n      <td>42</td>\n      <td>France</td>\n    </tr>\n    <tr>\n      <th>29</th>\n      <td>Isabelle Mercier</td>\n      <td>43</td>\n      <td>France</td>\n    </tr>\n    <tr>\n      <th>30</th>\n      <td>Terhi Hämäläinen</td>\n      <td>44</td>\n      <td>Finland</td>\n    </tr>\n    <tr>\n      <th>31</th>\n      <td>Ladislav Kovács</td>\n      <td>45</td>\n      <td>Hungary</td>\n    </tr>\n    <tr>\n      <th>32</th>\n      <td>Hugh O'Reilly</td>\n      <td>46</td>\n      <td>Ireland</td>\n    </tr>\n    <tr>\n      <th>33</th>\n      <td>Lucas Mancini</td>\n      <td>47</td>\n      <td>Italy</td>\n    </tr>\n    <tr>\n      <th>34</th>\n      <td>Johannes Van der Berg</td>\n      <td>48</td>\n      <td>Netherlands</td>\n    </tr>\n    <tr>\n      <th>35</th>\n      <td>Stanisław Wójcik</td>\n      <td>49</td>\n      <td>Poland</td>\n    </tr>\n    <tr>\n      <th>36</th>\n      <td>Enrique Muñoz</td>\n      <td>50</td>\n      <td>Spain</td>\n    </tr>\n    <tr>\n      <th>37</th>\n      <td>Joakim Johansson</td>\n      <td>51</td>\n      <td>Sweden</td>\n    </tr>\n    <tr>\n      <th>38</th>\n      <td>Emma Jones</td>\n      <td>52</td>\n      <td>United Kingdom</td>\n    </tr>\n    <tr>\n      <th>39</th>\n      <td>Phil Hughes</td>\n      <td>53</td>\n      <td>United Kingdom</td>\n    </tr>\n    <tr>\n      <th>40</th>\n      <td>Steve Murray</td>\n      <td>54</td>\n      <td>United Kingdom</td>\n    </tr>\n    <tr>\n      <th>41</th>\n      <td>Mark Taylor</td>\n      <td>55</td>\n      <td>Australia</td>\n    </tr>\n    <tr>\n      <th>42</th>\n      <td>Diego Gutiérrez</td>\n      <td>56</td>\n      <td>Argentina</td>\n    </tr>\n    <tr>\n      <th>43</th>\n      <td>Luis Rojas</td>\n      <td>57</td>\n      <td>Chile</td>\n    </tr>\n    <tr>\n      <th>44</th>\n      <td>Manoj Pareek</td>\n      <td>58</td>\n      <td>India</td>\n    </tr>\n    <tr>\n      <th>45</th>\n      <td>Puja Srivastava</td>\n      <td>59</td>\n      <td>India</td>\n    </tr>\n  </tbody>\n</table>\n</div>"
     },
     "execution_count": 40,
     "metadata": {},
     "output_type": "execute_result"
    }
   ],
   "source": [],
   "metadata": {
    "collapsed": false,
    "pycharm": {
     "name": "#%%\n"
    }
   }
  },
  {
   "cell_type": "markdown",
   "source": [
    "5. Muestrame los empleados que son agentes de ventas: Nombre completo, Dirección\n",
    "(Ciudad, Estado, Pais) y email"
   ],
   "metadata": {
    "collapsed": false,
    "pycharm": {
     "name": "#%% md\n"
    }
   }
  },
  {
   "cell_type": "code",
   "execution_count": 41,
   "outputs": [
    {
     "data": {
      "text/plain": "  Nombre Completo  id Country\n0    Jane Peacock   3  Canada\n1   Margaret Park   4  Canada\n2   Steve Johnson   5  Canada",
      "text/html": "<div>\n<style scoped>\n    .dataframe tbody tr th:only-of-type {\n        vertical-align: middle;\n    }\n\n    .dataframe tbody tr th {\n        vertical-align: top;\n    }\n\n    .dataframe thead th {\n        text-align: right;\n    }\n</style>\n<table border=\"1\" class=\"dataframe\">\n  <thead>\n    <tr style=\"text-align: right;\">\n      <th></th>\n      <th>Nombre Completo</th>\n      <th>id</th>\n      <th>Country</th>\n    </tr>\n  </thead>\n  <tbody>\n    <tr>\n      <th>0</th>\n      <td>Jane Peacock</td>\n      <td>3</td>\n      <td>Canada</td>\n    </tr>\n    <tr>\n      <th>1</th>\n      <td>Margaret Park</td>\n      <td>4</td>\n      <td>Canada</td>\n    </tr>\n    <tr>\n      <th>2</th>\n      <td>Steve Johnson</td>\n      <td>5</td>\n      <td>Canada</td>\n    </tr>\n  </tbody>\n</table>\n</div>"
     },
     "execution_count": 41,
     "metadata": {},
     "output_type": "execute_result"
    }
   ],
   "source": [],
   "metadata": {
    "collapsed": false,
    "pycharm": {
     "name": "#%%\n"
    }
   }
  },
  {
   "cell_type": "markdown",
   "source": [
    "6. Muestra una lista con los paises que aparecen a los que se ha facturado, la lista no\n",
    "debe contener paises repetidos"
   ],
   "metadata": {
    "collapsed": false,
    "pycharm": {
     "name": "#%% md\n"
    }
   }
  },
  {
   "cell_type": "code",
   "execution_count": 42,
   "outputs": [
    {
     "data": {
      "text/plain": "    BillingCountry\n0          Germany\n1           Norway\n2          Belgium\n3           Canada\n4              USA\n5           France\n6          Ireland\n7   United Kingdom\n8        Australia\n9            Chile\n10           India\n11          Brazil\n12        Portugal\n13     Netherlands\n14           Spain\n15          Sweden\n16  Czech Republic\n17         Finland\n18         Denmark\n19           Italy\n20          Poland\n21         Austria\n22         Hungary\n23       Argentina",
      "text/html": "<div>\n<style scoped>\n    .dataframe tbody tr th:only-of-type {\n        vertical-align: middle;\n    }\n\n    .dataframe tbody tr th {\n        vertical-align: top;\n    }\n\n    .dataframe thead th {\n        text-align: right;\n    }\n</style>\n<table border=\"1\" class=\"dataframe\">\n  <thead>\n    <tr style=\"text-align: right;\">\n      <th></th>\n      <th>BillingCountry</th>\n    </tr>\n  </thead>\n  <tbody>\n    <tr>\n      <th>0</th>\n      <td>Germany</td>\n    </tr>\n    <tr>\n      <th>1</th>\n      <td>Norway</td>\n    </tr>\n    <tr>\n      <th>2</th>\n      <td>Belgium</td>\n    </tr>\n    <tr>\n      <th>3</th>\n      <td>Canada</td>\n    </tr>\n    <tr>\n      <th>4</th>\n      <td>USA</td>\n    </tr>\n    <tr>\n      <th>5</th>\n      <td>France</td>\n    </tr>\n    <tr>\n      <th>6</th>\n      <td>Ireland</td>\n    </tr>\n    <tr>\n      <th>7</th>\n      <td>United Kingdom</td>\n    </tr>\n    <tr>\n      <th>8</th>\n      <td>Australia</td>\n    </tr>\n    <tr>\n      <th>9</th>\n      <td>Chile</td>\n    </tr>\n    <tr>\n      <th>10</th>\n      <td>India</td>\n    </tr>\n    <tr>\n      <th>11</th>\n      <td>Brazil</td>\n    </tr>\n    <tr>\n      <th>12</th>\n      <td>Portugal</td>\n    </tr>\n    <tr>\n      <th>13</th>\n      <td>Netherlands</td>\n    </tr>\n    <tr>\n      <th>14</th>\n      <td>Spain</td>\n    </tr>\n    <tr>\n      <th>15</th>\n      <td>Sweden</td>\n    </tr>\n    <tr>\n      <th>16</th>\n      <td>Czech Republic</td>\n    </tr>\n    <tr>\n      <th>17</th>\n      <td>Finland</td>\n    </tr>\n    <tr>\n      <th>18</th>\n      <td>Denmark</td>\n    </tr>\n    <tr>\n      <th>19</th>\n      <td>Italy</td>\n    </tr>\n    <tr>\n      <th>20</th>\n      <td>Poland</td>\n    </tr>\n    <tr>\n      <th>21</th>\n      <td>Austria</td>\n    </tr>\n    <tr>\n      <th>22</th>\n      <td>Hungary</td>\n    </tr>\n    <tr>\n      <th>23</th>\n      <td>Argentina</td>\n    </tr>\n  </tbody>\n</table>\n</div>"
     },
     "execution_count": 42,
     "metadata": {},
     "output_type": "execute_result"
    }
   ],
   "source": [],
   "metadata": {
    "collapsed": false,
    "pycharm": {
     "name": "#%%\n"
    }
   }
  },
  {
   "cell_type": "markdown",
   "source": [
    "7. Muestra una lista con los estados de USA de donde son los clientes, la lista no debe\n",
    "contener estados repetidos\n"
   ],
   "metadata": {
    "collapsed": false,
    "pycharm": {
     "name": "#%% md\n"
    }
   }
  },
  {
   "cell_type": "code",
   "execution_count": 43,
   "outputs": [
    {
     "data": {
      "text/plain": "   State\n0     CA\n1     WA\n2     NY\n3     NV\n4     FL\n5     MA\n6     IL\n7     WI\n8     TX\n9     AZ\n10    UT",
      "text/html": "<div>\n<style scoped>\n    .dataframe tbody tr th:only-of-type {\n        vertical-align: middle;\n    }\n\n    .dataframe tbody tr th {\n        vertical-align: top;\n    }\n\n    .dataframe thead th {\n        text-align: right;\n    }\n</style>\n<table border=\"1\" class=\"dataframe\">\n  <thead>\n    <tr style=\"text-align: right;\">\n      <th></th>\n      <th>State</th>\n    </tr>\n  </thead>\n  <tbody>\n    <tr>\n      <th>0</th>\n      <td>CA</td>\n    </tr>\n    <tr>\n      <th>1</th>\n      <td>WA</td>\n    </tr>\n    <tr>\n      <th>2</th>\n      <td>NY</td>\n    </tr>\n    <tr>\n      <th>3</th>\n      <td>NV</td>\n    </tr>\n    <tr>\n      <th>4</th>\n      <td>FL</td>\n    </tr>\n    <tr>\n      <th>5</th>\n      <td>MA</td>\n    </tr>\n    <tr>\n      <th>6</th>\n      <td>IL</td>\n    </tr>\n    <tr>\n      <th>7</th>\n      <td>WI</td>\n    </tr>\n    <tr>\n      <th>8</th>\n      <td>TX</td>\n    </tr>\n    <tr>\n      <th>9</th>\n      <td>AZ</td>\n    </tr>\n    <tr>\n      <th>10</th>\n      <td>UT</td>\n    </tr>\n  </tbody>\n</table>\n</div>"
     },
     "execution_count": 43,
     "metadata": {},
     "output_type": "execute_result"
    }
   ],
   "source": [],
   "metadata": {
    "collapsed": false,
    "pycharm": {
     "name": "#%%\n"
    }
   }
  },
  {
   "cell_type": "markdown",
   "source": [
    "8. Cuantos articulos tiene la factura 37"
   ],
   "metadata": {
    "collapsed": false,
    "pycharm": {
     "name": "#%% md\n"
    }
   }
  },
  {
   "cell_type": "code",
   "execution_count": 45,
   "outputs": [
    {
     "data": {
      "text/plain": "   InvoiceLineId  InvoiceId  TrackId  UnitPrice  Quantity\n0            193         37     1166       0.99         1\n1            194         37     1168       0.99         1\n2            195         37     1170       0.99         1\n3            196         37     1172       0.99         1",
      "text/html": "<div>\n<style scoped>\n    .dataframe tbody tr th:only-of-type {\n        vertical-align: middle;\n    }\n\n    .dataframe tbody tr th {\n        vertical-align: top;\n    }\n\n    .dataframe thead th {\n        text-align: right;\n    }\n</style>\n<table border=\"1\" class=\"dataframe\">\n  <thead>\n    <tr style=\"text-align: right;\">\n      <th></th>\n      <th>InvoiceLineId</th>\n      <th>InvoiceId</th>\n      <th>TrackId</th>\n      <th>UnitPrice</th>\n      <th>Quantity</th>\n    </tr>\n  </thead>\n  <tbody>\n    <tr>\n      <th>0</th>\n      <td>193</td>\n      <td>37</td>\n      <td>1166</td>\n      <td>0.99</td>\n      <td>1</td>\n    </tr>\n    <tr>\n      <th>1</th>\n      <td>194</td>\n      <td>37</td>\n      <td>1168</td>\n      <td>0.99</td>\n      <td>1</td>\n    </tr>\n    <tr>\n      <th>2</th>\n      <td>195</td>\n      <td>37</td>\n      <td>1170</td>\n      <td>0.99</td>\n      <td>1</td>\n    </tr>\n    <tr>\n      <th>3</th>\n      <td>196</td>\n      <td>37</td>\n      <td>1172</td>\n      <td>0.99</td>\n      <td>1</td>\n    </tr>\n  </tbody>\n</table>\n</div>"
     },
     "execution_count": 45,
     "metadata": {},
     "output_type": "execute_result"
    }
   ],
   "source": [],
   "metadata": {
    "collapsed": false,
    "pycharm": {
     "name": "#%%\n"
    }
   }
  },
  {
   "cell_type": "markdown",
   "source": [
    "9. Cuantas canciones tiene ‘AC/DC’"
   ],
   "metadata": {
    "collapsed": false,
    "pycharm": {
     "name": "#%% md\n"
    }
   }
  },
  {
   "cell_type": "code",
   "execution_count": 46,
   "outputs": [
    {
     "data": {
      "text/plain": "   numero\n0       8",
      "text/html": "<div>\n<style scoped>\n    .dataframe tbody tr th:only-of-type {\n        vertical-align: middle;\n    }\n\n    .dataframe tbody tr th {\n        vertical-align: top;\n    }\n\n    .dataframe thead th {\n        text-align: right;\n    }\n</style>\n<table border=\"1\" class=\"dataframe\">\n  <thead>\n    <tr style=\"text-align: right;\">\n      <th></th>\n      <th>numero</th>\n    </tr>\n  </thead>\n  <tbody>\n    <tr>\n      <th>0</th>\n      <td>8</td>\n    </tr>\n  </tbody>\n</table>\n</div>"
     },
     "execution_count": 46,
     "metadata": {},
     "output_type": "execute_result"
    }
   ],
   "source": [],
   "metadata": {
    "collapsed": false,
    "pycharm": {
     "name": "#%%\n"
    }
   }
  },
  {
   "cell_type": "markdown",
   "source": [
    "10. Cuantos articulos tiene cada factura"
   ],
   "metadata": {
    "collapsed": false,
    "pycharm": {
     "name": "#%% md\n"
    }
   }
  },
  {
   "cell_type": "code",
   "execution_count": 48,
   "outputs": [
    {
     "data": {
      "text/plain": "     InvoiceId  COUNT(*)\n0            1         2\n1            2         4\n2            3         6\n3            4         9\n4            5        14\n..         ...       ...\n407        408         4\n408        409         6\n409        410         9\n410        411        14\n411        412         1\n\n[412 rows x 2 columns]",
      "text/html": "<div>\n<style scoped>\n    .dataframe tbody tr th:only-of-type {\n        vertical-align: middle;\n    }\n\n    .dataframe tbody tr th {\n        vertical-align: top;\n    }\n\n    .dataframe thead th {\n        text-align: right;\n    }\n</style>\n<table border=\"1\" class=\"dataframe\">\n  <thead>\n    <tr style=\"text-align: right;\">\n      <th></th>\n      <th>InvoiceId</th>\n      <th>COUNT(*)</th>\n    </tr>\n  </thead>\n  <tbody>\n    <tr>\n      <th>0</th>\n      <td>1</td>\n      <td>2</td>\n    </tr>\n    <tr>\n      <th>1</th>\n      <td>2</td>\n      <td>4</td>\n    </tr>\n    <tr>\n      <th>2</th>\n      <td>3</td>\n      <td>6</td>\n    </tr>\n    <tr>\n      <th>3</th>\n      <td>4</td>\n      <td>9</td>\n    </tr>\n    <tr>\n      <th>4</th>\n      <td>5</td>\n      <td>14</td>\n    </tr>\n    <tr>\n      <th>...</th>\n      <td>...</td>\n      <td>...</td>\n    </tr>\n    <tr>\n      <th>407</th>\n      <td>408</td>\n      <td>4</td>\n    </tr>\n    <tr>\n      <th>408</th>\n      <td>409</td>\n      <td>6</td>\n    </tr>\n    <tr>\n      <th>409</th>\n      <td>410</td>\n      <td>9</td>\n    </tr>\n    <tr>\n      <th>410</th>\n      <td>411</td>\n      <td>14</td>\n    </tr>\n    <tr>\n      <th>411</th>\n      <td>412</td>\n      <td>1</td>\n    </tr>\n  </tbody>\n</table>\n<p>412 rows × 2 columns</p>\n</div>"
     },
     "execution_count": 48,
     "metadata": {},
     "output_type": "execute_result"
    }
   ],
   "source": [],
   "metadata": {
    "collapsed": false,
    "pycharm": {
     "name": "#%%\n"
    }
   }
  },
  {
   "cell_type": "markdown",
   "source": [
    "11. Muestrame cuantos facturas hay de cada pais"
   ],
   "metadata": {
    "collapsed": false,
    "pycharm": {
     "name": "#%% md\n"
    }
   }
  },
  {
   "cell_type": "code",
   "execution_count": 49,
   "outputs": [
    {
     "data": {
      "text/plain": "    BillingCountry  COUNT(BillingCountry)\n0        Argentina                      7\n1        Australia                      7\n2          Austria                      7\n3          Belgium                      7\n4           Brazil                     35\n5           Canada                     56\n6            Chile                      7\n7   Czech Republic                     14\n8          Denmark                      7\n9          Finland                      7\n10          France                     35\n11         Germany                     28\n12         Hungary                      7\n13           India                     13\n14         Ireland                      7\n15           Italy                      7\n16     Netherlands                      7\n17          Norway                      7\n18          Poland                      7\n19        Portugal                     14\n20           Spain                      7\n21          Sweden                      7\n22             USA                     91\n23  United Kingdom                     21",
      "text/html": "<div>\n<style scoped>\n    .dataframe tbody tr th:only-of-type {\n        vertical-align: middle;\n    }\n\n    .dataframe tbody tr th {\n        vertical-align: top;\n    }\n\n    .dataframe thead th {\n        text-align: right;\n    }\n</style>\n<table border=\"1\" class=\"dataframe\">\n  <thead>\n    <tr style=\"text-align: right;\">\n      <th></th>\n      <th>BillingCountry</th>\n      <th>COUNT(BillingCountry)</th>\n    </tr>\n  </thead>\n  <tbody>\n    <tr>\n      <th>0</th>\n      <td>Argentina</td>\n      <td>7</td>\n    </tr>\n    <tr>\n      <th>1</th>\n      <td>Australia</td>\n      <td>7</td>\n    </tr>\n    <tr>\n      <th>2</th>\n      <td>Austria</td>\n      <td>7</td>\n    </tr>\n    <tr>\n      <th>3</th>\n      <td>Belgium</td>\n      <td>7</td>\n    </tr>\n    <tr>\n      <th>4</th>\n      <td>Brazil</td>\n      <td>35</td>\n    </tr>\n    <tr>\n      <th>5</th>\n      <td>Canada</td>\n      <td>56</td>\n    </tr>\n    <tr>\n      <th>6</th>\n      <td>Chile</td>\n      <td>7</td>\n    </tr>\n    <tr>\n      <th>7</th>\n      <td>Czech Republic</td>\n      <td>14</td>\n    </tr>\n    <tr>\n      <th>8</th>\n      <td>Denmark</td>\n      <td>7</td>\n    </tr>\n    <tr>\n      <th>9</th>\n      <td>Finland</td>\n      <td>7</td>\n    </tr>\n    <tr>\n      <th>10</th>\n      <td>France</td>\n      <td>35</td>\n    </tr>\n    <tr>\n      <th>11</th>\n      <td>Germany</td>\n      <td>28</td>\n    </tr>\n    <tr>\n      <th>12</th>\n      <td>Hungary</td>\n      <td>7</td>\n    </tr>\n    <tr>\n      <th>13</th>\n      <td>India</td>\n      <td>13</td>\n    </tr>\n    <tr>\n      <th>14</th>\n      <td>Ireland</td>\n      <td>7</td>\n    </tr>\n    <tr>\n      <th>15</th>\n      <td>Italy</td>\n      <td>7</td>\n    </tr>\n    <tr>\n      <th>16</th>\n      <td>Netherlands</td>\n      <td>7</td>\n    </tr>\n    <tr>\n      <th>17</th>\n      <td>Norway</td>\n      <td>7</td>\n    </tr>\n    <tr>\n      <th>18</th>\n      <td>Poland</td>\n      <td>7</td>\n    </tr>\n    <tr>\n      <th>19</th>\n      <td>Portugal</td>\n      <td>14</td>\n    </tr>\n    <tr>\n      <th>20</th>\n      <td>Spain</td>\n      <td>7</td>\n    </tr>\n    <tr>\n      <th>21</th>\n      <td>Sweden</td>\n      <td>7</td>\n    </tr>\n    <tr>\n      <th>22</th>\n      <td>USA</td>\n      <td>91</td>\n    </tr>\n    <tr>\n      <th>23</th>\n      <td>United Kingdom</td>\n      <td>21</td>\n    </tr>\n  </tbody>\n</table>\n</div>"
     },
     "execution_count": 49,
     "metadata": {},
     "output_type": "execute_result"
    }
   ],
   "source": [],
   "metadata": {
    "collapsed": false,
    "pycharm": {
     "name": "#%%\n"
    }
   }
  },
  {
   "cell_type": "markdown",
   "source": [
    "12. Cuantas facturas ha habido en 2009 y 2011"
   ],
   "metadata": {
    "collapsed": false,
    "pycharm": {
     "name": "#%% md\n"
    }
   }
  },
  {
   "cell_type": "code",
   "execution_count": 54,
   "outputs": [
    {
     "data": {
      "text/plain": "   count(*)\n0       166",
      "text/html": "<div>\n<style scoped>\n    .dataframe tbody tr th:only-of-type {\n        vertical-align: middle;\n    }\n\n    .dataframe tbody tr th {\n        vertical-align: top;\n    }\n\n    .dataframe thead th {\n        text-align: right;\n    }\n</style>\n<table border=\"1\" class=\"dataframe\">\n  <thead>\n    <tr style=\"text-align: right;\">\n      <th></th>\n      <th>count(*)</th>\n    </tr>\n  </thead>\n  <tbody>\n    <tr>\n      <th>0</th>\n      <td>166</td>\n    </tr>\n  </tbody>\n</table>\n</div>"
     },
     "execution_count": 54,
     "metadata": {},
     "output_type": "execute_result"
    }
   ],
   "source": [],
   "metadata": {
    "collapsed": false,
    "pycharm": {
     "name": "#%%\n"
    }
   }
  },
  {
   "cell_type": "markdown",
   "source": [
    "13. Cuantas facturas ha habido entre 2009 y 2011"
   ],
   "metadata": {
    "collapsed": false,
    "pycharm": {
     "name": "#%% md\n"
    }
   }
  },
  {
   "cell_type": "code",
   "execution_count": 55,
   "outputs": [
    {
     "data": {
      "text/plain": "   count(*)\n0       249",
      "text/html": "<div>\n<style scoped>\n    .dataframe tbody tr th:only-of-type {\n        vertical-align: middle;\n    }\n\n    .dataframe tbody tr th {\n        vertical-align: top;\n    }\n\n    .dataframe thead th {\n        text-align: right;\n    }\n</style>\n<table border=\"1\" class=\"dataframe\">\n  <thead>\n    <tr style=\"text-align: right;\">\n      <th></th>\n      <th>count(*)</th>\n    </tr>\n  </thead>\n  <tbody>\n    <tr>\n      <th>0</th>\n      <td>249</td>\n    </tr>\n  </tbody>\n</table>\n</div>"
     },
     "execution_count": 55,
     "metadata": {},
     "output_type": "execute_result"
    }
   ],
   "source": [],
   "metadata": {
    "collapsed": false,
    "pycharm": {
     "name": "#%%\n"
    }
   }
  },
  {
   "cell_type": "markdown",
   "source": [
    "14. Cuantos clientes hay de España y de Brasil"
   ],
   "metadata": {
    "collapsed": false,
    "pycharm": {
     "name": "#%% md\n"
    }
   }
  },
  {
   "cell_type": "code",
   "execution_count": 58,
   "outputs": [
    {
     "data": {
      "text/plain": "  Country  clientes\n0  Brazil         5\n1   Spain         1",
      "text/html": "<div>\n<style scoped>\n    .dataframe tbody tr th:only-of-type {\n        vertical-align: middle;\n    }\n\n    .dataframe tbody tr th {\n        vertical-align: top;\n    }\n\n    .dataframe thead th {\n        text-align: right;\n    }\n</style>\n<table border=\"1\" class=\"dataframe\">\n  <thead>\n    <tr style=\"text-align: right;\">\n      <th></th>\n      <th>Country</th>\n      <th>clientes</th>\n    </tr>\n  </thead>\n  <tbody>\n    <tr>\n      <th>0</th>\n      <td>Brazil</td>\n      <td>5</td>\n    </tr>\n    <tr>\n      <th>1</th>\n      <td>Spain</td>\n      <td>1</td>\n    </tr>\n  </tbody>\n</table>\n</div>"
     },
     "execution_count": 58,
     "metadata": {},
     "output_type": "execute_result"
    }
   ],
   "source": [],
   "metadata": {
    "collapsed": false,
    "pycharm": {
     "name": "#%%\n"
    }
   }
  },
  {
   "cell_type": "markdown",
   "source": [
    "15. Muéstrame las canciones cuyo titulo empieza por ‘You’"
   ],
   "metadata": {
    "collapsed": false,
    "pycharm": {
     "name": "#%% md\n"
    }
   }
  },
  {
   "cell_type": "code",
   "execution_count": 59,
   "outputs": [
    {
     "data": {
      "text/plain": "    TrackId                                           Name  AlbumId  \\\n0        39                                You Oughta Know        6   \n1        44                                      You Learn        6   \n2        50                    You Oughta Know (Alternate)        6   \n3        99                             Your Time Has Come       11   \n4       337                                   You Shook Me       30   \n5       349                                You Shook Me(2)       30   \n6       549                                You Fool No One       43   \n7       623            You Fool No One (Alternate Version)       50   \n8       753                             You Keep On Moving       58   \n9       812  You Can't Do it Right (With the One You Love)       65   \n10     1155                                   You're Crazy       90   \n11     1163                            You Ain't the First       91   \n12     1185                              You Could Be Mine       92   \n13     1553                You've Got Another Thing Comin'      125   \n14     1620                                   You Shook Me      132   \n15     1622                        Your Time Is Gonna Come      132   \n16     1776                 You've Been A Long Time Coming      146   \n17     1778   You're What's Happening (In The World Today)      146   \n18     1787                          You Sure Love To Ball      146   \n19     2127                                 Your Blue Room      176   \n20     2185                                        You Are      180   \n21     2259                          You're My Best Friend      185   \n22     2287                         You Are The Everything      188   \n23     2439                                  You've Got It      141   \n24     2444                                    Your Mirror      141   \n25     2677                             You Got Me Rocking      217   \n26     2691                             You Got Me Rocking      218   \n27     2750                             You Better You Bet      221   \n28     3083                              You Really Got Me      244   \n29     3113                               You Got No Right      246   \n30     3141               You're Gonna Break My Hart Again      141   \n31     3225                        Your Time Is Gonna Come      252   \n32     3372                                    Your Savior      269   \n33     3384                                Your Soul Today      270   \n34     3388                               You Know My Name      270   \n35     3456                           You Know I'm No Good      321   \n36     3465  You Know I'm No Good (feat. Ghostface Killah)      321   \n37     3468                    You Sent Me Flying / Cherry      322   \n\n    MediaTypeId  GenreId                                           Composer  \\\n0             1        1                  Alanis Morissette & Glenn Ballard   \n1             1        1                  Alanis Morissette & Glenn Ballard   \n2             1        1                  Alanis Morissette & Glenn Ballard   \n3             1        4                 Cornell, Commerford, Morello, Wilk   \n4             1        1                            J B Lenoir/Willie Dixon   \n5             1        1                            J B Lenoir/Willie Dixon   \n6             1        1                               Coverdale/Lord/Paice   \n7             1        1                     Blackmore/Coverdale/Lord/Paice   \n8             1        1                                   Coverdale/Hughes   \n9             1        1  D.Coverdale/G.Hughes/Glenn Hughes/R.Blackmore/...   \n10            2        1                                               None   \n11            2        1                                               None   \n12            1        3                         Izzy Stradlin'/W. Axl Rose   \n13            1        3                                               None   \n14            1        1                          J. B. Lenoir/Willie Dixon   \n15            1        1                         Jimmy Page/John Paul Jones   \n16            1       14          Brian Holland/Eddie Holland/Lamont Dozier   \n17            1       14              Allen Story/George Gordy/Robert Gordy   \n18            1       14                                        Marvin Gaye   \n19            1       10  Brian Eno, Bono, Adam Clayton, The Edge & Larr...   \n20            1        1                                       Matt Cameron   \n21            1        1                                       Deacon, John   \n22            1        4     Bill Berry-Peter Buck-Mike Mills-Michael Stipe   \n23            1        1                    Mick Hucknall and Lamont Dozier   \n24            1        1                                      Mick Hucknall   \n25            1        1                                    Jagger/Richards   \n26            1        1                                    Jagger/Richards   \n27            1        1                                     Pete Townshend   \n28            1        1                                         Ray Davies   \n29            1        1  Dave Kushner, Duff, Matt Sorum, Scott Weiland ...   \n30            1        3                                              Sykes   \n31            2        1                                        Page, Jones   \n32            2       23                                               None   \n33            2       23                                      Chris Cornell   \n34            2       23                                      Chris Cornell   \n35            2       14                                               None   \n36            2       14                                               None   \n37            2        9                                               None   \n\n    Milliseconds     Bytes  UnitPrice  \n0         249234   8196916       0.99  \n1         239699   7824837       0.99  \n2         491885  16008629       0.99  \n3         255529   8273592       0.99  \n4         315951  10249958       0.99  \n5         619467  20138673       0.99  \n6         804101  26369966       0.99  \n7         763924  24887209       0.99  \n8         319111  10447868       0.99  \n9         203755   6709579       0.99  \n10        197135   3301971       0.99  \n11        156268   2754414       0.99  \n12        343875  11207355       0.99  \n13        305162   9962558       0.99  \n14        388179  12643067       0.99  \n15        274860   9011653       0.99  \n16        137221   4437949       0.99  \n17        142027   4631104       0.99  \n18        218540   7217872       0.99  \n19        328228  10867860       0.99  \n20        270863   8938409       0.99  \n21        172225   5602173       0.99  \n22        226298   7373181       0.99  \n23        235232   7712845       0.99  \n24        240666   7893821       0.99  \n25        205766   6734385       0.99  \n26        215928   7162159       0.99  \n27        338520  11160877       0.99  \n28        158589   5194092       0.99  \n29        335412  10991094       0.99  \n30        250853   8176847       0.99  \n31        310774   5126563       0.99  \n32        244226   4199626       0.99  \n33        205959   3385722       0.99  \n34        240255   3940651       0.99  \n35        256946   4133694       0.99  \n36        202320   3260658       0.99  \n37        409906   6657517       0.99  ",
      "text/html": "<div>\n<style scoped>\n    .dataframe tbody tr th:only-of-type {\n        vertical-align: middle;\n    }\n\n    .dataframe tbody tr th {\n        vertical-align: top;\n    }\n\n    .dataframe thead th {\n        text-align: right;\n    }\n</style>\n<table border=\"1\" class=\"dataframe\">\n  <thead>\n    <tr style=\"text-align: right;\">\n      <th></th>\n      <th>TrackId</th>\n      <th>Name</th>\n      <th>AlbumId</th>\n      <th>MediaTypeId</th>\n      <th>GenreId</th>\n      <th>Composer</th>\n      <th>Milliseconds</th>\n      <th>Bytes</th>\n      <th>UnitPrice</th>\n    </tr>\n  </thead>\n  <tbody>\n    <tr>\n      <th>0</th>\n      <td>39</td>\n      <td>You Oughta Know</td>\n      <td>6</td>\n      <td>1</td>\n      <td>1</td>\n      <td>Alanis Morissette &amp; Glenn Ballard</td>\n      <td>249234</td>\n      <td>8196916</td>\n      <td>0.99</td>\n    </tr>\n    <tr>\n      <th>1</th>\n      <td>44</td>\n      <td>You Learn</td>\n      <td>6</td>\n      <td>1</td>\n      <td>1</td>\n      <td>Alanis Morissette &amp; Glenn Ballard</td>\n      <td>239699</td>\n      <td>7824837</td>\n      <td>0.99</td>\n    </tr>\n    <tr>\n      <th>2</th>\n      <td>50</td>\n      <td>You Oughta Know (Alternate)</td>\n      <td>6</td>\n      <td>1</td>\n      <td>1</td>\n      <td>Alanis Morissette &amp; Glenn Ballard</td>\n      <td>491885</td>\n      <td>16008629</td>\n      <td>0.99</td>\n    </tr>\n    <tr>\n      <th>3</th>\n      <td>99</td>\n      <td>Your Time Has Come</td>\n      <td>11</td>\n      <td>1</td>\n      <td>4</td>\n      <td>Cornell, Commerford, Morello, Wilk</td>\n      <td>255529</td>\n      <td>8273592</td>\n      <td>0.99</td>\n    </tr>\n    <tr>\n      <th>4</th>\n      <td>337</td>\n      <td>You Shook Me</td>\n      <td>30</td>\n      <td>1</td>\n      <td>1</td>\n      <td>J B Lenoir/Willie Dixon</td>\n      <td>315951</td>\n      <td>10249958</td>\n      <td>0.99</td>\n    </tr>\n    <tr>\n      <th>5</th>\n      <td>349</td>\n      <td>You Shook Me(2)</td>\n      <td>30</td>\n      <td>1</td>\n      <td>1</td>\n      <td>J B Lenoir/Willie Dixon</td>\n      <td>619467</td>\n      <td>20138673</td>\n      <td>0.99</td>\n    </tr>\n    <tr>\n      <th>6</th>\n      <td>549</td>\n      <td>You Fool No One</td>\n      <td>43</td>\n      <td>1</td>\n      <td>1</td>\n      <td>Coverdale/Lord/Paice</td>\n      <td>804101</td>\n      <td>26369966</td>\n      <td>0.99</td>\n    </tr>\n    <tr>\n      <th>7</th>\n      <td>623</td>\n      <td>You Fool No One (Alternate Version)</td>\n      <td>50</td>\n      <td>1</td>\n      <td>1</td>\n      <td>Blackmore/Coverdale/Lord/Paice</td>\n      <td>763924</td>\n      <td>24887209</td>\n      <td>0.99</td>\n    </tr>\n    <tr>\n      <th>8</th>\n      <td>753</td>\n      <td>You Keep On Moving</td>\n      <td>58</td>\n      <td>1</td>\n      <td>1</td>\n      <td>Coverdale/Hughes</td>\n      <td>319111</td>\n      <td>10447868</td>\n      <td>0.99</td>\n    </tr>\n    <tr>\n      <th>9</th>\n      <td>812</td>\n      <td>You Can't Do it Right (With the One You Love)</td>\n      <td>65</td>\n      <td>1</td>\n      <td>1</td>\n      <td>D.Coverdale/G.Hughes/Glenn Hughes/R.Blackmore/...</td>\n      <td>203755</td>\n      <td>6709579</td>\n      <td>0.99</td>\n    </tr>\n    <tr>\n      <th>10</th>\n      <td>1155</td>\n      <td>You're Crazy</td>\n      <td>90</td>\n      <td>2</td>\n      <td>1</td>\n      <td>None</td>\n      <td>197135</td>\n      <td>3301971</td>\n      <td>0.99</td>\n    </tr>\n    <tr>\n      <th>11</th>\n      <td>1163</td>\n      <td>You Ain't the First</td>\n      <td>91</td>\n      <td>2</td>\n      <td>1</td>\n      <td>None</td>\n      <td>156268</td>\n      <td>2754414</td>\n      <td>0.99</td>\n    </tr>\n    <tr>\n      <th>12</th>\n      <td>1185</td>\n      <td>You Could Be Mine</td>\n      <td>92</td>\n      <td>1</td>\n      <td>3</td>\n      <td>Izzy Stradlin'/W. Axl Rose</td>\n      <td>343875</td>\n      <td>11207355</td>\n      <td>0.99</td>\n    </tr>\n    <tr>\n      <th>13</th>\n      <td>1553</td>\n      <td>You've Got Another Thing Comin'</td>\n      <td>125</td>\n      <td>1</td>\n      <td>3</td>\n      <td>None</td>\n      <td>305162</td>\n      <td>9962558</td>\n      <td>0.99</td>\n    </tr>\n    <tr>\n      <th>14</th>\n      <td>1620</td>\n      <td>You Shook Me</td>\n      <td>132</td>\n      <td>1</td>\n      <td>1</td>\n      <td>J. B. Lenoir/Willie Dixon</td>\n      <td>388179</td>\n      <td>12643067</td>\n      <td>0.99</td>\n    </tr>\n    <tr>\n      <th>15</th>\n      <td>1622</td>\n      <td>Your Time Is Gonna Come</td>\n      <td>132</td>\n      <td>1</td>\n      <td>1</td>\n      <td>Jimmy Page/John Paul Jones</td>\n      <td>274860</td>\n      <td>9011653</td>\n      <td>0.99</td>\n    </tr>\n    <tr>\n      <th>16</th>\n      <td>1776</td>\n      <td>You've Been A Long Time Coming</td>\n      <td>146</td>\n      <td>1</td>\n      <td>14</td>\n      <td>Brian Holland/Eddie Holland/Lamont Dozier</td>\n      <td>137221</td>\n      <td>4437949</td>\n      <td>0.99</td>\n    </tr>\n    <tr>\n      <th>17</th>\n      <td>1778</td>\n      <td>You're What's Happening (In The World Today)</td>\n      <td>146</td>\n      <td>1</td>\n      <td>14</td>\n      <td>Allen Story/George Gordy/Robert Gordy</td>\n      <td>142027</td>\n      <td>4631104</td>\n      <td>0.99</td>\n    </tr>\n    <tr>\n      <th>18</th>\n      <td>1787</td>\n      <td>You Sure Love To Ball</td>\n      <td>146</td>\n      <td>1</td>\n      <td>14</td>\n      <td>Marvin Gaye</td>\n      <td>218540</td>\n      <td>7217872</td>\n      <td>0.99</td>\n    </tr>\n    <tr>\n      <th>19</th>\n      <td>2127</td>\n      <td>Your Blue Room</td>\n      <td>176</td>\n      <td>1</td>\n      <td>10</td>\n      <td>Brian Eno, Bono, Adam Clayton, The Edge &amp; Larr...</td>\n      <td>328228</td>\n      <td>10867860</td>\n      <td>0.99</td>\n    </tr>\n    <tr>\n      <th>20</th>\n      <td>2185</td>\n      <td>You Are</td>\n      <td>180</td>\n      <td>1</td>\n      <td>1</td>\n      <td>Matt Cameron</td>\n      <td>270863</td>\n      <td>8938409</td>\n      <td>0.99</td>\n    </tr>\n    <tr>\n      <th>21</th>\n      <td>2259</td>\n      <td>You're My Best Friend</td>\n      <td>185</td>\n      <td>1</td>\n      <td>1</td>\n      <td>Deacon, John</td>\n      <td>172225</td>\n      <td>5602173</td>\n      <td>0.99</td>\n    </tr>\n    <tr>\n      <th>22</th>\n      <td>2287</td>\n      <td>You Are The Everything</td>\n      <td>188</td>\n      <td>1</td>\n      <td>4</td>\n      <td>Bill Berry-Peter Buck-Mike Mills-Michael Stipe</td>\n      <td>226298</td>\n      <td>7373181</td>\n      <td>0.99</td>\n    </tr>\n    <tr>\n      <th>23</th>\n      <td>2439</td>\n      <td>You've Got It</td>\n      <td>141</td>\n      <td>1</td>\n      <td>1</td>\n      <td>Mick Hucknall and Lamont Dozier</td>\n      <td>235232</td>\n      <td>7712845</td>\n      <td>0.99</td>\n    </tr>\n    <tr>\n      <th>24</th>\n      <td>2444</td>\n      <td>Your Mirror</td>\n      <td>141</td>\n      <td>1</td>\n      <td>1</td>\n      <td>Mick Hucknall</td>\n      <td>240666</td>\n      <td>7893821</td>\n      <td>0.99</td>\n    </tr>\n    <tr>\n      <th>25</th>\n      <td>2677</td>\n      <td>You Got Me Rocking</td>\n      <td>217</td>\n      <td>1</td>\n      <td>1</td>\n      <td>Jagger/Richards</td>\n      <td>205766</td>\n      <td>6734385</td>\n      <td>0.99</td>\n    </tr>\n    <tr>\n      <th>26</th>\n      <td>2691</td>\n      <td>You Got Me Rocking</td>\n      <td>218</td>\n      <td>1</td>\n      <td>1</td>\n      <td>Jagger/Richards</td>\n      <td>215928</td>\n      <td>7162159</td>\n      <td>0.99</td>\n    </tr>\n    <tr>\n      <th>27</th>\n      <td>2750</td>\n      <td>You Better You Bet</td>\n      <td>221</td>\n      <td>1</td>\n      <td>1</td>\n      <td>Pete Townshend</td>\n      <td>338520</td>\n      <td>11160877</td>\n      <td>0.99</td>\n    </tr>\n    <tr>\n      <th>28</th>\n      <td>3083</td>\n      <td>You Really Got Me</td>\n      <td>244</td>\n      <td>1</td>\n      <td>1</td>\n      <td>Ray Davies</td>\n      <td>158589</td>\n      <td>5194092</td>\n      <td>0.99</td>\n    </tr>\n    <tr>\n      <th>29</th>\n      <td>3113</td>\n      <td>You Got No Right</td>\n      <td>246</td>\n      <td>1</td>\n      <td>1</td>\n      <td>Dave Kushner, Duff, Matt Sorum, Scott Weiland ...</td>\n      <td>335412</td>\n      <td>10991094</td>\n      <td>0.99</td>\n    </tr>\n    <tr>\n      <th>30</th>\n      <td>3141</td>\n      <td>You're Gonna Break My Hart Again</td>\n      <td>141</td>\n      <td>1</td>\n      <td>3</td>\n      <td>Sykes</td>\n      <td>250853</td>\n      <td>8176847</td>\n      <td>0.99</td>\n    </tr>\n    <tr>\n      <th>31</th>\n      <td>3225</td>\n      <td>Your Time Is Gonna Come</td>\n      <td>252</td>\n      <td>2</td>\n      <td>1</td>\n      <td>Page, Jones</td>\n      <td>310774</td>\n      <td>5126563</td>\n      <td>0.99</td>\n    </tr>\n    <tr>\n      <th>32</th>\n      <td>3372</td>\n      <td>Your Savior</td>\n      <td>269</td>\n      <td>2</td>\n      <td>23</td>\n      <td>None</td>\n      <td>244226</td>\n      <td>4199626</td>\n      <td>0.99</td>\n    </tr>\n    <tr>\n      <th>33</th>\n      <td>3384</td>\n      <td>Your Soul Today</td>\n      <td>270</td>\n      <td>2</td>\n      <td>23</td>\n      <td>Chris Cornell</td>\n      <td>205959</td>\n      <td>3385722</td>\n      <td>0.99</td>\n    </tr>\n    <tr>\n      <th>34</th>\n      <td>3388</td>\n      <td>You Know My Name</td>\n      <td>270</td>\n      <td>2</td>\n      <td>23</td>\n      <td>Chris Cornell</td>\n      <td>240255</td>\n      <td>3940651</td>\n      <td>0.99</td>\n    </tr>\n    <tr>\n      <th>35</th>\n      <td>3456</td>\n      <td>You Know I'm No Good</td>\n      <td>321</td>\n      <td>2</td>\n      <td>14</td>\n      <td>None</td>\n      <td>256946</td>\n      <td>4133694</td>\n      <td>0.99</td>\n    </tr>\n    <tr>\n      <th>36</th>\n      <td>3465</td>\n      <td>You Know I'm No Good (feat. Ghostface Killah)</td>\n      <td>321</td>\n      <td>2</td>\n      <td>14</td>\n      <td>None</td>\n      <td>202320</td>\n      <td>3260658</td>\n      <td>0.99</td>\n    </tr>\n    <tr>\n      <th>37</th>\n      <td>3468</td>\n      <td>You Sent Me Flying / Cherry</td>\n      <td>322</td>\n      <td>2</td>\n      <td>9</td>\n      <td>None</td>\n      <td>409906</td>\n      <td>6657517</td>\n      <td>0.99</td>\n    </tr>\n  </tbody>\n</table>\n</div>"
     },
     "execution_count": 59,
     "metadata": {},
     "output_type": "execute_result"
    }
   ],
   "source": [],
   "metadata": {
    "collapsed": false,
    "pycharm": {
     "name": "#%%\n"
    }
   }
  },
  {
   "cell_type": "markdown",
   "source": [
    "16. Facturas de Clientes de Brasil, Nombre del cliente, Id de factura, fecha de la factura y el pais de la factura"
   ],
   "metadata": {
    "collapsed": false,
    "pycharm": {
     "name": "#%% md\n"
    }
   }
  },
  {
   "cell_type": "code",
   "execution_count": 62,
   "outputs": [
    {
     "data": {
      "text/plain": "             nombre  InvoiceId          InvoiceDate BillingCountry\n0    Luís Gonçalves         98  2010-03-11 00:00:00         Brazil\n1    Luís Gonçalves        121  2010-06-13 00:00:00         Brazil\n2    Luís Gonçalves        143  2010-09-15 00:00:00         Brazil\n3    Luís Gonçalves        195  2011-05-06 00:00:00         Brazil\n4    Luís Gonçalves        316  2012-10-27 00:00:00         Brazil\n5    Luís Gonçalves        327  2012-12-07 00:00:00         Brazil\n6    Luís Gonçalves        382  2013-08-07 00:00:00         Brazil\n7   Eduardo Martins         25  2009-04-09 00:00:00         Brazil\n8   Eduardo Martins        154  2010-11-14 00:00:00         Brazil\n9   Eduardo Martins        177  2011-02-16 00:00:00         Brazil\n10  Eduardo Martins        199  2011-05-21 00:00:00         Brazil\n11  Eduardo Martins        251  2012-01-09 00:00:00         Brazil\n12  Eduardo Martins        372  2013-07-02 00:00:00         Brazil\n13  Eduardo Martins        383  2013-08-12 00:00:00         Brazil\n14  Alexandre Rocha         57  2009-09-06 00:00:00         Brazil\n15  Alexandre Rocha         68  2009-10-17 00:00:00         Brazil\n16  Alexandre Rocha        123  2010-06-17 00:00:00         Brazil\n17  Alexandre Rocha        252  2012-01-22 00:00:00         Brazil\n18  Alexandre Rocha        275  2012-04-25 00:00:00         Brazil\n19  Alexandre Rocha        297  2012-07-28 00:00:00         Brazil\n20  Alexandre Rocha        349  2013-03-18 00:00:00         Brazil\n21  Roberto Almeida         34  2009-05-23 00:00:00         Brazil\n22  Roberto Almeida        155  2010-11-14 00:00:00         Brazil\n23  Roberto Almeida        166  2010-12-25 00:00:00         Brazil\n24  Roberto Almeida        221  2011-08-25 00:00:00         Brazil\n25  Roberto Almeida        350  2013-03-31 00:00:00         Brazil\n26  Roberto Almeida        373  2013-07-03 00:00:00         Brazil\n27  Roberto Almeida        395  2013-10-05 00:00:00         Brazil\n28   Fernanda Ramos         35  2009-06-05 00:00:00         Brazil\n29   Fernanda Ramos         58  2009-09-07 00:00:00         Brazil\n30   Fernanda Ramos         80  2009-12-10 00:00:00         Brazil\n31   Fernanda Ramos        132  2010-07-31 00:00:00         Brazil\n32   Fernanda Ramos        253  2012-01-22 00:00:00         Brazil\n33   Fernanda Ramos        264  2012-03-03 00:00:00         Brazil\n34   Fernanda Ramos        319  2012-11-01 00:00:00         Brazil",
      "text/html": "<div>\n<style scoped>\n    .dataframe tbody tr th:only-of-type {\n        vertical-align: middle;\n    }\n\n    .dataframe tbody tr th {\n        vertical-align: top;\n    }\n\n    .dataframe thead th {\n        text-align: right;\n    }\n</style>\n<table border=\"1\" class=\"dataframe\">\n  <thead>\n    <tr style=\"text-align: right;\">\n      <th></th>\n      <th>nombre</th>\n      <th>InvoiceId</th>\n      <th>InvoiceDate</th>\n      <th>BillingCountry</th>\n    </tr>\n  </thead>\n  <tbody>\n    <tr>\n      <th>0</th>\n      <td>Luís Gonçalves</td>\n      <td>98</td>\n      <td>2010-03-11 00:00:00</td>\n      <td>Brazil</td>\n    </tr>\n    <tr>\n      <th>1</th>\n      <td>Luís Gonçalves</td>\n      <td>121</td>\n      <td>2010-06-13 00:00:00</td>\n      <td>Brazil</td>\n    </tr>\n    <tr>\n      <th>2</th>\n      <td>Luís Gonçalves</td>\n      <td>143</td>\n      <td>2010-09-15 00:00:00</td>\n      <td>Brazil</td>\n    </tr>\n    <tr>\n      <th>3</th>\n      <td>Luís Gonçalves</td>\n      <td>195</td>\n      <td>2011-05-06 00:00:00</td>\n      <td>Brazil</td>\n    </tr>\n    <tr>\n      <th>4</th>\n      <td>Luís Gonçalves</td>\n      <td>316</td>\n      <td>2012-10-27 00:00:00</td>\n      <td>Brazil</td>\n    </tr>\n    <tr>\n      <th>5</th>\n      <td>Luís Gonçalves</td>\n      <td>327</td>\n      <td>2012-12-07 00:00:00</td>\n      <td>Brazil</td>\n    </tr>\n    <tr>\n      <th>6</th>\n      <td>Luís Gonçalves</td>\n      <td>382</td>\n      <td>2013-08-07 00:00:00</td>\n      <td>Brazil</td>\n    </tr>\n    <tr>\n      <th>7</th>\n      <td>Eduardo Martins</td>\n      <td>25</td>\n      <td>2009-04-09 00:00:00</td>\n      <td>Brazil</td>\n    </tr>\n    <tr>\n      <th>8</th>\n      <td>Eduardo Martins</td>\n      <td>154</td>\n      <td>2010-11-14 00:00:00</td>\n      <td>Brazil</td>\n    </tr>\n    <tr>\n      <th>9</th>\n      <td>Eduardo Martins</td>\n      <td>177</td>\n      <td>2011-02-16 00:00:00</td>\n      <td>Brazil</td>\n    </tr>\n    <tr>\n      <th>10</th>\n      <td>Eduardo Martins</td>\n      <td>199</td>\n      <td>2011-05-21 00:00:00</td>\n      <td>Brazil</td>\n    </tr>\n    <tr>\n      <th>11</th>\n      <td>Eduardo Martins</td>\n      <td>251</td>\n      <td>2012-01-09 00:00:00</td>\n      <td>Brazil</td>\n    </tr>\n    <tr>\n      <th>12</th>\n      <td>Eduardo Martins</td>\n      <td>372</td>\n      <td>2013-07-02 00:00:00</td>\n      <td>Brazil</td>\n    </tr>\n    <tr>\n      <th>13</th>\n      <td>Eduardo Martins</td>\n      <td>383</td>\n      <td>2013-08-12 00:00:00</td>\n      <td>Brazil</td>\n    </tr>\n    <tr>\n      <th>14</th>\n      <td>Alexandre Rocha</td>\n      <td>57</td>\n      <td>2009-09-06 00:00:00</td>\n      <td>Brazil</td>\n    </tr>\n    <tr>\n      <th>15</th>\n      <td>Alexandre Rocha</td>\n      <td>68</td>\n      <td>2009-10-17 00:00:00</td>\n      <td>Brazil</td>\n    </tr>\n    <tr>\n      <th>16</th>\n      <td>Alexandre Rocha</td>\n      <td>123</td>\n      <td>2010-06-17 00:00:00</td>\n      <td>Brazil</td>\n    </tr>\n    <tr>\n      <th>17</th>\n      <td>Alexandre Rocha</td>\n      <td>252</td>\n      <td>2012-01-22 00:00:00</td>\n      <td>Brazil</td>\n    </tr>\n    <tr>\n      <th>18</th>\n      <td>Alexandre Rocha</td>\n      <td>275</td>\n      <td>2012-04-25 00:00:00</td>\n      <td>Brazil</td>\n    </tr>\n    <tr>\n      <th>19</th>\n      <td>Alexandre Rocha</td>\n      <td>297</td>\n      <td>2012-07-28 00:00:00</td>\n      <td>Brazil</td>\n    </tr>\n    <tr>\n      <th>20</th>\n      <td>Alexandre Rocha</td>\n      <td>349</td>\n      <td>2013-03-18 00:00:00</td>\n      <td>Brazil</td>\n    </tr>\n    <tr>\n      <th>21</th>\n      <td>Roberto Almeida</td>\n      <td>34</td>\n      <td>2009-05-23 00:00:00</td>\n      <td>Brazil</td>\n    </tr>\n    <tr>\n      <th>22</th>\n      <td>Roberto Almeida</td>\n      <td>155</td>\n      <td>2010-11-14 00:00:00</td>\n      <td>Brazil</td>\n    </tr>\n    <tr>\n      <th>23</th>\n      <td>Roberto Almeida</td>\n      <td>166</td>\n      <td>2010-12-25 00:00:00</td>\n      <td>Brazil</td>\n    </tr>\n    <tr>\n      <th>24</th>\n      <td>Roberto Almeida</td>\n      <td>221</td>\n      <td>2011-08-25 00:00:00</td>\n      <td>Brazil</td>\n    </tr>\n    <tr>\n      <th>25</th>\n      <td>Roberto Almeida</td>\n      <td>350</td>\n      <td>2013-03-31 00:00:00</td>\n      <td>Brazil</td>\n    </tr>\n    <tr>\n      <th>26</th>\n      <td>Roberto Almeida</td>\n      <td>373</td>\n      <td>2013-07-03 00:00:00</td>\n      <td>Brazil</td>\n    </tr>\n    <tr>\n      <th>27</th>\n      <td>Roberto Almeida</td>\n      <td>395</td>\n      <td>2013-10-05 00:00:00</td>\n      <td>Brazil</td>\n    </tr>\n    <tr>\n      <th>28</th>\n      <td>Fernanda Ramos</td>\n      <td>35</td>\n      <td>2009-06-05 00:00:00</td>\n      <td>Brazil</td>\n    </tr>\n    <tr>\n      <th>29</th>\n      <td>Fernanda Ramos</td>\n      <td>58</td>\n      <td>2009-09-07 00:00:00</td>\n      <td>Brazil</td>\n    </tr>\n    <tr>\n      <th>30</th>\n      <td>Fernanda Ramos</td>\n      <td>80</td>\n      <td>2009-12-10 00:00:00</td>\n      <td>Brazil</td>\n    </tr>\n    <tr>\n      <th>31</th>\n      <td>Fernanda Ramos</td>\n      <td>132</td>\n      <td>2010-07-31 00:00:00</td>\n      <td>Brazil</td>\n    </tr>\n    <tr>\n      <th>32</th>\n      <td>Fernanda Ramos</td>\n      <td>253</td>\n      <td>2012-01-22 00:00:00</td>\n      <td>Brazil</td>\n    </tr>\n    <tr>\n      <th>33</th>\n      <td>Fernanda Ramos</td>\n      <td>264</td>\n      <td>2012-03-03 00:00:00</td>\n      <td>Brazil</td>\n    </tr>\n    <tr>\n      <th>34</th>\n      <td>Fernanda Ramos</td>\n      <td>319</td>\n      <td>2012-11-01 00:00:00</td>\n      <td>Brazil</td>\n    </tr>\n  </tbody>\n</table>\n</div>"
     },
     "execution_count": 62,
     "metadata": {},
     "output_type": "execute_result"
    }
   ],
   "source": [],
   "metadata": {
    "collapsed": false,
    "pycharm": {
     "name": "#%%\n"
    }
   }
  },
  {
   "cell_type": "markdown",
   "source": [
    "17. Facturas de Clientes de Brasil"
   ],
   "metadata": {
    "collapsed": false,
    "pycharm": {
     "name": "#%% md\n"
    }
   }
  },
  {
   "cell_type": "code",
   "execution_count": 63,
   "outputs": [
    {
     "data": {
      "text/plain": "    InvoiceId  CustomerId          InvoiceDate  \\\n0          98           1  2010-03-11 00:00:00   \n1         121           1  2010-06-13 00:00:00   \n2         143           1  2010-09-15 00:00:00   \n3         195           1  2011-05-06 00:00:00   \n4         316           1  2012-10-27 00:00:00   \n5         327           1  2012-12-07 00:00:00   \n6         382           1  2013-08-07 00:00:00   \n7          25          10  2009-04-09 00:00:00   \n8         154          10  2010-11-14 00:00:00   \n9         177          10  2011-02-16 00:00:00   \n10        199          10  2011-05-21 00:00:00   \n11        251          10  2012-01-09 00:00:00   \n12        372          10  2013-07-02 00:00:00   \n13        383          10  2013-08-12 00:00:00   \n14         57          11  2009-09-06 00:00:00   \n15         68          11  2009-10-17 00:00:00   \n16        123          11  2010-06-17 00:00:00   \n17        252          11  2012-01-22 00:00:00   \n18        275          11  2012-04-25 00:00:00   \n19        297          11  2012-07-28 00:00:00   \n20        349          11  2013-03-18 00:00:00   \n21         34          12  2009-05-23 00:00:00   \n22        155          12  2010-11-14 00:00:00   \n23        166          12  2010-12-25 00:00:00   \n24        221          12  2011-08-25 00:00:00   \n25        350          12  2013-03-31 00:00:00   \n26        373          12  2013-07-03 00:00:00   \n27        395          12  2013-10-05 00:00:00   \n28         35          13  2009-06-05 00:00:00   \n29         58          13  2009-09-07 00:00:00   \n30         80          13  2009-12-10 00:00:00   \n31        132          13  2010-07-31 00:00:00   \n32        253          13  2012-01-22 00:00:00   \n33        264          13  2012-03-03 00:00:00   \n34        319          13  2012-11-01 00:00:00   \n\n                     BillingAddress          BillingCity BillingState  \\\n0   Av. Brigadeiro Faria Lima, 2170  São José dos Campos           SP   \n1   Av. Brigadeiro Faria Lima, 2170  São José dos Campos           SP   \n2   Av. Brigadeiro Faria Lima, 2170  São José dos Campos           SP   \n3   Av. Brigadeiro Faria Lima, 2170  São José dos Campos           SP   \n4   Av. Brigadeiro Faria Lima, 2170  São José dos Campos           SP   \n5   Av. Brigadeiro Faria Lima, 2170  São José dos Campos           SP   \n6   Av. Brigadeiro Faria Lima, 2170  São José dos Campos           SP   \n7         Rua Dr. Falcão Filho, 155            São Paulo           SP   \n8         Rua Dr. Falcão Filho, 155            São Paulo           SP   \n9         Rua Dr. Falcão Filho, 155            São Paulo           SP   \n10        Rua Dr. Falcão Filho, 155            São Paulo           SP   \n11        Rua Dr. Falcão Filho, 155            São Paulo           SP   \n12        Rua Dr. Falcão Filho, 155            São Paulo           SP   \n13        Rua Dr. Falcão Filho, 155            São Paulo           SP   \n14               Av. Paulista, 2022            São Paulo           SP   \n15               Av. Paulista, 2022            São Paulo           SP   \n16               Av. Paulista, 2022            São Paulo           SP   \n17               Av. Paulista, 2022            São Paulo           SP   \n18               Av. Paulista, 2022            São Paulo           SP   \n19               Av. Paulista, 2022            São Paulo           SP   \n20               Av. Paulista, 2022            São Paulo           SP   \n21                 Praça Pio X, 119       Rio de Janeiro           RJ   \n22                 Praça Pio X, 119       Rio de Janeiro           RJ   \n23                 Praça Pio X, 119       Rio de Janeiro           RJ   \n24                 Praça Pio X, 119       Rio de Janeiro           RJ   \n25                 Praça Pio X, 119       Rio de Janeiro           RJ   \n26                 Praça Pio X, 119       Rio de Janeiro           RJ   \n27                 Praça Pio X, 119       Rio de Janeiro           RJ   \n28                     Qe 7 Bloco G             Brasília           DF   \n29                     Qe 7 Bloco G             Brasília           DF   \n30                     Qe 7 Bloco G             Brasília           DF   \n31                     Qe 7 Bloco G             Brasília           DF   \n32                     Qe 7 Bloco G             Brasília           DF   \n33                     Qe 7 Bloco G             Brasília           DF   \n34                     Qe 7 Bloco G             Brasília           DF   \n\n   BillingCountry BillingPostalCode  Total  \n0          Brazil         12227-000   3.98  \n1          Brazil         12227-000   3.96  \n2          Brazil         12227-000   5.94  \n3          Brazil         12227-000   0.99  \n4          Brazil         12227-000   1.98  \n5          Brazil         12227-000  13.86  \n6          Brazil         12227-000   8.91  \n7          Brazil         01007-010   8.91  \n8          Brazil         01007-010   1.98  \n9          Brazil         01007-010   3.96  \n10         Brazil         01007-010   5.94  \n11         Brazil         01007-010   0.99  \n12         Brazil         01007-010   1.98  \n13         Brazil         01007-010  13.86  \n14         Brazil         01310-200   1.98  \n15         Brazil         01310-200  13.86  \n16         Brazil         01310-200   8.91  \n17         Brazil         01310-200   1.98  \n18         Brazil         01310-200   3.96  \n19         Brazil         01310-200   5.94  \n20         Brazil         01310-200   0.99  \n21         Brazil         20040-020   0.99  \n22         Brazil         20040-020   1.98  \n23         Brazil         20040-020  13.86  \n24         Brazil         20040-020   8.91  \n25         Brazil         20040-020   1.98  \n26         Brazil         20040-020   3.96  \n27         Brazil         20040-020   5.94  \n28         Brazil         71020-677   1.98  \n29         Brazil         71020-677   3.96  \n30         Brazil         71020-677   5.94  \n31         Brazil         71020-677   0.99  \n32         Brazil         71020-677   1.98  \n33         Brazil         71020-677  13.86  \n34         Brazil         71020-677   8.91  ",
      "text/html": "<div>\n<style scoped>\n    .dataframe tbody tr th:only-of-type {\n        vertical-align: middle;\n    }\n\n    .dataframe tbody tr th {\n        vertical-align: top;\n    }\n\n    .dataframe thead th {\n        text-align: right;\n    }\n</style>\n<table border=\"1\" class=\"dataframe\">\n  <thead>\n    <tr style=\"text-align: right;\">\n      <th></th>\n      <th>InvoiceId</th>\n      <th>CustomerId</th>\n      <th>InvoiceDate</th>\n      <th>BillingAddress</th>\n      <th>BillingCity</th>\n      <th>BillingState</th>\n      <th>BillingCountry</th>\n      <th>BillingPostalCode</th>\n      <th>Total</th>\n    </tr>\n  </thead>\n  <tbody>\n    <tr>\n      <th>0</th>\n      <td>98</td>\n      <td>1</td>\n      <td>2010-03-11 00:00:00</td>\n      <td>Av. Brigadeiro Faria Lima, 2170</td>\n      <td>São José dos Campos</td>\n      <td>SP</td>\n      <td>Brazil</td>\n      <td>12227-000</td>\n      <td>3.98</td>\n    </tr>\n    <tr>\n      <th>1</th>\n      <td>121</td>\n      <td>1</td>\n      <td>2010-06-13 00:00:00</td>\n      <td>Av. Brigadeiro Faria Lima, 2170</td>\n      <td>São José dos Campos</td>\n      <td>SP</td>\n      <td>Brazil</td>\n      <td>12227-000</td>\n      <td>3.96</td>\n    </tr>\n    <tr>\n      <th>2</th>\n      <td>143</td>\n      <td>1</td>\n      <td>2010-09-15 00:00:00</td>\n      <td>Av. Brigadeiro Faria Lima, 2170</td>\n      <td>São José dos Campos</td>\n      <td>SP</td>\n      <td>Brazil</td>\n      <td>12227-000</td>\n      <td>5.94</td>\n    </tr>\n    <tr>\n      <th>3</th>\n      <td>195</td>\n      <td>1</td>\n      <td>2011-05-06 00:00:00</td>\n      <td>Av. Brigadeiro Faria Lima, 2170</td>\n      <td>São José dos Campos</td>\n      <td>SP</td>\n      <td>Brazil</td>\n      <td>12227-000</td>\n      <td>0.99</td>\n    </tr>\n    <tr>\n      <th>4</th>\n      <td>316</td>\n      <td>1</td>\n      <td>2012-10-27 00:00:00</td>\n      <td>Av. Brigadeiro Faria Lima, 2170</td>\n      <td>São José dos Campos</td>\n      <td>SP</td>\n      <td>Brazil</td>\n      <td>12227-000</td>\n      <td>1.98</td>\n    </tr>\n    <tr>\n      <th>5</th>\n      <td>327</td>\n      <td>1</td>\n      <td>2012-12-07 00:00:00</td>\n      <td>Av. Brigadeiro Faria Lima, 2170</td>\n      <td>São José dos Campos</td>\n      <td>SP</td>\n      <td>Brazil</td>\n      <td>12227-000</td>\n      <td>13.86</td>\n    </tr>\n    <tr>\n      <th>6</th>\n      <td>382</td>\n      <td>1</td>\n      <td>2013-08-07 00:00:00</td>\n      <td>Av. Brigadeiro Faria Lima, 2170</td>\n      <td>São José dos Campos</td>\n      <td>SP</td>\n      <td>Brazil</td>\n      <td>12227-000</td>\n      <td>8.91</td>\n    </tr>\n    <tr>\n      <th>7</th>\n      <td>25</td>\n      <td>10</td>\n      <td>2009-04-09 00:00:00</td>\n      <td>Rua Dr. Falcão Filho, 155</td>\n      <td>São Paulo</td>\n      <td>SP</td>\n      <td>Brazil</td>\n      <td>01007-010</td>\n      <td>8.91</td>\n    </tr>\n    <tr>\n      <th>8</th>\n      <td>154</td>\n      <td>10</td>\n      <td>2010-11-14 00:00:00</td>\n      <td>Rua Dr. Falcão Filho, 155</td>\n      <td>São Paulo</td>\n      <td>SP</td>\n      <td>Brazil</td>\n      <td>01007-010</td>\n      <td>1.98</td>\n    </tr>\n    <tr>\n      <th>9</th>\n      <td>177</td>\n      <td>10</td>\n      <td>2011-02-16 00:00:00</td>\n      <td>Rua Dr. Falcão Filho, 155</td>\n      <td>São Paulo</td>\n      <td>SP</td>\n      <td>Brazil</td>\n      <td>01007-010</td>\n      <td>3.96</td>\n    </tr>\n    <tr>\n      <th>10</th>\n      <td>199</td>\n      <td>10</td>\n      <td>2011-05-21 00:00:00</td>\n      <td>Rua Dr. Falcão Filho, 155</td>\n      <td>São Paulo</td>\n      <td>SP</td>\n      <td>Brazil</td>\n      <td>01007-010</td>\n      <td>5.94</td>\n    </tr>\n    <tr>\n      <th>11</th>\n      <td>251</td>\n      <td>10</td>\n      <td>2012-01-09 00:00:00</td>\n      <td>Rua Dr. Falcão Filho, 155</td>\n      <td>São Paulo</td>\n      <td>SP</td>\n      <td>Brazil</td>\n      <td>01007-010</td>\n      <td>0.99</td>\n    </tr>\n    <tr>\n      <th>12</th>\n      <td>372</td>\n      <td>10</td>\n      <td>2013-07-02 00:00:00</td>\n      <td>Rua Dr. Falcão Filho, 155</td>\n      <td>São Paulo</td>\n      <td>SP</td>\n      <td>Brazil</td>\n      <td>01007-010</td>\n      <td>1.98</td>\n    </tr>\n    <tr>\n      <th>13</th>\n      <td>383</td>\n      <td>10</td>\n      <td>2013-08-12 00:00:00</td>\n      <td>Rua Dr. Falcão Filho, 155</td>\n      <td>São Paulo</td>\n      <td>SP</td>\n      <td>Brazil</td>\n      <td>01007-010</td>\n      <td>13.86</td>\n    </tr>\n    <tr>\n      <th>14</th>\n      <td>57</td>\n      <td>11</td>\n      <td>2009-09-06 00:00:00</td>\n      <td>Av. Paulista, 2022</td>\n      <td>São Paulo</td>\n      <td>SP</td>\n      <td>Brazil</td>\n      <td>01310-200</td>\n      <td>1.98</td>\n    </tr>\n    <tr>\n      <th>15</th>\n      <td>68</td>\n      <td>11</td>\n      <td>2009-10-17 00:00:00</td>\n      <td>Av. Paulista, 2022</td>\n      <td>São Paulo</td>\n      <td>SP</td>\n      <td>Brazil</td>\n      <td>01310-200</td>\n      <td>13.86</td>\n    </tr>\n    <tr>\n      <th>16</th>\n      <td>123</td>\n      <td>11</td>\n      <td>2010-06-17 00:00:00</td>\n      <td>Av. Paulista, 2022</td>\n      <td>São Paulo</td>\n      <td>SP</td>\n      <td>Brazil</td>\n      <td>01310-200</td>\n      <td>8.91</td>\n    </tr>\n    <tr>\n      <th>17</th>\n      <td>252</td>\n      <td>11</td>\n      <td>2012-01-22 00:00:00</td>\n      <td>Av. Paulista, 2022</td>\n      <td>São Paulo</td>\n      <td>SP</td>\n      <td>Brazil</td>\n      <td>01310-200</td>\n      <td>1.98</td>\n    </tr>\n    <tr>\n      <th>18</th>\n      <td>275</td>\n      <td>11</td>\n      <td>2012-04-25 00:00:00</td>\n      <td>Av. Paulista, 2022</td>\n      <td>São Paulo</td>\n      <td>SP</td>\n      <td>Brazil</td>\n      <td>01310-200</td>\n      <td>3.96</td>\n    </tr>\n    <tr>\n      <th>19</th>\n      <td>297</td>\n      <td>11</td>\n      <td>2012-07-28 00:00:00</td>\n      <td>Av. Paulista, 2022</td>\n      <td>São Paulo</td>\n      <td>SP</td>\n      <td>Brazil</td>\n      <td>01310-200</td>\n      <td>5.94</td>\n    </tr>\n    <tr>\n      <th>20</th>\n      <td>349</td>\n      <td>11</td>\n      <td>2013-03-18 00:00:00</td>\n      <td>Av. Paulista, 2022</td>\n      <td>São Paulo</td>\n      <td>SP</td>\n      <td>Brazil</td>\n      <td>01310-200</td>\n      <td>0.99</td>\n    </tr>\n    <tr>\n      <th>21</th>\n      <td>34</td>\n      <td>12</td>\n      <td>2009-05-23 00:00:00</td>\n      <td>Praça Pio X, 119</td>\n      <td>Rio de Janeiro</td>\n      <td>RJ</td>\n      <td>Brazil</td>\n      <td>20040-020</td>\n      <td>0.99</td>\n    </tr>\n    <tr>\n      <th>22</th>\n      <td>155</td>\n      <td>12</td>\n      <td>2010-11-14 00:00:00</td>\n      <td>Praça Pio X, 119</td>\n      <td>Rio de Janeiro</td>\n      <td>RJ</td>\n      <td>Brazil</td>\n      <td>20040-020</td>\n      <td>1.98</td>\n    </tr>\n    <tr>\n      <th>23</th>\n      <td>166</td>\n      <td>12</td>\n      <td>2010-12-25 00:00:00</td>\n      <td>Praça Pio X, 119</td>\n      <td>Rio de Janeiro</td>\n      <td>RJ</td>\n      <td>Brazil</td>\n      <td>20040-020</td>\n      <td>13.86</td>\n    </tr>\n    <tr>\n      <th>24</th>\n      <td>221</td>\n      <td>12</td>\n      <td>2011-08-25 00:00:00</td>\n      <td>Praça Pio X, 119</td>\n      <td>Rio de Janeiro</td>\n      <td>RJ</td>\n      <td>Brazil</td>\n      <td>20040-020</td>\n      <td>8.91</td>\n    </tr>\n    <tr>\n      <th>25</th>\n      <td>350</td>\n      <td>12</td>\n      <td>2013-03-31 00:00:00</td>\n      <td>Praça Pio X, 119</td>\n      <td>Rio de Janeiro</td>\n      <td>RJ</td>\n      <td>Brazil</td>\n      <td>20040-020</td>\n      <td>1.98</td>\n    </tr>\n    <tr>\n      <th>26</th>\n      <td>373</td>\n      <td>12</td>\n      <td>2013-07-03 00:00:00</td>\n      <td>Praça Pio X, 119</td>\n      <td>Rio de Janeiro</td>\n      <td>RJ</td>\n      <td>Brazil</td>\n      <td>20040-020</td>\n      <td>3.96</td>\n    </tr>\n    <tr>\n      <th>27</th>\n      <td>395</td>\n      <td>12</td>\n      <td>2013-10-05 00:00:00</td>\n      <td>Praça Pio X, 119</td>\n      <td>Rio de Janeiro</td>\n      <td>RJ</td>\n      <td>Brazil</td>\n      <td>20040-020</td>\n      <td>5.94</td>\n    </tr>\n    <tr>\n      <th>28</th>\n      <td>35</td>\n      <td>13</td>\n      <td>2009-06-05 00:00:00</td>\n      <td>Qe 7 Bloco G</td>\n      <td>Brasília</td>\n      <td>DF</td>\n      <td>Brazil</td>\n      <td>71020-677</td>\n      <td>1.98</td>\n    </tr>\n    <tr>\n      <th>29</th>\n      <td>58</td>\n      <td>13</td>\n      <td>2009-09-07 00:00:00</td>\n      <td>Qe 7 Bloco G</td>\n      <td>Brasília</td>\n      <td>DF</td>\n      <td>Brazil</td>\n      <td>71020-677</td>\n      <td>3.96</td>\n    </tr>\n    <tr>\n      <th>30</th>\n      <td>80</td>\n      <td>13</td>\n      <td>2009-12-10 00:00:00</td>\n      <td>Qe 7 Bloco G</td>\n      <td>Brasília</td>\n      <td>DF</td>\n      <td>Brazil</td>\n      <td>71020-677</td>\n      <td>5.94</td>\n    </tr>\n    <tr>\n      <th>31</th>\n      <td>132</td>\n      <td>13</td>\n      <td>2010-07-31 00:00:00</td>\n      <td>Qe 7 Bloco G</td>\n      <td>Brasília</td>\n      <td>DF</td>\n      <td>Brazil</td>\n      <td>71020-677</td>\n      <td>0.99</td>\n    </tr>\n    <tr>\n      <th>32</th>\n      <td>253</td>\n      <td>13</td>\n      <td>2012-01-22 00:00:00</td>\n      <td>Qe 7 Bloco G</td>\n      <td>Brasília</td>\n      <td>DF</td>\n      <td>Brazil</td>\n      <td>71020-677</td>\n      <td>1.98</td>\n    </tr>\n    <tr>\n      <th>33</th>\n      <td>264</td>\n      <td>13</td>\n      <td>2012-03-03 00:00:00</td>\n      <td>Qe 7 Bloco G</td>\n      <td>Brasília</td>\n      <td>DF</td>\n      <td>Brazil</td>\n      <td>71020-677</td>\n      <td>13.86</td>\n    </tr>\n    <tr>\n      <th>34</th>\n      <td>319</td>\n      <td>13</td>\n      <td>2012-11-01 00:00:00</td>\n      <td>Qe 7 Bloco G</td>\n      <td>Brasília</td>\n      <td>DF</td>\n      <td>Brazil</td>\n      <td>71020-677</td>\n      <td>8.91</td>\n    </tr>\n  </tbody>\n</table>\n</div>"
     },
     "execution_count": 63,
     "metadata": {},
     "output_type": "execute_result"
    }
   ],
   "source": [],
   "metadata": {
    "collapsed": false,
    "pycharm": {
     "name": "#%%\n"
    }
   }
  },
  {
   "cell_type": "markdown",
   "source": [
    "18. Muestra cada factura asociada a cada agente de ventas con su nombre completo"
   ],
   "metadata": {
    "collapsed": false,
    "pycharm": {
     "name": "#%% md\n"
    }
   }
  },
  {
   "cell_type": "code",
   "execution_count": 65,
   "outputs": [
    {
     "data": {
      "text/plain": "            nombre  InvoiceId  CustomerId          InvoiceDate  \\\n0     Peacock Jane         98           1  2010-03-11 00:00:00   \n1     Peacock Jane        121           1  2010-06-13 00:00:00   \n2     Peacock Jane        143           1  2010-09-15 00:00:00   \n3     Peacock Jane        195           1  2011-05-06 00:00:00   \n4     Peacock Jane        316           1  2012-10-27 00:00:00   \n..             ...        ...         ...                  ...   \n407  Johnson Steve         88          57  2010-01-13 00:00:00   \n408  Johnson Steve        217          57  2011-08-20 00:00:00   \n409  Johnson Steve        240          57  2011-11-22 00:00:00   \n410  Johnson Steve        262          57  2012-02-24 00:00:00   \n411  Johnson Steve        314          57  2012-10-14 00:00:00   \n\n                      BillingAddress          BillingCity BillingState  \\\n0    Av. Brigadeiro Faria Lima, 2170  São José dos Campos           SP   \n1    Av. Brigadeiro Faria Lima, 2170  São José dos Campos           SP   \n2    Av. Brigadeiro Faria Lima, 2170  São José dos Campos           SP   \n3    Av. Brigadeiro Faria Lima, 2170  São José dos Campos           SP   \n4    Av. Brigadeiro Faria Lima, 2170  São José dos Campos           SP   \n..                               ...                  ...          ...   \n407                  Calle Lira, 198             Santiago         None   \n408                  Calle Lira, 198             Santiago         None   \n409                  Calle Lira, 198             Santiago         None   \n410                  Calle Lira, 198             Santiago         None   \n411                  Calle Lira, 198             Santiago         None   \n\n    BillingCountry BillingPostalCode  Total  \n0           Brazil         12227-000   3.98  \n1           Brazil         12227-000   3.96  \n2           Brazil         12227-000   5.94  \n3           Brazil         12227-000   0.99  \n4           Brazil         12227-000   1.98  \n..             ...               ...    ...  \n407          Chile              None  17.91  \n408          Chile              None   1.98  \n409          Chile              None   3.96  \n410          Chile              None   5.94  \n411          Chile              None   0.99  \n\n[412 rows x 10 columns]",
      "text/html": "<div>\n<style scoped>\n    .dataframe tbody tr th:only-of-type {\n        vertical-align: middle;\n    }\n\n    .dataframe tbody tr th {\n        vertical-align: top;\n    }\n\n    .dataframe thead th {\n        text-align: right;\n    }\n</style>\n<table border=\"1\" class=\"dataframe\">\n  <thead>\n    <tr style=\"text-align: right;\">\n      <th></th>\n      <th>nombre</th>\n      <th>InvoiceId</th>\n      <th>CustomerId</th>\n      <th>InvoiceDate</th>\n      <th>BillingAddress</th>\n      <th>BillingCity</th>\n      <th>BillingState</th>\n      <th>BillingCountry</th>\n      <th>BillingPostalCode</th>\n      <th>Total</th>\n    </tr>\n  </thead>\n  <tbody>\n    <tr>\n      <th>0</th>\n      <td>Peacock Jane</td>\n      <td>98</td>\n      <td>1</td>\n      <td>2010-03-11 00:00:00</td>\n      <td>Av. Brigadeiro Faria Lima, 2170</td>\n      <td>São José dos Campos</td>\n      <td>SP</td>\n      <td>Brazil</td>\n      <td>12227-000</td>\n      <td>3.98</td>\n    </tr>\n    <tr>\n      <th>1</th>\n      <td>Peacock Jane</td>\n      <td>121</td>\n      <td>1</td>\n      <td>2010-06-13 00:00:00</td>\n      <td>Av. Brigadeiro Faria Lima, 2170</td>\n      <td>São José dos Campos</td>\n      <td>SP</td>\n      <td>Brazil</td>\n      <td>12227-000</td>\n      <td>3.96</td>\n    </tr>\n    <tr>\n      <th>2</th>\n      <td>Peacock Jane</td>\n      <td>143</td>\n      <td>1</td>\n      <td>2010-09-15 00:00:00</td>\n      <td>Av. Brigadeiro Faria Lima, 2170</td>\n      <td>São José dos Campos</td>\n      <td>SP</td>\n      <td>Brazil</td>\n      <td>12227-000</td>\n      <td>5.94</td>\n    </tr>\n    <tr>\n      <th>3</th>\n      <td>Peacock Jane</td>\n      <td>195</td>\n      <td>1</td>\n      <td>2011-05-06 00:00:00</td>\n      <td>Av. Brigadeiro Faria Lima, 2170</td>\n      <td>São José dos Campos</td>\n      <td>SP</td>\n      <td>Brazil</td>\n      <td>12227-000</td>\n      <td>0.99</td>\n    </tr>\n    <tr>\n      <th>4</th>\n      <td>Peacock Jane</td>\n      <td>316</td>\n      <td>1</td>\n      <td>2012-10-27 00:00:00</td>\n      <td>Av. Brigadeiro Faria Lima, 2170</td>\n      <td>São José dos Campos</td>\n      <td>SP</td>\n      <td>Brazil</td>\n      <td>12227-000</td>\n      <td>1.98</td>\n    </tr>\n    <tr>\n      <th>...</th>\n      <td>...</td>\n      <td>...</td>\n      <td>...</td>\n      <td>...</td>\n      <td>...</td>\n      <td>...</td>\n      <td>...</td>\n      <td>...</td>\n      <td>...</td>\n      <td>...</td>\n    </tr>\n    <tr>\n      <th>407</th>\n      <td>Johnson Steve</td>\n      <td>88</td>\n      <td>57</td>\n      <td>2010-01-13 00:00:00</td>\n      <td>Calle Lira, 198</td>\n      <td>Santiago</td>\n      <td>None</td>\n      <td>Chile</td>\n      <td>None</td>\n      <td>17.91</td>\n    </tr>\n    <tr>\n      <th>408</th>\n      <td>Johnson Steve</td>\n      <td>217</td>\n      <td>57</td>\n      <td>2011-08-20 00:00:00</td>\n      <td>Calle Lira, 198</td>\n      <td>Santiago</td>\n      <td>None</td>\n      <td>Chile</td>\n      <td>None</td>\n      <td>1.98</td>\n    </tr>\n    <tr>\n      <th>409</th>\n      <td>Johnson Steve</td>\n      <td>240</td>\n      <td>57</td>\n      <td>2011-11-22 00:00:00</td>\n      <td>Calle Lira, 198</td>\n      <td>Santiago</td>\n      <td>None</td>\n      <td>Chile</td>\n      <td>None</td>\n      <td>3.96</td>\n    </tr>\n    <tr>\n      <th>410</th>\n      <td>Johnson Steve</td>\n      <td>262</td>\n      <td>57</td>\n      <td>2012-02-24 00:00:00</td>\n      <td>Calle Lira, 198</td>\n      <td>Santiago</td>\n      <td>None</td>\n      <td>Chile</td>\n      <td>None</td>\n      <td>5.94</td>\n    </tr>\n    <tr>\n      <th>411</th>\n      <td>Johnson Steve</td>\n      <td>314</td>\n      <td>57</td>\n      <td>2012-10-14 00:00:00</td>\n      <td>Calle Lira, 198</td>\n      <td>Santiago</td>\n      <td>None</td>\n      <td>Chile</td>\n      <td>None</td>\n      <td>0.99</td>\n    </tr>\n  </tbody>\n</table>\n<p>412 rows × 10 columns</p>\n</div>"
     },
     "execution_count": 65,
     "metadata": {},
     "output_type": "execute_result"
    }
   ],
   "source": [],
   "metadata": {
    "collapsed": false,
    "pycharm": {
     "name": "#%%\n"
    }
   }
  },
  {
   "cell_type": "markdown",
   "source": [
    "19. Muestra el nombre del cliente, el pais, el nombre del agente y el total"
   ],
   "metadata": {
    "collapsed": false,
    "pycharm": {
     "name": "#%% md\n"
    }
   }
  },
  {
   "cell_type": "code",
   "execution_count": 70,
   "outputs": [
    {
     "data": {
      "text/plain": "    FirstName Country        agente  Total\n0        Luís  Brazil  Peacock Jane   3.98\n1        Luís  Brazil  Peacock Jane   3.96\n2        Luís  Brazil  Peacock Jane   5.94\n3        Luís  Brazil  Peacock Jane   0.99\n4        Luís  Brazil  Peacock Jane   1.98\n..        ...     ...           ...    ...\n407      Puja   India  Peacock Jane   5.94\n408      Puja   India  Peacock Jane   1.99\n409      Puja   India  Peacock Jane   1.98\n410      Puja   India  Peacock Jane  13.86\n411      Puja   India  Peacock Jane   8.91\n\n[412 rows x 4 columns]",
      "text/html": "<div>\n<style scoped>\n    .dataframe tbody tr th:only-of-type {\n        vertical-align: middle;\n    }\n\n    .dataframe tbody tr th {\n        vertical-align: top;\n    }\n\n    .dataframe thead th {\n        text-align: right;\n    }\n</style>\n<table border=\"1\" class=\"dataframe\">\n  <thead>\n    <tr style=\"text-align: right;\">\n      <th></th>\n      <th>FirstName</th>\n      <th>Country</th>\n      <th>agente</th>\n      <th>Total</th>\n    </tr>\n  </thead>\n  <tbody>\n    <tr>\n      <th>0</th>\n      <td>Luís</td>\n      <td>Brazil</td>\n      <td>Peacock Jane</td>\n      <td>3.98</td>\n    </tr>\n    <tr>\n      <th>1</th>\n      <td>Luís</td>\n      <td>Brazil</td>\n      <td>Peacock Jane</td>\n      <td>3.96</td>\n    </tr>\n    <tr>\n      <th>2</th>\n      <td>Luís</td>\n      <td>Brazil</td>\n      <td>Peacock Jane</td>\n      <td>5.94</td>\n    </tr>\n    <tr>\n      <th>3</th>\n      <td>Luís</td>\n      <td>Brazil</td>\n      <td>Peacock Jane</td>\n      <td>0.99</td>\n    </tr>\n    <tr>\n      <th>4</th>\n      <td>Luís</td>\n      <td>Brazil</td>\n      <td>Peacock Jane</td>\n      <td>1.98</td>\n    </tr>\n    <tr>\n      <th>...</th>\n      <td>...</td>\n      <td>...</td>\n      <td>...</td>\n      <td>...</td>\n    </tr>\n    <tr>\n      <th>407</th>\n      <td>Puja</td>\n      <td>India</td>\n      <td>Peacock Jane</td>\n      <td>5.94</td>\n    </tr>\n    <tr>\n      <th>408</th>\n      <td>Puja</td>\n      <td>India</td>\n      <td>Peacock Jane</td>\n      <td>1.99</td>\n    </tr>\n    <tr>\n      <th>409</th>\n      <td>Puja</td>\n      <td>India</td>\n      <td>Peacock Jane</td>\n      <td>1.98</td>\n    </tr>\n    <tr>\n      <th>410</th>\n      <td>Puja</td>\n      <td>India</td>\n      <td>Peacock Jane</td>\n      <td>13.86</td>\n    </tr>\n    <tr>\n      <th>411</th>\n      <td>Puja</td>\n      <td>India</td>\n      <td>Peacock Jane</td>\n      <td>8.91</td>\n    </tr>\n  </tbody>\n</table>\n<p>412 rows × 4 columns</p>\n</div>"
     },
     "execution_count": 70,
     "metadata": {},
     "output_type": "execute_result"
    }
   ],
   "source": [],
   "metadata": {
    "collapsed": false,
    "pycharm": {
     "name": "#%%\n"
    }
   }
  },
  {
   "cell_type": "markdown",
   "source": [
    "20. Muestra cada articulo de la factura con el nombre de la cancion"
   ],
   "metadata": {
    "collapsed": false,
    "pycharm": {
     "name": "#%% md\n"
    }
   }
  },
  {
   "cell_type": "code",
   "execution_count": 72,
   "outputs": [
    {
     "data": {
      "text/plain": "                               Name  InvoiceId  UnitPrice  Quantity\n0               Experiment In Terra         98       1.99         1\n1                 Take the Celestra         98       1.99         1\n2                 Shout It Out Loud        121       0.99         1\n3                  Calling Dr. Love        121       0.99         1\n4                          Strutter        121       0.99         1\n...                             ...        ...        ...       ...\n2235           Esporrei Na Manivela        284       0.99         1\n2236  No Fundo Do Quintal Da Escola        284       0.99         1\n2237                 Que Luz É Essa        284       0.99         1\n2238          The Power Of Equality        284       0.99         1\n2239   Mellowship Slinky In B Major        284       0.99         1\n\n[2240 rows x 4 columns]",
      "text/html": "<div>\n<style scoped>\n    .dataframe tbody tr th:only-of-type {\n        vertical-align: middle;\n    }\n\n    .dataframe tbody tr th {\n        vertical-align: top;\n    }\n\n    .dataframe thead th {\n        text-align: right;\n    }\n</style>\n<table border=\"1\" class=\"dataframe\">\n  <thead>\n    <tr style=\"text-align: right;\">\n      <th></th>\n      <th>Name</th>\n      <th>InvoiceId</th>\n      <th>UnitPrice</th>\n      <th>Quantity</th>\n    </tr>\n  </thead>\n  <tbody>\n    <tr>\n      <th>0</th>\n      <td>Experiment In Terra</td>\n      <td>98</td>\n      <td>1.99</td>\n      <td>1</td>\n    </tr>\n    <tr>\n      <th>1</th>\n      <td>Take the Celestra</td>\n      <td>98</td>\n      <td>1.99</td>\n      <td>1</td>\n    </tr>\n    <tr>\n      <th>2</th>\n      <td>Shout It Out Loud</td>\n      <td>121</td>\n      <td>0.99</td>\n      <td>1</td>\n    </tr>\n    <tr>\n      <th>3</th>\n      <td>Calling Dr. Love</td>\n      <td>121</td>\n      <td>0.99</td>\n      <td>1</td>\n    </tr>\n    <tr>\n      <th>4</th>\n      <td>Strutter</td>\n      <td>121</td>\n      <td>0.99</td>\n      <td>1</td>\n    </tr>\n    <tr>\n      <th>...</th>\n      <td>...</td>\n      <td>...</td>\n      <td>...</td>\n      <td>...</td>\n    </tr>\n    <tr>\n      <th>2235</th>\n      <td>Esporrei Na Manivela</td>\n      <td>284</td>\n      <td>0.99</td>\n      <td>1</td>\n    </tr>\n    <tr>\n      <th>2236</th>\n      <td>No Fundo Do Quintal Da Escola</td>\n      <td>284</td>\n      <td>0.99</td>\n      <td>1</td>\n    </tr>\n    <tr>\n      <th>2237</th>\n      <td>Que Luz É Essa</td>\n      <td>284</td>\n      <td>0.99</td>\n      <td>1</td>\n    </tr>\n    <tr>\n      <th>2238</th>\n      <td>The Power Of Equality</td>\n      <td>284</td>\n      <td>0.99</td>\n      <td>1</td>\n    </tr>\n    <tr>\n      <th>2239</th>\n      <td>Mellowship Slinky In B Major</td>\n      <td>284</td>\n      <td>0.99</td>\n      <td>1</td>\n    </tr>\n  </tbody>\n</table>\n<p>2240 rows × 4 columns</p>\n</div>"
     },
     "execution_count": 72,
     "metadata": {},
     "output_type": "execute_result"
    }
   ],
   "source": [],
   "metadata": {
    "collapsed": false,
    "pycharm": {
     "name": "#%%\n"
    }
   }
  },
  {
   "cell_type": "markdown",
   "source": [
    "21. Muestra todas las canciones con su nombre, formato, album y género"
   ],
   "metadata": {
    "collapsed": false,
    "pycharm": {
     "name": "#%% md\n"
    }
   }
  },
  {
   "cell_type": "code",
   "execution_count": 77,
   "outputs": [
    {
     "data": {
      "text/plain": "                                                Cancion  \\\n0               For Those About To Rock (We Salute You)   \n1                                     Balls to the Wall   \n2                                       Fast As a Shark   \n3                                     Restless and Wild   \n4                                  Princess of the Dawn   \n...                                                 ...   \n3498  Pini Di Roma (Pinien Von Rom) \\ I Pini Della V...   \n3499  String Quartet No. 12 in C Minor, D. 703 \"Quar...   \n3500               L'orfeo, Act 3, Sinfonia (Orchestra)   \n3501  Quintet for Horn, Violin, 2 Violas, and Cello ...   \n3502  Die Zauberflöte, K.620: \"Der Hölle Rache Kocht...   \n\n                       Formato  \\\n0              MPEG audio file   \n1     Protected AAC audio file   \n2     Protected AAC audio file   \n3     Protected AAC audio file   \n4     Protected AAC audio file   \n...                        ...   \n3498  Protected AAC audio file   \n3499  Protected AAC audio file   \n3500  Protected AAC audio file   \n3501  Protected AAC audio file   \n3502  Protected AAC audio file   \n\n                                                  Album     Genero  \n0                 For Those About To Rock We Salute You       Rock  \n1                                     Balls to the Wall       Rock  \n2                                     Restless and Wild       Rock  \n3                                     Restless and Wild       Rock  \n4                                     Restless and Wild       Rock  \n...                                                 ...        ...  \n3498                             Respighi:Pines of Rome  Classical  \n3499  Schubert: The Late String Quartets & String Qu...  Classical  \n3500                                Monteverdi: L'Orfeo  Classical  \n3501                              Mozart: Chamber Music  Classical  \n3502                          Mozart Gala: Famous Arias      Opera  \n\n[3503 rows x 4 columns]",
      "text/html": "<div>\n<style scoped>\n    .dataframe tbody tr th:only-of-type {\n        vertical-align: middle;\n    }\n\n    .dataframe tbody tr th {\n        vertical-align: top;\n    }\n\n    .dataframe thead th {\n        text-align: right;\n    }\n</style>\n<table border=\"1\" class=\"dataframe\">\n  <thead>\n    <tr style=\"text-align: right;\">\n      <th></th>\n      <th>Cancion</th>\n      <th>Formato</th>\n      <th>Album</th>\n      <th>Genero</th>\n    </tr>\n  </thead>\n  <tbody>\n    <tr>\n      <th>0</th>\n      <td>For Those About To Rock (We Salute You)</td>\n      <td>MPEG audio file</td>\n      <td>For Those About To Rock We Salute You</td>\n      <td>Rock</td>\n    </tr>\n    <tr>\n      <th>1</th>\n      <td>Balls to the Wall</td>\n      <td>Protected AAC audio file</td>\n      <td>Balls to the Wall</td>\n      <td>Rock</td>\n    </tr>\n    <tr>\n      <th>2</th>\n      <td>Fast As a Shark</td>\n      <td>Protected AAC audio file</td>\n      <td>Restless and Wild</td>\n      <td>Rock</td>\n    </tr>\n    <tr>\n      <th>3</th>\n      <td>Restless and Wild</td>\n      <td>Protected AAC audio file</td>\n      <td>Restless and Wild</td>\n      <td>Rock</td>\n    </tr>\n    <tr>\n      <th>4</th>\n      <td>Princess of the Dawn</td>\n      <td>Protected AAC audio file</td>\n      <td>Restless and Wild</td>\n      <td>Rock</td>\n    </tr>\n    <tr>\n      <th>...</th>\n      <td>...</td>\n      <td>...</td>\n      <td>...</td>\n      <td>...</td>\n    </tr>\n    <tr>\n      <th>3498</th>\n      <td>Pini Di Roma (Pinien Von Rom) \\ I Pini Della V...</td>\n      <td>Protected AAC audio file</td>\n      <td>Respighi:Pines of Rome</td>\n      <td>Classical</td>\n    </tr>\n    <tr>\n      <th>3499</th>\n      <td>String Quartet No. 12 in C Minor, D. 703 \"Quar...</td>\n      <td>Protected AAC audio file</td>\n      <td>Schubert: The Late String Quartets &amp; String Qu...</td>\n      <td>Classical</td>\n    </tr>\n    <tr>\n      <th>3500</th>\n      <td>L'orfeo, Act 3, Sinfonia (Orchestra)</td>\n      <td>Protected AAC audio file</td>\n      <td>Monteverdi: L'Orfeo</td>\n      <td>Classical</td>\n    </tr>\n    <tr>\n      <th>3501</th>\n      <td>Quintet for Horn, Violin, 2 Violas, and Cello ...</td>\n      <td>Protected AAC audio file</td>\n      <td>Mozart: Chamber Music</td>\n      <td>Classical</td>\n    </tr>\n    <tr>\n      <th>3502</th>\n      <td>Die Zauberflöte, K.620: \"Der Hölle Rache Kocht...</td>\n      <td>Protected AAC audio file</td>\n      <td>Mozart Gala: Famous Arias</td>\n      <td>Opera</td>\n    </tr>\n  </tbody>\n</table>\n<p>3503 rows × 4 columns</p>\n</div>"
     },
     "execution_count": 77,
     "metadata": {},
     "output_type": "execute_result"
    }
   ],
   "source": [],
   "metadata": {
    "collapsed": false,
    "pycharm": {
     "name": "#%%\n"
    }
   }
  },
  {
   "cell_type": "markdown",
   "source": [
    "22. Muestra cuántas canciones hay en cada playlist y el nombre de cada playlist"
   ],
   "metadata": {
    "collapsed": false,
    "pycharm": {
     "name": "#%% md\n"
    }
   }
  },
  {
   "cell_type": "code",
   "execution_count": 79,
   "outputs": [
    {
     "data": {
      "text/plain": "                      PLaylist  Canciones\n0                       Movies          0\n1                        Music       3290\n2                     TV Shows        213\n3                   90’s Music       1477\n4                        Music       3290\n5                 Music Videos          1\n6                     TV Shows        213\n7              Brazilian Music         39\n8                    Classical         75\n9    Classical 101 - Deep Cuts         25\n10  Classical 101 - Next Steps         25\n11  Classical 101 - The Basics         25\n12                      Grunge         15\n13         Heavy Metal Classic         26\n14                 On-The-Go 1          1",
      "text/html": "<div>\n<style scoped>\n    .dataframe tbody tr th:only-of-type {\n        vertical-align: middle;\n    }\n\n    .dataframe tbody tr th {\n        vertical-align: top;\n    }\n\n    .dataframe thead th {\n        text-align: right;\n    }\n</style>\n<table border=\"1\" class=\"dataframe\">\n  <thead>\n    <tr style=\"text-align: right;\">\n      <th></th>\n      <th>PLaylist</th>\n      <th>Canciones</th>\n    </tr>\n  </thead>\n  <tbody>\n    <tr>\n      <th>0</th>\n      <td>Movies</td>\n      <td>0</td>\n    </tr>\n    <tr>\n      <th>1</th>\n      <td>Music</td>\n      <td>3290</td>\n    </tr>\n    <tr>\n      <th>2</th>\n      <td>TV Shows</td>\n      <td>213</td>\n    </tr>\n    <tr>\n      <th>3</th>\n      <td>90’s Music</td>\n      <td>1477</td>\n    </tr>\n    <tr>\n      <th>4</th>\n      <td>Music</td>\n      <td>3290</td>\n    </tr>\n    <tr>\n      <th>5</th>\n      <td>Music Videos</td>\n      <td>1</td>\n    </tr>\n    <tr>\n      <th>6</th>\n      <td>TV Shows</td>\n      <td>213</td>\n    </tr>\n    <tr>\n      <th>7</th>\n      <td>Brazilian Music</td>\n      <td>39</td>\n    </tr>\n    <tr>\n      <th>8</th>\n      <td>Classical</td>\n      <td>75</td>\n    </tr>\n    <tr>\n      <th>9</th>\n      <td>Classical 101 - Deep Cuts</td>\n      <td>25</td>\n    </tr>\n    <tr>\n      <th>10</th>\n      <td>Classical 101 - Next Steps</td>\n      <td>25</td>\n    </tr>\n    <tr>\n      <th>11</th>\n      <td>Classical 101 - The Basics</td>\n      <td>25</td>\n    </tr>\n    <tr>\n      <th>12</th>\n      <td>Grunge</td>\n      <td>15</td>\n    </tr>\n    <tr>\n      <th>13</th>\n      <td>Heavy Metal Classic</td>\n      <td>26</td>\n    </tr>\n    <tr>\n      <th>14</th>\n      <td>On-The-Go 1</td>\n      <td>1</td>\n    </tr>\n  </tbody>\n</table>\n</div>"
     },
     "execution_count": 79,
     "metadata": {},
     "output_type": "execute_result"
    }
   ],
   "source": [],
   "metadata": {
    "collapsed": false,
    "pycharm": {
     "name": "#%%\n"
    }
   }
  },
  {
   "cell_type": "markdown",
   "source": [
    "23. Muestra cuánto ha vendido cada empleado"
   ],
   "metadata": {
    "collapsed": false,
    "pycharm": {
     "name": "#%% md\n"
    }
   }
  },
  {
   "cell_type": "code",
   "execution_count": 80,
   "outputs": [
    {
     "data": {
      "text/plain": "  FirstName  sum(i.total)\n0      Jane        833.04\n1  Margaret        775.40\n2     Steve        720.16",
      "text/html": "<div>\n<style scoped>\n    .dataframe tbody tr th:only-of-type {\n        vertical-align: middle;\n    }\n\n    .dataframe tbody tr th {\n        vertical-align: top;\n    }\n\n    .dataframe thead th {\n        text-align: right;\n    }\n</style>\n<table border=\"1\" class=\"dataframe\">\n  <thead>\n    <tr style=\"text-align: right;\">\n      <th></th>\n      <th>FirstName</th>\n      <th>sum(i.total)</th>\n    </tr>\n  </thead>\n  <tbody>\n    <tr>\n      <th>0</th>\n      <td>Jane</td>\n      <td>833.04</td>\n    </tr>\n    <tr>\n      <th>1</th>\n      <td>Margaret</td>\n      <td>775.40</td>\n    </tr>\n    <tr>\n      <th>2</th>\n      <td>Steve</td>\n      <td>720.16</td>\n    </tr>\n  </tbody>\n</table>\n</div>"
     },
     "execution_count": 80,
     "metadata": {},
     "output_type": "execute_result"
    }
   ],
   "source": [],
   "metadata": {
    "collapsed": false,
    "pycharm": {
     "name": "#%%\n"
    }
   }
  },
  {
   "cell_type": "markdown",
   "source": [
    "24. ¿Quién ha sido el agente de ventas que más ha vendido en 2009?\n"
   ],
   "metadata": {
    "collapsed": false,
    "pycharm": {
     "name": "#%% md\n"
    }
   }
  },
  {
   "cell_type": "code",
   "execution_count": 82,
   "outputs": [
    {
     "data": {
      "text/plain": "  FirstName  sum(i.total)\n0     Steve        164.34",
      "text/html": "<div>\n<style scoped>\n    .dataframe tbody tr th:only-of-type {\n        vertical-align: middle;\n    }\n\n    .dataframe tbody tr th {\n        vertical-align: top;\n    }\n\n    .dataframe thead th {\n        text-align: right;\n    }\n</style>\n<table border=\"1\" class=\"dataframe\">\n  <thead>\n    <tr style=\"text-align: right;\">\n      <th></th>\n      <th>FirstName</th>\n      <th>sum(i.total)</th>\n    </tr>\n  </thead>\n  <tbody>\n    <tr>\n      <th>0</th>\n      <td>Steve</td>\n      <td>164.34</td>\n    </tr>\n  </tbody>\n</table>\n</div>"
     },
     "execution_count": 82,
     "metadata": {},
     "output_type": "execute_result"
    }
   ],
   "source": [],
   "metadata": {
    "collapsed": false,
    "pycharm": {
     "name": "#%%\n"
    }
   }
  },
  {
   "cell_type": "markdown",
   "source": [
    "25. ¿Quienes son los 3 grupos que más han vendido?"
   ],
   "metadata": {
    "collapsed": false,
    "pycharm": {
     "name": "#%% md\n"
    }
   }
  },
  {
   "cell_type": "code",
   "execution_count": 84,
   "outputs": [
    {
     "data": {
      "text/plain": "          Name   Gasto\n0  Iron Maiden  138.60\n1           U2  105.93\n2    Metallica   90.09",
      "text/html": "<div>\n<style scoped>\n    .dataframe tbody tr th:only-of-type {\n        vertical-align: middle;\n    }\n\n    .dataframe tbody tr th {\n        vertical-align: top;\n    }\n\n    .dataframe thead th {\n        text-align: right;\n    }\n</style>\n<table border=\"1\" class=\"dataframe\">\n  <thead>\n    <tr style=\"text-align: right;\">\n      <th></th>\n      <th>Name</th>\n      <th>Gasto</th>\n    </tr>\n  </thead>\n  <tbody>\n    <tr>\n      <th>0</th>\n      <td>Iron Maiden</td>\n      <td>138.60</td>\n    </tr>\n    <tr>\n      <th>1</th>\n      <td>U2</td>\n      <td>105.93</td>\n    </tr>\n    <tr>\n      <th>2</th>\n      <td>Metallica</td>\n      <td>90.09</td>\n    </tr>\n  </tbody>\n</table>\n</div>"
     },
     "execution_count": 84,
     "metadata": {},
     "output_type": "execute_result"
    }
   ],
   "source": [],
   "metadata": {
    "collapsed": false,
    "pycharm": {
     "name": "#%%\n"
    }
   }
  }
 ],
 "metadata": {
  "kernelspec": {
   "display_name": "Python 3",
   "language": "python",
   "name": "python3"
  },
  "language_info": {
   "codemirror_mode": {
    "name": "ipython",
    "version": 2
   },
   "file_extension": ".py",
   "mimetype": "text/x-python",
   "name": "python",
   "nbconvert_exporter": "python",
   "pygments_lexer": "ipython2",
   "version": "2.7.6"
  }
 },
 "nbformat": 4,
 "nbformat_minor": 0
}