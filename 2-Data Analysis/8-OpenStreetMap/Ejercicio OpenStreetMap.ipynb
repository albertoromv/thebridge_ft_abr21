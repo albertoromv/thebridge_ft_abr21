{
 "cells": [
  {
   "cell_type": "markdown",
   "metadata": {},
   "source": [
    "# Ejercicio OpenStreetMap\n",
    "Para este ejercicio vas a trabar con Overpass, que es la API que utiliza los datos de OpenStreetMap. Tras obtener datos geográficos mediante la API, tendrás que representarlos con Plotly.\n",
    "\n",
    "Hay que obtener los siguientes datos de cada ubicación conseguida en OpenStreetMap\n",
    "* tipo de amenity\n",
    "* latitud\n",
    "* longitud\n",
    "* nombre\n",
    "* direccion\n",
    "\n",
    "**NOTA**: En este Notebook utilizarás gráficas de Plotly, y JupyterLab de momento no lo soporta, a no ser que instales una extensión. Para solucionar esto, abre el Notebook desde Jupyter normal:\n",
    "\n",
    "![imagen](./img/jupyter.png)\n",
    "\n",
    "Tienes en [este enlace](https://wiki.openstreetmap.org/wiki/Key:amenity#Healthcare) la lista de *amenities* que vas a usar en el notebook."
   ]
  },
  {
   "cell_type": "markdown",
   "metadata": {},
   "source": [
    "## Instalación\n",
    "Si no tienes instalado Plotly, abre un terminal y escribe:\n",
    "```\n",
    "pip install plotly\n",
    "```\n",
    "\n",
    "Importa las librerias que vamos a usar en el Notebook"
   ]
  },
  {
   "cell_type": "code",
   "execution_count": 1,
   "metadata": {},
   "outputs": [],
   "source": [
    "import requests\n",
    "import json\n",
    "import pandas as pd"
   ]
  },
  {
   "cell_type": "markdown",
   "metadata": {},
   "source": [
    "Ataca a la API de OpenStreetmap con el siguiente código de ejemplo"
   ]
  },
  {
   "cell_type": "code",
   "execution_count": 2,
   "metadata": {},
   "outputs": [
    {
     "name": "stdout",
     "output_type": "stream",
     "text": [
      "<Response [200]>\n"
     ]
    }
   ],
   "source": [
    "overpass_url = \"http://overpass-api.de/api/interpreter\"\n",
    "overpass_query = \"\"\"\n",
    "[out:json];\n",
    "node[\"amenity\"=\"ice_cream\"]\n",
    "  (40.420801, -3.694702,40.423754, -3.688167); \n",
    "out;\n",
    "\"\"\"\n",
    "response = requests.get(overpass_url, \n",
    "                        params={'data': overpass_query})\n",
    "print(response)\n",
    "data = response.json()"
   ]
  },
  {
   "cell_type": "code",
   "execution_count": 5,
   "metadata": {},
   "outputs": [
    {
     "data": {
      "text/plain": [
       "{'version': 0.6,\n",
       " 'generator': 'Overpass API 0.7.58.2 2b5354b1',\n",
       " 'osm3s': {'timestamp_osm_base': '2022-06-02T07:25:42Z',\n",
       "  'copyright': 'The data included in this document is from www.openstreetmap.org. The data is made available under ODbL.'},\n",
       " 'elements': []}"
      ]
     },
     "execution_count": 5,
     "metadata": {},
     "output_type": "execute_result"
    }
   ],
   "source": [
    "data"
   ]
  },
  {
   "cell_type": "markdown",
   "metadata": {},
   "source": [
    "Con el siguiente código podrás adaptar el JSON que devuelve la API, a un formato DataFrame más amigable"
   ]
  },
  {
   "cell_type": "code",
   "execution_count": 3,
   "metadata": {},
   "outputs": [],
   "source": [
    "def json_to_df(data):\n",
    "    elements = data['elements']\n",
    "    places = {'tipo': [], 'lat': [], 'lon': [], 'name': [], 'address': []}\n",
    "    \n",
    "    for i in elements:\n",
    "        \n",
    "        tipo = i.get('tags', None).get('amenity', None)\n",
    "        latitude = i.get('lat', None)\n",
    "        longitude = i.get('lon', None)\n",
    "        name = i.get('tags', {}).get('name', \"NO NAME\")\n",
    "        street = i.get('tags', {}).get('addr:street', \"NO STREET\")\n",
    "        number = i.get('tags', {}).get('addr:housenumber', 9999)\n",
    "\n",
    "        places['tipo'].append(tipo)\n",
    "        places['lat'].append(latitude)\n",
    "        places['lon'].append(longitude)\n",
    "        places['name'].append(name)\n",
    "        places['address'].append(street + ' ' + str(number))\n",
    "\n",
    "            \n",
    "    return pd.DataFrame(places)"
   ]
  },
  {
   "cell_type": "markdown",
   "metadata": {},
   "source": [
    "Utilizarás esta función para representar los datos en un mapa de Matplotlib"
   ]
  },
  {
   "cell_type": "code",
   "execution_count": 4,
   "metadata": {},
   "outputs": [],
   "source": [
    "import plotly.express as px\n",
    "\n",
    "mapbox_access_token = \"pk.eyJ1IjoiZGFvcnRpIiwiYSI6ImNrZnF6M3FlczA3cDEyem16YTNzZmV4M2EifQ.846iF0sMSAXv0kwkwUTYjg\"\n",
    "\n",
    "def pinta_mapa(df):\n",
    "    fig = px.scatter_mapbox(df,\n",
    "                            lat=\"lat\",\n",
    "                            lon=\"lon\",\n",
    "                            color = \"tipo\",\n",
    "                      color_continuous_scale=px.colors.cyclical.IceFire, size_max=15, zoom=11)\n",
    "    fig.update_layout(\n",
    "        mapbox=dict(\n",
    "            accesstoken=mapbox_access_token\n",
    "        )\n",
    "    )\n",
    "\n",
    "    fig.show()"
   ]
  },
  {
   "cell_type": "markdown",
   "metadata": {},
   "source": [
    "Como ejemplo, si quiero ver cuántos restaurantes tengo cerca de The Bridge:"
   ]
  },
  {
   "cell_type": "code",
   "execution_count": 6,
   "metadata": {
    "collapsed": true,
    "jupyter": {
     "outputs_hidden": true
    },
    "tags": []
   },
   "outputs": [
    {
     "name": "stdout",
     "output_type": "stream",
     "text": [
      "<Response [200]>\n"
     ]
    },
    {
     "data": {
      "text/html": [
       "<div>\n",
       "<style scoped>\n",
       "    .dataframe tbody tr th:only-of-type {\n",
       "        vertical-align: middle;\n",
       "    }\n",
       "\n",
       "    .dataframe tbody tr th {\n",
       "        vertical-align: top;\n",
       "    }\n",
       "\n",
       "    .dataframe thead th {\n",
       "        text-align: right;\n",
       "    }\n",
       "</style>\n",
       "<table border=\"1\" class=\"dataframe\">\n",
       "  <thead>\n",
       "    <tr style=\"text-align: right;\">\n",
       "      <th></th>\n",
       "      <th>tipo</th>\n",
       "      <th>lat</th>\n",
       "      <th>lon</th>\n",
       "      <th>name</th>\n",
       "      <th>address</th>\n",
       "    </tr>\n",
       "  </thead>\n",
       "  <tbody>\n",
       "    <tr>\n",
       "      <th>0</th>\n",
       "      <td>restaurant</td>\n",
       "      <td>40.423086</td>\n",
       "      <td>-3.693547</td>\n",
       "      <td>La Castafiore</td>\n",
       "      <td>NO STREET 9999</td>\n",
       "    </tr>\n",
       "    <tr>\n",
       "      <th>1</th>\n",
       "      <td>restaurant</td>\n",
       "      <td>40.422607</td>\n",
       "      <td>-3.693256</td>\n",
       "      <td>Sake Dining Himawari</td>\n",
       "      <td>NO STREET 9999</td>\n",
       "    </tr>\n",
       "    <tr>\n",
       "      <th>2</th>\n",
       "      <td>restaurant</td>\n",
       "      <td>40.423315</td>\n",
       "      <td>-3.692506</td>\n",
       "      <td>Ainhoa</td>\n",
       "      <td>Calle de Doña Bárbara de Braganza 12</td>\n",
       "    </tr>\n",
       "    <tr>\n",
       "      <th>3</th>\n",
       "      <td>restaurant</td>\n",
       "      <td>40.421960</td>\n",
       "      <td>-3.694270</td>\n",
       "      <td>La Kitchen</td>\n",
       "      <td>NO STREET 9999</td>\n",
       "    </tr>\n",
       "    <tr>\n",
       "      <th>4</th>\n",
       "      <td>restaurant</td>\n",
       "      <td>40.421956</td>\n",
       "      <td>-3.693905</td>\n",
       "      <td>En La Gloria</td>\n",
       "      <td>Calle de Prim 9</td>\n",
       "    </tr>\n",
       "    <tr>\n",
       "      <th>5</th>\n",
       "      <td>restaurant</td>\n",
       "      <td>40.423695</td>\n",
       "      <td>-3.691651</td>\n",
       "      <td>Café Espejo</td>\n",
       "      <td>NO STREET 9999</td>\n",
       "    </tr>\n",
       "    <tr>\n",
       "      <th>6</th>\n",
       "      <td>restaurant</td>\n",
       "      <td>40.421951</td>\n",
       "      <td>-3.693535</td>\n",
       "      <td>Tampu</td>\n",
       "      <td>Calle de Prim 13</td>\n",
       "    </tr>\n",
       "    <tr>\n",
       "      <th>7</th>\n",
       "      <td>restaurant</td>\n",
       "      <td>40.422266</td>\n",
       "      <td>-3.694097</td>\n",
       "      <td>Casa Gades</td>\n",
       "      <td>Calle del Conde de Xiquena 4</td>\n",
       "    </tr>\n",
       "    <tr>\n",
       "      <th>8</th>\n",
       "      <td>restaurant</td>\n",
       "      <td>40.423151</td>\n",
       "      <td>-3.694062</td>\n",
       "      <td>El Cano de Xiquena</td>\n",
       "      <td>NO STREET 9999</td>\n",
       "    </tr>\n",
       "    <tr>\n",
       "      <th>9</th>\n",
       "      <td>restaurant</td>\n",
       "      <td>40.423345</td>\n",
       "      <td>-3.692632</td>\n",
       "      <td>El Gato Persa</td>\n",
       "      <td>Calle de Doña Bárbara de Braganza 10</td>\n",
       "    </tr>\n",
       "    <tr>\n",
       "      <th>10</th>\n",
       "      <td>restaurant</td>\n",
       "      <td>40.422441</td>\n",
       "      <td>-3.694220</td>\n",
       "      <td>Cannibal Raw Bar</td>\n",
       "      <td>Calle del Almirante 12</td>\n",
       "    </tr>\n",
       "    <tr>\n",
       "      <th>11</th>\n",
       "      <td>restaurant</td>\n",
       "      <td>40.422395</td>\n",
       "      <td>-3.691137</td>\n",
       "      <td>Dingo Restaurant</td>\n",
       "      <td>Paseo Recoletos 14</td>\n",
       "    </tr>\n",
       "    <tr>\n",
       "      <th>12</th>\n",
       "      <td>restaurant</td>\n",
       "      <td>40.421872</td>\n",
       "      <td>-3.690240</td>\n",
       "      <td>Banzai</td>\n",
       "      <td>NO STREET 9999</td>\n",
       "    </tr>\n",
       "    <tr>\n",
       "      <th>13</th>\n",
       "      <td>restaurant</td>\n",
       "      <td>40.421948</td>\n",
       "      <td>-3.690353</td>\n",
       "      <td>mama chico</td>\n",
       "      <td>NO STREET 9999</td>\n",
       "    </tr>\n",
       "    <tr>\n",
       "      <th>14</th>\n",
       "      <td>restaurant</td>\n",
       "      <td>40.421130</td>\n",
       "      <td>-3.689796</td>\n",
       "      <td>dokidoki</td>\n",
       "      <td>NO STREET 9999</td>\n",
       "    </tr>\n",
       "    <tr>\n",
       "      <th>15</th>\n",
       "      <td>restaurant</td>\n",
       "      <td>40.423600</td>\n",
       "      <td>-3.693725</td>\n",
       "      <td>Luke</td>\n",
       "      <td>Calle de Doña Bárbara de Braganza 2</td>\n",
       "    </tr>\n",
       "    <tr>\n",
       "      <th>16</th>\n",
       "      <td>restaurant</td>\n",
       "      <td>40.422141</td>\n",
       "      <td>-3.690864</td>\n",
       "      <td>Taberna Pedraza</td>\n",
       "      <td>Calle de Recoletos 4</td>\n",
       "    </tr>\n",
       "    <tr>\n",
       "      <th>17</th>\n",
       "      <td>restaurant</td>\n",
       "      <td>40.422379</td>\n",
       "      <td>-3.689518</td>\n",
       "      <td>Flavia</td>\n",
       "      <td>Calle de Gil de Santivañes 2</td>\n",
       "    </tr>\n",
       "    <tr>\n",
       "      <th>18</th>\n",
       "      <td>restaurant</td>\n",
       "      <td>40.422151</td>\n",
       "      <td>-3.690570</td>\n",
       "      <td>Al-Mounia</td>\n",
       "      <td>NO STREET 9999</td>\n",
       "    </tr>\n",
       "    <tr>\n",
       "      <th>19</th>\n",
       "      <td>restaurant</td>\n",
       "      <td>40.422777</td>\n",
       "      <td>-3.689781</td>\n",
       "      <td>SQD Meat Point</td>\n",
       "      <td>Calle de Villanueva 2</td>\n",
       "    </tr>\n",
       "    <tr>\n",
       "      <th>20</th>\n",
       "      <td>restaurant</td>\n",
       "      <td>40.422255</td>\n",
       "      <td>-3.694251</td>\n",
       "      <td>Merci</td>\n",
       "      <td>Calle del Conde de Xiquena 3</td>\n",
       "    </tr>\n",
       "    <tr>\n",
       "      <th>21</th>\n",
       "      <td>restaurant</td>\n",
       "      <td>40.422576</td>\n",
       "      <td>-3.694493</td>\n",
       "      <td>Mortadella</td>\n",
       "      <td>Calle del Almirante 11</td>\n",
       "    </tr>\n",
       "    <tr>\n",
       "      <th>22</th>\n",
       "      <td>restaurant</td>\n",
       "      <td>40.422081</td>\n",
       "      <td>-3.690748</td>\n",
       "      <td>New York Burger</td>\n",
       "      <td>Calle de Recoletos 4</td>\n",
       "    </tr>\n",
       "    <tr>\n",
       "      <th>23</th>\n",
       "      <td>restaurant</td>\n",
       "      <td>40.421821</td>\n",
       "      <td>-3.689824</td>\n",
       "      <td>Mestizo</td>\n",
       "      <td>Calle de Recoletos 13</td>\n",
       "    </tr>\n",
       "    <tr>\n",
       "      <th>24</th>\n",
       "      <td>restaurant</td>\n",
       "      <td>40.422941</td>\n",
       "      <td>-3.694051</td>\n",
       "      <td>Restaurante la Buena Vida</td>\n",
       "      <td>NO STREET 9999</td>\n",
       "    </tr>\n",
       "    <tr>\n",
       "      <th>25</th>\n",
       "      <td>restaurant</td>\n",
       "      <td>40.422426</td>\n",
       "      <td>-3.693418</td>\n",
       "      <td>Delirant</td>\n",
       "      <td>Calle del Almirante 20</td>\n",
       "    </tr>\n",
       "    <tr>\n",
       "      <th>26</th>\n",
       "      <td>restaurant</td>\n",
       "      <td>40.422211</td>\n",
       "      <td>-3.690702</td>\n",
       "      <td>Pelotari</td>\n",
       "      <td>NO STREET 9999</td>\n",
       "    </tr>\n",
       "    <tr>\n",
       "      <th>27</th>\n",
       "      <td>restaurant</td>\n",
       "      <td>40.422235</td>\n",
       "      <td>-3.690743</td>\n",
       "      <td>El Pelotari</td>\n",
       "      <td>NO STREET 9999</td>\n",
       "    </tr>\n",
       "    <tr>\n",
       "      <th>28</th>\n",
       "      <td>restaurant</td>\n",
       "      <td>40.422014</td>\n",
       "      <td>-3.690600</td>\n",
       "      <td>NOI</td>\n",
       "      <td>Calle de Recoletos 6</td>\n",
       "    </tr>\n",
       "  </tbody>\n",
       "</table>\n",
       "</div>"
      ],
      "text/plain": [
       "          tipo        lat       lon                       name  \\\n",
       "0   restaurant  40.423086 -3.693547              La Castafiore   \n",
       "1   restaurant  40.422607 -3.693256       Sake Dining Himawari   \n",
       "2   restaurant  40.423315 -3.692506                     Ainhoa   \n",
       "3   restaurant  40.421960 -3.694270                 La Kitchen   \n",
       "4   restaurant  40.421956 -3.693905               En La Gloria   \n",
       "5   restaurant  40.423695 -3.691651                Café Espejo   \n",
       "6   restaurant  40.421951 -3.693535                      Tampu   \n",
       "7   restaurant  40.422266 -3.694097                 Casa Gades   \n",
       "8   restaurant  40.423151 -3.694062         El Cano de Xiquena   \n",
       "9   restaurant  40.423345 -3.692632              El Gato Persa   \n",
       "10  restaurant  40.422441 -3.694220           Cannibal Raw Bar   \n",
       "11  restaurant  40.422395 -3.691137           Dingo Restaurant   \n",
       "12  restaurant  40.421872 -3.690240                     Banzai   \n",
       "13  restaurant  40.421948 -3.690353                 mama chico   \n",
       "14  restaurant  40.421130 -3.689796                   dokidoki   \n",
       "15  restaurant  40.423600 -3.693725                       Luke   \n",
       "16  restaurant  40.422141 -3.690864            Taberna Pedraza   \n",
       "17  restaurant  40.422379 -3.689518                     Flavia   \n",
       "18  restaurant  40.422151 -3.690570                  Al-Mounia   \n",
       "19  restaurant  40.422777 -3.689781             SQD Meat Point   \n",
       "20  restaurant  40.422255 -3.694251                      Merci   \n",
       "21  restaurant  40.422576 -3.694493                 Mortadella   \n",
       "22  restaurant  40.422081 -3.690748            New York Burger   \n",
       "23  restaurant  40.421821 -3.689824                    Mestizo   \n",
       "24  restaurant  40.422941 -3.694051  Restaurante la Buena Vida   \n",
       "25  restaurant  40.422426 -3.693418                   Delirant   \n",
       "26  restaurant  40.422211 -3.690702                   Pelotari   \n",
       "27  restaurant  40.422235 -3.690743                El Pelotari   \n",
       "28  restaurant  40.422014 -3.690600                        NOI   \n",
       "\n",
       "                                 address  \n",
       "0                         NO STREET 9999  \n",
       "1                         NO STREET 9999  \n",
       "2   Calle de Doña Bárbara de Braganza 12  \n",
       "3                         NO STREET 9999  \n",
       "4                        Calle de Prim 9  \n",
       "5                         NO STREET 9999  \n",
       "6                       Calle de Prim 13  \n",
       "7           Calle del Conde de Xiquena 4  \n",
       "8                         NO STREET 9999  \n",
       "9   Calle de Doña Bárbara de Braganza 10  \n",
       "10                Calle del Almirante 12  \n",
       "11                    Paseo Recoletos 14  \n",
       "12                        NO STREET 9999  \n",
       "13                        NO STREET 9999  \n",
       "14                        NO STREET 9999  \n",
       "15   Calle de Doña Bárbara de Braganza 2  \n",
       "16                  Calle de Recoletos 4  \n",
       "17          Calle de Gil de Santivañes 2  \n",
       "18                        NO STREET 9999  \n",
       "19                 Calle de Villanueva 2  \n",
       "20          Calle del Conde de Xiquena 3  \n",
       "21                Calle del Almirante 11  \n",
       "22                  Calle de Recoletos 4  \n",
       "23                 Calle de Recoletos 13  \n",
       "24                        NO STREET 9999  \n",
       "25                Calle del Almirante 20  \n",
       "26                        NO STREET 9999  \n",
       "27                        NO STREET 9999  \n",
       "28                  Calle de Recoletos 6  "
      ]
     },
     "execution_count": 6,
     "metadata": {},
     "output_type": "execute_result"
    }
   ],
   "source": [
    "overpass_url = \"http://overpass-api.de/api/interpreter\"\n",
    "overpass_query = \"\"\"\n",
    "[out:json];\n",
    "node[\"amenity\"=\"restaurant\"]\n",
    "  (40.420801, -3.694702,40.423754, -3.688167); \n",
    "out;\n",
    "\"\"\"\n",
    "response = requests.get(overpass_url, \n",
    "                        params={'data': overpass_query})\n",
    "print(response)\n",
    "data = response.json()\n",
    "df = json_to_df(data)\n",
    "df"
   ]
  },
  {
   "cell_type": "code",
   "execution_count": 7,
   "metadata": {},
   "outputs": [
    {
     "data": {
      "text/plain": [
       "{'version': 0.6,\n",
       " 'generator': 'Overpass API 0.7.58.2 2b5354b1',\n",
       " 'osm3s': {'timestamp_osm_base': '2022-06-02T07:40:55Z',\n",
       "  'copyright': 'The data included in this document is from www.openstreetmap.org. The data is made available under ODbL.'},\n",
       " 'elements': [{'type': 'node',\n",
       "   'id': 305536401,\n",
       "   'lat': 40.4230858,\n",
       "   'lon': -3.6935468,\n",
       "   'tags': {'amenity': 'restaurant', 'name': 'La Castafiore'}},\n",
       "  {'type': 'node',\n",
       "   'id': 324580483,\n",
       "   'lat': 40.4226068,\n",
       "   'lon': -3.6932565,\n",
       "   'tags': {'amenity': 'restaurant',\n",
       "    'cuisine': 'japanese',\n",
       "    'name': 'Sake Dining Himawari'}},\n",
       "  {'type': 'node',\n",
       "   'id': 3361315181,\n",
       "   'lat': 40.4233148,\n",
       "   'lon': -3.6925055,\n",
       "   'tags': {'addr:city': 'Madrid',\n",
       "    'addr:housenumber': '12',\n",
       "    'addr:postcode': '28004',\n",
       "    'addr:street': 'Calle de Doña Bárbara de Braganza',\n",
       "    'addr:subdistrict': 'Justicia',\n",
       "    'amenity': 'restaurant',\n",
       "    'cuisine': 'regional',\n",
       "    'name': 'Ainhoa',\n",
       "    'phone': '+34 913 08 27 26',\n",
       "    'website': 'http://restauranteainhoa.es/'}},\n",
       "  {'type': 'node',\n",
       "   'id': 3425259022,\n",
       "   'lat': 40.4219603,\n",
       "   'lon': -3.6942702,\n",
       "   'tags': {'amenity': 'restaurant',\n",
       "    'name': 'La Kitchen',\n",
       "    'source': 'survey'}},\n",
       "  {'type': 'node',\n",
       "   'id': 3425259024,\n",
       "   'lat': 40.4219559,\n",
       "   'lon': -3.6939049,\n",
       "   'tags': {'addr:city': 'Madrid',\n",
       "    'addr:housenumber': '9',\n",
       "    'addr:postcode': '28004',\n",
       "    'addr:street': 'Calle de Prim',\n",
       "    'amenity': 'restaurant',\n",
       "    'name': 'En La Gloria',\n",
       "    'old_name': 'Rey Fernando',\n",
       "    'source': 'survey',\n",
       "    'wheelchair': 'no'}},\n",
       "  {'type': 'node',\n",
       "   'id': 3426628963,\n",
       "   'lat': 40.4236949,\n",
       "   'lon': -3.6916509,\n",
       "   'tags': {'amenity': 'restaurant', 'name': 'Café Espejo'}},\n",
       "  {'type': 'node',\n",
       "   'id': 3426800301,\n",
       "   'lat': 40.4219515,\n",
       "   'lon': -3.6935347,\n",
       "   'tags': {'addr:city': 'Madrid',\n",
       "    'addr:housenumber': '13',\n",
       "    'addr:postcode': '28004',\n",
       "    'addr:street': 'Calle de Prim',\n",
       "    'amenity': 'restaurant',\n",
       "    'contact:phone': '+34 91 564 19 13',\n",
       "    'contact:website': 'https://tampurestaurante.com/',\n",
       "    'cuisine': 'peruvian',\n",
       "    'name': 'Tampu',\n",
       "    'old_name': 'Bla, bla, bla',\n",
       "    'wheelchair': 'no'}},\n",
       "  {'type': 'node',\n",
       "   'id': 3426800303,\n",
       "   'lat': 40.422266,\n",
       "   'lon': -3.694097,\n",
       "   'tags': {'addr:city': 'Madrid',\n",
       "    'addr:housenumber': '4',\n",
       "    'addr:postcode': '28004',\n",
       "    'addr:street': 'Calle del Conde de Xiquena',\n",
       "    'amenity': 'restaurant',\n",
       "    'contact:phone': '+34 915 31 26 37',\n",
       "    'contact:website': 'http://casagades.es/',\n",
       "    'name': 'Casa Gades'}},\n",
       "  {'type': 'node',\n",
       "   'id': 3426800308,\n",
       "   'lat': 40.4231514,\n",
       "   'lon': -3.6940615,\n",
       "   'tags': {'amenity': 'restaurant', 'name': 'El Cano de Xiquena'}},\n",
       "  {'type': 'node',\n",
       "   'id': 3426800309,\n",
       "   'lat': 40.4233452,\n",
       "   'lon': -3.6926318,\n",
       "   'tags': {'addr:city': 'Madrid',\n",
       "    'addr:housenumber': '10',\n",
       "    'addr:postcode': '28004',\n",
       "    'addr:street': 'Calle de Doña Bárbara de Braganza',\n",
       "    'addr:subdistrict': 'Justicia',\n",
       "    'amenity': 'restaurant',\n",
       "    'cuisine': 'regional',\n",
       "    'name': 'El Gato Persa'}},\n",
       "  {'type': 'node',\n",
       "   'id': 3426800318,\n",
       "   'lat': 40.4224409,\n",
       "   'lon': -3.6942202,\n",
       "   'tags': {'addr:city': 'Madrid',\n",
       "    'addr:housenumber': '12',\n",
       "    'addr:postcode': '28004',\n",
       "    'addr:street': 'Calle del Almirante',\n",
       "    'amenity': 'restaurant',\n",
       "    'contact:phone': '+34 91 026 87 94',\n",
       "    'contact:website': 'http://www.cannibalrawbar.es/',\n",
       "    'name': 'Cannibal Raw Bar',\n",
       "    'old_name': 'Oliver'}},\n",
       "  {'type': 'node',\n",
       "   'id': 3428424428,\n",
       "   'lat': 40.422395,\n",
       "   'lon': -3.6911375,\n",
       "   'tags': {'addr:city': 'Madrid',\n",
       "    'addr:housenumber': '14',\n",
       "    'addr:postcode': '28001',\n",
       "    'addr:street': 'Paseo Recoletos',\n",
       "    'amenity': 'restaurant',\n",
       "    'contact:website': 'https://dingorestaurant.com/',\n",
       "    'name': 'Dingo Restaurant',\n",
       "    'phone': '+34 917 81 70 73'}},\n",
       "  {'type': 'node',\n",
       "   'id': 4307227333,\n",
       "   'lat': 40.4218723,\n",
       "   'lon': -3.6902405,\n",
       "   'tags': {'amenity': 'restaurant', 'name': 'Banzai'}},\n",
       "  {'type': 'node',\n",
       "   'id': 4307227334,\n",
       "   'lat': 40.4219475,\n",
       "   'lon': -3.6903531,\n",
       "   'tags': {'amenity': 'restaurant', 'name': 'mama chico', 'natural': 'tree'}},\n",
       "  {'type': 'node',\n",
       "   'id': 4339113687,\n",
       "   'lat': 40.4211297,\n",
       "   'lon': -3.6897958,\n",
       "   'tags': {'amenity': 'restaurant',\n",
       "    'cuisine': 'japanese',\n",
       "    'name': 'dokidoki'}},\n",
       "  {'type': 'node',\n",
       "   'id': 4447160292,\n",
       "   'lat': 40.4236005,\n",
       "   'lon': -3.6937246,\n",
       "   'tags': {'addr:city': 'Madrid',\n",
       "    'addr:country': 'ES',\n",
       "    'addr:housenumber': '2',\n",
       "    'addr:postcode': '28004',\n",
       "    'addr:street': 'Calle de Doña Bárbara de Braganza',\n",
       "    'addr:subdistrict': 'Justicia',\n",
       "    'amenity': 'restaurant',\n",
       "    'name': 'Luke',\n",
       "    'old_name': 'Le Cabrera',\n",
       "    'website': 'http://www.lecabrera.com/'}},\n",
       "  {'type': 'node',\n",
       "   'id': 4547342631,\n",
       "   'lat': 40.4221408,\n",
       "   'lon': -3.6908645,\n",
       "   'tags': {'addr:city': 'Madrid',\n",
       "    'addr:housenumber': '4',\n",
       "    'addr:street': 'Calle de Recoletos',\n",
       "    'amenity': 'restaurant',\n",
       "    'name': 'Taberna Pedraza',\n",
       "    'old_name': 'Thai Garden 2112',\n",
       "    'phone': '+34 913 428 240',\n",
       "    'website': 'https://www.tabernapedraza.com/'}},\n",
       "  {'type': 'node',\n",
       "   'id': 4596780491,\n",
       "   'lat': 40.4223791,\n",
       "   'lon': -3.6895175,\n",
       "   'tags': {'addr:housenumber': '2',\n",
       "    'addr:street': 'Calle de Gil de Santivañes',\n",
       "    'amenity': 'restaurant',\n",
       "    'cuisine': 'italian',\n",
       "    'name': 'Flavia',\n",
       "    'website': 'http://flaviamadrid.com/'}},\n",
       "  {'type': 'node',\n",
       "   'id': 4602972001,\n",
       "   'lat': 40.4221513,\n",
       "   'lon': -3.6905695,\n",
       "   'tags': {'amenity': 'restaurant',\n",
       "    'cuisine': 'arab',\n",
       "    'name': 'Al-Mounia',\n",
       "    'name:ar': 'مطعم al movnia restaurant',\n",
       "    'website': 'https://www.restaurantealmounia.es/'}},\n",
       "  {'type': 'node',\n",
       "   'id': 4688479045,\n",
       "   'lat': 40.4227772,\n",
       "   'lon': -3.6897814,\n",
       "   'tags': {'addr:city': 'Madrid',\n",
       "    'addr:housenumber': '2',\n",
       "    'addr:postcode': '28001',\n",
       "    'addr:street': 'Calle de Villanueva',\n",
       "    'amenity': 'restaurant',\n",
       "    'email': 'julien@sqd.es',\n",
       "    'name': 'SQD Meat Point',\n",
       "    'phone': '+34 91 435 30 71'}},\n",
       "  {'type': 'node',\n",
       "   'id': 4703448421,\n",
       "   'lat': 40.4222548,\n",
       "   'lon': -3.6942512,\n",
       "   'tags': {'addr:city': 'Madrid',\n",
       "    'addr:housenumber': '3',\n",
       "    'addr:postcode': '28004',\n",
       "    'addr:street': 'Calle del Conde de Xiquena',\n",
       "    'amenity': 'restaurant',\n",
       "    'contact:phone': '+34 916 68 38 60',\n",
       "    'contact:website': 'http://www.mercirestaurante.com/',\n",
       "    'name': 'Merci'}},\n",
       "  {'type': 'node',\n",
       "   'id': 4778747542,\n",
       "   'lat': 40.422576,\n",
       "   'lon': -3.694493,\n",
       "   'tags': {'addr:city': 'Madrid',\n",
       "    'addr:housenumber': '11',\n",
       "    'addr:postcode': '28004',\n",
       "    'addr:street': 'Calle del Almirante',\n",
       "    'amenity': 'restaurant',\n",
       "    'contact:facebook': 'https://es-es.facebook.com/Restaurantemortadella/',\n",
       "    'contact:phone': '+34 915321850',\n",
       "    'contact:website': 'http://mortadella.es/',\n",
       "    'cuisine': 'italian',\n",
       "    'name': 'Mortadella'}},\n",
       "  {'type': 'node',\n",
       "   'id': 4778747545,\n",
       "   'lat': 40.4220813,\n",
       "   'lon': -3.6907483,\n",
       "   'tags': {'addr:city': 'Madrid',\n",
       "    'addr:housenumber': '4',\n",
       "    'addr:postcode': '28001',\n",
       "    'addr:street': 'Calle de Recoletos',\n",
       "    'amenity': 'restaurant',\n",
       "    'contact:phone': '+34 914 31 84 17',\n",
       "    'contact:website': 'https://newyorkburger.es',\n",
       "    'cuisine': 'burger',\n",
       "    'name': 'New York Burger'}},\n",
       "  {'type': 'node',\n",
       "   'id': 4778747546,\n",
       "   'lat': 40.4218211,\n",
       "   'lon': -3.6898244,\n",
       "   'tags': {'addr:city': 'Madrid',\n",
       "    'addr:housenumber': '13',\n",
       "    'addr:postcode': '28001',\n",
       "    'addr:street': 'Calle de Recoletos',\n",
       "    'amenity': 'restaurant',\n",
       "    'contact:phone': '+34 91 575 6453',\n",
       "    'contact:website': 'http://madrid.mestizomx.com/',\n",
       "    'cuisine': 'mexican',\n",
       "    'name': 'Mestizo'}},\n",
       "  {'type': 'node',\n",
       "   'id': 5068790959,\n",
       "   'lat': 40.4229408,\n",
       "   'lon': -3.6940512,\n",
       "   'tags': {'amenity': 'restaurant', 'name': 'Restaurante la Buena Vida'}},\n",
       "  {'type': 'node',\n",
       "   'id': 5622545022,\n",
       "   'lat': 40.422426,\n",
       "   'lon': -3.6934185,\n",
       "   'tags': {'addr:housenumber': '20',\n",
       "    'addr:street': 'Calle del Almirante',\n",
       "    'amenity': 'restaurant',\n",
       "    'name': 'Delirant'}},\n",
       "  {'type': 'node',\n",
       "   'id': 6684049135,\n",
       "   'lat': 40.422211,\n",
       "   'lon': -3.6907019,\n",
       "   'tags': {'amenity': 'restaurant',\n",
       "    'name': 'Pelotari',\n",
       "    'phone': '+34 915 78 24 97',\n",
       "    'website': 'http://pelotari-asador.com/'}},\n",
       "  {'type': 'node',\n",
       "   'id': 6806382285,\n",
       "   'lat': 40.4222351,\n",
       "   'lon': -3.6907431,\n",
       "   'tags': {'amenity': 'restaurant', 'name': 'El Pelotari'}},\n",
       "  {'type': 'node',\n",
       "   'id': 9207695355,\n",
       "   'lat': 40.4220139,\n",
       "   'lon': -3.6906004,\n",
       "   'tags': {'addr:city': 'Madrid',\n",
       "    'addr:housenumber': '6',\n",
       "    'addr:postcode': '28001',\n",
       "    'addr:street': 'Calle de Recoletos',\n",
       "    'amenity': 'restaurant',\n",
       "    'cuisine': 'italian',\n",
       "    'name': 'NOI',\n",
       "    'phone': '+34 91 0694 07',\n",
       "    'website': 'https://restaurantenoi.com/'}}]}"
      ]
     },
     "execution_count": 7,
     "metadata": {},
     "output_type": "execute_result"
    }
   ],
   "source": [
    "data"
   ]
  },
  {
   "cell_type": "code",
   "execution_count": 8,
   "metadata": {},
   "outputs": [
    {
     "data": {
      "application/vnd.plotly.v1+json": {
       "config": {
        "plotlyServerURL": "https://plot.ly"
       },
       "data": [
        {
         "hovertemplate": "tipo=restaurant<br>lat=%{lat}<br>lon=%{lon}<extra></extra>",
         "lat": [
          40.4230858,
          40.4226068,
          40.4233148,
          40.4219603,
          40.4219559,
          40.4236949,
          40.4219515,
          40.422266,
          40.4231514,
          40.4233452,
          40.4224409,
          40.422395,
          40.4218723,
          40.4219475,
          40.4211297,
          40.4236005,
          40.4221408,
          40.4223791,
          40.4221513,
          40.4227772,
          40.4222548,
          40.422576,
          40.4220813,
          40.4218211,
          40.4229408,
          40.422426,
          40.422211,
          40.4222351,
          40.4220139
         ],
         "legendgroup": "restaurant",
         "lon": [
          -3.6935468,
          -3.6932565,
          -3.6925055,
          -3.6942702,
          -3.6939049,
          -3.6916509,
          -3.6935347,
          -3.694097,
          -3.6940615,
          -3.6926318,
          -3.6942202,
          -3.6911375,
          -3.6902405,
          -3.6903531,
          -3.6897958,
          -3.6937246,
          -3.6908645,
          -3.6895175,
          -3.6905695,
          -3.6897814,
          -3.6942512,
          -3.694493,
          -3.6907483,
          -3.6898244,
          -3.6940512,
          -3.6934185,
          -3.6907019,
          -3.6907431,
          -3.6906004
         ],
         "marker": {
          "color": "#636efa"
         },
         "mode": "markers",
         "name": "restaurant",
         "showlegend": true,
         "subplot": "mapbox",
         "type": "scattermapbox"
        }
       ],
       "layout": {
        "legend": {
         "title": {
          "text": "tipo"
         },
         "tracegroupgap": 0
        },
        "mapbox": {
         "accesstoken": "pk.eyJ1IjoiZGFvcnRpIiwiYSI6ImNrZnF6M3FlczA3cDEyem16YTNzZmV4M2EifQ.846iF0sMSAXv0kwkwUTYjg",
         "center": {
          "lat": 40.42243885862069,
          "lon": -3.6921550482758616
         },
         "domain": {
          "x": [
           0,
           1
          ],
          "y": [
           0,
           1
          ]
         },
         "zoom": 11
        },
        "margin": {
         "t": 60
        },
        "template": {
         "data": {
          "bar": [
           {
            "error_x": {
             "color": "#2a3f5f"
            },
            "error_y": {
             "color": "#2a3f5f"
            },
            "marker": {
             "line": {
              "color": "#E5ECF6",
              "width": 0.5
             },
             "pattern": {
              "fillmode": "overlay",
              "size": 10,
              "solidity": 0.2
             }
            },
            "type": "bar"
           }
          ],
          "barpolar": [
           {
            "marker": {
             "line": {
              "color": "#E5ECF6",
              "width": 0.5
             },
             "pattern": {
              "fillmode": "overlay",
              "size": 10,
              "solidity": 0.2
             }
            },
            "type": "barpolar"
           }
          ],
          "carpet": [
           {
            "aaxis": {
             "endlinecolor": "#2a3f5f",
             "gridcolor": "white",
             "linecolor": "white",
             "minorgridcolor": "white",
             "startlinecolor": "#2a3f5f"
            },
            "baxis": {
             "endlinecolor": "#2a3f5f",
             "gridcolor": "white",
             "linecolor": "white",
             "minorgridcolor": "white",
             "startlinecolor": "#2a3f5f"
            },
            "type": "carpet"
           }
          ],
          "choropleth": [
           {
            "colorbar": {
             "outlinewidth": 0,
             "ticks": ""
            },
            "type": "choropleth"
           }
          ],
          "contour": [
           {
            "colorbar": {
             "outlinewidth": 0,
             "ticks": ""
            },
            "colorscale": [
             [
              0,
              "#0d0887"
             ],
             [
              0.1111111111111111,
              "#46039f"
             ],
             [
              0.2222222222222222,
              "#7201a8"
             ],
             [
              0.3333333333333333,
              "#9c179e"
             ],
             [
              0.4444444444444444,
              "#bd3786"
             ],
             [
              0.5555555555555556,
              "#d8576b"
             ],
             [
              0.6666666666666666,
              "#ed7953"
             ],
             [
              0.7777777777777778,
              "#fb9f3a"
             ],
             [
              0.8888888888888888,
              "#fdca26"
             ],
             [
              1,
              "#f0f921"
             ]
            ],
            "type": "contour"
           }
          ],
          "contourcarpet": [
           {
            "colorbar": {
             "outlinewidth": 0,
             "ticks": ""
            },
            "type": "contourcarpet"
           }
          ],
          "heatmap": [
           {
            "colorbar": {
             "outlinewidth": 0,
             "ticks": ""
            },
            "colorscale": [
             [
              0,
              "#0d0887"
             ],
             [
              0.1111111111111111,
              "#46039f"
             ],
             [
              0.2222222222222222,
              "#7201a8"
             ],
             [
              0.3333333333333333,
              "#9c179e"
             ],
             [
              0.4444444444444444,
              "#bd3786"
             ],
             [
              0.5555555555555556,
              "#d8576b"
             ],
             [
              0.6666666666666666,
              "#ed7953"
             ],
             [
              0.7777777777777778,
              "#fb9f3a"
             ],
             [
              0.8888888888888888,
              "#fdca26"
             ],
             [
              1,
              "#f0f921"
             ]
            ],
            "type": "heatmap"
           }
          ],
          "heatmapgl": [
           {
            "colorbar": {
             "outlinewidth": 0,
             "ticks": ""
            },
            "colorscale": [
             [
              0,
              "#0d0887"
             ],
             [
              0.1111111111111111,
              "#46039f"
             ],
             [
              0.2222222222222222,
              "#7201a8"
             ],
             [
              0.3333333333333333,
              "#9c179e"
             ],
             [
              0.4444444444444444,
              "#bd3786"
             ],
             [
              0.5555555555555556,
              "#d8576b"
             ],
             [
              0.6666666666666666,
              "#ed7953"
             ],
             [
              0.7777777777777778,
              "#fb9f3a"
             ],
             [
              0.8888888888888888,
              "#fdca26"
             ],
             [
              1,
              "#f0f921"
             ]
            ],
            "type": "heatmapgl"
           }
          ],
          "histogram": [
           {
            "marker": {
             "pattern": {
              "fillmode": "overlay",
              "size": 10,
              "solidity": 0.2
             }
            },
            "type": "histogram"
           }
          ],
          "histogram2d": [
           {
            "colorbar": {
             "outlinewidth": 0,
             "ticks": ""
            },
            "colorscale": [
             [
              0,
              "#0d0887"
             ],
             [
              0.1111111111111111,
              "#46039f"
             ],
             [
              0.2222222222222222,
              "#7201a8"
             ],
             [
              0.3333333333333333,
              "#9c179e"
             ],
             [
              0.4444444444444444,
              "#bd3786"
             ],
             [
              0.5555555555555556,
              "#d8576b"
             ],
             [
              0.6666666666666666,
              "#ed7953"
             ],
             [
              0.7777777777777778,
              "#fb9f3a"
             ],
             [
              0.8888888888888888,
              "#fdca26"
             ],
             [
              1,
              "#f0f921"
             ]
            ],
            "type": "histogram2d"
           }
          ],
          "histogram2dcontour": [
           {
            "colorbar": {
             "outlinewidth": 0,
             "ticks": ""
            },
            "colorscale": [
             [
              0,
              "#0d0887"
             ],
             [
              0.1111111111111111,
              "#46039f"
             ],
             [
              0.2222222222222222,
              "#7201a8"
             ],
             [
              0.3333333333333333,
              "#9c179e"
             ],
             [
              0.4444444444444444,
              "#bd3786"
             ],
             [
              0.5555555555555556,
              "#d8576b"
             ],
             [
              0.6666666666666666,
              "#ed7953"
             ],
             [
              0.7777777777777778,
              "#fb9f3a"
             ],
             [
              0.8888888888888888,
              "#fdca26"
             ],
             [
              1,
              "#f0f921"
             ]
            ],
            "type": "histogram2dcontour"
           }
          ],
          "mesh3d": [
           {
            "colorbar": {
             "outlinewidth": 0,
             "ticks": ""
            },
            "type": "mesh3d"
           }
          ],
          "parcoords": [
           {
            "line": {
             "colorbar": {
              "outlinewidth": 0,
              "ticks": ""
             }
            },
            "type": "parcoords"
           }
          ],
          "pie": [
           {
            "automargin": true,
            "type": "pie"
           }
          ],
          "scatter": [
           {
            "fillpattern": {
             "fillmode": "overlay",
             "size": 10,
             "solidity": 0.2
            },
            "type": "scatter"
           }
          ],
          "scatter3d": [
           {
            "line": {
             "colorbar": {
              "outlinewidth": 0,
              "ticks": ""
             }
            },
            "marker": {
             "colorbar": {
              "outlinewidth": 0,
              "ticks": ""
             }
            },
            "type": "scatter3d"
           }
          ],
          "scattercarpet": [
           {
            "marker": {
             "colorbar": {
              "outlinewidth": 0,
              "ticks": ""
             }
            },
            "type": "scattercarpet"
           }
          ],
          "scattergeo": [
           {
            "marker": {
             "colorbar": {
              "outlinewidth": 0,
              "ticks": ""
             }
            },
            "type": "scattergeo"
           }
          ],
          "scattergl": [
           {
            "marker": {
             "colorbar": {
              "outlinewidth": 0,
              "ticks": ""
             }
            },
            "type": "scattergl"
           }
          ],
          "scattermapbox": [
           {
            "marker": {
             "colorbar": {
              "outlinewidth": 0,
              "ticks": ""
             }
            },
            "type": "scattermapbox"
           }
          ],
          "scatterpolar": [
           {
            "marker": {
             "colorbar": {
              "outlinewidth": 0,
              "ticks": ""
             }
            },
            "type": "scatterpolar"
           }
          ],
          "scatterpolargl": [
           {
            "marker": {
             "colorbar": {
              "outlinewidth": 0,
              "ticks": ""
             }
            },
            "type": "scatterpolargl"
           }
          ],
          "scatterternary": [
           {
            "marker": {
             "colorbar": {
              "outlinewidth": 0,
              "ticks": ""
             }
            },
            "type": "scatterternary"
           }
          ],
          "surface": [
           {
            "colorbar": {
             "outlinewidth": 0,
             "ticks": ""
            },
            "colorscale": [
             [
              0,
              "#0d0887"
             ],
             [
              0.1111111111111111,
              "#46039f"
             ],
             [
              0.2222222222222222,
              "#7201a8"
             ],
             [
              0.3333333333333333,
              "#9c179e"
             ],
             [
              0.4444444444444444,
              "#bd3786"
             ],
             [
              0.5555555555555556,
              "#d8576b"
             ],
             [
              0.6666666666666666,
              "#ed7953"
             ],
             [
              0.7777777777777778,
              "#fb9f3a"
             ],
             [
              0.8888888888888888,
              "#fdca26"
             ],
             [
              1,
              "#f0f921"
             ]
            ],
            "type": "surface"
           }
          ],
          "table": [
           {
            "cells": {
             "fill": {
              "color": "#EBF0F8"
             },
             "line": {
              "color": "white"
             }
            },
            "header": {
             "fill": {
              "color": "#C8D4E3"
             },
             "line": {
              "color": "white"
             }
            },
            "type": "table"
           }
          ]
         },
         "layout": {
          "annotationdefaults": {
           "arrowcolor": "#2a3f5f",
           "arrowhead": 0,
           "arrowwidth": 1
          },
          "autotypenumbers": "strict",
          "coloraxis": {
           "colorbar": {
            "outlinewidth": 0,
            "ticks": ""
           }
          },
          "colorscale": {
           "diverging": [
            [
             0,
             "#8e0152"
            ],
            [
             0.1,
             "#c51b7d"
            ],
            [
             0.2,
             "#de77ae"
            ],
            [
             0.3,
             "#f1b6da"
            ],
            [
             0.4,
             "#fde0ef"
            ],
            [
             0.5,
             "#f7f7f7"
            ],
            [
             0.6,
             "#e6f5d0"
            ],
            [
             0.7,
             "#b8e186"
            ],
            [
             0.8,
             "#7fbc41"
            ],
            [
             0.9,
             "#4d9221"
            ],
            [
             1,
             "#276419"
            ]
           ],
           "sequential": [
            [
             0,
             "#0d0887"
            ],
            [
             0.1111111111111111,
             "#46039f"
            ],
            [
             0.2222222222222222,
             "#7201a8"
            ],
            [
             0.3333333333333333,
             "#9c179e"
            ],
            [
             0.4444444444444444,
             "#bd3786"
            ],
            [
             0.5555555555555556,
             "#d8576b"
            ],
            [
             0.6666666666666666,
             "#ed7953"
            ],
            [
             0.7777777777777778,
             "#fb9f3a"
            ],
            [
             0.8888888888888888,
             "#fdca26"
            ],
            [
             1,
             "#f0f921"
            ]
           ],
           "sequentialminus": [
            [
             0,
             "#0d0887"
            ],
            [
             0.1111111111111111,
             "#46039f"
            ],
            [
             0.2222222222222222,
             "#7201a8"
            ],
            [
             0.3333333333333333,
             "#9c179e"
            ],
            [
             0.4444444444444444,
             "#bd3786"
            ],
            [
             0.5555555555555556,
             "#d8576b"
            ],
            [
             0.6666666666666666,
             "#ed7953"
            ],
            [
             0.7777777777777778,
             "#fb9f3a"
            ],
            [
             0.8888888888888888,
             "#fdca26"
            ],
            [
             1,
             "#f0f921"
            ]
           ]
          },
          "colorway": [
           "#636efa",
           "#EF553B",
           "#00cc96",
           "#ab63fa",
           "#FFA15A",
           "#19d3f3",
           "#FF6692",
           "#B6E880",
           "#FF97FF",
           "#FECB52"
          ],
          "font": {
           "color": "#2a3f5f"
          },
          "geo": {
           "bgcolor": "white",
           "lakecolor": "white",
           "landcolor": "#E5ECF6",
           "showlakes": true,
           "showland": true,
           "subunitcolor": "white"
          },
          "hoverlabel": {
           "align": "left"
          },
          "hovermode": "closest",
          "mapbox": {
           "style": "light"
          },
          "paper_bgcolor": "white",
          "plot_bgcolor": "#E5ECF6",
          "polar": {
           "angularaxis": {
            "gridcolor": "white",
            "linecolor": "white",
            "ticks": ""
           },
           "bgcolor": "#E5ECF6",
           "radialaxis": {
            "gridcolor": "white",
            "linecolor": "white",
            "ticks": ""
           }
          },
          "scene": {
           "xaxis": {
            "backgroundcolor": "#E5ECF6",
            "gridcolor": "white",
            "gridwidth": 2,
            "linecolor": "white",
            "showbackground": true,
            "ticks": "",
            "zerolinecolor": "white"
           },
           "yaxis": {
            "backgroundcolor": "#E5ECF6",
            "gridcolor": "white",
            "gridwidth": 2,
            "linecolor": "white",
            "showbackground": true,
            "ticks": "",
            "zerolinecolor": "white"
           },
           "zaxis": {
            "backgroundcolor": "#E5ECF6",
            "gridcolor": "white",
            "gridwidth": 2,
            "linecolor": "white",
            "showbackground": true,
            "ticks": "",
            "zerolinecolor": "white"
           }
          },
          "shapedefaults": {
           "line": {
            "color": "#2a3f5f"
           }
          },
          "ternary": {
           "aaxis": {
            "gridcolor": "white",
            "linecolor": "white",
            "ticks": ""
           },
           "baxis": {
            "gridcolor": "white",
            "linecolor": "white",
            "ticks": ""
           },
           "bgcolor": "#E5ECF6",
           "caxis": {
            "gridcolor": "white",
            "linecolor": "white",
            "ticks": ""
           }
          },
          "title": {
           "x": 0.05
          },
          "xaxis": {
           "automargin": true,
           "gridcolor": "white",
           "linecolor": "white",
           "ticks": "",
           "title": {
            "standoff": 15
           },
           "zerolinecolor": "white",
           "zerolinewidth": 2
          },
          "yaxis": {
           "automargin": true,
           "gridcolor": "white",
           "linecolor": "white",
           "ticks": "",
           "title": {
            "standoff": 15
           },
           "zerolinecolor": "white",
           "zerolinewidth": 2
          }
         }
        }
       }
      }
     },
     "metadata": {},
     "output_type": "display_data"
    }
   ],
   "source": [
    "pinta_mapa(df)"
   ]
  },
  {
   "cell_type": "markdown",
   "metadata": {},
   "source": [
    "## Ejercicio 1\n",
    "### Búsqueda de aparcamiento\n",
    "Para este caso de uso imagina que vas a Madrid de viaje y estás buscando posibles parkings donde dejar el coche, crea un DataFrame con todos los parkings (de OpenStreetMap) de la ciudad de Madrid. Para ello define una cuadrícula con dos coordenadas sobre Madrid.\n",
    "\n",
    "Representa en un mapa los resultados"
   ]
  },
  {
   "cell_type": "code",
   "execution_count": 12,
   "metadata": {},
   "outputs": [
    {
     "name": "stdout",
     "output_type": "stream",
     "text": [
      "<Response [200]>\n"
     ]
    },
    {
     "data": {
      "text/html": [
       "<div>\n",
       "<style scoped>\n",
       "    .dataframe tbody tr th:only-of-type {\n",
       "        vertical-align: middle;\n",
       "    }\n",
       "\n",
       "    .dataframe tbody tr th {\n",
       "        vertical-align: top;\n",
       "    }\n",
       "\n",
       "    .dataframe thead th {\n",
       "        text-align: right;\n",
       "    }\n",
       "</style>\n",
       "<table border=\"1\" class=\"dataframe\">\n",
       "  <thead>\n",
       "    <tr style=\"text-align: right;\">\n",
       "      <th></th>\n",
       "      <th>tipo</th>\n",
       "      <th>lat</th>\n",
       "      <th>lon</th>\n",
       "      <th>name</th>\n",
       "      <th>address</th>\n",
       "    </tr>\n",
       "  </thead>\n",
       "  <tbody>\n",
       "    <tr>\n",
       "      <th>0</th>\n",
       "      <td>parking</td>\n",
       "      <td>38.550493</td>\n",
       "      <td>-0.125530</td>\n",
       "      <td>Estació d'Autobusos</td>\n",
       "      <td>NO STREET 9999</td>\n",
       "    </tr>\n",
       "    <tr>\n",
       "      <th>1</th>\n",
       "      <td>parking</td>\n",
       "      <td>38.545035</td>\n",
       "      <td>-0.103045</td>\n",
       "      <td>NO NAME</td>\n",
       "      <td>NO STREET 9999</td>\n",
       "    </tr>\n",
       "    <tr>\n",
       "      <th>2</th>\n",
       "      <td>parking</td>\n",
       "      <td>38.544652</td>\n",
       "      <td>-0.101997</td>\n",
       "      <td>NO NAME</td>\n",
       "      <td>NO STREET 9999</td>\n",
       "    </tr>\n",
       "    <tr>\n",
       "      <th>3</th>\n",
       "      <td>parking</td>\n",
       "      <td>38.572438</td>\n",
       "      <td>-0.125077</td>\n",
       "      <td>NO NAME</td>\n",
       "      <td>NO STREET 9999</td>\n",
       "    </tr>\n",
       "    <tr>\n",
       "      <th>4</th>\n",
       "      <td>parking</td>\n",
       "      <td>38.579813</td>\n",
       "      <td>-0.104364</td>\n",
       "      <td>NO NAME</td>\n",
       "      <td>NO STREET 9999</td>\n",
       "    </tr>\n",
       "    <tr>\n",
       "      <th>5</th>\n",
       "      <td>parking</td>\n",
       "      <td>38.580023</td>\n",
       "      <td>-0.100834</td>\n",
       "      <td>NO NAME</td>\n",
       "      <td>NO STREET 9999</td>\n",
       "    </tr>\n",
       "    <tr>\n",
       "      <th>6</th>\n",
       "      <td>parking</td>\n",
       "      <td>38.548000</td>\n",
       "      <td>-0.113650</td>\n",
       "      <td>NO NAME</td>\n",
       "      <td>NO STREET 9999</td>\n",
       "    </tr>\n",
       "    <tr>\n",
       "      <th>7</th>\n",
       "      <td>parking</td>\n",
       "      <td>38.547443</td>\n",
       "      <td>-0.115726</td>\n",
       "      <td>NO NAME</td>\n",
       "      <td>NO STREET 9999</td>\n",
       "    </tr>\n",
       "    <tr>\n",
       "      <th>8</th>\n",
       "      <td>parking</td>\n",
       "      <td>38.548963</td>\n",
       "      <td>-0.106937</td>\n",
       "      <td>NO NAME</td>\n",
       "      <td>NO STREET 9999</td>\n",
       "    </tr>\n",
       "    <tr>\n",
       "      <th>9</th>\n",
       "      <td>parking</td>\n",
       "      <td>38.549196</td>\n",
       "      <td>-0.107216</td>\n",
       "      <td>NO NAME</td>\n",
       "      <td>NO STREET 9999</td>\n",
       "    </tr>\n",
       "    <tr>\n",
       "      <th>10</th>\n",
       "      <td>parking</td>\n",
       "      <td>38.696513</td>\n",
       "      <td>-0.100674</td>\n",
       "      <td>NO NAME</td>\n",
       "      <td>NO STREET 9999</td>\n",
       "    </tr>\n",
       "    <tr>\n",
       "      <th>11</th>\n",
       "      <td>parking</td>\n",
       "      <td>38.694067</td>\n",
       "      <td>-0.127958</td>\n",
       "      <td>NO NAME</td>\n",
       "      <td>NO STREET 9999</td>\n",
       "    </tr>\n",
       "    <tr>\n",
       "      <th>12</th>\n",
       "      <td>parking</td>\n",
       "      <td>38.564622</td>\n",
       "      <td>-0.091129</td>\n",
       "      <td>PARKING CHARLY</td>\n",
       "      <td>NO STREET 9999</td>\n",
       "    </tr>\n",
       "    <tr>\n",
       "      <th>13</th>\n",
       "      <td>parking</td>\n",
       "      <td>38.601988</td>\n",
       "      <td>-0.129736</td>\n",
       "      <td>NO NAME</td>\n",
       "      <td>NO STREET 9999</td>\n",
       "    </tr>\n",
       "    <tr>\n",
       "      <th>14</th>\n",
       "      <td>parking</td>\n",
       "      <td>38.576781</td>\n",
       "      <td>-0.065322</td>\n",
       "      <td>Aparcamiento privado</td>\n",
       "      <td>NO STREET 9999</td>\n",
       "    </tr>\n",
       "    <tr>\n",
       "      <th>15</th>\n",
       "      <td>parking</td>\n",
       "      <td>38.619245</td>\n",
       "      <td>-0.121536</td>\n",
       "      <td>NO NAME</td>\n",
       "      <td>NO STREET 9999</td>\n",
       "    </tr>\n",
       "    <tr>\n",
       "      <th>16</th>\n",
       "      <td>parking</td>\n",
       "      <td>38.577349</td>\n",
       "      <td>-0.130585</td>\n",
       "      <td>NO NAME</td>\n",
       "      <td>NO STREET 9999</td>\n",
       "    </tr>\n",
       "    <tr>\n",
       "      <th>17</th>\n",
       "      <td>parking</td>\n",
       "      <td>38.578244</td>\n",
       "      <td>-0.130210</td>\n",
       "      <td>NO NAME</td>\n",
       "      <td>NO STREET 9999</td>\n",
       "    </tr>\n",
       "  </tbody>\n",
       "</table>\n",
       "</div>"
      ],
      "text/plain": [
       "       tipo        lat       lon                  name         address\n",
       "0   parking  38.550493 -0.125530   Estació d'Autobusos  NO STREET 9999\n",
       "1   parking  38.545035 -0.103045               NO NAME  NO STREET 9999\n",
       "2   parking  38.544652 -0.101997               NO NAME  NO STREET 9999\n",
       "3   parking  38.572438 -0.125077               NO NAME  NO STREET 9999\n",
       "4   parking  38.579813 -0.104364               NO NAME  NO STREET 9999\n",
       "5   parking  38.580023 -0.100834               NO NAME  NO STREET 9999\n",
       "6   parking  38.548000 -0.113650               NO NAME  NO STREET 9999\n",
       "7   parking  38.547443 -0.115726               NO NAME  NO STREET 9999\n",
       "8   parking  38.548963 -0.106937               NO NAME  NO STREET 9999\n",
       "9   parking  38.549196 -0.107216               NO NAME  NO STREET 9999\n",
       "10  parking  38.696513 -0.100674               NO NAME  NO STREET 9999\n",
       "11  parking  38.694067 -0.127958               NO NAME  NO STREET 9999\n",
       "12  parking  38.564622 -0.091129        PARKING CHARLY  NO STREET 9999\n",
       "13  parking  38.601988 -0.129736               NO NAME  NO STREET 9999\n",
       "14  parking  38.576781 -0.065322  Aparcamiento privado  NO STREET 9999\n",
       "15  parking  38.619245 -0.121536               NO NAME  NO STREET 9999\n",
       "16  parking  38.577349 -0.130585               NO NAME  NO STREET 9999\n",
       "17  parking  38.578244 -0.130210               NO NAME  NO STREET 9999"
      ]
     },
     "execution_count": 12,
     "metadata": {},
     "output_type": "execute_result"
    }
   ],
   "source": [
    "'''\n",
    "overpass_query = \"\"\"\n",
    "[out:json];\n",
    "node[\"amenity\"=\"parking\"]\n",
    "(40.396013, -3.746999, 40.480011, -3.625910);\n",
    "out;\n",
    "\"\"\"\n",
    "'''\n",
    "\n",
    "overpass_query = \"\"\"\n",
    "[out:json];\n",
    "node[\"amenity\"=\"parking\"]\n",
    "(38.544350, -0.134201, 38.710001, -0.030001);\n",
    "out;\n",
    "\"\"\"\n",
    "\n",
    "response = requests.get(overpass_url,\n",
    "                    params = {\"data\": overpass_query})\n",
    "print(response)\n",
    "data = response.json()\n",
    "df = json_to_df(data)\n",
    "df"
   ]
  },
  {
   "cell_type": "markdown",
   "metadata": {},
   "source": [
    "## Mudanza\n",
    "Imagina que te quieres mudar al Berrueco, pero antes te gustaría obtener algún indicador de si hay civilización por esa zona. Mira a ver si existe gasolineras y/o colegios por la zona. Define, al igual que en el caso anterior, un rectángulo mediante dos coordenadas. Busca la manera de realizar una única petición a la API.\n",
    "\n",
    "Representa después en un mapa, por color los colegios y gasolineras"
   ]
  },
  {
   "cell_type": "code",
   "execution_count": 13,
   "metadata": {},
   "outputs": [],
   "source": [
    "overpass_query = \"\"\"\n",
    "[out:json];\n",
    "node[\"amenity\"=\"fuel\"]\n",
    "  (40.851838, -3.627774, 40.941457, -3.481755);\n",
    "out;\n",
    "node[\"amenity\"=\"school\"]\n",
    "  (40.851838, -3.627774, 40.941457, -3.481755);\n",
    "out;\n",
    "\"\"\""
   ]
  },
  {
   "cell_type": "code",
   "execution_count": 16,
   "metadata": {},
   "outputs": [],
   "source": [
    "overpass_query = \"\"\"\n",
    "[out:json];\n",
    "node[\"amenity\"~\"fuel|shool\"]\n",
    "  (40.851838, -3.627774, 40.941457, -3.481755);\n",
    "out;\n",
    "\"\"\""
   ]
  },
  {
   "cell_type": "code",
   "execution_count": 14,
   "metadata": {},
   "outputs": [
    {
     "name": "stdout",
     "output_type": "stream",
     "text": [
      "<Response [200]>\n"
     ]
    },
    {
     "data": {
      "text/html": [
       "<div>\n",
       "<style scoped>\n",
       "    .dataframe tbody tr th:only-of-type {\n",
       "        vertical-align: middle;\n",
       "    }\n",
       "\n",
       "    .dataframe tbody tr th {\n",
       "        vertical-align: top;\n",
       "    }\n",
       "\n",
       "    .dataframe thead th {\n",
       "        text-align: right;\n",
       "    }\n",
       "</style>\n",
       "<table border=\"1\" class=\"dataframe\">\n",
       "  <thead>\n",
       "    <tr style=\"text-align: right;\">\n",
       "      <th></th>\n",
       "      <th>tipo</th>\n",
       "      <th>lat</th>\n",
       "      <th>lon</th>\n",
       "      <th>name</th>\n",
       "      <th>address</th>\n",
       "    </tr>\n",
       "  </thead>\n",
       "  <tbody>\n",
       "    <tr>\n",
       "      <th>0</th>\n",
       "      <td>fuel</td>\n",
       "      <td>40.905376</td>\n",
       "      <td>-3.607588</td>\n",
       "      <td>Repsol</td>\n",
       "      <td>NO STREET 9999</td>\n",
       "    </tr>\n",
       "    <tr>\n",
       "      <th>1</th>\n",
       "      <td>fuel</td>\n",
       "      <td>40.906677</td>\n",
       "      <td>-3.610172</td>\n",
       "      <td>Shell</td>\n",
       "      <td>CTRA. N-I KM 64.650 9999</td>\n",
       "    </tr>\n",
       "    <tr>\n",
       "      <th>2</th>\n",
       "      <td>fuel</td>\n",
       "      <td>40.856872</td>\n",
       "      <td>-3.612894</td>\n",
       "      <td>Repsol</td>\n",
       "      <td>AVDA. GENERALISIMO,12 9999</td>\n",
       "    </tr>\n",
       "    <tr>\n",
       "      <th>3</th>\n",
       "      <td>fuel</td>\n",
       "      <td>40.875833</td>\n",
       "      <td>-3.602389</td>\n",
       "      <td>Shell</td>\n",
       "      <td>Avenida de La Cabrera 9999</td>\n",
       "    </tr>\n",
       "    <tr>\n",
       "      <th>4</th>\n",
       "      <td>school</td>\n",
       "      <td>40.867720</td>\n",
       "      <td>-3.614696</td>\n",
       "      <td>Escuela infantil de La Cabrera</td>\n",
       "      <td>NO STREET 9999</td>\n",
       "    </tr>\n",
       "    <tr>\n",
       "      <th>5</th>\n",
       "      <td>school</td>\n",
       "      <td>40.855890</td>\n",
       "      <td>-3.483306</td>\n",
       "      <td>Patones</td>\n",
       "      <td>NO STREET 9999</td>\n",
       "    </tr>\n",
       "    <tr>\n",
       "      <th>6</th>\n",
       "      <td>school</td>\n",
       "      <td>40.872876</td>\n",
       "      <td>-3.606421</td>\n",
       "      <td>La Cabrera</td>\n",
       "      <td>NO STREET 9999</td>\n",
       "    </tr>\n",
       "    <tr>\n",
       "      <th>7</th>\n",
       "      <td>school</td>\n",
       "      <td>40.864566</td>\n",
       "      <td>-3.614058</td>\n",
       "      <td>Eq. Aten.Temprana La Cabrera-Lozoyuela</td>\n",
       "      <td>NO STREET 9999</td>\n",
       "    </tr>\n",
       "    <tr>\n",
       "      <th>8</th>\n",
       "      <td>school</td>\n",
       "      <td>40.872395</td>\n",
       "      <td>-3.608802</td>\n",
       "      <td>C.A.P. De La Cabrera</td>\n",
       "      <td>NO STREET 9999</td>\n",
       "    </tr>\n",
       "    <tr>\n",
       "      <th>9</th>\n",
       "      <td>school</td>\n",
       "      <td>40.863864</td>\n",
       "      <td>-3.615523</td>\n",
       "      <td>Equipo General La Cabrera</td>\n",
       "      <td>NO STREET 9999</td>\n",
       "    </tr>\n",
       "    <tr>\n",
       "      <th>10</th>\n",
       "      <td>school</td>\n",
       "      <td>40.872395</td>\n",
       "      <td>-3.608802</td>\n",
       "      <td>C.A.P. De La Cabrera</td>\n",
       "      <td>NO STREET 9999</td>\n",
       "    </tr>\n",
       "  </tbody>\n",
       "</table>\n",
       "</div>"
      ],
      "text/plain": [
       "      tipo        lat       lon                                    name  \\\n",
       "0     fuel  40.905376 -3.607588                                  Repsol   \n",
       "1     fuel  40.906677 -3.610172                                   Shell   \n",
       "2     fuel  40.856872 -3.612894                                  Repsol   \n",
       "3     fuel  40.875833 -3.602389                                   Shell   \n",
       "4   school  40.867720 -3.614696          Escuela infantil de La Cabrera   \n",
       "5   school  40.855890 -3.483306                                 Patones   \n",
       "6   school  40.872876 -3.606421                              La Cabrera   \n",
       "7   school  40.864566 -3.614058  Eq. Aten.Temprana La Cabrera-Lozoyuela   \n",
       "8   school  40.872395 -3.608802                    C.A.P. De La Cabrera   \n",
       "9   school  40.863864 -3.615523               Equipo General La Cabrera   \n",
       "10  school  40.872395 -3.608802                    C.A.P. De La Cabrera   \n",
       "\n",
       "                       address  \n",
       "0               NO STREET 9999  \n",
       "1     CTRA. N-I KM 64.650 9999  \n",
       "2   AVDA. GENERALISIMO,12 9999  \n",
       "3   Avenida de La Cabrera 9999  \n",
       "4               NO STREET 9999  \n",
       "5               NO STREET 9999  \n",
       "6               NO STREET 9999  \n",
       "7               NO STREET 9999  \n",
       "8               NO STREET 9999  \n",
       "9               NO STREET 9999  \n",
       "10              NO STREET 9999  "
      ]
     },
     "execution_count": 14,
     "metadata": {},
     "output_type": "execute_result"
    }
   ],
   "source": [
    "response = requests.get(overpass_url, \n",
    "                        params={'data': overpass_query})\n",
    "print(response)\n",
    "data = response.json()\n",
    "df = json_to_df(data)\n",
    "df"
   ]
  },
  {
   "cell_type": "code",
   "execution_count": 17,
   "metadata": {},
   "outputs": [
    {
     "data": {
      "application/vnd.plotly.v1+json": {
       "config": {
        "plotlyServerURL": "https://plot.ly"
       },
       "data": [
        {
         "hovertemplate": "tipo=fuel<br>lat=%{lat}<br>lon=%{lon}<extra></extra>",
         "lat": [
          40.9053756,
          40.906677,
          40.856872,
          40.8758331
         ],
         "legendgroup": "fuel",
         "lon": [
          -3.6075875,
          -3.610172,
          -3.6128941,
          -3.602389
         ],
         "marker": {
          "color": "#636efa"
         },
         "mode": "markers",
         "name": "fuel",
         "showlegend": true,
         "subplot": "mapbox",
         "type": "scattermapbox"
        },
        {
         "hovertemplate": "tipo=school<br>lat=%{lat}<br>lon=%{lon}<extra></extra>",
         "lat": [
          40.86772,
          40.8558899,
          40.8728757,
          40.864566,
          40.8723948,
          40.8638645,
          40.8723948
         ],
         "legendgroup": "school",
         "lon": [
          -3.6146961,
          -3.483306,
          -3.6064211,
          -3.6140581,
          -3.608802,
          -3.615523,
          -3.6088021
         ],
         "marker": {
          "color": "#EF553B"
         },
         "mode": "markers",
         "name": "school",
         "showlegend": true,
         "subplot": "mapbox",
         "type": "scattermapbox"
        }
       ],
       "layout": {
        "legend": {
         "title": {
          "text": "tipo"
         },
         "tracegroupgap": 0
        },
        "mapbox": {
         "accesstoken": "pk.eyJ1IjoiZGFvcnRpIiwiYSI6ImNrZnF6M3FlczA3cDEyem16YTNzZmV4M2EifQ.846iF0sMSAXv0kwkwUTYjg",
         "center": {
          "lat": 40.87404212727272,
          "lon": -3.5986046363636364
         },
         "domain": {
          "x": [
           0,
           1
          ],
          "y": [
           0,
           1
          ]
         },
         "zoom": 11
        },
        "margin": {
         "t": 60
        },
        "template": {
         "data": {
          "bar": [
           {
            "error_x": {
             "color": "#2a3f5f"
            },
            "error_y": {
             "color": "#2a3f5f"
            },
            "marker": {
             "line": {
              "color": "#E5ECF6",
              "width": 0.5
             },
             "pattern": {
              "fillmode": "overlay",
              "size": 10,
              "solidity": 0.2
             }
            },
            "type": "bar"
           }
          ],
          "barpolar": [
           {
            "marker": {
             "line": {
              "color": "#E5ECF6",
              "width": 0.5
             },
             "pattern": {
              "fillmode": "overlay",
              "size": 10,
              "solidity": 0.2
             }
            },
            "type": "barpolar"
           }
          ],
          "carpet": [
           {
            "aaxis": {
             "endlinecolor": "#2a3f5f",
             "gridcolor": "white",
             "linecolor": "white",
             "minorgridcolor": "white",
             "startlinecolor": "#2a3f5f"
            },
            "baxis": {
             "endlinecolor": "#2a3f5f",
             "gridcolor": "white",
             "linecolor": "white",
             "minorgridcolor": "white",
             "startlinecolor": "#2a3f5f"
            },
            "type": "carpet"
           }
          ],
          "choropleth": [
           {
            "colorbar": {
             "outlinewidth": 0,
             "ticks": ""
            },
            "type": "choropleth"
           }
          ],
          "contour": [
           {
            "colorbar": {
             "outlinewidth": 0,
             "ticks": ""
            },
            "colorscale": [
             [
              0,
              "#0d0887"
             ],
             [
              0.1111111111111111,
              "#46039f"
             ],
             [
              0.2222222222222222,
              "#7201a8"
             ],
             [
              0.3333333333333333,
              "#9c179e"
             ],
             [
              0.4444444444444444,
              "#bd3786"
             ],
             [
              0.5555555555555556,
              "#d8576b"
             ],
             [
              0.6666666666666666,
              "#ed7953"
             ],
             [
              0.7777777777777778,
              "#fb9f3a"
             ],
             [
              0.8888888888888888,
              "#fdca26"
             ],
             [
              1,
              "#f0f921"
             ]
            ],
            "type": "contour"
           }
          ],
          "contourcarpet": [
           {
            "colorbar": {
             "outlinewidth": 0,
             "ticks": ""
            },
            "type": "contourcarpet"
           }
          ],
          "heatmap": [
           {
            "colorbar": {
             "outlinewidth": 0,
             "ticks": ""
            },
            "colorscale": [
             [
              0,
              "#0d0887"
             ],
             [
              0.1111111111111111,
              "#46039f"
             ],
             [
              0.2222222222222222,
              "#7201a8"
             ],
             [
              0.3333333333333333,
              "#9c179e"
             ],
             [
              0.4444444444444444,
              "#bd3786"
             ],
             [
              0.5555555555555556,
              "#d8576b"
             ],
             [
              0.6666666666666666,
              "#ed7953"
             ],
             [
              0.7777777777777778,
              "#fb9f3a"
             ],
             [
              0.8888888888888888,
              "#fdca26"
             ],
             [
              1,
              "#f0f921"
             ]
            ],
            "type": "heatmap"
           }
          ],
          "heatmapgl": [
           {
            "colorbar": {
             "outlinewidth": 0,
             "ticks": ""
            },
            "colorscale": [
             [
              0,
              "#0d0887"
             ],
             [
              0.1111111111111111,
              "#46039f"
             ],
             [
              0.2222222222222222,
              "#7201a8"
             ],
             [
              0.3333333333333333,
              "#9c179e"
             ],
             [
              0.4444444444444444,
              "#bd3786"
             ],
             [
              0.5555555555555556,
              "#d8576b"
             ],
             [
              0.6666666666666666,
              "#ed7953"
             ],
             [
              0.7777777777777778,
              "#fb9f3a"
             ],
             [
              0.8888888888888888,
              "#fdca26"
             ],
             [
              1,
              "#f0f921"
             ]
            ],
            "type": "heatmapgl"
           }
          ],
          "histogram": [
           {
            "marker": {
             "pattern": {
              "fillmode": "overlay",
              "size": 10,
              "solidity": 0.2
             }
            },
            "type": "histogram"
           }
          ],
          "histogram2d": [
           {
            "colorbar": {
             "outlinewidth": 0,
             "ticks": ""
            },
            "colorscale": [
             [
              0,
              "#0d0887"
             ],
             [
              0.1111111111111111,
              "#46039f"
             ],
             [
              0.2222222222222222,
              "#7201a8"
             ],
             [
              0.3333333333333333,
              "#9c179e"
             ],
             [
              0.4444444444444444,
              "#bd3786"
             ],
             [
              0.5555555555555556,
              "#d8576b"
             ],
             [
              0.6666666666666666,
              "#ed7953"
             ],
             [
              0.7777777777777778,
              "#fb9f3a"
             ],
             [
              0.8888888888888888,
              "#fdca26"
             ],
             [
              1,
              "#f0f921"
             ]
            ],
            "type": "histogram2d"
           }
          ],
          "histogram2dcontour": [
           {
            "colorbar": {
             "outlinewidth": 0,
             "ticks": ""
            },
            "colorscale": [
             [
              0,
              "#0d0887"
             ],
             [
              0.1111111111111111,
              "#46039f"
             ],
             [
              0.2222222222222222,
              "#7201a8"
             ],
             [
              0.3333333333333333,
              "#9c179e"
             ],
             [
              0.4444444444444444,
              "#bd3786"
             ],
             [
              0.5555555555555556,
              "#d8576b"
             ],
             [
              0.6666666666666666,
              "#ed7953"
             ],
             [
              0.7777777777777778,
              "#fb9f3a"
             ],
             [
              0.8888888888888888,
              "#fdca26"
             ],
             [
              1,
              "#f0f921"
             ]
            ],
            "type": "histogram2dcontour"
           }
          ],
          "mesh3d": [
           {
            "colorbar": {
             "outlinewidth": 0,
             "ticks": ""
            },
            "type": "mesh3d"
           }
          ],
          "parcoords": [
           {
            "line": {
             "colorbar": {
              "outlinewidth": 0,
              "ticks": ""
             }
            },
            "type": "parcoords"
           }
          ],
          "pie": [
           {
            "automargin": true,
            "type": "pie"
           }
          ],
          "scatter": [
           {
            "fillpattern": {
             "fillmode": "overlay",
             "size": 10,
             "solidity": 0.2
            },
            "type": "scatter"
           }
          ],
          "scatter3d": [
           {
            "line": {
             "colorbar": {
              "outlinewidth": 0,
              "ticks": ""
             }
            },
            "marker": {
             "colorbar": {
              "outlinewidth": 0,
              "ticks": ""
             }
            },
            "type": "scatter3d"
           }
          ],
          "scattercarpet": [
           {
            "marker": {
             "colorbar": {
              "outlinewidth": 0,
              "ticks": ""
             }
            },
            "type": "scattercarpet"
           }
          ],
          "scattergeo": [
           {
            "marker": {
             "colorbar": {
              "outlinewidth": 0,
              "ticks": ""
             }
            },
            "type": "scattergeo"
           }
          ],
          "scattergl": [
           {
            "marker": {
             "colorbar": {
              "outlinewidth": 0,
              "ticks": ""
             }
            },
            "type": "scattergl"
           }
          ],
          "scattermapbox": [
           {
            "marker": {
             "colorbar": {
              "outlinewidth": 0,
              "ticks": ""
             }
            },
            "type": "scattermapbox"
           }
          ],
          "scatterpolar": [
           {
            "marker": {
             "colorbar": {
              "outlinewidth": 0,
              "ticks": ""
             }
            },
            "type": "scatterpolar"
           }
          ],
          "scatterpolargl": [
           {
            "marker": {
             "colorbar": {
              "outlinewidth": 0,
              "ticks": ""
             }
            },
            "type": "scatterpolargl"
           }
          ],
          "scatterternary": [
           {
            "marker": {
             "colorbar": {
              "outlinewidth": 0,
              "ticks": ""
             }
            },
            "type": "scatterternary"
           }
          ],
          "surface": [
           {
            "colorbar": {
             "outlinewidth": 0,
             "ticks": ""
            },
            "colorscale": [
             [
              0,
              "#0d0887"
             ],
             [
              0.1111111111111111,
              "#46039f"
             ],
             [
              0.2222222222222222,
              "#7201a8"
             ],
             [
              0.3333333333333333,
              "#9c179e"
             ],
             [
              0.4444444444444444,
              "#bd3786"
             ],
             [
              0.5555555555555556,
              "#d8576b"
             ],
             [
              0.6666666666666666,
              "#ed7953"
             ],
             [
              0.7777777777777778,
              "#fb9f3a"
             ],
             [
              0.8888888888888888,
              "#fdca26"
             ],
             [
              1,
              "#f0f921"
             ]
            ],
            "type": "surface"
           }
          ],
          "table": [
           {
            "cells": {
             "fill": {
              "color": "#EBF0F8"
             },
             "line": {
              "color": "white"
             }
            },
            "header": {
             "fill": {
              "color": "#C8D4E3"
             },
             "line": {
              "color": "white"
             }
            },
            "type": "table"
           }
          ]
         },
         "layout": {
          "annotationdefaults": {
           "arrowcolor": "#2a3f5f",
           "arrowhead": 0,
           "arrowwidth": 1
          },
          "autotypenumbers": "strict",
          "coloraxis": {
           "colorbar": {
            "outlinewidth": 0,
            "ticks": ""
           }
          },
          "colorscale": {
           "diverging": [
            [
             0,
             "#8e0152"
            ],
            [
             0.1,
             "#c51b7d"
            ],
            [
             0.2,
             "#de77ae"
            ],
            [
             0.3,
             "#f1b6da"
            ],
            [
             0.4,
             "#fde0ef"
            ],
            [
             0.5,
             "#f7f7f7"
            ],
            [
             0.6,
             "#e6f5d0"
            ],
            [
             0.7,
             "#b8e186"
            ],
            [
             0.8,
             "#7fbc41"
            ],
            [
             0.9,
             "#4d9221"
            ],
            [
             1,
             "#276419"
            ]
           ],
           "sequential": [
            [
             0,
             "#0d0887"
            ],
            [
             0.1111111111111111,
             "#46039f"
            ],
            [
             0.2222222222222222,
             "#7201a8"
            ],
            [
             0.3333333333333333,
             "#9c179e"
            ],
            [
             0.4444444444444444,
             "#bd3786"
            ],
            [
             0.5555555555555556,
             "#d8576b"
            ],
            [
             0.6666666666666666,
             "#ed7953"
            ],
            [
             0.7777777777777778,
             "#fb9f3a"
            ],
            [
             0.8888888888888888,
             "#fdca26"
            ],
            [
             1,
             "#f0f921"
            ]
           ],
           "sequentialminus": [
            [
             0,
             "#0d0887"
            ],
            [
             0.1111111111111111,
             "#46039f"
            ],
            [
             0.2222222222222222,
             "#7201a8"
            ],
            [
             0.3333333333333333,
             "#9c179e"
            ],
            [
             0.4444444444444444,
             "#bd3786"
            ],
            [
             0.5555555555555556,
             "#d8576b"
            ],
            [
             0.6666666666666666,
             "#ed7953"
            ],
            [
             0.7777777777777778,
             "#fb9f3a"
            ],
            [
             0.8888888888888888,
             "#fdca26"
            ],
            [
             1,
             "#f0f921"
            ]
           ]
          },
          "colorway": [
           "#636efa",
           "#EF553B",
           "#00cc96",
           "#ab63fa",
           "#FFA15A",
           "#19d3f3",
           "#FF6692",
           "#B6E880",
           "#FF97FF",
           "#FECB52"
          ],
          "font": {
           "color": "#2a3f5f"
          },
          "geo": {
           "bgcolor": "white",
           "lakecolor": "white",
           "landcolor": "#E5ECF6",
           "showlakes": true,
           "showland": true,
           "subunitcolor": "white"
          },
          "hoverlabel": {
           "align": "left"
          },
          "hovermode": "closest",
          "mapbox": {
           "style": "light"
          },
          "paper_bgcolor": "white",
          "plot_bgcolor": "#E5ECF6",
          "polar": {
           "angularaxis": {
            "gridcolor": "white",
            "linecolor": "white",
            "ticks": ""
           },
           "bgcolor": "#E5ECF6",
           "radialaxis": {
            "gridcolor": "white",
            "linecolor": "white",
            "ticks": ""
           }
          },
          "scene": {
           "xaxis": {
            "backgroundcolor": "#E5ECF6",
            "gridcolor": "white",
            "gridwidth": 2,
            "linecolor": "white",
            "showbackground": true,
            "ticks": "",
            "zerolinecolor": "white"
           },
           "yaxis": {
            "backgroundcolor": "#E5ECF6",
            "gridcolor": "white",
            "gridwidth": 2,
            "linecolor": "white",
            "showbackground": true,
            "ticks": "",
            "zerolinecolor": "white"
           },
           "zaxis": {
            "backgroundcolor": "#E5ECF6",
            "gridcolor": "white",
            "gridwidth": 2,
            "linecolor": "white",
            "showbackground": true,
            "ticks": "",
            "zerolinecolor": "white"
           }
          },
          "shapedefaults": {
           "line": {
            "color": "#2a3f5f"
           }
          },
          "ternary": {
           "aaxis": {
            "gridcolor": "white",
            "linecolor": "white",
            "ticks": ""
           },
           "baxis": {
            "gridcolor": "white",
            "linecolor": "white",
            "ticks": ""
           },
           "bgcolor": "#E5ECF6",
           "caxis": {
            "gridcolor": "white",
            "linecolor": "white",
            "ticks": ""
           }
          },
          "title": {
           "x": 0.05
          },
          "xaxis": {
           "automargin": true,
           "gridcolor": "white",
           "linecolor": "white",
           "ticks": "",
           "title": {
            "standoff": 15
           },
           "zerolinecolor": "white",
           "zerolinewidth": 2
          },
          "yaxis": {
           "automargin": true,
           "gridcolor": "white",
           "linecolor": "white",
           "ticks": "",
           "title": {
            "standoff": 15
           },
           "zerolinecolor": "white",
           "zerolinewidth": 2
          }
         }
        }
       }
      }
     },
     "metadata": {},
     "output_type": "display_data"
    }
   ],
   "source": [
    "pinta_mapa(df)"
   ]
  },
  {
   "cell_type": "markdown",
   "metadata": {},
   "source": [
    "## Zonas COVID\n",
    "Imagina que trabajas en el ayuntamiento de tu barrio/pueblo/ciudad, y por motivos del COVID tienes que identificar:\n",
    "1. Todas las zonas abiertas de uso común (zonas de barbacoas, fuentes de agua y parques infantiles (kindergarten)), para cerrarlas.\n",
    "2. Todos los hospitales y clínicas de la zona.\n",
    "\n",
    "Como no sabes muy bien qué puntos serán, utilizas la API de OpenStreetMap. Representa todo en un único mapa"
   ]
  },
  {
   "cell_type": "code",
   "execution_count": 18,
   "metadata": {},
   "outputs": [
    {
     "name": "stdout",
     "output_type": "stream",
     "text": [
      "<Response [200]>\n"
     ]
    },
    {
     "data": {
      "text/html": [
       "<div>\n",
       "<style scoped>\n",
       "    .dataframe tbody tr th:only-of-type {\n",
       "        vertical-align: middle;\n",
       "    }\n",
       "\n",
       "    .dataframe tbody tr th {\n",
       "        vertical-align: top;\n",
       "    }\n",
       "\n",
       "    .dataframe thead th {\n",
       "        text-align: right;\n",
       "    }\n",
       "</style>\n",
       "<table border=\"1\" class=\"dataframe\">\n",
       "  <thead>\n",
       "    <tr style=\"text-align: right;\">\n",
       "      <th></th>\n",
       "      <th>tipo</th>\n",
       "      <th>lat</th>\n",
       "      <th>lon</th>\n",
       "      <th>name</th>\n",
       "      <th>address</th>\n",
       "    </tr>\n",
       "  </thead>\n",
       "  <tbody>\n",
       "    <tr>\n",
       "      <th>0</th>\n",
       "      <td>drinking_water</td>\n",
       "      <td>40.413707</td>\n",
       "      <td>-3.695723</td>\n",
       "      <td>NO NAME</td>\n",
       "      <td>NO STREET 9999</td>\n",
       "    </tr>\n",
       "    <tr>\n",
       "      <th>1</th>\n",
       "      <td>drinking_water</td>\n",
       "      <td>40.412405</td>\n",
       "      <td>-3.691392</td>\n",
       "      <td>NO NAME</td>\n",
       "      <td>NO STREET 9999</td>\n",
       "    </tr>\n",
       "    <tr>\n",
       "      <th>2</th>\n",
       "      <td>drinking_water</td>\n",
       "      <td>40.411579</td>\n",
       "      <td>-3.711331</td>\n",
       "      <td>NO NAME</td>\n",
       "      <td>NO STREET 9999</td>\n",
       "    </tr>\n",
       "    <tr>\n",
       "      <th>3</th>\n",
       "      <td>drinking_water</td>\n",
       "      <td>40.413810</td>\n",
       "      <td>-3.709083</td>\n",
       "      <td>NO NAME</td>\n",
       "      <td>NO STREET 9999</td>\n",
       "    </tr>\n",
       "    <tr>\n",
       "      <th>4</th>\n",
       "      <td>drinking_water</td>\n",
       "      <td>40.444679</td>\n",
       "      <td>-3.708382</td>\n",
       "      <td>NO NAME</td>\n",
       "      <td>NO STREET 9999</td>\n",
       "    </tr>\n",
       "    <tr>\n",
       "      <th>...</th>\n",
       "      <td>...</td>\n",
       "      <td>...</td>\n",
       "      <td>...</td>\n",
       "      <td>...</td>\n",
       "      <td>...</td>\n",
       "    </tr>\n",
       "    <tr>\n",
       "      <th>210</th>\n",
       "      <td>kindergarten</td>\n",
       "      <td>40.447935</td>\n",
       "      <td>-3.704028</td>\n",
       "      <td>Chiquitín Cuatro Caminos</td>\n",
       "      <td>NO STREET 9999</td>\n",
       "    </tr>\n",
       "    <tr>\n",
       "      <th>211</th>\n",
       "      <td>kindergarten</td>\n",
       "      <td>40.434118</td>\n",
       "      <td>-3.709672</td>\n",
       "      <td>Escuela infantil municipal Fernando el Católico</td>\n",
       "      <td>Calle de Fernando el Católico 16B</td>\n",
       "    </tr>\n",
       "    <tr>\n",
       "      <th>212</th>\n",
       "      <td>kindergarten</td>\n",
       "      <td>40.424440</td>\n",
       "      <td>-3.706083</td>\n",
       "      <td>Family Moon</td>\n",
       "      <td>Calle de Minas 6</td>\n",
       "    </tr>\n",
       "    <tr>\n",
       "      <th>213</th>\n",
       "      <td>kindergarten</td>\n",
       "      <td>40.433793</td>\n",
       "      <td>-3.695049</td>\n",
       "      <td>St. Alice's nursery</td>\n",
       "      <td>Calle de Fernández de la Hoz 21</td>\n",
       "    </tr>\n",
       "    <tr>\n",
       "      <th>214</th>\n",
       "      <td>kindergarten</td>\n",
       "      <td>40.439107</td>\n",
       "      <td>-3.694977</td>\n",
       "      <td>TEO</td>\n",
       "      <td>NO STREET 9999</td>\n",
       "    </tr>\n",
       "  </tbody>\n",
       "</table>\n",
       "<p>215 rows × 5 columns</p>\n",
       "</div>"
      ],
      "text/plain": [
       "               tipo        lat       lon  \\\n",
       "0    drinking_water  40.413707 -3.695723   \n",
       "1    drinking_water  40.412405 -3.691392   \n",
       "2    drinking_water  40.411579 -3.711331   \n",
       "3    drinking_water  40.413810 -3.709083   \n",
       "4    drinking_water  40.444679 -3.708382   \n",
       "..              ...        ...       ...   \n",
       "210    kindergarten  40.447935 -3.704028   \n",
       "211    kindergarten  40.434118 -3.709672   \n",
       "212    kindergarten  40.424440 -3.706083   \n",
       "213    kindergarten  40.433793 -3.695049   \n",
       "214    kindergarten  40.439107 -3.694977   \n",
       "\n",
       "                                                name  \\\n",
       "0                                            NO NAME   \n",
       "1                                            NO NAME   \n",
       "2                                            NO NAME   \n",
       "3                                            NO NAME   \n",
       "4                                            NO NAME   \n",
       "..                                               ...   \n",
       "210                         Chiquitín Cuatro Caminos   \n",
       "211  Escuela infantil municipal Fernando el Católico   \n",
       "212                                      Family Moon   \n",
       "213                              St. Alice's nursery   \n",
       "214                                              TEO   \n",
       "\n",
       "                               address  \n",
       "0                       NO STREET 9999  \n",
       "1                       NO STREET 9999  \n",
       "2                       NO STREET 9999  \n",
       "3                       NO STREET 9999  \n",
       "4                       NO STREET 9999  \n",
       "..                                 ...  \n",
       "210                     NO STREET 9999  \n",
       "211  Calle de Fernando el Católico 16B  \n",
       "212                   Calle de Minas 6  \n",
       "213    Calle de Fernández de la Hoz 21  \n",
       "214                     NO STREET 9999  \n",
       "\n",
       "[215 rows x 5 columns]"
      ]
     },
     "execution_count": 18,
     "metadata": {},
     "output_type": "execute_result"
    }
   ],
   "source": [
    "overpass_query = \"\"\"\n",
    "[out:json];\n",
    "node[\"amenity\"=\"bbq\"]\n",
    "  (40.410505, -3.715351, 40.448860, -3.677615);\n",
    "out;\n",
    "node[\"amenity\"=\"drinking_water\"]\n",
    "  (40.410505, -3.715351, 40.448860, -3.677615);\n",
    "out;\n",
    "node[\"amenity\"=\"hospital\"]\n",
    "  (40.410505, -3.715351, 40.448860, -3.677615);\n",
    "out;\n",
    "node[\"amenity\"=\"clinic\"]\n",
    "  (40.410505, -3.715351, 40.448860, -3.677615);\n",
    "out;\n",
    "node[\"amenity\"=\"kindergarten\"]\n",
    "  (40.410505, -3.715351, 40.448860, -3.677615);\n",
    "out;\n",
    "\"\"\"\n",
    "response = requests.get(overpass_url, \n",
    "                        params={'data': overpass_query})\n",
    "print(response)\n",
    "data = response.json()\n",
    "df = json_to_df(data)\n",
    "df"
   ]
  },
  {
   "cell_type": "code",
   "execution_count": 19,
   "metadata": {},
   "outputs": [
    {
     "data": {
      "application/vnd.plotly.v1+json": {
       "config": {
        "plotlyServerURL": "https://plot.ly"
       },
       "data": [
        {
         "hovertemplate": "tipo=drinking_water<br>lat=%{lat}<br>lon=%{lon}<extra></extra>",
         "lat": [
          40.413707,
          40.4124046,
          40.4115794,
          40.4138099,
          40.4446795,
          40.4394497,
          40.4175585,
          40.4190697,
          40.4414624,
          40.4241648,
          40.4156411,
          40.4196587,
          40.4183443,
          40.4133699,
          40.4323957,
          40.4272963,
          40.4421112,
          40.4417065,
          40.4113959,
          40.416675,
          40.4256554,
          40.4326092,
          40.4467186,
          40.4120637,
          40.4172923,
          40.4141507,
          40.4200822,
          40.4127548,
          40.418147,
          40.4144412,
          40.4254296,
          40.4365645,
          40.4474268,
          40.4475166,
          40.4242466,
          40.4255618,
          40.4269941,
          40.4163972,
          40.4170109,
          40.4266777,
          40.4273745,
          40.4274655,
          40.4286719,
          40.4298933,
          40.4299981,
          40.4316925,
          40.4330578,
          40.4332579,
          40.4342261,
          40.4370207,
          40.437048,
          40.4391016,
          40.4204798,
          40.412007,
          40.4125638,
          40.4126639,
          40.4302997,
          40.432502,
          40.4369108,
          40.4389565,
          40.4404562,
          40.4425058,
          40.4376508,
          40.4397077,
          40.4238845,
          40.4159224,
          40.4287391,
          40.4157764,
          40.4430873,
          40.4448255,
          40.4444381,
          40.4395193,
          40.4151191,
          40.416734,
          40.4171448,
          40.418682,
          40.4198651,
          40.4206758,
          40.4204166,
          40.4197034,
          40.4186278,
          40.4139692,
          40.4116961,
          40.410734,
          40.4107577,
          40.4111617,
          40.4113795,
          40.4410554,
          40.4155502,
          40.4157864,
          40.4163956,
          40.4166424,
          40.4194627,
          40.4187977,
          40.425067,
          40.417399,
          40.4182752,
          40.4474808,
          40.4229121,
          40.4260697,
          40.441602,
          40.4198138,
          40.4189037,
          40.4265967,
          40.421566,
          40.4127302,
          40.4107991,
          40.4427383,
          40.4465461,
          40.4488186,
          40.444502,
          40.4393552,
          40.4126323,
          40.4253945,
          40.4191171,
          40.4167334,
          40.4222486,
          40.4158923,
          40.433065,
          40.4189725,
          40.4231084,
          40.4166388,
          40.4173514,
          40.4148916,
          40.4398945,
          40.4218343,
          40.4405959,
          40.4403967,
          40.4409335,
          40.4314992,
          40.4330533,
          40.4228028,
          40.4231688,
          40.4226968,
          40.4113306,
          40.4330995,
          40.4317491
         ],
         "legendgroup": "drinking_water",
         "lon": [
          -3.6957228,
          -3.6913919,
          -3.7113306,
          -3.7090832,
          -3.7083824,
          -3.6913854,
          -3.7119284,
          -3.6811704,
          -3.6902285,
          -3.7018299,
          -3.6809721,
          -3.6866509,
          -3.6855094,
          -3.6814686,
          -3.6779632,
          -3.708589,
          -3.7054054,
          -3.6793004,
          -3.6970807,
          -3.7084485,
          -3.7120381,
          -3.7011039,
          -3.7137422,
          -3.6897489,
          -3.680829,
          -3.6827361,
          -3.7082261,
          -3.6932535,
          -3.7091853,
          -3.6790489,
          -3.6922473,
          -3.6936664,
          -3.7009143,
          -3.7105925,
          -3.6946022,
          -3.6931759,
          -3.7043967,
          -3.6886031,
          -3.6821419,
          -3.6899082,
          -3.6896984,
          -3.6900419,
          -3.6893863,
          -3.6894117,
          -3.6890579,
          -3.688921,
          -3.6790075,
          -3.6787728,
          -3.6887626,
          -3.6898017,
          -3.6903165,
          -3.6908466,
          -3.7137624,
          -3.7150266,
          -3.7151548,
          -3.7148758,
          -3.7073188,
          -3.6972637,
          -3.7009116,
          -3.7045013,
          -3.7069954,
          -3.7057137,
          -3.7147452,
          -3.704509,
          -3.6986234,
          -3.7114412,
          -3.7100813,
          -3.7086889,
          -3.7057602,
          -3.707679,
          -3.7093391,
          -3.6885459,
          -3.6790793,
          -3.6785096,
          -3.6792251,
          -3.6799125,
          -3.6802547,
          -3.6824338,
          -3.6842604,
          -3.6865706,
          -3.6880326,
          -3.6883757,
          -3.6867756,
          -3.6872272,
          -3.6832617,
          -3.680999,
          -3.6800558,
          -3.6942263,
          -3.684057,
          -3.6835184,
          -3.6814203,
          -3.680025,
          -3.6916265,
          -3.6865447,
          -3.6937652,
          -3.7070067,
          -3.7090056,
          -3.7130246,
          -3.7103693,
          -3.6998901,
          -3.6891451,
          -3.6932399,
          -3.6975515,
          -3.68976,
          -3.6924562,
          -3.6937646,
          -3.7141721,
          -3.6807518,
          -3.704108,
          -3.7138241,
          -3.6971067,
          -3.6933124,
          -3.707566,
          -3.7038973,
          -3.7032964,
          -3.7108125,
          -3.6996889,
          -3.7112054,
          -3.6854761,
          -3.6946031,
          -3.7008557,
          -3.6985032,
          -3.7012951,
          -3.6929558,
          -3.7012173,
          -3.7054907,
          -3.7039537,
          -3.7038411,
          -3.703915,
          -3.6837458,
          -3.6855246,
          -3.7134576,
          -3.7130221,
          -3.7127902,
          -3.7081828,
          -3.7117629,
          -3.7036214
         ],
         "marker": {
          "color": "#636efa"
         },
         "mode": "markers",
         "name": "drinking_water",
         "showlegend": true,
         "subplot": "mapbox",
         "type": "scattermapbox"
        },
        {
         "hovertemplate": "tipo=hospital<br>lat=%{lat}<br>lon=%{lon}<extra></extra>",
         "lat": [
          40.4290209,
          40.4325782
         ],
         "legendgroup": "hospital",
         "lon": [
          -3.6889198,
          -3.7086334
         ],
         "marker": {
          "color": "#EF553B"
         },
         "mode": "markers",
         "name": "hospital",
         "showlegend": true,
         "subplot": "mapbox",
         "type": "scattermapbox"
        },
        {
         "hovertemplate": "tipo=clinic<br>lat=%{lat}<br>lon=%{lon}<extra></extra>",
         "lat": [
          40.4312348,
          40.4164906,
          40.4311082,
          40.4257079,
          40.4295088,
          40.4265395,
          40.4281266,
          40.4209634,
          40.4295818,
          40.4229407,
          40.4265059,
          40.4119611,
          40.4400853,
          40.4285766,
          40.4389029,
          40.4185018,
          40.4355626,
          40.4124121,
          40.4418027,
          40.4392594,
          40.4326037,
          40.4258502,
          40.4331995,
          40.4282594,
          40.4252198,
          40.4473201,
          40.4380418,
          40.422014,
          40.4406838,
          40.4296106,
          40.420659,
          40.4325217,
          40.4296142,
          40.4293682,
          40.4371184,
          40.420426,
          40.4440471,
          40.4376164,
          40.4334797,
          40.4278048,
          40.4332822,
          40.4328451,
          40.4443554,
          40.4292126,
          40.4461603,
          40.4435047,
          40.4289322,
          40.4247295,
          40.4290231
         ],
         "legendgroup": "clinic",
         "lon": [
          -3.7135908,
          -3.6989912,
          -3.7067605,
          -3.6887819,
          -3.7092051,
          -3.7072908,
          -3.7064138,
          -3.704637,
          -3.7073977,
          -3.7068543,
          -3.7061199,
          -3.6937885,
          -3.6791289,
          -3.6813351,
          -3.7071603,
          -3.6779675,
          -3.6842767,
          -3.6969161,
          -3.705018,
          -3.7063926,
          -3.7076807,
          -3.7121076,
          -3.6997843,
          -3.7012787,
          -3.713764,
          -3.7034089,
          -3.7142712,
          -3.6798717,
          -3.6963958,
          -3.7136388,
          -3.7014952,
          -3.7049464,
          -3.7049721,
          -3.7035357,
          -3.6930873,
          -3.6973478,
          -3.6962407,
          -3.6856058,
          -3.7063989,
          -3.6824523,
          -3.6832523,
          -3.6802349,
          -3.7136928,
          -3.6879248,
          -3.6994409,
          -3.6841932,
          -3.7056185,
          -3.6981454,
          -3.6796307
         ],
         "marker": {
          "color": "#00cc96"
         },
         "mode": "markers",
         "name": "clinic",
         "showlegend": true,
         "subplot": "mapbox",
         "type": "scattermapbox"
        },
        {
         "hovertemplate": "tipo=kindergarten<br>lat=%{lat}<br>lon=%{lon}<extra></extra>",
         "lat": [
          40.4274181,
          40.4308428,
          40.4466061,
          40.4341757,
          40.4456395,
          40.4354905,
          40.4106956,
          40.4303389,
          40.4267611,
          40.4318731,
          40.4469484,
          40.4413667,
          40.4337608,
          40.4456958,
          40.4162497,
          40.4368726,
          40.4326855,
          40.4465348,
          40.4321475,
          40.4279992,
          40.4456464,
          40.4330671,
          40.4479351,
          40.4341181,
          40.42444,
          40.4337925,
          40.439107
         ],
         "legendgroup": "kindergarten",
         "lon": [
          -3.7089933,
          -3.7060322,
          -3.6802667,
          -3.7149093,
          -3.7002434,
          -3.7091922,
          -3.7116612,
          -3.7078484,
          -3.7046693,
          -3.7013013,
          -3.686897,
          -3.7131223,
          -3.7076543,
          -3.6869668,
          -3.6984191,
          -3.7017626,
          -3.7017994,
          -3.6836107,
          -3.7012412,
          -3.6995777,
          -3.7064174,
          -3.7126238,
          -3.704028,
          -3.7096719,
          -3.7060826,
          -3.6950493,
          -3.694977
         ],
         "marker": {
          "color": "#ab63fa"
         },
         "mode": "markers",
         "name": "kindergarten",
         "showlegend": true,
         "subplot": "mapbox",
         "type": "scattermapbox"
        }
       ],
       "layout": {
        "legend": {
         "title": {
          "text": "tipo"
         },
         "tracegroupgap": 0
        },
        "mapbox": {
         "accesstoken": "pk.eyJ1IjoiZGFvcnRpIiwiYSI6ImNrZnF6M3FlczA3cDEyem16YTNzZmV4M2EifQ.846iF0sMSAXv0kwkwUTYjg",
         "center": {
          "lat": 40.428044851162795,
          "lon": -3.6977177046511627
         },
         "domain": {
          "x": [
           0,
           1
          ],
          "y": [
           0,
           1
          ]
         },
         "zoom": 11
        },
        "margin": {
         "t": 60
        },
        "template": {
         "data": {
          "bar": [
           {
            "error_x": {
             "color": "#2a3f5f"
            },
            "error_y": {
             "color": "#2a3f5f"
            },
            "marker": {
             "line": {
              "color": "#E5ECF6",
              "width": 0.5
             },
             "pattern": {
              "fillmode": "overlay",
              "size": 10,
              "solidity": 0.2
             }
            },
            "type": "bar"
           }
          ],
          "barpolar": [
           {
            "marker": {
             "line": {
              "color": "#E5ECF6",
              "width": 0.5
             },
             "pattern": {
              "fillmode": "overlay",
              "size": 10,
              "solidity": 0.2
             }
            },
            "type": "barpolar"
           }
          ],
          "carpet": [
           {
            "aaxis": {
             "endlinecolor": "#2a3f5f",
             "gridcolor": "white",
             "linecolor": "white",
             "minorgridcolor": "white",
             "startlinecolor": "#2a3f5f"
            },
            "baxis": {
             "endlinecolor": "#2a3f5f",
             "gridcolor": "white",
             "linecolor": "white",
             "minorgridcolor": "white",
             "startlinecolor": "#2a3f5f"
            },
            "type": "carpet"
           }
          ],
          "choropleth": [
           {
            "colorbar": {
             "outlinewidth": 0,
             "ticks": ""
            },
            "type": "choropleth"
           }
          ],
          "contour": [
           {
            "colorbar": {
             "outlinewidth": 0,
             "ticks": ""
            },
            "colorscale": [
             [
              0,
              "#0d0887"
             ],
             [
              0.1111111111111111,
              "#46039f"
             ],
             [
              0.2222222222222222,
              "#7201a8"
             ],
             [
              0.3333333333333333,
              "#9c179e"
             ],
             [
              0.4444444444444444,
              "#bd3786"
             ],
             [
              0.5555555555555556,
              "#d8576b"
             ],
             [
              0.6666666666666666,
              "#ed7953"
             ],
             [
              0.7777777777777778,
              "#fb9f3a"
             ],
             [
              0.8888888888888888,
              "#fdca26"
             ],
             [
              1,
              "#f0f921"
             ]
            ],
            "type": "contour"
           }
          ],
          "contourcarpet": [
           {
            "colorbar": {
             "outlinewidth": 0,
             "ticks": ""
            },
            "type": "contourcarpet"
           }
          ],
          "heatmap": [
           {
            "colorbar": {
             "outlinewidth": 0,
             "ticks": ""
            },
            "colorscale": [
             [
              0,
              "#0d0887"
             ],
             [
              0.1111111111111111,
              "#46039f"
             ],
             [
              0.2222222222222222,
              "#7201a8"
             ],
             [
              0.3333333333333333,
              "#9c179e"
             ],
             [
              0.4444444444444444,
              "#bd3786"
             ],
             [
              0.5555555555555556,
              "#d8576b"
             ],
             [
              0.6666666666666666,
              "#ed7953"
             ],
             [
              0.7777777777777778,
              "#fb9f3a"
             ],
             [
              0.8888888888888888,
              "#fdca26"
             ],
             [
              1,
              "#f0f921"
             ]
            ],
            "type": "heatmap"
           }
          ],
          "heatmapgl": [
           {
            "colorbar": {
             "outlinewidth": 0,
             "ticks": ""
            },
            "colorscale": [
             [
              0,
              "#0d0887"
             ],
             [
              0.1111111111111111,
              "#46039f"
             ],
             [
              0.2222222222222222,
              "#7201a8"
             ],
             [
              0.3333333333333333,
              "#9c179e"
             ],
             [
              0.4444444444444444,
              "#bd3786"
             ],
             [
              0.5555555555555556,
              "#d8576b"
             ],
             [
              0.6666666666666666,
              "#ed7953"
             ],
             [
              0.7777777777777778,
              "#fb9f3a"
             ],
             [
              0.8888888888888888,
              "#fdca26"
             ],
             [
              1,
              "#f0f921"
             ]
            ],
            "type": "heatmapgl"
           }
          ],
          "histogram": [
           {
            "marker": {
             "pattern": {
              "fillmode": "overlay",
              "size": 10,
              "solidity": 0.2
             }
            },
            "type": "histogram"
           }
          ],
          "histogram2d": [
           {
            "colorbar": {
             "outlinewidth": 0,
             "ticks": ""
            },
            "colorscale": [
             [
              0,
              "#0d0887"
             ],
             [
              0.1111111111111111,
              "#46039f"
             ],
             [
              0.2222222222222222,
              "#7201a8"
             ],
             [
              0.3333333333333333,
              "#9c179e"
             ],
             [
              0.4444444444444444,
              "#bd3786"
             ],
             [
              0.5555555555555556,
              "#d8576b"
             ],
             [
              0.6666666666666666,
              "#ed7953"
             ],
             [
              0.7777777777777778,
              "#fb9f3a"
             ],
             [
              0.8888888888888888,
              "#fdca26"
             ],
             [
              1,
              "#f0f921"
             ]
            ],
            "type": "histogram2d"
           }
          ],
          "histogram2dcontour": [
           {
            "colorbar": {
             "outlinewidth": 0,
             "ticks": ""
            },
            "colorscale": [
             [
              0,
              "#0d0887"
             ],
             [
              0.1111111111111111,
              "#46039f"
             ],
             [
              0.2222222222222222,
              "#7201a8"
             ],
             [
              0.3333333333333333,
              "#9c179e"
             ],
             [
              0.4444444444444444,
              "#bd3786"
             ],
             [
              0.5555555555555556,
              "#d8576b"
             ],
             [
              0.6666666666666666,
              "#ed7953"
             ],
             [
              0.7777777777777778,
              "#fb9f3a"
             ],
             [
              0.8888888888888888,
              "#fdca26"
             ],
             [
              1,
              "#f0f921"
             ]
            ],
            "type": "histogram2dcontour"
           }
          ],
          "mesh3d": [
           {
            "colorbar": {
             "outlinewidth": 0,
             "ticks": ""
            },
            "type": "mesh3d"
           }
          ],
          "parcoords": [
           {
            "line": {
             "colorbar": {
              "outlinewidth": 0,
              "ticks": ""
             }
            },
            "type": "parcoords"
           }
          ],
          "pie": [
           {
            "automargin": true,
            "type": "pie"
           }
          ],
          "scatter": [
           {
            "fillpattern": {
             "fillmode": "overlay",
             "size": 10,
             "solidity": 0.2
            },
            "type": "scatter"
           }
          ],
          "scatter3d": [
           {
            "line": {
             "colorbar": {
              "outlinewidth": 0,
              "ticks": ""
             }
            },
            "marker": {
             "colorbar": {
              "outlinewidth": 0,
              "ticks": ""
             }
            },
            "type": "scatter3d"
           }
          ],
          "scattercarpet": [
           {
            "marker": {
             "colorbar": {
              "outlinewidth": 0,
              "ticks": ""
             }
            },
            "type": "scattercarpet"
           }
          ],
          "scattergeo": [
           {
            "marker": {
             "colorbar": {
              "outlinewidth": 0,
              "ticks": ""
             }
            },
            "type": "scattergeo"
           }
          ],
          "scattergl": [
           {
            "marker": {
             "colorbar": {
              "outlinewidth": 0,
              "ticks": ""
             }
            },
            "type": "scattergl"
           }
          ],
          "scattermapbox": [
           {
            "marker": {
             "colorbar": {
              "outlinewidth": 0,
              "ticks": ""
             }
            },
            "type": "scattermapbox"
           }
          ],
          "scatterpolar": [
           {
            "marker": {
             "colorbar": {
              "outlinewidth": 0,
              "ticks": ""
             }
            },
            "type": "scatterpolar"
           }
          ],
          "scatterpolargl": [
           {
            "marker": {
             "colorbar": {
              "outlinewidth": 0,
              "ticks": ""
             }
            },
            "type": "scatterpolargl"
           }
          ],
          "scatterternary": [
           {
            "marker": {
             "colorbar": {
              "outlinewidth": 0,
              "ticks": ""
             }
            },
            "type": "scatterternary"
           }
          ],
          "surface": [
           {
            "colorbar": {
             "outlinewidth": 0,
             "ticks": ""
            },
            "colorscale": [
             [
              0,
              "#0d0887"
             ],
             [
              0.1111111111111111,
              "#46039f"
             ],
             [
              0.2222222222222222,
              "#7201a8"
             ],
             [
              0.3333333333333333,
              "#9c179e"
             ],
             [
              0.4444444444444444,
              "#bd3786"
             ],
             [
              0.5555555555555556,
              "#d8576b"
             ],
             [
              0.6666666666666666,
              "#ed7953"
             ],
             [
              0.7777777777777778,
              "#fb9f3a"
             ],
             [
              0.8888888888888888,
              "#fdca26"
             ],
             [
              1,
              "#f0f921"
             ]
            ],
            "type": "surface"
           }
          ],
          "table": [
           {
            "cells": {
             "fill": {
              "color": "#EBF0F8"
             },
             "line": {
              "color": "white"
             }
            },
            "header": {
             "fill": {
              "color": "#C8D4E3"
             },
             "line": {
              "color": "white"
             }
            },
            "type": "table"
           }
          ]
         },
         "layout": {
          "annotationdefaults": {
           "arrowcolor": "#2a3f5f",
           "arrowhead": 0,
           "arrowwidth": 1
          },
          "autotypenumbers": "strict",
          "coloraxis": {
           "colorbar": {
            "outlinewidth": 0,
            "ticks": ""
           }
          },
          "colorscale": {
           "diverging": [
            [
             0,
             "#8e0152"
            ],
            [
             0.1,
             "#c51b7d"
            ],
            [
             0.2,
             "#de77ae"
            ],
            [
             0.3,
             "#f1b6da"
            ],
            [
             0.4,
             "#fde0ef"
            ],
            [
             0.5,
             "#f7f7f7"
            ],
            [
             0.6,
             "#e6f5d0"
            ],
            [
             0.7,
             "#b8e186"
            ],
            [
             0.8,
             "#7fbc41"
            ],
            [
             0.9,
             "#4d9221"
            ],
            [
             1,
             "#276419"
            ]
           ],
           "sequential": [
            [
             0,
             "#0d0887"
            ],
            [
             0.1111111111111111,
             "#46039f"
            ],
            [
             0.2222222222222222,
             "#7201a8"
            ],
            [
             0.3333333333333333,
             "#9c179e"
            ],
            [
             0.4444444444444444,
             "#bd3786"
            ],
            [
             0.5555555555555556,
             "#d8576b"
            ],
            [
             0.6666666666666666,
             "#ed7953"
            ],
            [
             0.7777777777777778,
             "#fb9f3a"
            ],
            [
             0.8888888888888888,
             "#fdca26"
            ],
            [
             1,
             "#f0f921"
            ]
           ],
           "sequentialminus": [
            [
             0,
             "#0d0887"
            ],
            [
             0.1111111111111111,
             "#46039f"
            ],
            [
             0.2222222222222222,
             "#7201a8"
            ],
            [
             0.3333333333333333,
             "#9c179e"
            ],
            [
             0.4444444444444444,
             "#bd3786"
            ],
            [
             0.5555555555555556,
             "#d8576b"
            ],
            [
             0.6666666666666666,
             "#ed7953"
            ],
            [
             0.7777777777777778,
             "#fb9f3a"
            ],
            [
             0.8888888888888888,
             "#fdca26"
            ],
            [
             1,
             "#f0f921"
            ]
           ]
          },
          "colorway": [
           "#636efa",
           "#EF553B",
           "#00cc96",
           "#ab63fa",
           "#FFA15A",
           "#19d3f3",
           "#FF6692",
           "#B6E880",
           "#FF97FF",
           "#FECB52"
          ],
          "font": {
           "color": "#2a3f5f"
          },
          "geo": {
           "bgcolor": "white",
           "lakecolor": "white",
           "landcolor": "#E5ECF6",
           "showlakes": true,
           "showland": true,
           "subunitcolor": "white"
          },
          "hoverlabel": {
           "align": "left"
          },
          "hovermode": "closest",
          "mapbox": {
           "style": "light"
          },
          "paper_bgcolor": "white",
          "plot_bgcolor": "#E5ECF6",
          "polar": {
           "angularaxis": {
            "gridcolor": "white",
            "linecolor": "white",
            "ticks": ""
           },
           "bgcolor": "#E5ECF6",
           "radialaxis": {
            "gridcolor": "white",
            "linecolor": "white",
            "ticks": ""
           }
          },
          "scene": {
           "xaxis": {
            "backgroundcolor": "#E5ECF6",
            "gridcolor": "white",
            "gridwidth": 2,
            "linecolor": "white",
            "showbackground": true,
            "ticks": "",
            "zerolinecolor": "white"
           },
           "yaxis": {
            "backgroundcolor": "#E5ECF6",
            "gridcolor": "white",
            "gridwidth": 2,
            "linecolor": "white",
            "showbackground": true,
            "ticks": "",
            "zerolinecolor": "white"
           },
           "zaxis": {
            "backgroundcolor": "#E5ECF6",
            "gridcolor": "white",
            "gridwidth": 2,
            "linecolor": "white",
            "showbackground": true,
            "ticks": "",
            "zerolinecolor": "white"
           }
          },
          "shapedefaults": {
           "line": {
            "color": "#2a3f5f"
           }
          },
          "ternary": {
           "aaxis": {
            "gridcolor": "white",
            "linecolor": "white",
            "ticks": ""
           },
           "baxis": {
            "gridcolor": "white",
            "linecolor": "white",
            "ticks": ""
           },
           "bgcolor": "#E5ECF6",
           "caxis": {
            "gridcolor": "white",
            "linecolor": "white",
            "ticks": ""
           }
          },
          "title": {
           "x": 0.05
          },
          "xaxis": {
           "automargin": true,
           "gridcolor": "white",
           "linecolor": "white",
           "ticks": "",
           "title": {
            "standoff": 15
           },
           "zerolinecolor": "white",
           "zerolinewidth": 2
          },
          "yaxis": {
           "automargin": true,
           "gridcolor": "white",
           "linecolor": "white",
           "ticks": "",
           "title": {
            "standoff": 15
           },
           "zerolinecolor": "white",
           "zerolinewidth": 2
          }
         }
        }
       }
      }
     },
     "metadata": {},
     "output_type": "display_data"
    }
   ],
   "source": [
    "pinta_mapa(df)"
   ]
  },
  {
   "cell_type": "markdown",
   "metadata": {},
   "source": [
    "## Supermercados\n",
    "Para este ejemplo supondrás que trabajas en una cadena de supermercados en la que se está planteando construir un nuevo local en la provincia de Sevilla. Busca mediante la API de Overpass todos los supermercados de la provincia para poder comprobar en qué nucleos urbanos habría poca competencia.\n",
    "\n",
    "En este caso hay que buscar por área, no por cuadrícula! Investiga en la documentación/Stackoverflow cómo se haría eso."
   ]
  },
  {
   "cell_type": "code",
   "execution_count": 20,
   "metadata": {},
   "outputs": [
    {
     "name": "stdout",
     "output_type": "stream",
     "text": [
      "<Response [200]>\n"
     ]
    },
    {
     "data": {
      "text/html": [
       "<div>\n",
       "<style scoped>\n",
       "    .dataframe tbody tr th:only-of-type {\n",
       "        vertical-align: middle;\n",
       "    }\n",
       "\n",
       "    .dataframe tbody tr th {\n",
       "        vertical-align: top;\n",
       "    }\n",
       "\n",
       "    .dataframe thead th {\n",
       "        text-align: right;\n",
       "    }\n",
       "</style>\n",
       "<table border=\"1\" class=\"dataframe\">\n",
       "  <thead>\n",
       "    <tr style=\"text-align: right;\">\n",
       "      <th></th>\n",
       "      <th>tipo</th>\n",
       "      <th>lat</th>\n",
       "      <th>lon</th>\n",
       "      <th>name</th>\n",
       "      <th>address</th>\n",
       "    </tr>\n",
       "  </thead>\n",
       "  <tbody>\n",
       "    <tr>\n",
       "      <th>0</th>\n",
       "      <td>None</td>\n",
       "      <td>37.373002</td>\n",
       "      <td>-6.047204</td>\n",
       "      <td>MAS</td>\n",
       "      <td>NO STREET 9999</td>\n",
       "    </tr>\n",
       "    <tr>\n",
       "      <th>1</th>\n",
       "      <td>None</td>\n",
       "      <td>37.390016</td>\n",
       "      <td>-5.973769</td>\n",
       "      <td>Maxi Dia</td>\n",
       "      <td>NO STREET 9999</td>\n",
       "    </tr>\n",
       "    <tr>\n",
       "      <th>2</th>\n",
       "      <td>None</td>\n",
       "      <td>36.994532</td>\n",
       "      <td>-5.572320</td>\n",
       "      <td>Dia</td>\n",
       "      <td>NO STREET 9999</td>\n",
       "    </tr>\n",
       "    <tr>\n",
       "      <th>3</th>\n",
       "      <td>None</td>\n",
       "      <td>37.406364</td>\n",
       "      <td>-5.976342</td>\n",
       "      <td>El Jamón</td>\n",
       "      <td>NO STREET 9999</td>\n",
       "    </tr>\n",
       "    <tr>\n",
       "      <th>4</th>\n",
       "      <td>None</td>\n",
       "      <td>37.406508</td>\n",
       "      <td>-5.973342</td>\n",
       "      <td>Valdejimena</td>\n",
       "      <td>Avenida de San Juan de la Salle 9999</td>\n",
       "    </tr>\n",
       "    <tr>\n",
       "      <th>...</th>\n",
       "      <td>...</td>\n",
       "      <td>...</td>\n",
       "      <td>...</td>\n",
       "      <td>...</td>\n",
       "      <td>...</td>\n",
       "    </tr>\n",
       "    <tr>\n",
       "      <th>485</th>\n",
       "      <td>None</td>\n",
       "      <td>NaN</td>\n",
       "      <td>NaN</td>\n",
       "      <td>NO NAME</td>\n",
       "      <td>NO STREET 9999</td>\n",
       "    </tr>\n",
       "    <tr>\n",
       "      <th>486</th>\n",
       "      <td>None</td>\n",
       "      <td>NaN</td>\n",
       "      <td>NaN</td>\n",
       "      <td>Lidl</td>\n",
       "      <td>NO STREET 9999</td>\n",
       "    </tr>\n",
       "    <tr>\n",
       "      <th>487</th>\n",
       "      <td>None</td>\n",
       "      <td>NaN</td>\n",
       "      <td>NaN</td>\n",
       "      <td>Mercadona</td>\n",
       "      <td>NO STREET 9999</td>\n",
       "    </tr>\n",
       "    <tr>\n",
       "      <th>488</th>\n",
       "      <td>None</td>\n",
       "      <td>NaN</td>\n",
       "      <td>NaN</td>\n",
       "      <td>Alacasa</td>\n",
       "      <td>Calle de Villamartín 9999</td>\n",
       "    </tr>\n",
       "    <tr>\n",
       "      <th>489</th>\n",
       "      <td>None</td>\n",
       "      <td>NaN</td>\n",
       "      <td>NaN</td>\n",
       "      <td>Cash Fresh</td>\n",
       "      <td>NO STREET 9999</td>\n",
       "    </tr>\n",
       "  </tbody>\n",
       "</table>\n",
       "<p>490 rows × 5 columns</p>\n",
       "</div>"
      ],
      "text/plain": [
       "     tipo        lat       lon         name  \\\n",
       "0    None  37.373002 -6.047204          MAS   \n",
       "1    None  37.390016 -5.973769     Maxi Dia   \n",
       "2    None  36.994532 -5.572320          Dia   \n",
       "3    None  37.406364 -5.976342     El Jamón   \n",
       "4    None  37.406508 -5.973342  Valdejimena   \n",
       "..    ...        ...       ...          ...   \n",
       "485  None        NaN       NaN      NO NAME   \n",
       "486  None        NaN       NaN         Lidl   \n",
       "487  None        NaN       NaN    Mercadona   \n",
       "488  None        NaN       NaN      Alacasa   \n",
       "489  None        NaN       NaN   Cash Fresh   \n",
       "\n",
       "                                  address  \n",
       "0                          NO STREET 9999  \n",
       "1                          NO STREET 9999  \n",
       "2                          NO STREET 9999  \n",
       "3                          NO STREET 9999  \n",
       "4    Avenida de San Juan de la Salle 9999  \n",
       "..                                    ...  \n",
       "485                        NO STREET 9999  \n",
       "486                        NO STREET 9999  \n",
       "487                        NO STREET 9999  \n",
       "488             Calle de Villamartín 9999  \n",
       "489                        NO STREET 9999  \n",
       "\n",
       "[490 rows x 5 columns]"
      ]
     },
     "execution_count": 20,
     "metadata": {},
     "output_type": "execute_result"
    }
   ],
   "source": [
    "overpass_query = \"\"\"\n",
    "[out:json];\n",
    "area[name=\"Sevilla\"];\n",
    "nwr[shop=supermarket](area);\n",
    "out center;\n",
    "\"\"\"\n",
    "response = requests.get(overpass_url, \n",
    "                        params={'data': overpass_query})\n",
    "print(response)\n",
    "data = response.json()\n",
    "df = json_to_df(data)\n",
    "df"
   ]
  },
  {
   "cell_type": "code",
   "execution_count": 21,
   "metadata": {},
   "outputs": [],
   "source": [
    "df['tipo'] = df['tipo'].fillna(\"supermarket\")\n",
    "df = df.dropna()"
   ]
  },
  {
   "cell_type": "code",
   "execution_count": 22,
   "metadata": {},
   "outputs": [
    {
     "data": {
      "application/vnd.plotly.v1+json": {
       "config": {
        "plotlyServerURL": "https://plot.ly"
       },
       "data": [
        {
         "hovertemplate": "tipo=supermarket<br>lat=%{lat}<br>lon=%{lon}<extra></extra>",
         "lat": [
          37.3730016,
          37.3900156,
          36.9945325,
          37.4063636,
          37.4065076,
          37.4068889,
          37.381381,
          37.3492941,
          37.3931413,
          37.3916239,
          37.281765,
          37.3945948,
          37.3928078,
          37.3902034,
          37.3968266,
          37.39283,
          37.4000193,
          37.4636269,
          37.3877763,
          37.3782118,
          37.3784637,
          37.4223309,
          37.4210312,
          37.6592193,
          37.4158443,
          37.408912,
          37.4162977,
          37.4322927,
          37.4265448,
          37.3993597,
          37.4032095,
          37.4040568,
          37.3767341,
          37.3758354,
          37.3709299,
          37.3475816,
          37.3650152,
          37.3666867,
          37.3941226,
          37.3745748,
          37.3821828,
          37.3765331,
          37.3762135,
          37.3828281,
          37.4906658,
          37.2929933,
          37.4004138,
          37.4022714,
          37.382216,
          37.3750846,
          37.3838793,
          37.3758889,
          37.41043,
          37.3994984,
          37.4010345,
          37.4117722,
          37.4021436,
          37.3958654,
          37.3732438,
          37.3770745,
          37.3921327,
          37.373167,
          37.395969,
          37.3993031,
          37.3661575,
          37.3716058,
          37.3612925,
          37.390219,
          37.4019062,
          37.2697298,
          37.344986,
          37.2756379,
          37.3626648,
          37.4007084,
          37.1744795,
          37.4615531,
          37.1876727,
          37.1851484,
          37.1895563,
          37.1797124,
          37.3207532,
          37.285365,
          37.2855656,
          37.3255608,
          37.3353194,
          37.2906251,
          37.3888642,
          37.3878814,
          37.3823229,
          37.2661629,
          37.3327558,
          37.3882714,
          37.295735,
          37.3376348,
          37.3322365,
          37.394668,
          37.387336,
          37.37798,
          37.3501025,
          37.3842002,
          37.3418953,
          37.3828833,
          37.3774228,
          37.3851723,
          37.3838552,
          37.3939616,
          37.4066907,
          37.3542265,
          37.3778989,
          37.3439885,
          37.3850834,
          37.3784614,
          37.4245402,
          37.3511902,
          37.3845859,
          37.3829724,
          37.3926834,
          37.487511,
          37.2871942,
          36.9943288,
          37.1615124,
          37.4084798,
          37.3852201,
          37.3387597,
          37.3416599,
          37.3385438,
          37.3876859,
          37.3755246,
          37.3417027,
          37.2838344,
          37.5433022,
          37.3732443,
          37.3585028,
          37.4639055,
          37.3720492,
          37.5451547,
          37.3388604,
          37.2902401,
          37.3984032,
          37.328376,
          37.3684704,
          37.5132086,
          37.5161821,
          37.3827647,
          37.3972073,
          37.3986384,
          37.9314768,
          37.4012555,
          37.388112,
          37.3897145,
          37.284377,
          37.3007621,
          37.5395984,
          37.5304428,
          37.5379071,
          37.3816054,
          37.351903,
          37.2962155,
          37.2949076,
          37.2894918,
          37.3846396,
          37.3845658,
          37.3883375,
          37.3901385,
          37.935879,
          37.4010558,
          37.3390588,
          37.2889914,
          37.3704267,
          37.3709517,
          37.3723487,
          37.3718211,
          37.3764664,
          37.377278,
          37.2315496,
          37.2374432,
          37.2374048,
          37.3588696,
          37.3563452,
          37.3757882,
          37.3947584,
          37.3785976,
          37.378052,
          37.4024316,
          37.2517534,
          37.3979165,
          37.1288919,
          37.1263749,
          37.1278811,
          37.5442913,
          37.5416931,
          37.3755652,
          37.4109179,
          37.3800415,
          37.3793471,
          37.3528597,
          37.4836776,
          37.4844523,
          37.30331,
          37.3596854,
          37.3835149,
          37.3741291,
          37.3826562,
          37.4108539,
          37.9428359,
          37.2238977,
          37.385883,
          37.6601041,
          37.3101139,
          37.3798043,
          37.2783941,
          37.4494613,
          37.6609324,
          37.3720803,
          37.3736999,
          37.3824855,
          37.4247797,
          37.3774904,
          37.3042312,
          37.3897096,
          37.3858133,
          37.426738,
          37.3023998,
          37.2824923,
          37.3761087,
          37.3874865,
          37.3536782,
          37.100331,
          37.3726194,
          37.3718625,
          37.3040479,
          37.3819894,
          37.3890463,
          37.3585589,
          37.3593174,
          4.2685437,
          4.2645309,
          4.2642887,
          4.2635972,
          37.365246,
          37.355629,
          37.3742039,
          37.3773855,
          37.3123385,
          37.4148171,
          37.3813908,
          37.3810371,
          37.3807862,
          37.3932795,
          37.3972674,
          37.3905785,
          36.9283397,
          37.381633,
          37.3223888,
          37.2832311,
          37.3917556,
          37.3858695,
          37.3855691,
          37.337093,
          37.3252963,
          37.3849155,
          37.3945664,
          37.5365141,
          37.2221232,
          37.3798531,
          37.38285,
          37.545211,
          37.7807611,
          37.7789366,
          37.3662625,
          37.3800582,
          37.4325717,
          37.4717331,
          37.372653,
          37.4011565,
          37.3605097,
          37.3792072,
          37.381944,
          37.3812806,
          37.3856825,
          37.3708759,
          37.6598589,
          37.7066017,
          37.5737316,
          37.3817904,
          37.4381841,
          37.3729319,
          37.4065108,
          37.3717263,
          37.3716578,
          37.5447672,
          37.5447161,
          37.4751307,
          37.4643008,
          36.9796885,
          37.3886902,
          37.3795609,
          37.3542239,
          37.3748125,
          37.3791269,
          37.3766656,
          37.3751536,
          37.3777005,
          37.378475,
          37.3753009,
          37.3751423,
          37.3819024,
          37.3817406,
          37.3875216,
          37.2858944,
          37.5367864,
          37.5284996,
          37.5350109,
          37.407151,
          37.3709124,
          37.3712266,
          37.3809175,
          37.3934557,
          37.1285468,
          37.3447542,
          37.3412032,
          37.4033923,
          37.3762284,
          37.2943823,
          37.4031917,
          37.4186604,
          37.5155549,
          37.3828681,
          37.284439,
          37.2861964,
          37.3783874,
          37.5701031,
          37.5676648,
          37.568163,
          37.3998008,
          37.339932,
          37.3845923,
          37.3654498,
          37.3776589,
          37.5765505,
          37.5772932,
          37.6610648,
          37.3879497,
          37.6777821,
          37.4022297,
          37.877409,
          37.3360801,
          37.1985907,
          37.6541918,
          37.3878694,
          37.3937347,
          37.062686,
          37.348162,
          37.3863398,
          37.3722828,
          37.3441038,
          37.3849547,
          37.3939738
         ],
         "legendgroup": "supermarket",
         "lon": [
          -6.0472036,
          -5.9737693,
          -5.5723199,
          -5.9763418,
          -5.9733419,
          -5.9724546,
          -5.9794179,
          -5.9768997,
          -5.9815793,
          -5.9813217,
          -5.9369929,
          -5.9910877,
          -5.9863711,
          -5.9903244,
          -5.9906521,
          -5.9835362,
          -5.9856329,
          -5.6474422,
          -5.9819761,
          -6.0120047,
          -6.0119015,
          -5.9613759,
          -5.9637284,
          -5.5271327,
          -5.9700072,
          -5.9769987,
          -5.9644557,
          -5.9793319,
          -5.9860088,
          -5.9779561,
          -5.9683925,
          -5.9654044,
          -5.9803391,
          -5.9763155,
          -5.9789718,
          -5.9804517,
          -5.9790562,
          -5.975481,
          -5.9572429,
          -5.9677453,
          -5.9659946,
          -5.969255,
          -5.9689733,
          -5.9654853,
          -5.9461751,
          -5.9230804,
          -5.925213,
          -5.9268237,
          -5.9532198,
          -5.9538345,
          -5.9469451,
          -5.9545486,
          -5.9250194,
          -5.9527488,
          -5.9406317,
          -5.9196117,
          -5.9206454,
          -5.9241546,
          -6.0446424,
          -6.0456304,
          -6.0305198,
          -6.0300594,
          -5.978107,
          -5.9710998,
          -5.9683973,
          -5.9566624,
          -5.9601058,
          -5.9894762,
          -5.9919191,
          -5.9362868,
          -5.932839,
          -5.9277721,
          -6.0439156,
          -5.9270066,
          -5.7767863,
          -6.0095892,
          -5.7877631,
          -5.7736967,
          -5.7780879,
          -5.7962499,
          -6.072243,
          -5.9102831,
          -5.9146873,
          -5.9339584,
          -6.0643473,
          -5.9245229,
          -6.0020476,
          -5.9844847,
          -5.9654876,
          -5.9213596,
          -5.9693451,
          -5.9607582,
          -5.9117565,
          -5.827671,
          -5.834486,
          -5.997403,
          -5.9849974,
          -5.997585,
          -6.0518262,
          -6.0613371,
          -6.0673942,
          -5.9536265,
          -5.9472911,
          -5.9482621,
          -5.9514647,
          -5.9956693,
          -5.9730014,
          -5.8580908,
          -6.0669422,
          -5.9754025,
          -5.9812451,
          -5.9412792,
          -5.9849356,
          -6.0250197,
          -6.0059643,
          -6.0060357,
          -5.9818026,
          -5.9352853,
          -5.9433609,
          -5.5764933,
          -5.9252046,
          -5.910971,
          -5.9772574,
          -5.8401204,
          -5.8334524,
          -5.9266725,
          -5.9673225,
          -6.0045754,
          -5.8303426,
          -5.9377335,
          -5.0762451,
          -5.9952049,
          -5.9859219,
          -5.6447327,
          -5.9620406,
          -6.0566456,
          -5.8381685,
          -5.9258418,
          -5.9991195,
          -5.8532728,
          -6.0791734,
          -5.9857917,
          -5.9812268,
          -6.0030198,
          -6.0335377,
          -6.0322142,
          -5.7590353,
          -6.0336533,
          -5.982929,
          -5.99916,
          -5.9267402,
          -4.8833645,
          -5.0880186,
          -5.0856797,
          -5.0728107,
          -5.9649648,
          -5.8454073,
          -6.0530087,
          -6.0556159,
          -6.0526707,
          -6.0103841,
          -6.0134182,
          -6.0807164,
          -5.9706711,
          -5.7598055,
          -5.9257114,
          -5.9300443,
          -5.9269918,
          -4.959488,
          -4.9577282,
          -4.9609931,
          -4.9592467,
          -4.9436485,
          -4.9463952,
          -5.0979443,
          -5.1140827,
          -5.1143778,
          -5.9859998,
          -5.9857084,
          -6.0046336,
          -6.0013408,
          -5.9726165,
          -5.9726701,
          -5.9807553,
          -4.916402,
          -5.9979908,
          -5.4527503,
          -5.4502532,
          -5.4546207,
          -5.0817373,
          -5.0803299,
          -5.9994109,
          -5.9253627,
          -6.0040513,
          -6.0047183,
          -6.0475875,
          -5.9471195,
          -5.9475486,
          -6.3053348,
          -6.3278422,
          -6.0771612,
          -6.0320738,
          -6.0834494,
          -5.9254298,
          -5.7606609,
          -5.3126409,
          -6.0274989,
          -5.5303545,
          -6.1067959,
          -6.0836775,
          -5.9332385,
          -4.8823975,
          -5.5267357,
          -6.0724424,
          -6.0697293,
          -6.0096031,
          -5.9850727,
          -6.0129859,
          -6.3046051,
          -5.9921167,
          -6.0743354,
          -5.9763877,
          -6.2976206,
          -5.9211799,
          -5.9474761,
          -5.9727302,
          -6.0574429,
          -4.9845295,
          -5.9969106,
          -6.0354853,
          -6.297249,
          -6.0039737,
          -6.080157,
          -5.9781164,
          -5.9783584,
          -75.9346416,
          -75.9348948,
          -75.9339817,
          -75.9340334,
          -4.85114,
          -4.985669,
          -6.0028403,
          -5.973638,
          -5.8602342,
          -6.1614621,
          -5.7339377,
          -5.7345929,
          -5.7352893,
          -5.716306,
          -5.7126393,
          -5.9799081,
          -6.0695391,
          -6.0847287,
          -6.06612,
          -5.9313921,
          -5.9804426,
          -6.055347,
          -6.0475562,
          -5.8456912,
          -5.8538032,
          -6.0549346,
          -5.9969563,
          -5.0732017,
          -5.8160429,
          -5.999686,
          -5.9745482,
          -5.0787518,
          -5.3889559,
          -5.3868392,
          -5.9988958,
          -5.9795246,
          -6.0504183,
          -5.6396686,
          -5.9959523,
          -5.9937657,
          -6.0410394,
          -6.0075123,
          -6.0039569,
          -6.0039747,
          -6.0079664,
          -5.9769946,
          -5.5336856,
          -5.350012,
          -5.9153841,
          -6.0095526,
          -6.0405927,
          -5.9586408,
          -5.9897152,
          -5.9827216,
          -5.9822434,
          -5.076954,
          -5.0775816,
          -5.6465003,
          -5.3438793,
          -5.938488,
          -6.0084614,
          -5.9188368,
          -5.9763565,
          -6.0000997,
          -5.9990942,
          -6.0038452,
          -5.9983526,
          -5.9984998,
          -5.9993465,
          -5.998974,
          -5.998694,
          -6.001493,
          -6.0013333,
          -6.0532792,
          -5.9157327,
          -6.1584518,
          -6.1528978,
          -6.153677,
          -5.9609781,
          -5.9507914,
          -5.9509086,
          -5.973515,
          -5.9965176,
          -5.45486,
          -6.0456497,
          -6.0597904,
          -5.9693853,
          -5.9702723,
          -4.7614862,
          -5.969346,
          -5.974322,
          -6.2660091,
          -6.0133269,
          -5.9096936,
          -5.9370375,
          -5.9458035,
          -5.4256739,
          -5.4275485,
          -5.4304417,
          -5.9916412,
          -6.0621686,
          -6.0687689,
          -5.9832585,
          -5.9400413,
          -6.1051449,
          -6.105853,
          -5.5237533,
          -6.3372686,
          -5.9856765,
          -5.9775511,
          -5.6218859,
          -6.0253835,
          -4.7797709,
          -5.7114816,
          -5.9745354,
          -5.9650252,
          -5.8057198,
          -6.0385945,
          -6.0079746,
          -6.0013942,
          -5.9893559,
          -5.9613663,
          -5.9926949
         ],
         "marker": {
          "color": "#636efa"
         },
         "mode": "markers",
         "name": "supermarket",
         "showlegend": true,
         "subplot": "mapbox",
         "type": "scattermapbox"
        }
       ],
       "layout": {
        "legend": {
         "title": {
          "text": "tipo"
         },
         "tracegroupgap": 0
        },
        "mapbox": {
         "accesstoken": "pk.eyJ1IjoiZGFvcnRpIiwiYSI6ImNrZnF6M3FlczA3cDEyem16YTNzZmV4M2EifQ.846iF0sMSAXv0kwkwUTYjg",
         "center": {
          "lat": 37.01528053938547,
          "lon": -6.654797410893854
         },
         "domain": {
          "x": [
           0,
           1
          ],
          "y": [
           0,
           1
          ]
         },
         "zoom": 11
        },
        "margin": {
         "t": 60
        },
        "template": {
         "data": {
          "bar": [
           {
            "error_x": {
             "color": "#2a3f5f"
            },
            "error_y": {
             "color": "#2a3f5f"
            },
            "marker": {
             "line": {
              "color": "#E5ECF6",
              "width": 0.5
             },
             "pattern": {
              "fillmode": "overlay",
              "size": 10,
              "solidity": 0.2
             }
            },
            "type": "bar"
           }
          ],
          "barpolar": [
           {
            "marker": {
             "line": {
              "color": "#E5ECF6",
              "width": 0.5
             },
             "pattern": {
              "fillmode": "overlay",
              "size": 10,
              "solidity": 0.2
             }
            },
            "type": "barpolar"
           }
          ],
          "carpet": [
           {
            "aaxis": {
             "endlinecolor": "#2a3f5f",
             "gridcolor": "white",
             "linecolor": "white",
             "minorgridcolor": "white",
             "startlinecolor": "#2a3f5f"
            },
            "baxis": {
             "endlinecolor": "#2a3f5f",
             "gridcolor": "white",
             "linecolor": "white",
             "minorgridcolor": "white",
             "startlinecolor": "#2a3f5f"
            },
            "type": "carpet"
           }
          ],
          "choropleth": [
           {
            "colorbar": {
             "outlinewidth": 0,
             "ticks": ""
            },
            "type": "choropleth"
           }
          ],
          "contour": [
           {
            "colorbar": {
             "outlinewidth": 0,
             "ticks": ""
            },
            "colorscale": [
             [
              0,
              "#0d0887"
             ],
             [
              0.1111111111111111,
              "#46039f"
             ],
             [
              0.2222222222222222,
              "#7201a8"
             ],
             [
              0.3333333333333333,
              "#9c179e"
             ],
             [
              0.4444444444444444,
              "#bd3786"
             ],
             [
              0.5555555555555556,
              "#d8576b"
             ],
             [
              0.6666666666666666,
              "#ed7953"
             ],
             [
              0.7777777777777778,
              "#fb9f3a"
             ],
             [
              0.8888888888888888,
              "#fdca26"
             ],
             [
              1,
              "#f0f921"
             ]
            ],
            "type": "contour"
           }
          ],
          "contourcarpet": [
           {
            "colorbar": {
             "outlinewidth": 0,
             "ticks": ""
            },
            "type": "contourcarpet"
           }
          ],
          "heatmap": [
           {
            "colorbar": {
             "outlinewidth": 0,
             "ticks": ""
            },
            "colorscale": [
             [
              0,
              "#0d0887"
             ],
             [
              0.1111111111111111,
              "#46039f"
             ],
             [
              0.2222222222222222,
              "#7201a8"
             ],
             [
              0.3333333333333333,
              "#9c179e"
             ],
             [
              0.4444444444444444,
              "#bd3786"
             ],
             [
              0.5555555555555556,
              "#d8576b"
             ],
             [
              0.6666666666666666,
              "#ed7953"
             ],
             [
              0.7777777777777778,
              "#fb9f3a"
             ],
             [
              0.8888888888888888,
              "#fdca26"
             ],
             [
              1,
              "#f0f921"
             ]
            ],
            "type": "heatmap"
           }
          ],
          "heatmapgl": [
           {
            "colorbar": {
             "outlinewidth": 0,
             "ticks": ""
            },
            "colorscale": [
             [
              0,
              "#0d0887"
             ],
             [
              0.1111111111111111,
              "#46039f"
             ],
             [
              0.2222222222222222,
              "#7201a8"
             ],
             [
              0.3333333333333333,
              "#9c179e"
             ],
             [
              0.4444444444444444,
              "#bd3786"
             ],
             [
              0.5555555555555556,
              "#d8576b"
             ],
             [
              0.6666666666666666,
              "#ed7953"
             ],
             [
              0.7777777777777778,
              "#fb9f3a"
             ],
             [
              0.8888888888888888,
              "#fdca26"
             ],
             [
              1,
              "#f0f921"
             ]
            ],
            "type": "heatmapgl"
           }
          ],
          "histogram": [
           {
            "marker": {
             "pattern": {
              "fillmode": "overlay",
              "size": 10,
              "solidity": 0.2
             }
            },
            "type": "histogram"
           }
          ],
          "histogram2d": [
           {
            "colorbar": {
             "outlinewidth": 0,
             "ticks": ""
            },
            "colorscale": [
             [
              0,
              "#0d0887"
             ],
             [
              0.1111111111111111,
              "#46039f"
             ],
             [
              0.2222222222222222,
              "#7201a8"
             ],
             [
              0.3333333333333333,
              "#9c179e"
             ],
             [
              0.4444444444444444,
              "#bd3786"
             ],
             [
              0.5555555555555556,
              "#d8576b"
             ],
             [
              0.6666666666666666,
              "#ed7953"
             ],
             [
              0.7777777777777778,
              "#fb9f3a"
             ],
             [
              0.8888888888888888,
              "#fdca26"
             ],
             [
              1,
              "#f0f921"
             ]
            ],
            "type": "histogram2d"
           }
          ],
          "histogram2dcontour": [
           {
            "colorbar": {
             "outlinewidth": 0,
             "ticks": ""
            },
            "colorscale": [
             [
              0,
              "#0d0887"
             ],
             [
              0.1111111111111111,
              "#46039f"
             ],
             [
              0.2222222222222222,
              "#7201a8"
             ],
             [
              0.3333333333333333,
              "#9c179e"
             ],
             [
              0.4444444444444444,
              "#bd3786"
             ],
             [
              0.5555555555555556,
              "#d8576b"
             ],
             [
              0.6666666666666666,
              "#ed7953"
             ],
             [
              0.7777777777777778,
              "#fb9f3a"
             ],
             [
              0.8888888888888888,
              "#fdca26"
             ],
             [
              1,
              "#f0f921"
             ]
            ],
            "type": "histogram2dcontour"
           }
          ],
          "mesh3d": [
           {
            "colorbar": {
             "outlinewidth": 0,
             "ticks": ""
            },
            "type": "mesh3d"
           }
          ],
          "parcoords": [
           {
            "line": {
             "colorbar": {
              "outlinewidth": 0,
              "ticks": ""
             }
            },
            "type": "parcoords"
           }
          ],
          "pie": [
           {
            "automargin": true,
            "type": "pie"
           }
          ],
          "scatter": [
           {
            "fillpattern": {
             "fillmode": "overlay",
             "size": 10,
             "solidity": 0.2
            },
            "type": "scatter"
           }
          ],
          "scatter3d": [
           {
            "line": {
             "colorbar": {
              "outlinewidth": 0,
              "ticks": ""
             }
            },
            "marker": {
             "colorbar": {
              "outlinewidth": 0,
              "ticks": ""
             }
            },
            "type": "scatter3d"
           }
          ],
          "scattercarpet": [
           {
            "marker": {
             "colorbar": {
              "outlinewidth": 0,
              "ticks": ""
             }
            },
            "type": "scattercarpet"
           }
          ],
          "scattergeo": [
           {
            "marker": {
             "colorbar": {
              "outlinewidth": 0,
              "ticks": ""
             }
            },
            "type": "scattergeo"
           }
          ],
          "scattergl": [
           {
            "marker": {
             "colorbar": {
              "outlinewidth": 0,
              "ticks": ""
             }
            },
            "type": "scattergl"
           }
          ],
          "scattermapbox": [
           {
            "marker": {
             "colorbar": {
              "outlinewidth": 0,
              "ticks": ""
             }
            },
            "type": "scattermapbox"
           }
          ],
          "scatterpolar": [
           {
            "marker": {
             "colorbar": {
              "outlinewidth": 0,
              "ticks": ""
             }
            },
            "type": "scatterpolar"
           }
          ],
          "scatterpolargl": [
           {
            "marker": {
             "colorbar": {
              "outlinewidth": 0,
              "ticks": ""
             }
            },
            "type": "scatterpolargl"
           }
          ],
          "scatterternary": [
           {
            "marker": {
             "colorbar": {
              "outlinewidth": 0,
              "ticks": ""
             }
            },
            "type": "scatterternary"
           }
          ],
          "surface": [
           {
            "colorbar": {
             "outlinewidth": 0,
             "ticks": ""
            },
            "colorscale": [
             [
              0,
              "#0d0887"
             ],
             [
              0.1111111111111111,
              "#46039f"
             ],
             [
              0.2222222222222222,
              "#7201a8"
             ],
             [
              0.3333333333333333,
              "#9c179e"
             ],
             [
              0.4444444444444444,
              "#bd3786"
             ],
             [
              0.5555555555555556,
              "#d8576b"
             ],
             [
              0.6666666666666666,
              "#ed7953"
             ],
             [
              0.7777777777777778,
              "#fb9f3a"
             ],
             [
              0.8888888888888888,
              "#fdca26"
             ],
             [
              1,
              "#f0f921"
             ]
            ],
            "type": "surface"
           }
          ],
          "table": [
           {
            "cells": {
             "fill": {
              "color": "#EBF0F8"
             },
             "line": {
              "color": "white"
             }
            },
            "header": {
             "fill": {
              "color": "#C8D4E3"
             },
             "line": {
              "color": "white"
             }
            },
            "type": "table"
           }
          ]
         },
         "layout": {
          "annotationdefaults": {
           "arrowcolor": "#2a3f5f",
           "arrowhead": 0,
           "arrowwidth": 1
          },
          "autotypenumbers": "strict",
          "coloraxis": {
           "colorbar": {
            "outlinewidth": 0,
            "ticks": ""
           }
          },
          "colorscale": {
           "diverging": [
            [
             0,
             "#8e0152"
            ],
            [
             0.1,
             "#c51b7d"
            ],
            [
             0.2,
             "#de77ae"
            ],
            [
             0.3,
             "#f1b6da"
            ],
            [
             0.4,
             "#fde0ef"
            ],
            [
             0.5,
             "#f7f7f7"
            ],
            [
             0.6,
             "#e6f5d0"
            ],
            [
             0.7,
             "#b8e186"
            ],
            [
             0.8,
             "#7fbc41"
            ],
            [
             0.9,
             "#4d9221"
            ],
            [
             1,
             "#276419"
            ]
           ],
           "sequential": [
            [
             0,
             "#0d0887"
            ],
            [
             0.1111111111111111,
             "#46039f"
            ],
            [
             0.2222222222222222,
             "#7201a8"
            ],
            [
             0.3333333333333333,
             "#9c179e"
            ],
            [
             0.4444444444444444,
             "#bd3786"
            ],
            [
             0.5555555555555556,
             "#d8576b"
            ],
            [
             0.6666666666666666,
             "#ed7953"
            ],
            [
             0.7777777777777778,
             "#fb9f3a"
            ],
            [
             0.8888888888888888,
             "#fdca26"
            ],
            [
             1,
             "#f0f921"
            ]
           ],
           "sequentialminus": [
            [
             0,
             "#0d0887"
            ],
            [
             0.1111111111111111,
             "#46039f"
            ],
            [
             0.2222222222222222,
             "#7201a8"
            ],
            [
             0.3333333333333333,
             "#9c179e"
            ],
            [
             0.4444444444444444,
             "#bd3786"
            ],
            [
             0.5555555555555556,
             "#d8576b"
            ],
            [
             0.6666666666666666,
             "#ed7953"
            ],
            [
             0.7777777777777778,
             "#fb9f3a"
            ],
            [
             0.8888888888888888,
             "#fdca26"
            ],
            [
             1,
             "#f0f921"
            ]
           ]
          },
          "colorway": [
           "#636efa",
           "#EF553B",
           "#00cc96",
           "#ab63fa",
           "#FFA15A",
           "#19d3f3",
           "#FF6692",
           "#B6E880",
           "#FF97FF",
           "#FECB52"
          ],
          "font": {
           "color": "#2a3f5f"
          },
          "geo": {
           "bgcolor": "white",
           "lakecolor": "white",
           "landcolor": "#E5ECF6",
           "showlakes": true,
           "showland": true,
           "subunitcolor": "white"
          },
          "hoverlabel": {
           "align": "left"
          },
          "hovermode": "closest",
          "mapbox": {
           "style": "light"
          },
          "paper_bgcolor": "white",
          "plot_bgcolor": "#E5ECF6",
          "polar": {
           "angularaxis": {
            "gridcolor": "white",
            "linecolor": "white",
            "ticks": ""
           },
           "bgcolor": "#E5ECF6",
           "radialaxis": {
            "gridcolor": "white",
            "linecolor": "white",
            "ticks": ""
           }
          },
          "scene": {
           "xaxis": {
            "backgroundcolor": "#E5ECF6",
            "gridcolor": "white",
            "gridwidth": 2,
            "linecolor": "white",
            "showbackground": true,
            "ticks": "",
            "zerolinecolor": "white"
           },
           "yaxis": {
            "backgroundcolor": "#E5ECF6",
            "gridcolor": "white",
            "gridwidth": 2,
            "linecolor": "white",
            "showbackground": true,
            "ticks": "",
            "zerolinecolor": "white"
           },
           "zaxis": {
            "backgroundcolor": "#E5ECF6",
            "gridcolor": "white",
            "gridwidth": 2,
            "linecolor": "white",
            "showbackground": true,
            "ticks": "",
            "zerolinecolor": "white"
           }
          },
          "shapedefaults": {
           "line": {
            "color": "#2a3f5f"
           }
          },
          "ternary": {
           "aaxis": {
            "gridcolor": "white",
            "linecolor": "white",
            "ticks": ""
           },
           "baxis": {
            "gridcolor": "white",
            "linecolor": "white",
            "ticks": ""
           },
           "bgcolor": "#E5ECF6",
           "caxis": {
            "gridcolor": "white",
            "linecolor": "white",
            "ticks": ""
           }
          },
          "title": {
           "x": 0.05
          },
          "xaxis": {
           "automargin": true,
           "gridcolor": "white",
           "linecolor": "white",
           "ticks": "",
           "title": {
            "standoff": 15
           },
           "zerolinecolor": "white",
           "zerolinewidth": 2
          },
          "yaxis": {
           "automargin": true,
           "gridcolor": "white",
           "linecolor": "white",
           "ticks": "",
           "title": {
            "standoff": 15
           },
           "zerolinecolor": "white",
           "zerolinewidth": 2
          }
         }
        }
       }
      }
     },
     "metadata": {},
     "output_type": "display_data"
    }
   ],
   "source": [
    "pinta_mapa(df)"
   ]
  },
  {
   "cell_type": "markdown",
   "metadata": {},
   "source": [
    "## Etiqueta en el mapa\n",
    "Busca la manera de modificar la función `pinta_mapa()`, de tal manera que cuando pases el ratón por encima de cada punto, aparezca el nombre de cada nodo. Por ejemplo, que en el último apartado aparezcan los nombres de los supermercados."
   ]
  },
  {
   "cell_type": "code",
   "execution_count": 23,
   "metadata": {},
   "outputs": [
    {
     "data": {
      "application/vnd.plotly.v1+json": {
       "config": {
        "plotlyServerURL": "https://plot.ly"
       },
       "data": [
        {
         "hovertemplate": "name=%{text}<br>lat=%{lat}<br>lon=%{lon}<extra></extra>",
         "lat": [
          37.3730016,
          37.3900156,
          36.9945325,
          37.4063636,
          37.4065076,
          37.4068889,
          37.381381,
          37.3492941,
          37.3931413,
          37.3916239,
          37.281765,
          37.3945948,
          37.3928078,
          37.3902034,
          37.3968266,
          37.39283,
          37.4000193,
          37.4636269,
          37.3877763,
          37.3782118,
          37.3784637,
          37.4223309,
          37.4210312,
          37.6592193,
          37.4158443,
          37.408912,
          37.4162977,
          37.4322927,
          37.4265448,
          37.3993597,
          37.4032095,
          37.4040568,
          37.3767341,
          37.3758354,
          37.3709299,
          37.3475816,
          37.3650152,
          37.3666867,
          37.3941226,
          37.3745748,
          37.3821828,
          37.3765331,
          37.3762135,
          37.3828281,
          37.4906658,
          37.2929933,
          37.4004138,
          37.4022714,
          37.382216,
          37.3750846,
          37.3838793,
          37.3758889,
          37.41043,
          37.3994984,
          37.4010345,
          37.4117722,
          37.4021436,
          37.3958654,
          37.3732438,
          37.3770745,
          37.3921327,
          37.373167,
          37.395969,
          37.3993031,
          37.3661575,
          37.3716058,
          37.3612925,
          37.390219,
          37.4019062,
          37.2697298,
          37.344986,
          37.2756379,
          37.3626648,
          37.4007084,
          37.1744795,
          37.4615531,
          37.1876727,
          37.1851484,
          37.1895563,
          37.1797124,
          37.3207532,
          37.285365,
          37.2855656,
          37.3255608,
          37.3353194,
          37.2906251,
          37.3888642,
          37.3878814,
          37.3823229,
          37.2661629,
          37.3327558,
          37.3882714,
          37.295735,
          37.3376348,
          37.3322365,
          37.394668,
          37.387336,
          37.37798,
          37.3501025,
          37.3842002,
          37.3418953,
          37.3828833,
          37.3774228,
          37.3851723,
          37.3838552,
          37.3939616,
          37.4066907,
          37.3542265,
          37.3778989,
          37.3439885,
          37.3850834,
          37.3784614,
          37.4245402,
          37.3511902,
          37.3845859,
          37.3829724,
          37.3926834,
          37.487511,
          37.2871942,
          36.9943288,
          37.1615124,
          37.4084798,
          37.3852201,
          37.3387597,
          37.3416599,
          37.3385438,
          37.3876859,
          37.3755246,
          37.3417027,
          37.2838344,
          37.5433022,
          37.3732443,
          37.3585028,
          37.4639055,
          37.3720492,
          37.5451547,
          37.3388604,
          37.2902401,
          37.3984032,
          37.328376,
          37.3684704,
          37.5132086,
          37.5161821,
          37.3827647,
          37.3972073,
          37.3986384,
          37.9314768,
          37.4012555,
          37.388112,
          37.3897145,
          37.284377,
          37.3007621,
          37.5395984,
          37.5304428,
          37.5379071,
          37.3816054,
          37.351903,
          37.2962155,
          37.2949076,
          37.2894918,
          37.3846396,
          37.3845658,
          37.3883375,
          37.3901385,
          37.935879,
          37.4010558,
          37.3390588,
          37.2889914,
          37.3704267,
          37.3709517,
          37.3723487,
          37.3718211,
          37.3764664,
          37.377278,
          37.2315496,
          37.2374432,
          37.2374048,
          37.3588696,
          37.3563452,
          37.3757882,
          37.3947584,
          37.3785976,
          37.378052,
          37.4024316,
          37.2517534,
          37.3979165,
          37.1288919,
          37.1263749,
          37.1278811,
          37.5442913,
          37.5416931,
          37.3755652,
          37.4109179,
          37.3800415,
          37.3793471,
          37.3528597,
          37.4836776,
          37.4844523,
          37.30331,
          37.3596854,
          37.3835149,
          37.3741291,
          37.3826562,
          37.4108539,
          37.9428359,
          37.2238977,
          37.385883,
          37.6601041,
          37.3101139,
          37.3798043,
          37.2783941,
          37.4494613,
          37.6609324,
          37.3720803,
          37.3736999,
          37.3824855,
          37.4247797,
          37.3774904,
          37.3042312,
          37.3897096,
          37.3858133,
          37.426738,
          37.3023998,
          37.2824923,
          37.3761087,
          37.3874865,
          37.3536782,
          37.100331,
          37.3726194,
          37.3718625,
          37.3040479,
          37.3819894,
          37.3890463,
          37.3585589,
          37.3593174,
          4.2685437,
          4.2645309,
          4.2642887,
          4.2635972,
          37.365246,
          37.355629,
          37.3742039,
          37.3773855,
          37.3123385,
          37.4148171,
          37.3813908,
          37.3810371,
          37.3807862,
          37.3932795,
          37.3972674,
          37.3905785,
          36.9283397,
          37.381633,
          37.3223888,
          37.2832311,
          37.3917556,
          37.3858695,
          37.3855691,
          37.337093,
          37.3252963,
          37.3849155,
          37.3945664,
          37.5365141,
          37.2221232,
          37.3798531,
          37.38285,
          37.545211,
          37.7807611,
          37.7789366,
          37.3662625,
          37.3800582,
          37.4325717,
          37.4717331,
          37.372653,
          37.4011565,
          37.3605097,
          37.3792072,
          37.381944,
          37.3812806,
          37.3856825,
          37.3708759,
          37.6598589,
          37.7066017,
          37.5737316,
          37.3817904,
          37.4381841,
          37.3729319,
          37.4065108,
          37.3717263,
          37.3716578,
          37.5447672,
          37.5447161,
          37.4751307,
          37.4643008,
          36.9796885,
          37.3886902,
          37.3795609,
          37.3542239,
          37.3748125,
          37.3791269,
          37.3766656,
          37.3751536,
          37.3777005,
          37.378475,
          37.3753009,
          37.3751423,
          37.3819024,
          37.3817406,
          37.3875216,
          37.2858944,
          37.5367864,
          37.5284996,
          37.5350109,
          37.407151,
          37.3709124,
          37.3712266,
          37.3809175,
          37.3934557,
          37.1285468,
          37.3447542,
          37.3412032,
          37.4033923,
          37.3762284,
          37.2943823,
          37.4031917,
          37.4186604,
          37.5155549,
          37.3828681,
          37.284439,
          37.2861964,
          37.3783874,
          37.5701031,
          37.5676648,
          37.568163,
          37.3998008,
          37.339932,
          37.3845923,
          37.3654498,
          37.3776589,
          37.5765505,
          37.5772932,
          37.6610648,
          37.3879497,
          37.6777821,
          37.4022297,
          37.877409,
          37.3360801,
          37.1985907,
          37.6541918,
          37.3878694,
          37.3937347,
          37.062686,
          37.348162,
          37.3863398,
          37.3722828,
          37.3441038,
          37.3849547,
          37.3939738
         ],
         "legendgroup": "",
         "lon": [
          -6.0472036,
          -5.9737693,
          -5.5723199,
          -5.9763418,
          -5.9733419,
          -5.9724546,
          -5.9794179,
          -5.9768997,
          -5.9815793,
          -5.9813217,
          -5.9369929,
          -5.9910877,
          -5.9863711,
          -5.9903244,
          -5.9906521,
          -5.9835362,
          -5.9856329,
          -5.6474422,
          -5.9819761,
          -6.0120047,
          -6.0119015,
          -5.9613759,
          -5.9637284,
          -5.5271327,
          -5.9700072,
          -5.9769987,
          -5.9644557,
          -5.9793319,
          -5.9860088,
          -5.9779561,
          -5.9683925,
          -5.9654044,
          -5.9803391,
          -5.9763155,
          -5.9789718,
          -5.9804517,
          -5.9790562,
          -5.975481,
          -5.9572429,
          -5.9677453,
          -5.9659946,
          -5.969255,
          -5.9689733,
          -5.9654853,
          -5.9461751,
          -5.9230804,
          -5.925213,
          -5.9268237,
          -5.9532198,
          -5.9538345,
          -5.9469451,
          -5.9545486,
          -5.9250194,
          -5.9527488,
          -5.9406317,
          -5.9196117,
          -5.9206454,
          -5.9241546,
          -6.0446424,
          -6.0456304,
          -6.0305198,
          -6.0300594,
          -5.978107,
          -5.9710998,
          -5.9683973,
          -5.9566624,
          -5.9601058,
          -5.9894762,
          -5.9919191,
          -5.9362868,
          -5.932839,
          -5.9277721,
          -6.0439156,
          -5.9270066,
          -5.7767863,
          -6.0095892,
          -5.7877631,
          -5.7736967,
          -5.7780879,
          -5.7962499,
          -6.072243,
          -5.9102831,
          -5.9146873,
          -5.9339584,
          -6.0643473,
          -5.9245229,
          -6.0020476,
          -5.9844847,
          -5.9654876,
          -5.9213596,
          -5.9693451,
          -5.9607582,
          -5.9117565,
          -5.827671,
          -5.834486,
          -5.997403,
          -5.9849974,
          -5.997585,
          -6.0518262,
          -6.0613371,
          -6.0673942,
          -5.9536265,
          -5.9472911,
          -5.9482621,
          -5.9514647,
          -5.9956693,
          -5.9730014,
          -5.8580908,
          -6.0669422,
          -5.9754025,
          -5.9812451,
          -5.9412792,
          -5.9849356,
          -6.0250197,
          -6.0059643,
          -6.0060357,
          -5.9818026,
          -5.9352853,
          -5.9433609,
          -5.5764933,
          -5.9252046,
          -5.910971,
          -5.9772574,
          -5.8401204,
          -5.8334524,
          -5.9266725,
          -5.9673225,
          -6.0045754,
          -5.8303426,
          -5.9377335,
          -5.0762451,
          -5.9952049,
          -5.9859219,
          -5.6447327,
          -5.9620406,
          -6.0566456,
          -5.8381685,
          -5.9258418,
          -5.9991195,
          -5.8532728,
          -6.0791734,
          -5.9857917,
          -5.9812268,
          -6.0030198,
          -6.0335377,
          -6.0322142,
          -5.7590353,
          -6.0336533,
          -5.982929,
          -5.99916,
          -5.9267402,
          -4.8833645,
          -5.0880186,
          -5.0856797,
          -5.0728107,
          -5.9649648,
          -5.8454073,
          -6.0530087,
          -6.0556159,
          -6.0526707,
          -6.0103841,
          -6.0134182,
          -6.0807164,
          -5.9706711,
          -5.7598055,
          -5.9257114,
          -5.9300443,
          -5.9269918,
          -4.959488,
          -4.9577282,
          -4.9609931,
          -4.9592467,
          -4.9436485,
          -4.9463952,
          -5.0979443,
          -5.1140827,
          -5.1143778,
          -5.9859998,
          -5.9857084,
          -6.0046336,
          -6.0013408,
          -5.9726165,
          -5.9726701,
          -5.9807553,
          -4.916402,
          -5.9979908,
          -5.4527503,
          -5.4502532,
          -5.4546207,
          -5.0817373,
          -5.0803299,
          -5.9994109,
          -5.9253627,
          -6.0040513,
          -6.0047183,
          -6.0475875,
          -5.9471195,
          -5.9475486,
          -6.3053348,
          -6.3278422,
          -6.0771612,
          -6.0320738,
          -6.0834494,
          -5.9254298,
          -5.7606609,
          -5.3126409,
          -6.0274989,
          -5.5303545,
          -6.1067959,
          -6.0836775,
          -5.9332385,
          -4.8823975,
          -5.5267357,
          -6.0724424,
          -6.0697293,
          -6.0096031,
          -5.9850727,
          -6.0129859,
          -6.3046051,
          -5.9921167,
          -6.0743354,
          -5.9763877,
          -6.2976206,
          -5.9211799,
          -5.9474761,
          -5.9727302,
          -6.0574429,
          -4.9845295,
          -5.9969106,
          -6.0354853,
          -6.297249,
          -6.0039737,
          -6.080157,
          -5.9781164,
          -5.9783584,
          -75.9346416,
          -75.9348948,
          -75.9339817,
          -75.9340334,
          -4.85114,
          -4.985669,
          -6.0028403,
          -5.973638,
          -5.8602342,
          -6.1614621,
          -5.7339377,
          -5.7345929,
          -5.7352893,
          -5.716306,
          -5.7126393,
          -5.9799081,
          -6.0695391,
          -6.0847287,
          -6.06612,
          -5.9313921,
          -5.9804426,
          -6.055347,
          -6.0475562,
          -5.8456912,
          -5.8538032,
          -6.0549346,
          -5.9969563,
          -5.0732017,
          -5.8160429,
          -5.999686,
          -5.9745482,
          -5.0787518,
          -5.3889559,
          -5.3868392,
          -5.9988958,
          -5.9795246,
          -6.0504183,
          -5.6396686,
          -5.9959523,
          -5.9937657,
          -6.0410394,
          -6.0075123,
          -6.0039569,
          -6.0039747,
          -6.0079664,
          -5.9769946,
          -5.5336856,
          -5.350012,
          -5.9153841,
          -6.0095526,
          -6.0405927,
          -5.9586408,
          -5.9897152,
          -5.9827216,
          -5.9822434,
          -5.076954,
          -5.0775816,
          -5.6465003,
          -5.3438793,
          -5.938488,
          -6.0084614,
          -5.9188368,
          -5.9763565,
          -6.0000997,
          -5.9990942,
          -6.0038452,
          -5.9983526,
          -5.9984998,
          -5.9993465,
          -5.998974,
          -5.998694,
          -6.001493,
          -6.0013333,
          -6.0532792,
          -5.9157327,
          -6.1584518,
          -6.1528978,
          -6.153677,
          -5.9609781,
          -5.9507914,
          -5.9509086,
          -5.973515,
          -5.9965176,
          -5.45486,
          -6.0456497,
          -6.0597904,
          -5.9693853,
          -5.9702723,
          -4.7614862,
          -5.969346,
          -5.974322,
          -6.2660091,
          -6.0133269,
          -5.9096936,
          -5.9370375,
          -5.9458035,
          -5.4256739,
          -5.4275485,
          -5.4304417,
          -5.9916412,
          -6.0621686,
          -6.0687689,
          -5.9832585,
          -5.9400413,
          -6.1051449,
          -6.105853,
          -5.5237533,
          -6.3372686,
          -5.9856765,
          -5.9775511,
          -5.6218859,
          -6.0253835,
          -4.7797709,
          -5.7114816,
          -5.9745354,
          -5.9650252,
          -5.8057198,
          -6.0385945,
          -6.0079746,
          -6.0013942,
          -5.9893559,
          -5.9613663,
          -5.9926949
         ],
         "marker": {
          "color": "#636efa"
         },
         "mode": "markers+text",
         "name": "",
         "showlegend": false,
         "subplot": "mapbox",
         "text": [
          "MAS",
          "Maxi Dia",
          "Dia",
          "El Jamón",
          "Valdejimena",
          "Dia",
          "MAS",
          "Mercadona",
          "Supersol",
          "NO NAME",
          "Dia",
          "El Jamón",
          "Masymas",
          "Supersol",
          "Maxi Dia",
          "Dia Market",
          "Dia Market",
          "Mercadona",
          "Maxi Dia",
          "Supermercado El Jamón",
          "Dia Market",
          "NO NAME",
          "NO NAME",
          "Mercadona",
          "NO NAME",
          "NO NAME",
          "NO NAME",
          "NO NAME",
          "NO NAME",
          "Mercadona",
          "NO NAME",
          "NO NAME",
          "NO NAME",
          "Supercor",
          "Supermercados Mas",
          "Supermercado El Jamón",
          "Mercadona",
          "NO NAME",
          "Maxi Dia",
          "Maxi Dia",
          "OpenCor",
          "M.A.S.",
          "Dia",
          "NO NAME",
          "Dia",
          "Mercadona",
          "Mercadona",
          "Dia",
          "Supersol",
          "Dia",
          "NO NAME",
          "El Jamón",
          "NO NAME",
          "Covirán",
          "NO NAME",
          "NO NAME",
          "Cash Fresh",
          "NO NAME",
          "Mercadona",
          "Mas",
          "Carrefour",
          "Hipercor",
          "Supersol",
          "NO NAME",
          "NO NAME",
          "Dia",
          "NO NAME",
          "Dia",
          "MAS",
          "Covirán",
          "M.A.S.",
          "Codi",
          "NO NAME",
          "Cash",
          "Mercadona",
          "Maxi Dia",
          "Mercadona",
          "Hipersol",
          "Codi",
          "Supermercado Juani",
          "Mas",
          "Codi",
          "Codi",
          "Mas Olivares",
          "Mercadona",
          "Codi",
          "Mas",
          "El Jamón",
          "Supemercados El Jamón",
          "Bebidas Sur",
          "Lidl",
          "Hipercor",
          "Cash - Hnos López González",
          "Dia",
          "Caliser",
          "Dia",
          "Supermercados Mas",
          "Supersol",
          "Mercadona",
          "Aldi",
          "NO NAME",
          "Dia",
          "Dia",
          "Dia",
          "Cash fresh",
          "Hiper Oriente",
          "MAS",
          "Mercadona",
          "Lidl",
          "Supermercado MAS",
          "Supermercado MAS",
          "Cash Fresh",
          "Supermcado \"M.A.S.\"",
          "Mercadona",
          "Supermercados El Jamón",
          "MAS",
          "Carrefour Market",
          "Mercadona",
          "Covirán",
          "NO NAME",
          "Hermanos Páez Martín",
          "Alcampo",
          "Mas",
          "Supermercado M.A.S",
          "Mercadona",
          "Mercadona",
          "Supermercado",
          "Supermercado MAS",
          "Lidl",
          "Carrefour",
          "San Enrique",
          "Supermercados MAS",
          "Supersol",
          "Miguel Angel",
          "Mercadona",
          "MASS Supermercados",
          "Dia",
          "Covirán",
          "La Ortiga",
          "NO NAME",
          "Supermercados Mas",
          "NO NAME",
          "NO NAME",
          "Maskom",
          "Mercadona",
          "Supermercado Victoriano",
          "Eroski",
          "Dia",
          "Spar",
          "Supermercados MAS",
          "Covirán",
          "Mercadona",
          "Mercadona",
          "Carrefour",
          "Aldi",
          "Dia",
          "Maxi Dia",
          "Lidl",
          "Dia",
          "Mercadona",
          "Dia",
          "Dia",
          "Supermercado Proxim",
          "NO NAME",
          "Dia Market",
          "Bonsabor",
          "Codi",
          "Covirán",
          "NO NAME",
          "NO NAME",
          "Eroski",
          "NO NAME",
          "NO NAME",
          "NO NAME",
          "Eroski",
          "Mercadona",
          "Lidl",
          "MAS&Go",
          "El Jamón",
          "El Jamón",
          "Supermrecados Mas",
          "La Coriana",
          "El Toni",
          "NO NAME",
          "Dia",
          "Supersol",
          "Dia",
          "Lidl",
          "Urbano Center",
          "San Enrique",
          "Covirán",
          "Lidl",
          "El Jamón",
          "Supermercado El Jamón",
          "Cash Fresh",
          "Supermercado MAS",
          "NO NAME",
          "NO NAME",
          "Mercadona",
          "Badia",
          "MAS",
          "Dia",
          "Maxi Dia",
          "Perfumeria Ana",
          "CASH FRESH",
          "Dia",
          "Maxi Dia",
          "Dia",
          "Dia",
          "Supeco",
          "Cash Catalino Supherme",
          "Minimarket",
          "NICASIO",
          "Alimentación YEN",
          "Hiper Frutas y Pescado Aljarafe",
          "El Jamón",
          "Supersol",
          "Autoservicio Rosa",
          "Covirán",
          "Mas",
          "El Jamón",
          "Mercadona",
          "Dia",
          "Codi",
          "Jamón",
          "Super Oriental",
          "Alimentation biologique",
          "NO NAME",
          "Dia",
          "Mercadona",
          "Covirán",
          "Supermercado Ecológico.Herboteca",
          "Supermercado Noah",
          "Mas",
          "El Jamón",
          "Autoservicio la miranda",
          "Merkacentro",
          "ARA",
          "D1- De todos",
          "Dia",
          "Alsara",
          "NO NAME",
          "El Colmado de Pimpi",
          "Mercadona",
          "NO NAME",
          "Lidl",
          "Mercadona",
          "Carrefour",
          "Supermercado Paz",
          "Mercadona",
          "Mercadona",
          "Aldi",
          "El Molino de Gines",
          "Maxi Dia",
          "Codi",
          "ALDI",
          "Codi",
          "Mercadona",
          "Dia",
          "Aldi",
          "Covirán",
          "Mas&go",
          "Lidl",
          "Ayala",
          "Mercadona",
          "Fresh DIA",
          "Dia",
          "Covirán",
          "Covirán",
          "Aldi",
          "Dia",
          "Cash Fresh",
          "El Jamón",
          "Supermercado Lin",
          "Supermercado Alameda",
          "Suma",
          "El Jamón",
          "Supermercado Ecológico Herboteca",
          "Supermercado MAS",
          "Mezcla - Productos Ecológicos",
          "Dia",
          "Cash Fresh",
          "cash peñaflor",
          "NO NAME",
          "Suma",
          "Supermercado Bazar",
          "El Jamón",
          "Mercadona",
          "Supersol",
          "Mas&Go",
          "SAN ENRIQUE",
          "EL POLVILLO",
          "SuperCarmela",
          "NO NAME",
          "Super Carmela",
          "Dia",
          "NO NAME",
          "Supersol",
          "MAS&Go",
          "MAS & go",
          "MAS",
          "MAS",
          "Dia",
          "ALDI",
          "Covirán",
          "MAS",
          "Dia Market",
          "Supermercados La Cesta",
          "Spar",
          "El jamón",
          "Nietas de Maruja",
          "La Esquina Ibérica",
          "El Burrito",
          "Mercadrink",
          "Dia Market",
          "Supersol",
          "supermercado sur",
          "El Corte Ingles",
          "Family Cash",
          "Covirán",
          "Supermercados MAS",
          "Lidl",
          "Alimentación Mei Bazar",
          "Supermercado Jeromito",
          "Lidl",
          "Carrefour",
          "Dia",
          "Cash Fresh",
          "NO NAME",
          "Codi",
          "NO NAME",
          "Supermercado Carmela",
          "Covirán",
          "Supermercado Carmela",
          "Doña Aceituna",
          "Alsara express",
          "Súper de Gines",
          "CASH FRESH",
          "Dia",
          "Supermercado",
          "Covirán",
          "Alimentación MATI",
          "Supermercado Martín",
          "Covivran Supermercado Huerta del Santo",
          "Dia",
          "Supercarmela",
          "Suma",
          "Dia",
          "Dia",
          "NO NAME",
          "Supermercado DIA",
          "Super Carmela",
          "Gran vida eco tienda",
          "Carrefour Expres",
          "Spar",
          "Mercadona",
          "CensoredShop",
          "Carrefour Express"
         ],
         "type": "scattermapbox"
        }
       ],
       "layout": {
        "legend": {
         "tracegroupgap": 0
        },
        "mapbox": {
         "accesstoken": "pk.eyJ1IjoiZGFvcnRpIiwiYSI6ImNrZnF6M3FlczA3cDEyem16YTNzZmV4M2EifQ.846iF0sMSAXv0kwkwUTYjg",
         "center": {
          "lat": 37.01528053938547,
          "lon": -6.654797410893854
         },
         "domain": {
          "x": [
           0,
           1
          ],
          "y": [
           0,
           1
          ]
         },
         "zoom": 11
        },
        "margin": {
         "t": 60
        },
        "template": {
         "data": {
          "bar": [
           {
            "error_x": {
             "color": "#2a3f5f"
            },
            "error_y": {
             "color": "#2a3f5f"
            },
            "marker": {
             "line": {
              "color": "#E5ECF6",
              "width": 0.5
             },
             "pattern": {
              "fillmode": "overlay",
              "size": 10,
              "solidity": 0.2
             }
            },
            "type": "bar"
           }
          ],
          "barpolar": [
           {
            "marker": {
             "line": {
              "color": "#E5ECF6",
              "width": 0.5
             },
             "pattern": {
              "fillmode": "overlay",
              "size": 10,
              "solidity": 0.2
             }
            },
            "type": "barpolar"
           }
          ],
          "carpet": [
           {
            "aaxis": {
             "endlinecolor": "#2a3f5f",
             "gridcolor": "white",
             "linecolor": "white",
             "minorgridcolor": "white",
             "startlinecolor": "#2a3f5f"
            },
            "baxis": {
             "endlinecolor": "#2a3f5f",
             "gridcolor": "white",
             "linecolor": "white",
             "minorgridcolor": "white",
             "startlinecolor": "#2a3f5f"
            },
            "type": "carpet"
           }
          ],
          "choropleth": [
           {
            "colorbar": {
             "outlinewidth": 0,
             "ticks": ""
            },
            "type": "choropleth"
           }
          ],
          "contour": [
           {
            "colorbar": {
             "outlinewidth": 0,
             "ticks": ""
            },
            "colorscale": [
             [
              0,
              "#0d0887"
             ],
             [
              0.1111111111111111,
              "#46039f"
             ],
             [
              0.2222222222222222,
              "#7201a8"
             ],
             [
              0.3333333333333333,
              "#9c179e"
             ],
             [
              0.4444444444444444,
              "#bd3786"
             ],
             [
              0.5555555555555556,
              "#d8576b"
             ],
             [
              0.6666666666666666,
              "#ed7953"
             ],
             [
              0.7777777777777778,
              "#fb9f3a"
             ],
             [
              0.8888888888888888,
              "#fdca26"
             ],
             [
              1,
              "#f0f921"
             ]
            ],
            "type": "contour"
           }
          ],
          "contourcarpet": [
           {
            "colorbar": {
             "outlinewidth": 0,
             "ticks": ""
            },
            "type": "contourcarpet"
           }
          ],
          "heatmap": [
           {
            "colorbar": {
             "outlinewidth": 0,
             "ticks": ""
            },
            "colorscale": [
             [
              0,
              "#0d0887"
             ],
             [
              0.1111111111111111,
              "#46039f"
             ],
             [
              0.2222222222222222,
              "#7201a8"
             ],
             [
              0.3333333333333333,
              "#9c179e"
             ],
             [
              0.4444444444444444,
              "#bd3786"
             ],
             [
              0.5555555555555556,
              "#d8576b"
             ],
             [
              0.6666666666666666,
              "#ed7953"
             ],
             [
              0.7777777777777778,
              "#fb9f3a"
             ],
             [
              0.8888888888888888,
              "#fdca26"
             ],
             [
              1,
              "#f0f921"
             ]
            ],
            "type": "heatmap"
           }
          ],
          "heatmapgl": [
           {
            "colorbar": {
             "outlinewidth": 0,
             "ticks": ""
            },
            "colorscale": [
             [
              0,
              "#0d0887"
             ],
             [
              0.1111111111111111,
              "#46039f"
             ],
             [
              0.2222222222222222,
              "#7201a8"
             ],
             [
              0.3333333333333333,
              "#9c179e"
             ],
             [
              0.4444444444444444,
              "#bd3786"
             ],
             [
              0.5555555555555556,
              "#d8576b"
             ],
             [
              0.6666666666666666,
              "#ed7953"
             ],
             [
              0.7777777777777778,
              "#fb9f3a"
             ],
             [
              0.8888888888888888,
              "#fdca26"
             ],
             [
              1,
              "#f0f921"
             ]
            ],
            "type": "heatmapgl"
           }
          ],
          "histogram": [
           {
            "marker": {
             "pattern": {
              "fillmode": "overlay",
              "size": 10,
              "solidity": 0.2
             }
            },
            "type": "histogram"
           }
          ],
          "histogram2d": [
           {
            "colorbar": {
             "outlinewidth": 0,
             "ticks": ""
            },
            "colorscale": [
             [
              0,
              "#0d0887"
             ],
             [
              0.1111111111111111,
              "#46039f"
             ],
             [
              0.2222222222222222,
              "#7201a8"
             ],
             [
              0.3333333333333333,
              "#9c179e"
             ],
             [
              0.4444444444444444,
              "#bd3786"
             ],
             [
              0.5555555555555556,
              "#d8576b"
             ],
             [
              0.6666666666666666,
              "#ed7953"
             ],
             [
              0.7777777777777778,
              "#fb9f3a"
             ],
             [
              0.8888888888888888,
              "#fdca26"
             ],
             [
              1,
              "#f0f921"
             ]
            ],
            "type": "histogram2d"
           }
          ],
          "histogram2dcontour": [
           {
            "colorbar": {
             "outlinewidth": 0,
             "ticks": ""
            },
            "colorscale": [
             [
              0,
              "#0d0887"
             ],
             [
              0.1111111111111111,
              "#46039f"
             ],
             [
              0.2222222222222222,
              "#7201a8"
             ],
             [
              0.3333333333333333,
              "#9c179e"
             ],
             [
              0.4444444444444444,
              "#bd3786"
             ],
             [
              0.5555555555555556,
              "#d8576b"
             ],
             [
              0.6666666666666666,
              "#ed7953"
             ],
             [
              0.7777777777777778,
              "#fb9f3a"
             ],
             [
              0.8888888888888888,
              "#fdca26"
             ],
             [
              1,
              "#f0f921"
             ]
            ],
            "type": "histogram2dcontour"
           }
          ],
          "mesh3d": [
           {
            "colorbar": {
             "outlinewidth": 0,
             "ticks": ""
            },
            "type": "mesh3d"
           }
          ],
          "parcoords": [
           {
            "line": {
             "colorbar": {
              "outlinewidth": 0,
              "ticks": ""
             }
            },
            "type": "parcoords"
           }
          ],
          "pie": [
           {
            "automargin": true,
            "type": "pie"
           }
          ],
          "scatter": [
           {
            "fillpattern": {
             "fillmode": "overlay",
             "size": 10,
             "solidity": 0.2
            },
            "type": "scatter"
           }
          ],
          "scatter3d": [
           {
            "line": {
             "colorbar": {
              "outlinewidth": 0,
              "ticks": ""
             }
            },
            "marker": {
             "colorbar": {
              "outlinewidth": 0,
              "ticks": ""
             }
            },
            "type": "scatter3d"
           }
          ],
          "scattercarpet": [
           {
            "marker": {
             "colorbar": {
              "outlinewidth": 0,
              "ticks": ""
             }
            },
            "type": "scattercarpet"
           }
          ],
          "scattergeo": [
           {
            "marker": {
             "colorbar": {
              "outlinewidth": 0,
              "ticks": ""
             }
            },
            "type": "scattergeo"
           }
          ],
          "scattergl": [
           {
            "marker": {
             "colorbar": {
              "outlinewidth": 0,
              "ticks": ""
             }
            },
            "type": "scattergl"
           }
          ],
          "scattermapbox": [
           {
            "marker": {
             "colorbar": {
              "outlinewidth": 0,
              "ticks": ""
             }
            },
            "type": "scattermapbox"
           }
          ],
          "scatterpolar": [
           {
            "marker": {
             "colorbar": {
              "outlinewidth": 0,
              "ticks": ""
             }
            },
            "type": "scatterpolar"
           }
          ],
          "scatterpolargl": [
           {
            "marker": {
             "colorbar": {
              "outlinewidth": 0,
              "ticks": ""
             }
            },
            "type": "scatterpolargl"
           }
          ],
          "scatterternary": [
           {
            "marker": {
             "colorbar": {
              "outlinewidth": 0,
              "ticks": ""
             }
            },
            "type": "scatterternary"
           }
          ],
          "surface": [
           {
            "colorbar": {
             "outlinewidth": 0,
             "ticks": ""
            },
            "colorscale": [
             [
              0,
              "#0d0887"
             ],
             [
              0.1111111111111111,
              "#46039f"
             ],
             [
              0.2222222222222222,
              "#7201a8"
             ],
             [
              0.3333333333333333,
              "#9c179e"
             ],
             [
              0.4444444444444444,
              "#bd3786"
             ],
             [
              0.5555555555555556,
              "#d8576b"
             ],
             [
              0.6666666666666666,
              "#ed7953"
             ],
             [
              0.7777777777777778,
              "#fb9f3a"
             ],
             [
              0.8888888888888888,
              "#fdca26"
             ],
             [
              1,
              "#f0f921"
             ]
            ],
            "type": "surface"
           }
          ],
          "table": [
           {
            "cells": {
             "fill": {
              "color": "#EBF0F8"
             },
             "line": {
              "color": "white"
             }
            },
            "header": {
             "fill": {
              "color": "#C8D4E3"
             },
             "line": {
              "color": "white"
             }
            },
            "type": "table"
           }
          ]
         },
         "layout": {
          "annotationdefaults": {
           "arrowcolor": "#2a3f5f",
           "arrowhead": 0,
           "arrowwidth": 1
          },
          "autotypenumbers": "strict",
          "coloraxis": {
           "colorbar": {
            "outlinewidth": 0,
            "ticks": ""
           }
          },
          "colorscale": {
           "diverging": [
            [
             0,
             "#8e0152"
            ],
            [
             0.1,
             "#c51b7d"
            ],
            [
             0.2,
             "#de77ae"
            ],
            [
             0.3,
             "#f1b6da"
            ],
            [
             0.4,
             "#fde0ef"
            ],
            [
             0.5,
             "#f7f7f7"
            ],
            [
             0.6,
             "#e6f5d0"
            ],
            [
             0.7,
             "#b8e186"
            ],
            [
             0.8,
             "#7fbc41"
            ],
            [
             0.9,
             "#4d9221"
            ],
            [
             1,
             "#276419"
            ]
           ],
           "sequential": [
            [
             0,
             "#0d0887"
            ],
            [
             0.1111111111111111,
             "#46039f"
            ],
            [
             0.2222222222222222,
             "#7201a8"
            ],
            [
             0.3333333333333333,
             "#9c179e"
            ],
            [
             0.4444444444444444,
             "#bd3786"
            ],
            [
             0.5555555555555556,
             "#d8576b"
            ],
            [
             0.6666666666666666,
             "#ed7953"
            ],
            [
             0.7777777777777778,
             "#fb9f3a"
            ],
            [
             0.8888888888888888,
             "#fdca26"
            ],
            [
             1,
             "#f0f921"
            ]
           ],
           "sequentialminus": [
            [
             0,
             "#0d0887"
            ],
            [
             0.1111111111111111,
             "#46039f"
            ],
            [
             0.2222222222222222,
             "#7201a8"
            ],
            [
             0.3333333333333333,
             "#9c179e"
            ],
            [
             0.4444444444444444,
             "#bd3786"
            ],
            [
             0.5555555555555556,
             "#d8576b"
            ],
            [
             0.6666666666666666,
             "#ed7953"
            ],
            [
             0.7777777777777778,
             "#fb9f3a"
            ],
            [
             0.8888888888888888,
             "#fdca26"
            ],
            [
             1,
             "#f0f921"
            ]
           ]
          },
          "colorway": [
           "#636efa",
           "#EF553B",
           "#00cc96",
           "#ab63fa",
           "#FFA15A",
           "#19d3f3",
           "#FF6692",
           "#B6E880",
           "#FF97FF",
           "#FECB52"
          ],
          "font": {
           "color": "#2a3f5f"
          },
          "geo": {
           "bgcolor": "white",
           "lakecolor": "white",
           "landcolor": "#E5ECF6",
           "showlakes": true,
           "showland": true,
           "subunitcolor": "white"
          },
          "hoverlabel": {
           "align": "left"
          },
          "hovermode": "closest",
          "mapbox": {
           "style": "light"
          },
          "paper_bgcolor": "white",
          "plot_bgcolor": "#E5ECF6",
          "polar": {
           "angularaxis": {
            "gridcolor": "white",
            "linecolor": "white",
            "ticks": ""
           },
           "bgcolor": "#E5ECF6",
           "radialaxis": {
            "gridcolor": "white",
            "linecolor": "white",
            "ticks": ""
           }
          },
          "scene": {
           "xaxis": {
            "backgroundcolor": "#E5ECF6",
            "gridcolor": "white",
            "gridwidth": 2,
            "linecolor": "white",
            "showbackground": true,
            "ticks": "",
            "zerolinecolor": "white"
           },
           "yaxis": {
            "backgroundcolor": "#E5ECF6",
            "gridcolor": "white",
            "gridwidth": 2,
            "linecolor": "white",
            "showbackground": true,
            "ticks": "",
            "zerolinecolor": "white"
           },
           "zaxis": {
            "backgroundcolor": "#E5ECF6",
            "gridcolor": "white",
            "gridwidth": 2,
            "linecolor": "white",
            "showbackground": true,
            "ticks": "",
            "zerolinecolor": "white"
           }
          },
          "shapedefaults": {
           "line": {
            "color": "#2a3f5f"
           }
          },
          "ternary": {
           "aaxis": {
            "gridcolor": "white",
            "linecolor": "white",
            "ticks": ""
           },
           "baxis": {
            "gridcolor": "white",
            "linecolor": "white",
            "ticks": ""
           },
           "bgcolor": "#E5ECF6",
           "caxis": {
            "gridcolor": "white",
            "linecolor": "white",
            "ticks": ""
           }
          },
          "title": {
           "x": 0.05
          },
          "xaxis": {
           "automargin": true,
           "gridcolor": "white",
           "linecolor": "white",
           "ticks": "",
           "title": {
            "standoff": 15
           },
           "zerolinecolor": "white",
           "zerolinewidth": 2
          },
          "yaxis": {
           "automargin": true,
           "gridcolor": "white",
           "linecolor": "white",
           "ticks": "",
           "title": {
            "standoff": 15
           },
           "zerolinecolor": "white",
           "zerolinewidth": 2
          }
         }
        }
       }
      }
     },
     "metadata": {},
     "output_type": "display_data"
    }
   ],
   "source": [
    "def pinta_mapa(df):\n",
    "    fig = px.scatter_mapbox(df,\n",
    "                            lat=\"lat\",\n",
    "                            lon=\"lon\",\n",
    "                            text = \"name\",\n",
    "                      color_continuous_scale=px.colors.cyclical.IceFire, size_max=15, zoom=11)\n",
    "    fig.update_layout(\n",
    "        mapbox=dict(\n",
    "            accesstoken=mapbox_access_token\n",
    "        )\n",
    "    )\n",
    "\n",
    "    fig.show()\n",
    "pinta_mapa(df)"
   ]
  }
 ],
 "metadata": {
  "kernelspec": {
   "display_name": "Python 3",
   "language": "python",
   "name": "python3"
  },
  "language_info": {
   "codemirror_mode": {
    "name": "ipython",
    "version": 3
   },
   "file_extension": ".py",
   "mimetype": "text/x-python",
   "name": "python",
   "nbconvert_exporter": "python",
   "pygments_lexer": "ipython3",
   "version": "3.7.4"
  }
 },
 "nbformat": 4,
 "nbformat_minor": 4
}
