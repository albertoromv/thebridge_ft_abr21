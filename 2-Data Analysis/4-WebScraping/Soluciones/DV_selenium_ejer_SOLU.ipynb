{
 "cells": [
  {
   "cell_type": "markdown",
   "source": [
    "# Web Scraping con Selenium\n",
    "\n",
    "##### Ejercicio en grupos\n",
    "\n",
    "^Daniel Vivas - Data Science Teacher Assistant - DS Abril 2022^"
   ],
   "metadata": {
    "collapsed": false,
    "pycharm": {
     "name": "#%% md\n"
    }
   }
  },
  {
   "cell_type": "markdown",
   "source": [
    "##### En parejas, vamos a buscar las cuatro primeras películas en cartelera. De ellas vamos a extraer la siguiente información:\n",
    "- ##### Fecha de estreno\n",
    "- ##### URL\n",
    "- ##### Datos principales, como hemos hecho al principio\n",
    "- ##### Nota media\n",
    "- ##### Cantidad de votos\n",
    "- ##### Críticas profesionales buenas, regulares y malas\n",
    "- ##### Cinco primeras críticas"
   ],
   "metadata": {
    "collapsed": false,
    "pycharm": {
     "name": "#%% md\n"
    }
   }
  },
  {
   "cell_type": "markdown",
   "source": [
    "Importación de las librerías"
   ],
   "metadata": {
    "collapsed": false,
    "pycharm": {
     "name": "#%% md\n"
    }
   }
  },
  {
   "cell_type": "code",
   "execution_count": 50,
   "outputs": [],
   "source": [
    "#Para la manipulación de datos\n",
    "import pandas as pd\n",
    "\n",
    "#Servicio y driver de Chrome de Selenium\n",
    "from selenium import webdriver\n",
    "from selenium.webdriver.chrome.service import Service\n",
    "from webdriver_manager.chrome import ChromeDriverManager\n",
    "\n",
    "#Las opciones que vamos a tener para buscar elementos\n",
    "from selenium.webdriver.common.by import By\n",
    "\n",
    "#Para esperar a que carguen las páginas\n",
    "import time\n"
   ],
   "metadata": {
    "collapsed": false,
    "pycharm": {
     "name": "#%%\n"
    }
   }
  },
  {
   "cell_type": "markdown",
   "source": [
    "Creamos el driver para controlar el navegador"
   ],
   "metadata": {
    "collapsed": false,
    "pycharm": {
     "name": "#%% md\n"
    }
   }
  },
  {
   "cell_type": "code",
   "execution_count": 2,
   "outputs": [
    {
     "name": "stderr",
     "output_type": "stream",
     "text": [
      "\n",
      "\n",
      "====== WebDriver manager ======\n",
      "Current google-chrome version is 101.0.4951\n",
      "Get LATEST chromedriver version for 101.0.4951 google-chrome\n",
      "Driver [C:\\Users\\danie\\.wdm\\drivers\\chromedriver\\win32\\101.0.4951.41\\chromedriver.exe] found in cache\n"
     ]
    }
   ],
   "source": [
    "service=Service(ChromeDriverManager().install())\n",
    "driver = webdriver.Chrome(service=service)"
   ],
   "metadata": {
    "collapsed": false,
    "pycharm": {
     "name": "#%%\n"
    }
   }
  },
  {
   "cell_type": "markdown",
   "source": [
    "RECUERDA:\n",
    "\n",
    "##### Beginner Selenium Cheatsheet:\n",
    "Sacar un elemento:\n",
    "- element = driver.find_element(by, value)\n",
    "\n",
    "Sacar varios elementos:\n",
    "- element = driver.find_elements(by, value)\n",
    "\n",
    "Sacar atributos:\n",
    "- attribute = element.--el atributo--\n",
    "- attribute = element.get_attribute(--el atributo--)\n",
    "\n",
    "Hacer click:\n",
    "- element.click()\n",
    "\n",
    "Teclear:\n",
    "- element.send_keys()\n",
    "\n",
    "Gestión de pestañas:\n",
    "- driver.switch_to.window(driver.window_handles[-1])\n",
    "- driver.get(url)\n",
    "- driver.close()"
   ],
   "metadata": {
    "collapsed": false,
    "pycharm": {
     "name": "#%% md\n"
    }
   }
  },
  {
   "cell_type": "markdown",
   "source": [
    "Accedemos a la página principal"
   ],
   "metadata": {
    "collapsed": false,
    "pycharm": {
     "name": "#%% md\n"
    }
   }
  },
  {
   "cell_type": "code",
   "execution_count": 3,
   "outputs": [],
   "source": [
    "driver.get(\"https://www.filmaffinity.com/\")"
   ],
   "metadata": {
    "collapsed": false,
    "pycharm": {
     "name": "#%%\n"
    }
   }
  },
  {
   "cell_type": "markdown",
   "source": [
    "Aceptamos el pop-up de ser necesario"
   ],
   "metadata": {
    "collapsed": false,
    "pycharm": {
     "name": "#%% md\n"
    }
   }
  },
  {
   "cell_type": "code",
   "execution_count": 4,
   "outputs": [],
   "source": [
    "#Seleccionamos el botón\n",
    "accept = driver.find_element(by=By.CLASS_NAME, value='css-v43ltw')\n",
    "\n",
    "#Hacemos click\n",
    "accept.click()"
   ],
   "metadata": {
    "collapsed": false,
    "pycharm": {
     "name": "#%%\n"
    }
   }
  },
  {
   "cell_type": "markdown",
   "source": [
    "Hacemos una función que devuelva en un diccionario todos los datos de las películas, salvo la fecha de estreno y la url\n",
    "\n",
    "Parámetros: url y fecha de estreno\n",
    "Salida: Diccionario con todos los datos"
   ],
   "metadata": {
    "collapsed": false,
    "pycharm": {
     "name": "#%% md\n"
    }
   }
  },
  {
   "cell_type": "code",
   "execution_count": 75,
   "outputs": [],
   "source": [
    "def get_datos_pelicula(driver, url, estreno):\n",
    "\n",
    "    #Creamos el diccionario\n",
    "    movie_dict = dict()\n",
    "\n",
    "    #Añadimos al diccionario los parámetros que nos vienen dados\n",
    "    movie_dict['fecha_estreno'] = estreno\n",
    "    movie_dict['url'] = url\n",
    "\n",
    "    #Accedemos a la url\n",
    "    driver.get(url)\n",
    "    time.sleep(2)\n",
    "\n",
    "    #Sacamos los datos principales\n",
    "    principales = driver.find_element(by=By.CLASS_NAME, value='movie-info')\n",
    "\n",
    "    dts = principales.find_elements(by=By.TAG_NAME, value='dt')\n",
    "    dds = principales.find_elements(by=By.TAG_NAME, value='dd')\n",
    "\n",
    "    i = 0\n",
    "    while i < len(dts):\n",
    "        movie_dict[dts[i].text] = dds[i].text\n",
    "        i += 1\n",
    "\n",
    "    #Sacamos la nota media\n",
    "    nota_media = driver.find_elements(by=By.ID, value=\"movie-rat-avg\")\n",
    "    if len(nota_media) > 0:\n",
    "        movie_dict['nota_media'] = nota_media[0].text\n",
    "\n",
    "    #Sacamos la cantidad de votos\n",
    "    cantidad_votos = driver.find_elements(by=By.CSS_SELECTOR, value=\"#movie-count-rat span\")\n",
    "    if len(cantidad_votos) > 0:\n",
    "        movie_dict['cantidad_votos'] = cantidad_votos[0].text\n",
    "\n",
    "    #Críticas profesionales\n",
    "    n_criticas = driver.find_elements(by=By.CSS_SELECTOR, value='#right-column > a > div > div.body > div > div.legend-wrapper .leg')\n",
    "\n",
    "    if len(n_criticas) > 0:\n",
    "        #Criticas profesionales positivas\n",
    "        positivas = n_criticas[0].text\n",
    "        movie_dict['positivas'] = positivas\n",
    "\n",
    "        #Criticas profesionales regulares\n",
    "        regulares = n_criticas[1].text\n",
    "        movie_dict['regulares'] = regulares\n",
    "\n",
    "        #Criticas profesionales negativas\n",
    "        negativas = n_criticas[2].text\n",
    "        movie_dict['negativas'] = negativas\n",
    "\n",
    "    #Cinco primeras criticas\n",
    "    criticas = driver.find_elements(by=By.CSS_SELECTOR, value=\"ul#pro-reviews li\")\n",
    "\n",
    "    i = 0\n",
    "\n",
    "    while i < 5 and i < len(criticas):\n",
    "        critica = criticas[i].find_element(by=By.CSS_SELECTOR, value='div div').text\n",
    "        movie_dict['critica_'+str(i)] = critica\n",
    "\n",
    "        i += 1\n",
    "\n",
    "\n",
    "    return movie_dict\n"
   ],
   "metadata": {
    "collapsed": false,
    "pycharm": {
     "name": "#%%\n"
    }
   }
  },
  {
   "cell_type": "markdown",
   "source": [
    "Probamos la función que hemos hecho. Aquí tienes un enlace de prueba: https://www.filmaffinity.com/es/film599984.html"
   ],
   "metadata": {
    "collapsed": false,
    "pycharm": {
     "name": "#%% md\n"
    }
   }
  },
  {
   "cell_type": "code",
   "execution_count": 58,
   "outputs": [
    {
     "data": {
      "text/plain": "{'fecha_estreno': 'fecha',\n 'url': 'https://www.filmaffinity.com/es/film618375.html',\n 'Título original': 'Oblivion',\n 'Año': '2013',\n 'Duración': '126 min.',\n 'País': ' Estados Unidos',\n 'Dirección': 'Joseph Kosinski',\n 'Guion': 'Joseph Kosinski, Michael Arndt, Karl Gajdusek. Cómic: Joseph Kosinski, Arvid Nelson',\n 'Música': 'Anthony Gonzalez, M83, Joseph Trapanese',\n 'Fotografía': 'Claudio Miranda',\n 'Reparto': 'Tom Cruise, Andrea Riseborough, Olga Kurylenko, Morgan Freeman, Nikolaj Coster-Waldau, Zoe Bell, Melissa Leo, Jaylen Moore, Julie Hardin, Paul Gunawan, Jay Oliver, Jason Stanly, Abigail Lowe, Isabelle Lowe',\n 'Productora': 'Universal Pictures, Chernin Entertainment, Relativity Studios, Monolith Pictures, Radical Studios',\n 'Género': 'Ciencia ficción. Intriga | Futuro postapocalíptico. Distopía. Cómic',\n 'Sinopsis': 'Año 2073. Hace más de 60 años la Tierra fue atacada; se ganó la guerra, pero la mitad del planeta quedó destruido, y todos los seres humanos fueron evacuados. Jack Harper (Tom Cruise), un antiguo marine, es uno de los últimos hombres que la habitan. Es un ingeniero de Drones que participa en una operación para extraer los recursos vitales del planeta. Su misión consiste en patrullar diariamente los cielos. Un día, rescata a una desconocida de una nave espacial y, entonces, se ve obligado a replantearse sus convicciones más profundas. (FILMAFFINITY)',\n 'nota_media': '5,8',\n 'cantidad_votos': '46.019',\n 'positivas': '5',\n 'regulares': '13',\n 'negativas': '5',\n 'critica_0': '\"Un nuevo ejercicio de artillería pesada para arrasar taquillas, sin renunciar a una cierta mirada adulta y a una cierta ambición creativa. (...) La marca Cruise da lo que uno espera -es entretenimiento sólido y generoso-, pero ni un aliciente más\" \\nJordi Costa: Diario El País',\n 'critica_1': '\"Un pastiche cuya única virtud corre a cuenta del departamento de los efectos visuales. (...) una historia incapaz de tomar la suficiente distancia con lo narrado para resultar inteligente\" \\nLuis Martínez: Diario El Mundo',\n 'critica_2': '\"No se queda sólo en una peripecia llena de aventura, acción y entretenido espejismo (...), sino que engarza entre todo ello una idea, una fábula, entre la realidad y su manipulación (...) Puntuación: ★★★ (sobre 5)\" \\nOti Rodríguez Marchante: Diario ABC',\n 'critica_3': '\"El «patchwork» de diseño que combina ideas visuales de «2001» y «Alien» es fantástico, espectacular (...) También es moroso, tedioso, lacónico. (...) a la película le cuesta aceptar su dimensión existencialista: su mensaje es demasiado benévolo\" \\nSergi Sánchez: Diario La Razón',\n 'critica_4': '\"Kosinski se limita a intentar vendernos una historia trascendente que acaba siendo confusa y sin atisbo de emotividad. No es una película despreciable, pero su exceso de ambición ha podido con ella. (...) Puntuación: ★★ (sobre 4)\" \\nJordi Batlle Caminal: Diario La Vanguardia'}"
     },
     "execution_count": 58,
     "metadata": {},
     "output_type": "execute_result"
    }
   ],
   "source": [
    "prueba = get_datos_pelicula(driver, \"https://www.filmaffinity.com/es/film618375.html\", \"fecha\")\n",
    "prueba"
   ],
   "metadata": {
    "collapsed": false,
    "pycharm": {
     "name": "#%%\n"
    }
   }
  },
  {
   "cell_type": "markdown",
   "source": [
    "Entramos en el link de las películas en cartelera"
   ],
   "metadata": {
    "collapsed": false,
    "pycharm": {
     "name": "#%% md\n"
    }
   }
  },
  {
   "cell_type": "code",
   "execution_count": null,
   "outputs": [],
   "source": [
    "driver.find_elements(By.PARTIAL_LINK_TEXT, value=\"Películas en cartelera\")[0].click()"
   ],
   "metadata": {
    "collapsed": false,
    "pycharm": {
     "name": "#%%\n",
     "is_executing": true
    }
   }
  },
  {
   "cell_type": "markdown",
   "source": [
    "Sacamos todas las películas y llamamos a la función con cada película"
   ],
   "metadata": {
    "collapsed": false,
    "pycharm": {
     "name": "#%% md\n"
    }
   }
  },
  {
   "cell_type": "code",
   "execution_count": 59,
   "outputs": [],
   "source": [
    "#Creamos una lista vacia\n",
    "links = []\n",
    "\n",
    "#Sacamos el elemento raíz\n",
    "filas = driver.find_elements(by=By.CSS_SELECTOR, value='#wrapper-cat div.row')\n",
    "\n",
    "for fila in filas:\n",
    "\n",
    "    peliculas = fila.find_elements(by=By.CLASS_NAME, value='movie-poster')\n",
    "\n",
    "    for pelicula in peliculas:\n",
    "        url = pelicula.find_element(By.TAG_NAME, value='a').get_attribute('href')\n",
    "        estreno = pelicula.find_element(By.CSS_SELECTOR, value='a div.release-text').text.replace('\\n', ' ')\n",
    "\n",
    "        link_pelicula = {\n",
    "            'url': url,\n",
    "            'estreno': estreno\n",
    "        }\n",
    "\n",
    "        links.append(link_pelicula)\n"
   ],
   "metadata": {
    "collapsed": false,
    "pycharm": {
     "name": "#%%\n"
    }
   }
  },
  {
   "cell_type": "markdown",
   "source": [
    "Ahora usamos los links para llamar a la funcion y sacar los datos"
   ],
   "metadata": {
    "collapsed": false,
    "pycharm": {
     "name": "#%% md\n"
    }
   }
  },
  {
   "cell_type": "code",
   "execution_count": 76,
   "outputs": [
    {
     "name": "stdout",
     "output_type": "stream",
     "text": [
      "Añadida Firestarter\n",
      "Añadida Father Stu\n",
      "Añadida El universo de Óliver\n",
      "Añadida La maniobra de la tortuga\n",
      "Añadida En attendant Bojanglesaka\n",
      "Añadida Presqueaka\n",
      "Añadida Ennio: The Maestro\n",
      "Añadida Un autre mondeaka\n",
      "Añadida Die Wannseekonferenzaka\n",
      "Añadida Eles transportan a morte\n",
      "Añadida Mamma Mu hittar hemaka\n",
      "Añadida Jaddeh Khaki\n",
      "Añadida Val\n",
      "Añadida Devolvendo o golpe\n",
      "Añadida Jayeshbhai Jordaar\n",
      "Añadida Saunkan Saunkne\n",
      "Añadida Salvajes, el cuento del lobo\n",
      "Añadida Doctor Strange in the Multiverse of Madness\n",
      "Añadida Red Rocket\n",
      "Añadida Il peccato\n",
      "Añadida Onoda, 10.000 nuits dans la jungleaka\n",
      "Añadida The Storms of Jeremy Thomas\n",
      "Añadida Culpa\n",
      "Añadida Alcarràs\n",
      "Añadida Downton Abbey: A New Era\n",
      "Añadida X\n",
      "Añadida Mystèreaka\n",
      "Añadida Where Is Anne Frank\n",
      "Añadida Go Fish\n",
      "Añadida Le Monde d'hier\n",
      "Añadida La jefa\n",
      "Añadida The Northman\n",
      "Añadida Veneciafrenia\n",
      "Añadida Dog\n",
      "Añadida Tendre et saignantaka\n",
      "Añadida Arthur Rambo\n",
      "Añadida El beso de Dios. El documental de la Misa\n",
      "Añadida Ambulance\n",
      "Añadida The Lost Cityaka\n",
      "Añadida El juego de las llaves\n",
      "Añadida Pilaka\n",
      "Añadida Hytti nro 6aka\n",
      "Añadida Fantastic Beasts: The Secrets of Dumbledoreaka\n",
      "Añadida Les Olympiadesaka\n",
      "Añadida Morbius\n",
      "Añadida Sonic the Hedgehog 2\n",
      "Añadida Mass\n",
      "Añadida The Bad Guys\n",
      "Añadida Verdens verste menneskeaka\n",
      "Añadida CODA\n",
      "Añadida Uncharted\n",
      "Añadida Belfast\n"
     ]
    }
   ],
   "source": [
    "#Reservamos la variable para el dataframe\n",
    "df = None\n",
    "\n",
    "for link in links:\n",
    "    datos_pelicula = get_datos_pelicula(driver, link['url'], link['estreno'])\n",
    "\n",
    "    #Si no está creado lo creamos\n",
    "    if df is None:\n",
    "        df = pd.DataFrame(columns=datos_pelicula.keys())\n",
    "\n",
    "    #Metemos los datos de la película\n",
    "    df = df.append(datos_pelicula, ignore_index=True)\n",
    "    print(f\"Añadida {datos_pelicula['Título original']}\")"
   ],
   "metadata": {
    "collapsed": false,
    "pycharm": {
     "name": "#%%\n"
    }
   }
  }
 ],
 "metadata": {
  "kernelspec": {
   "display_name": "Python 3",
   "language": "python",
   "name": "python3"
  },
  "language_info": {
   "codemirror_mode": {
    "name": "ipython",
    "version": 2
   },
   "file_extension": ".py",
   "mimetype": "text/x-python",
   "name": "python",
   "nbconvert_exporter": "python",
   "pygments_lexer": "ipython2",
   "version": "2.7.6"
  }
 },
 "nbformat": 4,
 "nbformat_minor": 0
}