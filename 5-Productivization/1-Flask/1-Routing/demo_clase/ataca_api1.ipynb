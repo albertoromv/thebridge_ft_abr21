{
 "cells": [
  {
   "cell_type": "code",
   "execution_count": 1,
   "metadata": {},
   "outputs": [
    {
     "name": "stdout",
     "output_type": "stream",
     "text": [
      "<Response [200]>\n",
      "{\n",
      "  \"author\": \"Vernor Vinge\", \n",
      "  \"first_sentence\": \"The coldsleep itself was dreamless.\", \n",
      "  \"id\": 0, \n",
      "  \"title\": \"A Fire Upon the Deep\", \n",
      "  \"year_published\": \"1992\"\n",
      "}\n",
      "\n"
     ]
    }
   ],
   "source": [
    "import requests\n",
    "root_path = \"http://127.0.0.1:5000\"\n",
    "\n",
    "path = \"/api/v2/resources/book\"\n",
    "\n",
    "content = {\"id\": 0}\n",
    "\n",
    "response = requests.get(url = root_path + path , json = content)\n",
    "print(response)\n",
    "print(response.text)"
   ]
  },
  {
   "cell_type": "code",
   "execution_count": 2,
   "metadata": {},
   "outputs": [
    {
     "name": "stdout",
     "output_type": "stream",
     "text": [
      "<Response [200]>\n",
      "{\n",
      "  \"author\": \"Samuel R. Delany\", \n",
      "  \"first_sentence\": \"to wound the autumnal city.\", \n",
      "  \"id\": 4, \n",
      "  \"published\": \"1975\", \n",
      "  \"title\": \"Lala\"\n",
      "}\n",
      "\n"
     ]
    }
   ],
   "source": [
    "path = \"/api/v1/resources/book\"\n",
    "\n",
    "new_book = dict(id=4,\n",
    "     title='Lala',\n",
    "     author= 'Samuel R. Delany',\n",
    "     first_sentence= 'to wound the autumnal city.',\n",
    "     published= '1975')\n",
    "\n",
    "response = requests.post(url = root_path + path, json = new_book)\n",
    "print(response)\n",
    "print(response.text)\n"
   ]
  },
  {
   "cell_type": "code",
   "execution_count": 3,
   "metadata": {},
   "outputs": [
    {
     "name": "stdout",
     "output_type": "stream",
     "text": [
      "<Response [200]>\n",
      "{\n",
      "  \"books\": [\n",
      "    [\n",
      "      null, \n",
      "      2010, \n",
      "      \"Paolo Bacigalupi\", \n",
      "      \"The Windup Girl\", \n",
      "      \"\\u201cNo! I don\\u2019t want the mangosteen.\\u201d\"\n",
      "    ]\n",
      "  ]\n",
      "}\n",
      "\n"
     ]
    }
   ],
   "source": [
    "import requests\n",
    "\n",
    "root_path = \"http://127.0.0.1:5000\"\n",
    "path = \"/api/v1/resources/book/filter\"\n",
    "\n",
    "filtrado = {\n",
    "\"author\": \"Paolo Bacigalupi\"\n",
    "}\n",
    "\n",
    "response = requests.get(url = root_path + path, json = filtrado)\n",
    "\n",
    "print(response)\n",
    "print(response.text)\n",
    "\n"
   ]
  }
 ],
 "metadata": {
  "interpreter": {
   "hash": "252189e587d1e2aeba4a06e91fa71896c7a7f6e22e918b9407c7cde4ef2d5985"
  },
  "kernelspec": {
   "display_name": "Python 3.7.4 64-bit",
   "language": "python",
   "name": "python3"
  },
  "language_info": {
   "codemirror_mode": {
    "name": "ipython",
    "version": 3
   },
   "file_extension": ".py",
   "mimetype": "text/x-python",
   "name": "python",
   "nbconvert_exporter": "python",
   "pygments_lexer": "ipython3",
   "version": "3.7.4"
  },
  "orig_nbformat": 4
 },
 "nbformat": 4,
 "nbformat_minor": 2
}
