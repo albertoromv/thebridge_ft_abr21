{
 "cells": [
  {
   "cell_type": "markdown",
   "metadata": {},
   "source": [
    "### Se pide, usando regresión lineal:\n",
    "\n",
    "Dibujar con una línea la relación que hay entre la altura y la edad de los alumnos de esta clase: \n",
    "\n",
    "- ¿Es una buena técnica para este tipo de problemas? ¿Por qué? \n",
    "- ¿Qué error se comete? Calcula los errores que está cometiendo tu modelo uno a uno (lo tienes que calcular tú con python). Aparte, usa el MSE y el RMSE. ¿Alguno es mejor para este problema?\n",
    "- Representa la matriz de correlación, ¿los datos están correlacionados?"
   ]
  },
  {
   "cell_type": "code",
   "execution_count": 29,
   "metadata": {},
   "outputs": [],
   "source": [
    "lista_alumnos = [[\"Pedro\", 47, 1.80],\n",
    "                 [\"Tomás\", 31, 1.80],\n",
    "                 [\"Ana\", 39, 1.65],\n",
    "                 [\"Natalio\", 29, 1.73],\n",
    "                 [\"Monica\", 47, 1.73],\n",
    "                 [\"Jose\", 24, 1.75],\n",
    "                 [\"Carolina\", 34, 1.64],\n",
    "                 [\"Alberto\", 36, 1.60],\n",
    "                 [\"Cristina\", 46, 1.70],\n",
    "                 [\"Alba\", 29, 1.68],\n",
    "                 [\"Laura\", 40, 1.60],\n",
    "                 [\"Luis\", 47, 1.69],\n",
    "                 [\"Jaime\", 38, 1.60],\n",
    "                 [\"Fernando\", 51, 1.75]]"
   ]
  },
  {
   "cell_type": "code",
   "execution_count": 30,
   "metadata": {},
   "outputs": [],
   "source": [
    "import numpy as np   \n",
    "import pandas as pd\n",
    "import matplotlib.pyplot as plt \n",
    "import seaborn as sns\n",
    "\n",
    "# resto"
   ]
  },
  {
   "cell_type": "code",
   "execution_count": 31,
   "metadata": {},
   "outputs": [
    {
     "data": {
      "text/html": [
       "<div>\n",
       "<style scoped>\n",
       "    .dataframe tbody tr th:only-of-type {\n",
       "        vertical-align: middle;\n",
       "    }\n",
       "\n",
       "    .dataframe tbody tr th {\n",
       "        vertical-align: top;\n",
       "    }\n",
       "\n",
       "    .dataframe thead th {\n",
       "        text-align: right;\n",
       "    }\n",
       "</style>\n",
       "<table border=\"1\" class=\"dataframe\">\n",
       "  <thead>\n",
       "    <tr style=\"text-align: right;\">\n",
       "      <th></th>\n",
       "      <th>Nombre</th>\n",
       "      <th>Edad</th>\n",
       "      <th>Altura</th>\n",
       "    </tr>\n",
       "  </thead>\n",
       "  <tbody>\n",
       "    <tr>\n",
       "      <th>0</th>\n",
       "      <td>Pedro</td>\n",
       "      <td>47</td>\n",
       "      <td>1.80</td>\n",
       "    </tr>\n",
       "    <tr>\n",
       "      <th>1</th>\n",
       "      <td>Tomás</td>\n",
       "      <td>31</td>\n",
       "      <td>1.80</td>\n",
       "    </tr>\n",
       "    <tr>\n",
       "      <th>2</th>\n",
       "      <td>Ana</td>\n",
       "      <td>39</td>\n",
       "      <td>1.65</td>\n",
       "    </tr>\n",
       "    <tr>\n",
       "      <th>3</th>\n",
       "      <td>Natalio</td>\n",
       "      <td>29</td>\n",
       "      <td>1.73</td>\n",
       "    </tr>\n",
       "    <tr>\n",
       "      <th>4</th>\n",
       "      <td>Monica</td>\n",
       "      <td>47</td>\n",
       "      <td>1.73</td>\n",
       "    </tr>\n",
       "  </tbody>\n",
       "</table>\n",
       "</div>"
      ],
      "text/plain": [
       "    Nombre  Edad  Altura\n",
       "0    Pedro    47    1.80\n",
       "1    Tomás    31    1.80\n",
       "2      Ana    39    1.65\n",
       "3  Natalio    29    1.73\n",
       "4   Monica    47    1.73"
      ]
     },
     "execution_count": 31,
     "metadata": {},
     "output_type": "execute_result"
    }
   ],
   "source": [
    "# df"
   ]
  },
  {
   "cell_type": "code",
   "execution_count": 32,
   "metadata": {},
   "outputs": [
    {
     "name": "stdout",
     "output_type": "stream",
     "text": [
      "[47, 31, 39, 29, 47, 24, 34, 36, 46, 29, 40, 47, 38, 51]\n",
      "[1.8, 1.8, 1.65, 1.73, 1.73, 1.75, 1.64, 1.6, 1.7, 1.68, 1.6, 1.69, 1.6, 1.75]\n"
     ]
    }
   ],
   "source": [
    "# edad = \n",
    "# altura = \n",
    "print(edad)\n",
    "print(altura)"
   ]
  },
  {
   "cell_type": "code",
   "execution_count": 1,
   "metadata": {},
   "outputs": [],
   "source": [
    "# plt.scatter(edad, altura);"
   ]
  },
  {
   "cell_type": "code",
   "execution_count": 34,
   "metadata": {},
   "outputs": [],
   "source": [
    "# Obtener X_train, X_test, y_train, y_test, semilla 42\n",
    "\n"
   ]
  },
  {
   "cell_type": "code",
   "execution_count": 2,
   "metadata": {},
   "outputs": [],
   "source": [
    "#print(X_train.shape)\n",
    "#print(X_test.shape)"
   ]
  },
  {
   "cell_type": "code",
   "execution_count": 36,
   "metadata": {},
   "outputs": [
    {
     "name": "stdout",
     "output_type": "stream",
     "text": [
      "[1.72049685] [[-0.00090474]]\n"
     ]
    }
   ],
   "source": [
    "# modelo de regresión lineal"
   ]
  },
  {
   "cell_type": "code",
   "execution_count": 37,
   "metadata": {},
   "outputs": [
    {
     "data": {
      "image/png": "[encoded data removed]",
      "text/plain": [
       "<Figure size 432x288 with 1 Axes>"
      ]
     },
     "metadata": {
      "needs_background": "light"
     },
     "output_type": "display_data"
    }
   ],
   "source": [
    "# dibujar la regresión lineal y los puntos con un diagrama de dispersión "
   ]
  },
  {
   "cell_type": "code",
   "execution_count": 3,
   "metadata": {},
   "outputs": [],
   "source": [
    "# X"
   ]
  },
  {
   "cell_type": "code",
   "execution_count": 4,
   "metadata": {},
   "outputs": [],
   "source": [
    "#type(model.predict(X))"
   ]
  },
  {
   "cell_type": "code",
   "execution_count": 5,
   "metadata": {},
   "outputs": [],
   "source": [
    "#model.predict(X).tolist()"
   ]
  },
  {
   "cell_type": "code",
   "execution_count": 6,
   "metadata": {},
   "outputs": [
    {
     "data": {
      "text/plain": [
       "'\\nlista_tot = []\\nfor i in model.predict(X).tolist():\\n    lista_tot.append(i[0])\\nlista_tot\\n'"
      ]
     },
     "execution_count": 6,
     "metadata": {},
     "output_type": "execute_result"
    }
   ],
   "source": [
    "'''\n",
    "lista_tot = []\n",
    "for i in model.predict(X).tolist():\n",
    "    lista_tot.append(i[0])\n",
    "lista_tot\n",
    "'''"
   ]
  },
  {
   "cell_type": "code",
   "execution_count": 42,
   "metadata": {},
   "outputs": [
    {
     "data": {
      "text/html": [
       "<div>\n",
       "<style scoped>\n",
       "    .dataframe tbody tr th:only-of-type {\n",
       "        vertical-align: middle;\n",
       "    }\n",
       "\n",
       "    .dataframe tbody tr th {\n",
       "        vertical-align: top;\n",
       "    }\n",
       "\n",
       "    .dataframe thead th {\n",
       "        text-align: right;\n",
       "    }\n",
       "</style>\n",
       "<table border=\"1\" class=\"dataframe\">\n",
       "  <thead>\n",
       "    <tr style=\"text-align: right;\">\n",
       "      <th></th>\n",
       "      <th>Nombre</th>\n",
       "      <th>Edad</th>\n",
       "      <th>Altura</th>\n",
       "      <th>predicciones</th>\n",
       "      <th>residuos</th>\n",
       "    </tr>\n",
       "  </thead>\n",
       "  <tbody>\n",
       "    <tr>\n",
       "      <th>0</th>\n",
       "      <td>Pedro</td>\n",
       "      <td>47</td>\n",
       "      <td>1.80</td>\n",
       "      <td>1.677974</td>\n",
       "      <td>0.122026</td>\n",
       "    </tr>\n",
       "    <tr>\n",
       "      <th>1</th>\n",
       "      <td>Tomás</td>\n",
       "      <td>31</td>\n",
       "      <td>1.80</td>\n",
       "      <td>1.692450</td>\n",
       "      <td>0.107550</td>\n",
       "    </tr>\n",
       "    <tr>\n",
       "      <th>2</th>\n",
       "      <td>Ana</td>\n",
       "      <td>39</td>\n",
       "      <td>1.65</td>\n",
       "      <td>1.685212</td>\n",
       "      <td>-0.035212</td>\n",
       "    </tr>\n",
       "    <tr>\n",
       "      <th>3</th>\n",
       "      <td>Natalio</td>\n",
       "      <td>29</td>\n",
       "      <td>1.73</td>\n",
       "      <td>1.694260</td>\n",
       "      <td>0.035740</td>\n",
       "    </tr>\n",
       "    <tr>\n",
       "      <th>4</th>\n",
       "      <td>Monica</td>\n",
       "      <td>47</td>\n",
       "      <td>1.73</td>\n",
       "      <td>1.677974</td>\n",
       "      <td>0.052026</td>\n",
       "    </tr>\n",
       "    <tr>\n",
       "      <th>5</th>\n",
       "      <td>Jose</td>\n",
       "      <td>24</td>\n",
       "      <td>1.75</td>\n",
       "      <td>1.698783</td>\n",
       "      <td>0.051217</td>\n",
       "    </tr>\n",
       "    <tr>\n",
       "      <th>6</th>\n",
       "      <td>Carolina</td>\n",
       "      <td>34</td>\n",
       "      <td>1.64</td>\n",
       "      <td>1.689736</td>\n",
       "      <td>-0.049736</td>\n",
       "    </tr>\n",
       "    <tr>\n",
       "      <th>7</th>\n",
       "      <td>Alberto</td>\n",
       "      <td>36</td>\n",
       "      <td>1.60</td>\n",
       "      <td>1.687926</td>\n",
       "      <td>-0.087926</td>\n",
       "    </tr>\n",
       "    <tr>\n",
       "      <th>8</th>\n",
       "      <td>Cristina</td>\n",
       "      <td>46</td>\n",
       "      <td>1.70</td>\n",
       "      <td>1.678879</td>\n",
       "      <td>0.021121</td>\n",
       "    </tr>\n",
       "    <tr>\n",
       "      <th>9</th>\n",
       "      <td>Alba</td>\n",
       "      <td>29</td>\n",
       "      <td>1.68</td>\n",
       "      <td>1.694260</td>\n",
       "      <td>-0.014260</td>\n",
       "    </tr>\n",
       "    <tr>\n",
       "      <th>10</th>\n",
       "      <td>Laura</td>\n",
       "      <td>40</td>\n",
       "      <td>1.60</td>\n",
       "      <td>1.684307</td>\n",
       "      <td>-0.084307</td>\n",
       "    </tr>\n",
       "    <tr>\n",
       "      <th>11</th>\n",
       "      <td>Luis</td>\n",
       "      <td>47</td>\n",
       "      <td>1.69</td>\n",
       "      <td>1.677974</td>\n",
       "      <td>0.012026</td>\n",
       "    </tr>\n",
       "    <tr>\n",
       "      <th>12</th>\n",
       "      <td>Jaime</td>\n",
       "      <td>38</td>\n",
       "      <td>1.60</td>\n",
       "      <td>1.686117</td>\n",
       "      <td>-0.086117</td>\n",
       "    </tr>\n",
       "    <tr>\n",
       "      <th>13</th>\n",
       "      <td>Fernando</td>\n",
       "      <td>51</td>\n",
       "      <td>1.75</td>\n",
       "      <td>1.674355</td>\n",
       "      <td>0.075645</td>\n",
       "    </tr>\n",
       "  </tbody>\n",
       "</table>\n",
       "</div>"
      ],
      "text/plain": [
       "      Nombre  Edad  Altura  predicciones  residuos\n",
       "0      Pedro    47    1.80      1.677974  0.122026\n",
       "1      Tomás    31    1.80      1.692450  0.107550\n",
       "2        Ana    39    1.65      1.685212 -0.035212\n",
       "3    Natalio    29    1.73      1.694260  0.035740\n",
       "4     Monica    47    1.73      1.677974  0.052026\n",
       "5       Jose    24    1.75      1.698783  0.051217\n",
       "6   Carolina    34    1.64      1.689736 -0.049736\n",
       "7    Alberto    36    1.60      1.687926 -0.087926\n",
       "8   Cristina    46    1.70      1.678879  0.021121\n",
       "9       Alba    29    1.68      1.694260 -0.014260\n",
       "10     Laura    40    1.60      1.684307 -0.084307\n",
       "11      Luis    47    1.69      1.677974  0.012026\n",
       "12     Jaime    38    1.60      1.686117 -0.086117\n",
       "13  Fernando    51    1.75      1.674355  0.075645"
      ]
     },
     "execution_count": 42,
     "metadata": {},
     "output_type": "execute_result"
    }
   ],
   "source": []
  },
  {
   "cell_type": "code",
   "execution_count": 43,
   "metadata": {},
   "outputs": [
    {
     "name": "stdout",
     "output_type": "stream",
     "text": [
      "MSE: 0.005079410425744613\n",
      "RMSE: 0.0712699826416747\n"
     ]
    }
   ],
   "source": []
  },
  {
   "cell_type": "code",
   "execution_count": 44,
   "metadata": {},
   "outputs": [],
   "source": [
    "#df_corr"
   ]
  },
  {
   "cell_type": "code",
   "execution_count": 45,
   "metadata": {},
   "outputs": [
    {
     "data": {
      "image/png": "[encoded data removed]",
      "text/plain": [
       "<Figure size 432x288 with 2 Axes>"
      ]
     },
     "metadata": {
      "needs_background": "light"
     },
     "output_type": "display_data"
    }
   ],
   "source": [
    "# heatmap"
   ]
  }
 ],
 "metadata": {
  "kernelspec": {
   "display_name": "Python 3",
   "language": "python",
   "name": "python3"
  },
  "language_info": {
   "codemirror_mode": {
    "name": "ipython",
    "version": 3
   },
   "file_extension": ".py",
   "mimetype": "text/x-python",
   "name": "python",
   "nbconvert_exporter": "python",
   "pygments_lexer": "ipython3",
   "version": "3.7.4"
  }
 },
 "nbformat": 4,
 "nbformat_minor": 4
}
