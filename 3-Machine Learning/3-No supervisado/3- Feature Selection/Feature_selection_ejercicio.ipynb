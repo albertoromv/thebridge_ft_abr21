{
 "cells": [
  {
   "cell_type": "markdown",
   "id": "5286103f",
   "metadata": {},
   "source": [
    "# Feature selection - Práctica\n",
    "\n",
    "Al extraer de forma inteligente las features más importantes de nuestros datos e ignorar el ruido, los algoritmos de selección de variables logran dos resultados principales:\n",
    "\n",
    "- Reducción del tiempo de entrenamiento y predicción: al disponer de menos datos, esto generalmente da como resultado un mejor ajuste del modelo y tiempos de predicción, lo que hace que los entrenamientos o transformaciones sean más rápidas en general.\n",
    "\n",
    "- Mejor rendimiento del modelo: al eliminar los datos redundantes, es menos probable que tomemos decisiones basadas en datos ruidosos e irrelevantes, y también permite que nuestros modelos se centren en las características importantes, mejorando así el rendimiento predictivo del pipeline del modelo."
   ]
  },
  {
   "cell_type": "markdown",
   "id": "490e3595",
   "metadata": {},
   "source": [
    "Para obtener una comprensión más realista de cómo y por qué los datos ruidosos se interponen en nuestro camino, vamos a trabajar con un conjunto de datos de fraude en tarjetas de crédito. EL objetivo que perseguían estos datos era el de investigar los incumplimiento de pago de los clientes en Taiwán.\n",
    "\n",
    "Trabajaremos con 23 variables y el target. El target es booleana. La razón por la que estamos trabajando con 23 features es que queremos ver si podemos encontrar cuáles de las 23 variables nos ayudarán en nuestro aprendizaje y cuáles nos perjudicarán.\n",
    "\n",
    "Puedes encontrar el fichero con los datos en la carpeta `data` o en http://archive.ics.uci.edu/ml/datasets/default+of+credit+card+clients\n",
    "\n",
    "Encontrarás en la página web más información que te ayudará a entender los datos de los que disponemos con mayor profundidad. "
   ]
  },
  {
   "cell_type": "markdown",
   "id": "9f2e97a9",
   "metadata": {},
   "source": [
    "### 1. Carga los datos\n",
    "Importa las librerías necesarias y realiza una carga de los datos (*default_of_credit_card_clients.xls*)\n",
    "\n",
    "Fija una semilla en 123 para asegurarnos obtener los mismos números aleatorios y poder comparar."
   ]
  },
  {
   "cell_type": "code",
   "execution_count": 1,
   "id": "ffb3c62b",
   "metadata": {},
   "outputs": [],
   "source": [
    "# code\n"
   ]
  },
  {
   "cell_type": "markdown",
   "id": "79776a86",
   "metadata": {},
   "source": [
    "Sigue adelante con un pequeño EDA."
   ]
  },
  {
   "cell_type": "code",
   "execution_count": 2,
   "id": "889f9754",
   "metadata": {},
   "outputs": [],
   "source": [
    "# code"
   ]
  },
  {
   "cell_type": "markdown",
   "id": "0646788f",
   "metadata": {},
   "source": [
    "Obtén la X y la Y, así como tu set de train y test. Deja para el test un 20% de los datos."
   ]
  },
  {
   "cell_type": "code",
   "execution_count": 3,
   "id": "d73c6a18",
   "metadata": {},
   "outputs": [],
   "source": [
    "# code"
   ]
  },
  {
   "cell_type": "markdown",
   "id": "33c9e333",
   "metadata": {},
   "source": [
    "A continuación, realiza el preprocesado que consideres necesario. Puedes empezar a buscar las métricas de las que te vas a ayudar para preparar tu clasificador. "
   ]
  },
  {
   "cell_type": "code",
   "execution_count": 4,
   "id": "09822b4e",
   "metadata": {},
   "outputs": [],
   "source": [
    "#code "
   ]
  },
  {
   "cell_type": "markdown",
   "id": "dfcfd5ff",
   "metadata": {},
   "source": [
    "Encuentra el mejor modelo para nuestro problema y después trabajaremos para mejorar ese modelo con la selección de variables. Realiza una comparación con los cuatro propuestos y después haremos la misma prueba habiendo aplicado las diversas técnicas que hemos visto de feature selection. Puedes empezar a buscar las métricas de las que te vas a ayudar para preparar tu clasificador.\n",
    "\n",
    "- Regresión logística\n",
    "- KNN\n",
    "- Árbol de decisión\n",
    "- Random forest"
   ]
  },
  {
   "cell_type": "code",
   "execution_count": 5,
   "id": "8fba2ed5",
   "metadata": {},
   "outputs": [],
   "source": [
    "# code"
   ]
  },
  {
   "cell_type": "markdown",
   "id": "a0f04c4c",
   "metadata": {},
   "source": [
    "### Haz uso de la correlación de Pearson para seleccionar variables:\n",
    "\n",
    "En este caso, vamos a probar a quedarnos con las 5 variables que más correlan con nuestro target y veremos si nos ayudan a explicar nuestra variable objetivo o no."
   ]
  },
  {
   "cell_type": "code",
   "execution_count": 6,
   "id": "3bcc795a",
   "metadata": {},
   "outputs": [],
   "source": [
    "# code"
   ]
  },
  {
   "cell_type": "markdown",
   "id": "f7cd8d8d",
   "metadata": {},
   "source": [
    "### A continuación, filtra el dataset fijándote en aquellas features que nos ayuden a mantener más varianza. Haz uso de SkLearn. ¿Qué diferencias observas?"
   ]
  },
  {
   "cell_type": "code",
   "execution_count": 7,
   "id": "472d7c12",
   "metadata": {},
   "outputs": [],
   "source": [
    "# code"
   ]
  },
  {
   "cell_type": "markdown",
   "id": "5d2e1d79",
   "metadata": {},
   "source": [
    "### Prueba en este caso con SelectKBest. ¿Hay diferencias significativas? "
   ]
  },
  {
   "cell_type": "code",
   "execution_count": 8,
   "id": "28a10c52",
   "metadata": {},
   "outputs": [],
   "source": [
    "# code"
   ]
  },
  {
   "cell_type": "code",
   "execution_count": null,
   "id": "43b53564",
   "metadata": {},
   "outputs": [],
   "source": []
  }
 ],
 "metadata": {
  "kernelspec": {
   "display_name": "Python 3 (ipykernel)",
   "language": "python",
   "name": "python3"
  },
  "language_info": {
   "codemirror_mode": {
    "name": "ipython",
    "version": 3
   },
   "file_extension": ".py",
   "mimetype": "text/x-python",
   "name": "python",
   "nbconvert_exporter": "python",
   "pygments_lexer": "ipython3",
   "version": "3.9.7"
  }
 },
 "nbformat": 4,
 "nbformat_minor": 5
}
