{
 "cells": [
  {
   "cell_type": "markdown",
   "id": "1f1401c1-4dc9-4902-95bf-160715a42a25",
   "metadata": {},
   "source": [
    "# Prueba de Ramp-up"
   ]
  },
  {
   "cell_type": "markdown",
   "id": "1b34c670-a6dd-482d-9b04-5babee7be17a",
   "metadata": {},
   "source": [
    "Antes de comenzar, cambia el nombre del archivo notebook poniéndole delante tu nombre y primer apellido:\n",
    "\n",
    "* nombre_apellido_test_pract_abr_2022.ipynb"
   ]
  },
  {
   "cell_type": "code",
   "execution_count": 3,
   "id": "c8d9a657-272c-425a-9ac4-ea59f479673c",
   "metadata": {},
   "outputs": [],
   "source": [
    "# Escribe tu nombre en la variable:\n",
    "nombre_y_apellidos = \"\" "
   ]
  },
  {
   "cell_type": "code",
   "execution_count": 2,
   "id": "2e9f9af5-076c-44ec-9a80-95c0e99cdc58",
   "metadata": {},
   "outputs": [],
   "source": [
    "\"\"\"\n",
    "Criterios de corrección:\n",
    "\n",
    "ejecución (ausencia de errores y obtención de resultados)\n",
    "estructura del código\n",
    "uso correcto de variables\n",
    "manejo de tipo de variables\n",
    "asignaciones\n",
    "operaciones booleanas\n",
    "manejo lógico de flujos de control y bucles\n",
    "uso de colecciones\n",
    "uso de funciones\n",
    "\"\"\";\n",
    "\n",
    "# Si no consigues los resultados, muestra los intentos\n",
    "\n",
    "# Ejemplo de como queremos ver el código para más de un intento:\n",
    "\n",
    "# intento 1\n",
    "#your code\n",
    "\n",
    "# intento 2\n",
    "#your code\n",
    "\n",
    "# ¡Comenta tu código!"
   ]
  },
  {
   "cell_type": "code",
   "execution_count": 6,
   "id": "bb16d0e3-3bb9-4f2b-944e-8fc35e628701",
   "metadata": {},
   "outputs": [],
   "source": [
    "# crea todas las celdas que necesites"
   ]
  },
  {
   "cell_type": "markdown",
   "id": "9e02b8f5-6f66-4e73-acfa-7f8c3977de2a",
   "metadata": {},
   "source": [
    "#### Notas y pruebas de apoyo para contestar las preguntas\n",
    "\n",
    "\n",
    "Cualquier código aunque no esté correcto nos dirá más de ti que no escribir nada. "
   ]
  },
  {
   "cell_type": "markdown",
   "id": "57d6b062-27f8-4377-b583-d662777b0bd7",
   "metadata": {},
   "source": [
    "__Debes subir tus respuestas antes de las 13:30 al enlace que habilitaremos__"
   ]
  },
  {
   "cell_type": "markdown",
   "id": "4da89624-0da3-4f91-aa5c-a084c5ee1b17",
   "metadata": {},
   "source": [
    "#### Ejercicio 1. \n",
    "\n",
    "Escribe un programa que te diga si una letra es una consonante o una vocal.\n",
    "Se debe pedir una letra al usuario por teclado.\n"
   ]
  },
  {
   "cell_type": "code",
   "execution_count": null,
   "id": "c58bf610-92de-4a5a-a00d-652279ea33dd",
   "metadata": {},
   "outputs": [],
   "source": []
  },
  {
   "cell_type": "markdown",
   "id": "52065a6c-3d4c-44c0-a10b-958506c481b3",
   "metadata": {},
   "source": [
    "#### Ejercicio 2. \n",
    "\n",
    "Escribe un programa que calcule la edad humana de un perro.\n",
    "Tienes que pedirle al usuario la edad del perro en años.\n",
    "Si el usuario introduce un número negativo, imprime que la cifra facilitada no tiene sentido. Si el perro tiene un año, son 14 años humanos. Si tiene 2 años, son 22 años humanos.\n",
    "A partir de los 2 años, el cálculo es el siguiente: a la edad del perro se le restan 2 años, el resultado se multiplica por 5 y, finalmente, se le suma 22.\n",
    "Usa una función sin argumentos de entrada ni de salida explícitos (muestra toda la información con print())"
   ]
  },
  {
   "cell_type": "code",
   "execution_count": null,
   "id": "9c59c801-1fe1-4a6d-a000-f85ca738ed00",
   "metadata": {},
   "outputs": [],
   "source": []
  },
  {
   "cell_type": "markdown",
   "id": "80566bfc-0e7c-4ece-ba93-18696dc8f5d8",
   "metadata": {},
   "source": [
    "#### Ejercicio 3. \n",
    "Escribe un programa que acepte un string y calcule el número de digitos y de letras que contiene."
   ]
  },
  {
   "cell_type": "code",
   "execution_count": null,
   "id": "b5cbf9e1",
   "metadata": {},
   "outputs": [],
   "source": []
  },
  {
   "cell_type": "markdown",
   "id": "2991309f-4208-431a-900c-d9bc734bb936",
   "metadata": {},
   "source": [
    "#### Ejercicio 4. \n",
    "\n",
    "Escribe un programa que te diga si una frase es un pangrama. Un pangrama es una frase que contiene todas las letras del alfabeto.\n",
    "Puedes tener espacios en blanco, pero NO  tendrás signos de puntuación, a excepción de las tildes.\n",
    "\n",
    "Ejemplo de pangrama:\n",
    "\n",
    "Extraño pan de col y kiwi se quemó bajo fugaz vaho "
   ]
  },
  {
   "cell_type": "code",
   "execution_count": null,
   "id": "9a349c1e-15ab-4253-97f8-2a07a263791d",
   "metadata": {},
   "outputs": [],
   "source": []
  },
  {
   "cell_type": "markdown",
   "id": "3dbb76e0-79b2-45e8-9034-58ee9cbd82bb",
   "metadata": {},
   "source": [
    "#### Ejercicio 5. \n",
    "\n",
    "Escribe un programa que use diccionarios para traducir palabras entre varios idiomas.\n",
    "Deberás pedirle al usuario una palabra por teclado, ver si está en tu diccionario. En caso de que esté, deberás mostrar la traducción de esa palabra. Si la palabra no está, tienes que indicar que no aparece.\n",
    "\n",
    "Ejemplo de diccionario:\n",
    "\n",
    "```python\n",
    "{\"file\": \"Fichier\", \"new\": \"Nouveau\", \"open\": \"Ouvrir\", \"save\": \"Enregistrer\", \"save as\": \"Enregistrer sous\", \"print preview\": \"Apercu avant impressioner\", \"print\": \"Imprimer\", \"close\": \"Fermer\", \"exit\": \"Quitter\"}\n"
   ]
  },
  {
   "cell_type": "code",
   "execution_count": null,
   "id": "88236123-e8ac-45da-87d0-134a88a690c1",
   "metadata": {},
   "outputs": [],
   "source": [
    "   "
   ]
  },
  {
   "cell_type": "markdown",
   "id": "976ae3e1-7799-4cdf-9549-8480de46c3dc",
   "metadata": {},
   "source": [
    "#### Ejercicio 6.\n",
    "En este ejercicio se va a crear una lista con los siguientes elementos. Primero, crearemos las variables que luego añadiremos a la lista. Las variables son las siguientes:\n",
    "\n",
    "1. Crea una variable llamada `codigo_postal` de tipo Integer que represente tu código postal. \n",
    "2. Crea una variable llamada `color` de tipo String y que represente tu color favorito.\n",
    "3. Crea una variable llamada `polo` de tipo Boolean True que indique si has estado en el Polo Norte.\n",
    "4. Crea una variable llamada `nada` de tipo None cuyo valor sea None.\n",
    "5. Crea una variable llamada `lista_compra` de tipo List que contenga cinco artículos de supermercado. Cada elemento ha de ser de tipo String y el tamaño de la lista ha de ser 5.\n",
    "6. Crea una variable llamada `tupla_contrasena` de tipo Tuple con dos contraseñas ficticias.\n",
    "7. Crea una variable llamada `dict_viajes` con dos keys y dos values. Una key es 'destino', teniendo como value a dónde os gustaría viajar. Otra key es 'tren', teniendo como value un booleano que indique si sí os gusta viajar en tren.\n",
    "8. Crea una variable llamada `telefono` que contenga tu número de teléfono, separando el prefijo del resto del número con un guion y sin espacios en blanco. Ejemplo: si el número es el 678123123, el valor de la variable deberá ser 0034-678123123.\n",
    "\n",
    "Añade todos estos elementos en una lista llamada `lista_examen` en el orden de aparición."
   ]
  },
  {
   "cell_type": "code",
   "execution_count": null,
   "id": "1c6b5cbe-b5fa-49f4-87da-cfd4912741cc",
   "metadata": {},
   "outputs": [],
   "source": []
  },
  {
   "cell_type": "markdown",
   "id": "ff4becae-86c4-46ab-9e09-3aeec5296700",
   "metadata": {},
   "source": [
    "#### Ejercicio 7. \n",
    "\n",
    "Para resolver este ejercicio necesitarás la lista del ejercicio anterior (`lista_examen`). Se recomienda leer cada punto hasta el final antes de resolver el ejercicio.\n",
    "\n",
    "Se repite para que quede aún más claro: **SOLO USAR LA VARIABLE** `lista_examen`. Usar las demás variables se calificará como error.  \n",
    "\n",
    "1. Mostrar por pantalla, sin uso de funciones (puedes usar print) ni bucles: \n",
    "    - El penúltimo elemento de `lista_compra` desde `lista_examen` contando por atrás.\n",
    "    - La primera palabra de la lista de la compra.\n",
    "    - Vuestro color favorito.\n",
    "    - El prefijo telefónico sin guion concatenado con la primera contraseña, es decir, en un único string, y sin espacios en blanco.\n",
    "    - Si no os gusta ir en tren y vuestro código postal es par, mostrad el destino. Si no, mostrad \"¿casualidad?, no lo creo\"\n",
    "    \n",
    "    \n",
    "2. Mostrar por pantalla, con uso de un bucle `for`:\n",
    "    - Todos los elementos de `lista_examen`.\n",
    "    - Todos los elementos de `lista_compra` desde `lista_examen` mostrados en orden inverso __sin usar reverse__.\n",
    "3. Todos los elementos que ocupen un índice entre 2 y 5, ambos inclusive, empezando a contar los índices desde cero a través de  `lista_examen` (usando slicing)\n",
    "\n",
    "4. Mostrar por pantalla, con uso de un bucle while: \n",
    "    - Todos los elementos de `tupla_contrasena` seguido de la cadena `\"-->\"` y la `posición` (int) que ocupa en la tupla accediendo desde `lista_examen`. \n",
    "    - Cada key de `dict_viajes` seguido de la cadena \":\" seguido de su value desde `lista_examen`. Usa items(), keys() y values()\n",
    "\n",
    "    "
   ]
  },
  {
   "cell_type": "code",
   "execution_count": null,
   "id": "a1a6f40b-3649-43b7-8dd1-ee9f5f095c48",
   "metadata": {},
   "outputs": [],
   "source": []
  },
  {
   "cell_type": "markdown",
   "id": "1c679885",
   "metadata": {},
   "source": [
    "# BONUS\n",
    "\n",
    "Este ejercicio **NO ES OBLIGATORIO** ni quita puntos\n",
    "\n",
    "Usando **RECURSIVIDAD** y funciones escribe un programa que encuentre la salida de un laberinto.\n",
    "El laberinto es una lista de 2 dimensiones.\n",
    "\n",
    "w : es un muro que no se puede atravesar\n",
    "\n",
    "c: es una celda que sí se puede atravesar\n",
    "\n",
    "Solo hay una celda que se puede atravesar en la primera fila del laberinto (comienzo) y una celda a la que se puede llegar en la última fila del laberinto.\n",
    "\n",
    "\n"
   ]
  },
  {
   "cell_type": "code",
   "execution_count": 15,
   "id": "d450bda2",
   "metadata": {},
   "outputs": [
    {
     "name": "stdout",
     "output_type": "stream",
     "text": [
      "\u001b[31m w \u001b[34m p \u001b[31m w \u001b[31m w \u001b[31m w \u001b[31m w \u001b[31m w \u001b[31m w \u001b[31m w \u001b[31m w \u001b[31m w \u001b[31m w \u001b[31m w \u001b[31m w \u001b[31m w \u001b[31m w \u001b[31m w \u001b[31m w \u001b[31m w \u001b[31m w \u001b[31m w \u001b[31m w \u001b[31m w \u001b[31m w \u001b[31m w \u001b[31m w \u001b[31m w \n",
      "\n",
      "\u001b[31m w \u001b[34m p \u001b[34m p \u001b[31m w \u001b[32m c \u001b[31m w \u001b[32m c \u001b[32m c \u001b[31m w \u001b[31m w \u001b[32m c \u001b[32m c \u001b[32m c \u001b[32m c \u001b[32m c \u001b[31m w \u001b[31m w \u001b[32m c \u001b[31m w \u001b[31m w \u001b[32m c \u001b[32m c \u001b[32m c \u001b[32m c \u001b[32m c \u001b[32m c \u001b[31m w \n",
      "\n",
      "\u001b[31m w \u001b[31m w \u001b[34m p \u001b[31m w \u001b[34m p \u001b[34m p \u001b[34m p \u001b[31m w \u001b[31m w \u001b[31m w \u001b[31m w \u001b[31m w \u001b[31m w \u001b[31m w \u001b[34m p \u001b[34m p \u001b[34m p \u001b[34m p \u001b[34m p \u001b[31m w \u001b[31m w \u001b[31m w \u001b[31m w \u001b[31m w \u001b[31m w \u001b[32m c \u001b[31m w \n",
      "\n",
      "\u001b[31m w \u001b[32m c \u001b[34m p \u001b[34m p \u001b[34m p \u001b[31m w \u001b[34m p \u001b[34m p \u001b[34m p \u001b[34m p \u001b[34m p \u001b[34m p \u001b[34m p \u001b[34m p \u001b[34m p \u001b[31m w \u001b[32m c \u001b[31m w \u001b[34m p \u001b[34m p \u001b[34m p \u001b[34m p \u001b[34m p \u001b[34m p \u001b[34m p \u001b[34m p \u001b[31m w \n",
      "\n",
      "\u001b[31m w \u001b[31m w \u001b[31m w \u001b[32m c \u001b[31m w \u001b[31m w \u001b[32m c \u001b[31m w \u001b[32m c \u001b[31m w \u001b[32m c \u001b[31m w \u001b[31m w \u001b[31m w \u001b[31m w \u001b[31m w \u001b[31m w \u001b[31m w \u001b[31m w \u001b[31m w \u001b[31m w \u001b[32m c \u001b[31m w \u001b[31m w \u001b[31m w \u001b[34m p \u001b[31m w \n",
      "\n",
      "\u001b[31m w \u001b[32m c \u001b[32m c \u001b[32m c \u001b[32m c \u001b[31m w \u001b[31m w \u001b[31m w \u001b[31m w \u001b[31m w \u001b[31m w \u001b[31m w \u001b[31m w \u001b[32m c \u001b[32m c \u001b[32m c \u001b[32m c \u001b[32m c \u001b[32m c \u001b[32m c \u001b[32m c \u001b[32m c \u001b[31m w \u001b[32m c \u001b[32m c \u001b[34m p \u001b[31m w \n",
      "\n",
      "\u001b[31m w \u001b[32m c \u001b[31m w \u001b[32m c \u001b[31m w \u001b[31m w \u001b[31m w \u001b[31m w \u001b[32m c \u001b[32m c \u001b[31m w \u001b[32m c \u001b[31m w \u001b[31m w \u001b[31m w \u001b[32m c \u001b[31m w \u001b[31m w \u001b[31m w \u001b[31m w \u001b[31m w \u001b[31m w \u001b[31m w \u001b[31m w \u001b[31m w \u001b[34m p \u001b[31m w \n",
      "\n",
      "\u001b[31m w \u001b[31m w \u001b[31m w \u001b[31m w \u001b[31m w \u001b[31m w \u001b[32m c \u001b[31m w \u001b[31m w \u001b[32m c \u001b[32m c \u001b[32m c \u001b[31m w \u001b[32m c \u001b[31m w \u001b[31m w \u001b[31m w \u001b[31m w \u001b[31m w \u001b[31m w \u001b[32m c \u001b[32m c \u001b[32m c \u001b[32m c \u001b[34m p \u001b[34m p \u001b[31m w \n",
      "\n",
      "\u001b[31m w \u001b[32m c \u001b[32m c \u001b[32m c \u001b[32m c \u001b[32m c \u001b[32m c \u001b[31m w \u001b[31m w \u001b[31m w \u001b[31m w \u001b[32m c \u001b[31m w \u001b[32m c \u001b[32m c \u001b[32m c \u001b[32m c \u001b[32m c \u001b[32m c \u001b[32m c \u001b[32m c \u001b[31m w \u001b[32m c \u001b[31m w \u001b[34m p \u001b[31m w \u001b[31m w \n",
      "\n",
      "\u001b[31m w \u001b[31m w \u001b[32m c \u001b[31m w \u001b[32m c \u001b[31m w \u001b[32m c \u001b[32m c \u001b[32m c \u001b[32m c \u001b[32m c \u001b[32m c \u001b[32m c \u001b[32m c \u001b[31m w \u001b[31m w \u001b[32m c \u001b[31m w \u001b[32m c \u001b[31m w \u001b[32m c \u001b[31m w \u001b[32m c \u001b[31m w \u001b[34m p \u001b[34m p \u001b[31m w \n",
      "\n",
      "\u001b[31m w \u001b[31m w \u001b[31m w \u001b[31m w \u001b[31m w \u001b[31m w \u001b[31m w \u001b[31m w \u001b[31m w \u001b[31m w \u001b[31m w \u001b[31m w \u001b[31m w \u001b[31m w \u001b[31m w \u001b[31m w \u001b[31m w \u001b[31m w \u001b[31m w \u001b[31m w \u001b[31m w \u001b[31m w \u001b[31m w \u001b[31m w \u001b[31m w \u001b[34m p \u001b[31m w \n",
      "\n",
      "None\n"
     ]
    }
   ],
   "source": [
    "laberinto = [\n",
    "        ['w', 'c', 'w', 'w', 'w', 'w', 'w', 'w', 'w', 'w', 'w', 'w', 'w', 'w',\n",
    "         'w', 'w', 'w', 'w', 'w', 'w', 'w', 'w', 'w', 'w', 'w', 'w', 'w'],\n",
    "        ['w', 'c', 'c', 'w', 'c', 'w', 'c', 'c', 'w', 'w', 'c', 'c', 'c', 'c',\n",
    "         'c', 'w', 'w', 'c', 'w', 'w', 'c', 'c', 'c', 'c', 'c', 'c', 'w'],\n",
    "        ['w', 'w', 'c', 'w', 'c', 'c', 'c', 'w', 'w', 'w', 'w', 'w', 'w', 'w',\n",
    "         'c', 'c', 'c', 'c', 'c', 'w', 'w', 'w', 'w', 'w', 'w', 'c', 'w'],\n",
    "        ['w', 'c', 'c', 'c', 'c', 'w', 'c', 'c', 'c', 'c', 'c', 'c', 'c', 'c',\n",
    "         'c', 'w', 'c', 'w', 'c', 'c', 'c', 'c', 'c', 'c', 'c', 'c', 'w'],\n",
    "        ['w', 'w', 'w', 'c', 'w', 'w', 'c', 'w', 'c', 'w', 'c', 'w', 'w', 'w',\n",
    "         'w', 'w', 'w', 'w', 'w', 'w', 'w', 'c', 'w', 'w', 'w', 'c', 'w'],\n",
    "        ['w', 'c', 'c', 'c', 'c', 'w', 'w', 'w', 'w', 'w', 'w', 'w', 'w', 'c',\n",
    "         'c', 'c', 'c', 'c', 'c', 'c', 'c', 'c', 'w', 'c', 'c', 'c', 'w'],\n",
    "        ['w', 'c', 'w', 'c', 'w', 'w', 'w', 'w', 'c', 'c', 'w', 'c', 'w', 'w',\n",
    "         'w', 'c', 'w', 'w', 'w', 'w', 'w', 'w', 'w', 'w', 'w', 'c', 'w'],\n",
    "        ['w', 'w', 'w', 'w', 'w', 'w', 'c', 'w', 'w', 'c', 'c', 'c', 'w', 'c',\n",
    "         'w', 'w', 'w', 'w', 'w', 'w', 'c', 'c', 'c', 'c', 'c', 'c', 'w'],\n",
    "        ['w', 'c', 'c', 'c', 'c', 'c', 'c', 'w', 'w', 'w', 'w', 'c', 'w', 'c',\n",
    "         'c', 'c', 'c', 'c', 'c', 'c', 'c', 'w', 'c', 'w', 'c', 'w', 'w'],\n",
    "        ['w', 'w', 'c', 'w', 'c', 'w', 'c', 'c', 'c', 'c', 'c', 'c', 'c', 'c',\n",
    "         'w', 'w', 'c', 'w', 'c', 'w', 'c', 'w', 'c', 'w', 'c', 'c', 'w'],\n",
    "        ['w', 'w', 'w', 'w', 'w', 'w', 'w', 'w', 'w', 'w', 'w', 'w', 'w', 'w',\n",
    "         'w', 'w', 'w', 'w', 'w', 'w', 'w', 'w', 'w', 'w', 'w', 'c', 'w']\n",
    "    ]\n",
    "\n",
    "\n",
    "\n",
    "\n"
   ]
  }
 ],
 "metadata": {
  "kernelspec": {
   "display_name": "Python 3 (ipykernel)",
   "language": "python",
   "name": "python3"
  },
  "language_info": {
   "codemirror_mode": {
    "name": "ipython",
    "version": 3
   },
   "file_extension": ".py",
   "mimetype": "text/x-python",
   "name": "python",
   "nbconvert_exporter": "python",
   "pygments_lexer": "ipython3",
   "version": "3.9.7"
  }
 },
 "nbformat": 4,
 "nbformat_minor": 5
}
