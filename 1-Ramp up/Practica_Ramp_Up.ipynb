{
 "cells": [
  {
   "cell_type": "markdown",
   "metadata": {},
   "source": [
    "# Entrega Ramp Up\n"
   ]
  },
  {
   "cell_type": "markdown",
   "metadata": {},
   "source": [
    "\n",
    "## Ejercicio 0\n",
    "Una empresa usa dos listas  para guardar la información de sus empleados. Una lista guarda el nombre del empleado y la otra guarda su salario. Escribe un programa que cree esas dos listas originalmente vacías y que a través de un menú pueda hacer lo siguiente:\n",
    "    \n",
    "Inserta 1 para añadir un nuevo empleado y su salario\n",
    "\n",
    "Inserta 2 para imprimir los nombres y salarios de todos los empleados\n",
    "\n",
    "Inserta 3 para mostrar el número de empleados\n",
    "\n",
    "Inserta 4 para imprimir los nombres de los empleados con sueldos superiores a 400000\n",
    "\n",
    "Inserta 5 para subir un 5% los sueldos por debajo de 10000\n",
    "\n",
    "Inserta 6 para mostrar el total de todos los salarios\n",
    "\n",
    "Inserta 7 para salir del programa"
   ]
  },
  {
   "cell_type": "code",
   "execution_count": 1,
   "metadata": {},
   "outputs": [
    {
     "name": "stdout",
     "output_type": "stream",
     "text": [
      "\n",
      "\n",
      "¡Bienvenido!\n",
      "\n",
      "Inserta 1 para añadir un nuevo empleado y su salario\n",
      "Inserta 2 para imprimir los nombres y salarios de todos los empleados\n",
      "Inserta 3 para mostrar el número de empleados\n",
      "Inserta 4 para imprimir los nombres de los empleados con sueldos superiores a 400000\n",
      "Inserta 5 para subir un 5% los sueldos por debajo de 10000\n",
      "Inserta 6 para mostrar el total de todos los salarios\n",
      "Inserta 7 para salir del programa\n",
      "\n",
      "    \n",
      "\n",
      "¡Gracias por usar el programa!\n"
     ]
    }
   ],
   "source": [
    "# una lista para nombres y una lista para sueldos\n",
    "lista_nombres = []\n",
    "lista_salarios = []\n",
    "\n",
    "# insertamos nuevos nombre-salario\n",
    "def nuevo_empleado(nombre, salario):\n",
    "    lista_nombres.append(nombre)\n",
    "    lista_salarios.append(salario)\n",
    "\n",
    "# imprimimos todos los nombre-salario\n",
    "def imprime_empleados():\n",
    "    for posicion in range(len(lista_nombres)):\n",
    "        print(\"Nombre:\", lista_nombres[posicion], end = \" \")\n",
    "        print(\"Sueldo:\", lista_salarios[posicion], end = \"\\n\")\n",
    "\n",
    "# imprimir cantidad de empleados\n",
    "def imprime_cantidad_empleados():\n",
    "    print(\"Cantidad de empleados: \", len(lista_nombres))\n",
    "\n",
    "# imprimir empleados con salarios mayores de 40 000 dolares\n",
    "def sueldos_altos():\n",
    "\n",
    "    print(\"Sueldos mayores de 40000:\")\n",
    "\n",
    "    # recorro la lista de sueldos\n",
    "    for posicion in range(len(lista_nombres)):\n",
    "\n",
    "        # si ese sueldo es mayor de 40 000, cojo el nombre\n",
    "        if lista_salarios[posicion] > 40000:\n",
    "            print(lista_nombres[posicion])\n",
    "\n",
    "# dar un aumento de un 5% a los sueldos menores de 10 000\n",
    "def aumento():\n",
    "    # recorro la lista de sueldos\n",
    "    for posicion in range(len(lista_salarios)):\n",
    "        if lista_salarios[posicion] < 10000:\n",
    "            lista_salarios[posicion] = lista_salarios[posicion] * 1.05\n",
    "\n",
    "    print(\"¡Los sueldos bajos se han subido!\")\n",
    "\n",
    "# imprimir la suma total de todos los sueldos\n",
    "def masa_salarial():\n",
    "    total = sum(lista_salarios)\n",
    "    print(\"Suma de todos los sueldos: \", total)\n",
    "\n",
    "# menu\n",
    "def menu():\n",
    "\n",
    "    mensaje_inicial = \"\"\"\n",
    "\n",
    "¡Bienvenido!\n",
    "\n",
    "Inserta 1 para añadir un nuevo empleado y su salario\n",
    "Inserta 2 para imprimir los nombres y salarios de todos los empleados\n",
    "Inserta 3 para mostrar el número de empleados\n",
    "Inserta 4 para imprimir los nombres de los empleados con sueldos superiores a 400000\n",
    "Inserta 5 para subir un 5% los sueldos por debajo de 10000\n",
    "Inserta 6 para mostrar el total de todos los salarios\n",
    "Inserta 7 para salir del programa\n",
    "\n",
    "    \"\"\"\n",
    "    print(mensaje_inicial)\n",
    "\n",
    "    opcion = int(input(\"Inserta option: \"))\n",
    "    while opcion != 7:\n",
    "        if opcion == 1:\n",
    "            nombre = input(\"Nombre de empleado: \")\n",
    "            salario = int(input(\"Salario: \"))\n",
    "\n",
    "            nuevo_empleado(nombre, salario)\n",
    "\n",
    "        elif opcion == 2:\n",
    "            imprime_empleados()\n",
    "\n",
    "        elif opcion == 3:\n",
    "            imprime_cantidad_empleados()\n",
    "\n",
    "        elif opcion == 4:\n",
    "            sueldos_altos()\n",
    "\n",
    "        elif opcion == 5:\n",
    "            aumento()\n",
    "\n",
    "        elif opcion == 6:\n",
    "            masa_salarial()\n",
    "\n",
    "        print() # nueva linea\n",
    "        opcion = int(input(\"Inserta opcion: \"))\n",
    "\n",
    "    print(\"¡Gracias por usar el programa!\")\n",
    "\n",
    "    \n",
    "\n",
    "# ejecutamos el programa\n",
    "menu()\n",
    "\n",
    "\n"
   ]
  },
  {
   "cell_type": "markdown",
   "metadata": {},
   "source": [
    "## Ejercicio 1\n",
    "#### Crear un programa que calcule la cuota de una hipoteca\n",
    "\n",
    "Las cuotas hipotecarias se calculan utilizando la fórmula del interés frances. El objetivo del ejercicio es crear un programa que solicite al usuario los datos de su hipoteca (cantidad, intereses, y plazo en años) y le devuelva la cuota mensual a pagar\n",
    "\n",
    "La formula del interés frances es la siguiente:\n",
    "\\begin{align*}\n",
    "C=V \\frac{(1+i)^n i}{(1+i)^n -1}\n",
    "\\end{align*}\n",
    "\n",
    "\n",
    "    C = Cuota a pagar\n",
    "    V = Cantidad del préstamo hipotecario\n",
    "    i = tipo de interés del período (tipo de interes de la hipoteca por mes)\n",
    "    n = número de cuotas (en meses)\n",
    "\n",
    "V = 300.000\n",
    "\n",
    "i = 2 %\n",
    "\n",
    "n = 20*12\n",
    "\n",
    "output: 1517"
   ]
  },
  {
   "cell_type": "code",
   "execution_count": null,
   "metadata": {},
   "outputs": [],
   "source": [
    "# Declares and asks for user to input loan amount. Then converts to float\n",
    "\n",
    "total_hipoteca = input (\"introduce el total de la hipoteca \\n\")\n",
    "print(type(total_hipoteca))\n",
    "total_hipoteca = float (total_hipoteca)\n",
    "\n",
    "# Declares and asks user to input number of payments in years. Then converts to float. Years * 12 to get\n",
    "#  total number of months\n",
    "meses = float(input('How many years will you have the loan? \\n')) *12\n",
    "\n",
    "# Declares and asks user to input interest rate. Then converts to float and input interest rate is /100/12\n",
    "interestRate = input('Enter Interest Rate \\n')\n",
    "interestRate = float(interestRate) / 100 / 12\n",
    "\n",
    "# Formula to calculate monthly payments\n",
    "cuota = total_hipoteca* (interestRate * (1 + interestRate) ** meses) / ((1 + interestRate) ** meses - 1)\n",
    "\n",
    "\n",
    "# Prints monthly payment on next line and reformat the string to a float using 2 decimal places\n",
    "\n",
    "print(\"The monthly mortgage payment is\\n (%.2f) \" % cuota)"
   ]
  },
  {
   "cell_type": "markdown",
   "metadata": {},
   "source": [
    "## Ejercicio 2\n",
    "#### Crear un programa que calcule el plan de amortización\n",
    "\n",
    "El objetivo del ejercicio es crear un programa que solicite al usuario los datos de su hipoteca (cantidad, intereses, y plazo en años) y le devuelva el plan de amortización.\n",
    "\n",
    "En cada cuota se pagan intereses por el capital restante, y se devuelve capital hasta la cuota mensual. El capital restante ha de ser actualizado restandole el capital devuelto.\n",
    "\n",
    "Salida ejemplo:\n",
    "\n",
    "mes  cuota  intereses  principal  pendiente   \n",
    "\n",
    "0  758.89   450.00   308.89   179691.11 \n",
    "\n",
    "**NOTA**: Tienes que partir de tipo de interes por periodo calculado en el apartado anterior, y del total de la hipoteca. Para cada mes calcular:\n",
    "\n",
    "1. cuota (apartado anterior)\n",
    "2. intereses a pagar del mes (lo que quede por pagar * interes por periodo del apartado anterior)\n",
    "3. principal (cuota - interes)\n",
    "4. pendiente (lo que quede por pagar - principal)"
   ]
  },
  {
   "cell_type": "code",
   "execution_count": null,
   "metadata": {},
   "outputs": [],
   "source": [
    "# por ejemplo con 50000 de hipoteca\n",
    "'''\n",
    "mes  cuota  intereses  principal  pendiente\n",
    "0  990.06   291.67   698.39   49301.61 \n",
    "1  990.06   287.59   702.47   48599.14 \n",
    "2  990.06   283.49   706.56   47892.57 \n",
    "3  990.06   279.37   710.69   47181.89 \n",
    "4  990.06   275.23   714.83   46467.06 \n",
    "5  990.06   271.06   719.00   45748.05 \n",
    "6  990.06   266.86   723.20   45024.86 \n",
    "7  990.06   262.65   727.41   44297.44 \n",
    "8  990.06   258.40   731.66   43565.78 \n",
    "9  990.06   254.13   735.93   42829.86 \n",
    "10  990.06   249.84   740.22   42089.64\n",
    "'''"
   ]
  },
  {
   "cell_type": "code",
   "execution_count": null,
   "metadata": {},
   "outputs": [],
   "source": [
    "# tu codigo va aquí\n",
    "\n",
    "balance = total_hipoteca\n",
    "\n",
    "print (\"mes  cuota  intereses  principal  pendiente\")\n",
    "\n",
    "\n",
    "for i in range(int(meses)):\n",
    "    interest = balance * interestRate\n",
    "    principal = cuota - interest\n",
    "    balance = balance - principal \n",
    "    print (i,\" %.2f \"  % cuota, \" %.2f \"  %  interest, \" %.2f \"  % principal, \" %.2f \"  % balance)"
   ]
  },
  {
   "cell_type": "markdown",
   "metadata": {},
   "source": [
    "## Ejercicio 3\n",
    "#### Crear un programa que resuelva una ecuacción de segundo grado\n",
    "\n",
    "El objetivo del programa es resolver la ecuacción de sgundo grado \n",
    "\n",
    "\\begin{align*}\n",
    "ax^2+bx+c = 0\n",
    "\\end{align*}\n",
    "\n",
    "Pasando como parámetros los coeficientes de la ecuacción. La resolución de la ecuacción es la siguiente:\n",
    "\n",
    "\\begin{align*}\n",
    "x=\\frac{-b \\pm \\sqrt{b^2-4ac}}{2a}\n",
    "\\end{align*}\n",
    "\n",
    "Para realizar este programa tienes que utilizar el metodo sqrt() para calcular la raiz cuadrada. Para ello tienes que importar el módulo math. Así que tu programa debería empezar con ```ìmport math```\n"
   ]
  },
  {
   "cell_type": "code",
   "execution_count": null,
   "metadata": {},
   "outputs": [],
   "source": [
    "# tu codigo aqui. Tenemos que usar la funcion sqrt del módulo math\n",
    "\n",
    "\n",
    "import math  # Makes the math library available.\n",
    "\n",
    "print(\"This program finds the real solutions to a quadratic\")\n",
    "print()\n",
    "\n",
    "a = float(input(\"Enter coefficient a: \"))\n",
    "b = float(input(\"Enter coefficient b: \"))\n",
    "c = float(input(\"Enter coefficient c: \"))\n",
    "try:\n",
    "    discRoot = math.sqrt(b * b - 4 * a * c)\n",
    "    root1 = (-b + discRoot) / (2 * a)\n",
    "    root2 = (-b - discRoot) / (2 * a)\n",
    "except:\n",
    "    print(\"Raiz negativa\")\n",
    "\n",
    "print()\n",
    "print(\"The solutions are:\", root1, root2 )\n",
    "\n"
   ]
  },
  {
   "cell_type": "markdown",
   "metadata": {},
   "source": [
    "## Ejercicio 4\n",
    "#### Crear un programa que calcule el average\n",
    "\n",
    "El programa pedirá al usuario que introduzca numeros. En primer lugar le pedirá que indique cuantos números se quieren introducir, y enseñara un prompt para incluirlos, y calculará el average.\n",
    "\n"
   ]
  },
  {
   "cell_type": "code",
   "execution_count": 2,
   "metadata": {},
   "outputs": [
    {
     "name": "stdout",
     "output_type": "stream",
     "text": [
      "\n",
      "La media de los numeros es 2.0\n"
     ]
    }
   ],
   "source": [
    "n = int(input(\"¿Cuantos numeros tienes?: \"))\n",
    "\n",
    "total = 0.0\n",
    "for i in range(n):\n",
    "    x = float(input(\"Introduce un numero >> \"))\n",
    "    total = total + x\n",
    "\n",
    "print(\"\\nLa media de los numeros es\", total / n)"
   ]
  },
  {
   "cell_type": "markdown",
   "metadata": {},
   "source": [
    "## Ejercicio 5\n",
    "#### Crear un programa que calcule el average II\n",
    "\n",
    "El programa pedirá que se diga cuantos números se quieren introducir, y enseñara un prompt para incluirl número a número en una lista, y calcule después el average.\n"
   ]
  },
  {
   "cell_type": "code",
   "execution_count": 3,
   "metadata": {},
   "outputs": [
    {
     "name": "stdout",
     "output_type": "stream",
     "text": [
      "\n",
      "La media de los numeros es 2.0\n"
     ]
    }
   ],
   "source": [
    "n = int(input(\"¿Cuantos numeros vas a introducir?: \"))\n",
    "x = []\n",
    "for i in range(n):\n",
    "    x.append((float(input(\"Introduce un numero >> \"))))\n",
    "\n",
    "print(\"\\nLa media de los numeros es\", sum(x)/len(x))\n"
   ]
  },
  {
   "cell_type": "markdown",
   "metadata": {},
   "source": [
    "## Ejercicio 6\n",
    "#### Write a Python program to convert a list of characters into a string.\n",
    "\n",
    "Sample list : ['a','b','c','d']\n",
    "\n",
    "Expected output : abcd"
   ]
  },
  {
   "cell_type": "code",
   "execution_count": 4,
   "metadata": {},
   "outputs": [
    {
     "name": "stdout",
     "output_type": "stream",
     "text": [
      "abcd\n"
     ]
    }
   ],
   "source": [
    "s = ['a', 'b', 'c', 'd']\n",
    "str1 = ''.join(s)\n",
    "print(str1)"
   ]
  },
  {
   "cell_type": "markdown",
   "metadata": {},
   "source": [
    "## Ejercicio 7\n",
    "#### First and last 5\n",
    "Write a Python program to generate and print a list of first and last 5 elements where the values are square of numbers between 1 and 30 (both included). "
   ]
  },
  {
   "cell_type": "code",
   "execution_count": 5,
   "metadata": {},
   "outputs": [
    {
     "name": "stdout",
     "output_type": "stream",
     "text": [
      "[1, 4, 9, 16, 25]\n",
      "[676, 729, 784, 841, 900]\n"
     ]
    }
   ],
   "source": [
    "l = list()\n",
    "for i in range(1,31):\n",
    "    l.append(i**2)\n",
    "print(l[:5])\n",
    "print(l[-5:])"
   ]
  },
  {
   "cell_type": "markdown",
   "metadata": {},
   "source": [
    "## Ejercicio 8\n",
    "#### Interactuando con listas\n",
    "\n",
    "From given list gadgets = [“Mobile”, “Laptop”, 100, “Camera”, 310.28, “Speakers”, 27.00,\n",
    "“Television”, 1000, “Laptop Case”, “Camera Lens”]\n",
    "\n",
    "a)create separate lists of strings and numbers.  \n",
    "\n",
    "b)Sort the strings list in ascending order  \n",
    "\n",
    "c)Sort the strings list in descending order  \n",
    "\n",
    "d)Sort the number list from lowest to highest  \n",
    "\n",
    "e)Sort the number list from highest to lowest"
   ]
  },
  {
   "cell_type": "code",
   "execution_count": null,
   "metadata": {},
   "outputs": [],
   "source": [
    "# gadgets = [“Mobile”, “Laptop”, 100, “Camera”, 310.28, “Speakers”, 27.00, “Television”, 1000, “Laptop Case”, “Camera Lens”]\n",
    "\n",
    "gadgets = [\"Mobile\", \"Laptop\", 100, \"Camera\", 310.28, \"Speakers\", 27.00, \n",
    "           \"Television\", 1000, \"Laptop Case\", \"Camera Lens\"]\n",
    " \n",
    "str_items = []\n",
    " \n",
    "num_items = []\n",
    " \n",
    "#a)creating separate lists\n",
    "\n",
    "for item in gadgets: \n",
    "     \n",
    "    if type(item) is str:\n",
    "    #if type(item) == str:\n",
    "         \n",
    "        str_items.append(item)\n",
    "         \n",
    "    elif type(item) is int or type(item) is float:\n",
    "         \n",
    "        num_items.append(item)\n",
    " \n",
    "  \n",
    "print(str_items)\n",
    " \n",
    "print(num_items)\n",
    " \n",
    "print ('b)sorting strings list in ascending order, a-z')\n",
    " \n",
    "str_items.sort()\n",
    " \n",
    "print(str_items)\n",
    " \n",
    "print('sorting strings list in descending order z-a')\n",
    " \n",
    "# str_items.sort(key=str.lower, reverse=True)\n",
    "\n",
    "str_items.sort(reverse=True)\n",
    "\n",
    "print(str_items)\n",
    " \n",
    "#d)sorting number list from lowest to highest\n",
    " \n",
    "num_items.sort()\n",
    " \n",
    "print(num_items)\n",
    " \n",
    "#e)sorting number list from highest to lowest\n",
    " \n",
    "num_items.sort(reverse=True)\n",
    " \n",
    "print(num_items)\n",
    "    \n"
   ]
  },
  {
   "cell_type": "markdown",
   "metadata": {},
   "source": [
    "## Ejercicio 9\n",
    "#### Get first, second best scores from the list.\n",
    "\n",
    "List may contain duplicates.\n",
    "\n",
    "Ex: [86,86,85,85,85,83,23,45,84,1,2,0] => should get 86, 85"
   ]
  },
  {
   "cell_type": "code",
   "execution_count": null,
   "metadata": {},
   "outputs": [],
   "source": [
    "#sort the list and get the elements\n",
    " \n",
    "a_list = [84,84,86,86,85,85,85,83,23,45,84,1,2,0]\n",
    "\n",
    "a_list.sort(reverse=True) \n",
    "print(a_list)\n",
    " \n",
    "first = a_list[0]\n",
    " \n",
    "second = None\n",
    "\n",
    "# comprobación para ver si el primero está duplicado. iteramos en la list hasta que encontramos un valor diferente y salimos del bucle\n",
    "\n",
    "for element in a_list:\n",
    "    if element != first:\n",
    "        second = element\n",
    "        break;\n",
    "\n",
    "print(first,second)"
   ]
  },
  {
   "cell_type": "markdown",
   "metadata": {},
   "source": [
    "## Ejercicio 10\n",
    "#### Write a program that detects if a string is a palindrome\n",
    "Ask the user for a string and print out whether this string is a palindrome or not. (A palindrome is a string that reads the same forwards and backwards.)"
   ]
  },
  {
   "cell_type": "code",
   "execution_count": null,
   "metadata": {},
   "outputs": [],
   "source": [
    "my_str = input(\"introduce una palabra para ver si es un palíndromo: \")\n",
    "\n",
    "my_str = my_str.lower()\n",
    "\n",
    "# reverse the string\n",
    "rev_str = reversed(my_str)\n",
    "\n",
    "# check if the string is equal to its reverse\n",
    "if list(my_str) == list(rev_str):\n",
    "   print(\"The string is a palindrome.\")\n",
    "else:\n",
    "   print(\"The string is not a palindrome.\")"
   ]
  },
  {
   "cell_type": "markdown",
   "metadata": {},
   "source": [
    "## (Bonus) Ejercicio 11\n",
    "#### Desarrolla el juego del ahorcado\n",
    "El juego del ahorcado consiste en adivinar una palabra, probando letra a letra. El jugaor tiene permitidos 6 fallos, al 7mo fallo pierde. \n",
    "\n",
    "* Habrá que imprimir por pantalla una cantidad de guiones igual al numero de letras e ir sustituyéndolos con los aciertos.\n",
    "* Necesitarás usar un bucle while con un input para modelar las jugadas del ahoracado. En cada ejecución del while comprueba las vidas del jugador, y los aciertos."
   ]
  },
  {
   "cell_type": "code",
   "execution_count": null,
   "metadata": {},
   "outputs": [],
   "source": []
  }
 ],
 "metadata": {
  "kernelspec": {
   "display_name": "Python 3",
   "language": "python",
   "name": "python3"
  },
  "language_info": {
   "codemirror_mode": {
    "name": "ipython",
    "version": 3
   },
   "file_extension": ".py",
   "mimetype": "text/x-python",
   "name": "python",
   "nbconvert_exporter": "python",
   "pygments_lexer": "ipython3",
   "version": "3.7.4"
  }
 },
 "nbformat": 4,
 "nbformat_minor": 4
}
